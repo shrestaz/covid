{
 "cells": [
  {
   "cell_type": "markdown",
   "metadata": {},
   "source": [
    "### Preparing the R environment\n",
    "\n",
    "Install the required packages to be used inside the project."
   ]
  },
  {
   "cell_type": "code",
   "execution_count": 2,
   "metadata": {
    "scrolled": true
   },
   "outputs": [
    {
     "name": "stderr",
     "output_type": "stream",
     "text": [
      "\n",
      "Attaching package: 'lubridate'\n",
      "\n",
      "The following object is masked from 'package:base':\n",
      "\n",
      "    date\n",
      "\n"
     ]
    },
    {
     "name": "stdout",
     "output_type": "stream",
     "text": [
      "package 'scales' successfully unpacked and MD5 sums checked\n",
      "\n",
      "The downloaded binary packages are in\n",
      "\tC:\\Users\\thatonedroid\\AppData\\Local\\Temp\\RtmpUBmNgt\\downloaded_packages\n",
      "package 'tidyverse' successfully unpacked and MD5 sums checked\n",
      "\n",
      "The downloaded binary packages are in\n",
      "\tC:\\Users\\thatonedroid\\AppData\\Local\\Temp\\RtmpUBmNgt\\downloaded_packages\n"
     ]
    },
    {
     "name": "stderr",
     "output_type": "stream",
     "text": [
      "-- Attaching packages --------------------------------------- tidyverse 1.3.0 --\n",
      "v ggplot2 3.3.2     v purrr   0.3.4\n",
      "v tibble  3.0.4     v dplyr   1.0.2\n",
      "v tidyr   1.1.2     v stringr 1.4.0\n",
      "v readr   1.3.1     v forcats 0.4.0\n",
      "-- Conflicts ------------------------------------------ tidyverse_conflicts() --\n",
      "x lubridate::as.difftime() masks base::as.difftime()\n",
      "x readr::col_factor()      masks scales::col_factor()\n",
      "x lubridate::date()        masks base::date()\n",
      "x purrr::discard()         masks scales::discard()\n",
      "x dplyr::filter()          masks stats::filter()\n",
      "x lubridate::intersect()   masks base::intersect()\n",
      "x dplyr::lag()             masks stats::lag()\n",
      "x lubridate::setdiff()     masks base::setdiff()\n",
      "x lubridate::union()       masks base::union()\n",
      "-- Attaching packages -------------------------------------- tidymodels 0.1.2 --\n",
      "v broom     0.7.2      v recipes   0.1.15\n",
      "v dials     0.0.9      v rsample   0.0.8 \n",
      "v infer     0.5.3      v tune      0.1.2 \n",
      "v modeldata 0.1.0      v workflows 0.2.1 \n",
      "v parsnip   0.1.4      v yardstick 0.0.7 \n",
      "-- Conflicts ----------------------------------------- tidymodels_conflicts() --\n",
      "x purrr::discard()  masks scales::discard()\n",
      "x dplyr::filter()   masks stats::filter()\n",
      "x recipes::fixed()  masks stringr::fixed()\n",
      "x dplyr::lag()      masks stats::lag()\n",
      "x yardstick::spec() masks readr::spec()\n",
      "x recipes::step()   masks stats::step()\n",
      "\n",
      "Attaching package: 'gridExtra'\n",
      "\n",
      "The following object is masked from 'package:dplyr':\n",
      "\n",
      "    combine\n",
      "\n"
     ]
    },
    {
     "name": "stdout",
     "output_type": "stream",
     "text": [
      "package 'geobr' successfully unpacked and MD5 sums checked\n",
      "\n",
      "The downloaded binary packages are in\n",
      "\tC:\\Users\\thatonedroid\\AppData\\Local\\Temp\\RtmpUBmNgt\\downloaded_packages\n"
     ]
    },
    {
     "name": "stderr",
     "output_type": "stream",
     "text": [
      "Loading required namespace: sf\n",
      "Linking to GEOS 3.8.0, GDAL 3.0.4, PROJ 6.3.1\n"
     ]
    }
   ],
   "source": [
    "########################################################\n",
    "###### Suppressing warnings for a cleaner output #######\n",
    "########################################################\n",
    "options(warn=-1)\n",
    "\n",
    "########################################################\n",
    "#### Installing and importing the required packages ####\n",
    "########################################################\n",
    "library(lubridate)                 # library to help work with dates\n",
    "install.packages(\"scales\")         # Scale Functions for Visualization\n",
    "library(scales)\n",
    "\n",
    "install.packages(\"tidyverse\")      # Collection of packages to model, transform, and visualize data\n",
    "library(tidyverse)                 # for declaratively creating graphics\n",
    "library(dplyr)\n",
    "\n",
    "library(ggpubr)\n",
    "\n",
    "library(tidymodels)\n",
    "library(gridExtra)\n",
    "install.packages(\"geobr\")\n",
    "library(geobr)\n",
    "library(sf)\n",
    "\n",
    "# install.packages(\"cowplot\")\n",
    "# library(cowplot)                   # Arrange 2 plots side-by-side https://stackoverflow.com/a/31223588/9332260"
   ]
  },
  {
   "cell_type": "code",
   "execution_count": 3,
   "metadata": {},
   "outputs": [],
   "source": [
    "# Setting up the environment\n",
    "\n",
    "options(repr.plot.width = 14, repr.plot.height = 6)\n",
    "\n",
    "\n",
    "theme <-\n",
    "  theme_minimal() +\n",
    "  theme(\n",
    "    plot.title = element_text(size=18, face=\"bold\", color=\"gray30\"),\n",
    "    plot.subtitle = element_text(size=15, face=\"bold\", color=\"gray30\"),\n",
    "    axis.title = element_text(size=15, face=\"bold\", color=\"gray30\"),\n",
    "    plot.caption = element_text(size=15, face=\"bold\", color = \"gray60\"),\n",
    "    legend.text = element_text(size=13, color=\"gray30\"),\n",
    "    legend.title = element_text(size=13, color=\"gray30\"),\n",
    "    strip.text.x = element_text(size=13, face=\"bold\", color=\"gray30\")\n",
    "  )\n",
    "\n",
    "theme_set(theme)"
   ]
  },
  {
   "cell_type": "markdown",
   "metadata": {},
   "source": [
    "# Exploratory Data Analysis: COVID-19\n",
    "\n",
    "In this Jupyter notebook, we perform a self expertimentation of Exploratory Data Analysis (EDA) for Denmark's COVID-19 cases in R. R is a language and environment for statistical computing and graphics (**cite: https://www.r-project.org/about.html**) which is perfect in this project as the goal is to visualize data and tell a conclusion/story based on real decisions."
   ]
  },
  {
   "cell_type": "code",
   "execution_count": null,
   "metadata": {},
   "outputs": [],
   "source": [
    "dates <- c(\"02/27/92\")\n",
    "as.Date(dates, \"%m/%d/%y\")"
   ]
  },
  {
   "cell_type": "code",
   "execution_count": null,
   "metadata": {},
   "outputs": [],
   "source": [
    "dates <- c(\"M02D27\")\n",
    "as.Date(dates, \"M%mD%d\")"
   ]
  },
  {
   "cell_type": "markdown",
   "metadata": {},
   "source": [
    "## 1. Identify business problem\n",
    "\n",
    "The first step to Exploratory Data Analysis (EDA) is to identify the business problem. The business case revolves around the understanding of the situation and the use of data to prevent spread of COVID-19 virus in Denmark. The aim is to analyze the data and compare against the decisions made and enforced by the officials and the health experts, primarily the two lockdowns from March and Decemberof 2020. This EDA is not a solution to the problem but the ambition is to understand if gathering factual data aided in effective decision making by the authorities. "
   ]
  },
  {
   "cell_type": "markdown",
   "metadata": {},
   "source": [
    "## 2. Data collection\n",
    "\n",
    "The data used in this analysis is collected from Statistibanken, which is a public database maintained and made available by Danmarks Statistik --- the central statistics office in Denmark under the Ministry of Economy. The data consists of official records of total people tested, infections, deaths and admission to hospital to among other key figures. The data was collected starting from March 21, 2020, which gets updated frequently. The latest data as of conducting the experiment is up until December 15, 2020."
   ]
  },
  {
   "cell_type": "markdown",
   "metadata": {},
   "source": [
    "## 3. Data preparation\n",
    "\n",
    "The data from Statistikbanken is made available in multiple formats so people can choose how they want the data, for example: an Excel sheet or a plain text file. For this analaysis, we chose to use the data as a CSV (comma-separated value) file for ease of use. In the following steps, we will go through the process of loading the data, tidying it and preparing it for the analysis."
   ]
  },
  {
   "cell_type": "markdown",
   "metadata": {},
   "source": [
    "### 3.1 Load the data into R and inspect\n",
    "\n",
    "In the following steps, we load the raw data into this R notebook and inspect if it is workable and understandable. If not, we must proceed to transform the data. Without a clear understanding of data, the anaylsis will be out of scope.\n",
    "\n",
    "After we load the data into the R notebook, we examine to ensure the target data and/or key figures exists. "
   ]
  },
  {
   "cell_type": "code",
   "execution_count": 147,
   "metadata": {},
   "outputs": [
    {
     "data": {
      "text/html": [
       "<ol class=list-inline>\n",
       "\t<li>'covid-data-modified.csv'</li>\n",
       "\t<li>'covid-data-statistikbanken.csv'</li>\n",
       "\t<li>'EDA-COVID-Copy1.ipynb'</li>\n",
       "\t<li>'EDA-COVID.ipynb'</li>\n",
       "\t<li>'README.md'</li>\n",
       "\t<li>'Untitled.ipynb'</li>\n",
       "</ol>\n"
      ],
      "text/latex": [
       "\\begin{enumerate*}\n",
       "\\item 'covid-data-modified.csv'\n",
       "\\item 'covid-data-statistikbanken.csv'\n",
       "\\item 'EDA-COVID-Copy1.ipynb'\n",
       "\\item 'EDA-COVID.ipynb'\n",
       "\\item 'README.md'\n",
       "\\item 'Untitled.ipynb'\n",
       "\\end{enumerate*}\n"
      ],
      "text/markdown": [
       "1. 'covid-data-modified.csv'\n",
       "2. 'covid-data-statistikbanken.csv'\n",
       "3. 'EDA-COVID-Copy1.ipynb'\n",
       "4. 'EDA-COVID.ipynb'\n",
       "5. 'README.md'\n",
       "6. 'Untitled.ipynb'\n",
       "\n",
       "\n"
      ],
      "text/plain": [
       "[1] \"covid-data-modified.csv\"        \"covid-data-statistikbanken.csv\"\n",
       "[3] \"EDA-COVID-Copy1.ipynb\"          \"EDA-COVID.ipynb\"               \n",
       "[5] \"README.md\"                      \"Untitled.ipynb\"                "
      ]
     },
     "metadata": {},
     "output_type": "display_data"
    }
   ],
   "source": [
    "list.files(\".\")"
   ]
  },
  {
   "cell_type": "code",
   "execution_count": 148,
   "metadata": {},
   "outputs": [],
   "source": [
    "# Create a dataframe by reading the file containing the dataset\n",
    "\n",
    "raw_data <- read.csv(\"covid-data-statistikbanken.csv\", encoding=\"UTF-8\")"
   ]
  },
  {
   "cell_type": "markdown",
   "metadata": {},
   "source": [
    "### 3.2 Initial inspection and feedback\n",
    "\n",
    "Now that the target data is loaded and ready to be used, we inspect and conclude which transformations are needed. To do so, we print the first few rows of the data."
   ]
  },
  {
   "cell_type": "code",
   "execution_count": 149,
   "metadata": {},
   "outputs": [
    {
     "data": {
      "text/html": [
       "<table>\n",
       "<thead><tr><th scope=col>X.</th><th scope=col>M03D21</th><th scope=col>M03D22</th><th scope=col>M03D23</th><th scope=col>M03D24</th><th scope=col>M03D25</th><th scope=col>M03D26</th><th scope=col>M03D27</th><th scope=col>M03D28</th><th scope=col>M03D29</th><th scope=col>...</th><th scope=col>M12D06</th><th scope=col>M12D07</th><th scope=col>M12D08</th><th scope=col>M12D09</th><th scope=col>M12D10</th><th scope=col>M12D11</th><th scope=col>M12D12</th><th scope=col>M12D13</th><th scope=col>M12D14</th><th scope=col>M12D15</th></tr></thead>\n",
       "<tbody>\n",
       "\t<tr><td>Confirmed cases of COVID-19 (total)             </td><td>1326                                            </td><td>1395                                            </td><td>1450                                            </td><td>1577                                            </td><td>1715                                            </td><td>1851                                            </td><td>2010                                            </td><td>2201                                            </td><td>2395                                            </td><td>...                                             </td><td>  90603                                         </td><td>  92649                                         </td><td>  94799                                         </td><td>  97357                                         </td><td> 100489                                         </td><td> 103564                                         </td><td> 107116                                         </td><td> 109758                                         </td><td> 113095                                         </td><td> 116087                                         </td></tr>\n",
       "\t<tr><td>Recovered from COVID-19 infection (total        </td><td>..                                              </td><td>..                                              </td><td>..                                              </td><td>..                                              </td><td>..                                              </td><td>..                                              </td><td>..                                              </td><td>..                                              </td><td>..                                              </td><td>...                                             </td><td>  70876                                         </td><td>  71882                                         </td><td>  73052                                         </td><td>  74367                                         </td><td>  75664                                         </td><td>  76927                                         </td><td>  78236                                         </td><td>  79394                                         </td><td>  80564                                         </td><td>  82099                                         </td></tr>\n",
       "\t<tr><td>Number of persons tested for COVID-19 (total)   </td><td>11657                                           </td><td>12351                                           </td><td>12843                                           </td><td>13756                                           </td><td>14870                                           </td><td>15981                                           </td><td>17275                                           </td><td>18810                                           </td><td>20198                                           </td><td>...                                             </td><td>3524861                                         </td><td>3541148                                         </td><td>3556264                                         </td><td>3572954                                         </td><td>3592677                                         </td><td>3611456                                         </td><td>3630815                                         </td><td>3646152                                         </td><td>3664247                                         </td><td>3680607                                         </td></tr>\n",
       "\t<tr><td>Deaths with COVID-19 (total)                    </td><td>22                                              </td><td>25                                              </td><td>31                                              </td><td>37                                              </td><td>43                                              </td><td>55                                              </td><td>67                                              </td><td>76                                              </td><td>84                                              </td><td>...                                             </td><td>    899                                         </td><td>    905                                         </td><td>    912                                         </td><td>    922                                         </td><td>    928                                         </td><td>    935                                         </td><td>    943                                         </td><td>    954                                         </td><td>    961                                         </td><td>    961                                         </td></tr>\n",
       "\t<tr><td>Deaths with COVID-19 per day                    </td><td>3                                               </td><td>3                                               </td><td>6                                               </td><td>6                                               </td><td>6                                               </td><td>12                                              </td><td>12                                              </td><td>9                                               </td><td>8                                               </td><td>...                                             </td><td>      8                                         </td><td>      6                                         </td><td>      7                                         </td><td>     10                                         </td><td>      6                                         </td><td>      7                                         </td><td>      8                                         </td><td>     11                                         </td><td>      7                                         </td><td>      0                                         </td></tr>\n",
       "\t<tr><td>Persons hospitalised in connection with COVID-19</td><td>206                                             </td><td>232                                             </td><td>254                                             </td><td>301                                             </td><td>350                                             </td><td>386                                             </td><td>430                                             </td><td>459                                             </td><td>499                                             </td><td>...                                             </td><td>    302                                         </td><td>    328                                         </td><td>    354                                         </td><td>    349                                         </td><td>    342                                         </td><td>    361                                         </td><td>    371                                         </td><td>    390                                         </td><td>    429                                         </td><td>    439                                         </td></tr>\n",
       "</tbody>\n",
       "</table>\n"
      ],
      "text/latex": [
       "\\begin{tabular}{r|lllllllllllllllllllllllllllllllllllllllllllllllllllllllllllllllllllllllllllllllllllllllllllllllllllllllllllllllllllllllllllllllllllllllllllllllllllllllllllllllllllllllllllllllllllllllllllllllllllllllllllllllllllllllllllllllllllllllllllllllllllllllllllllllllllllllllllllll}\n",
       " X. & M03D21 & M03D22 & M03D23 & M03D24 & M03D25 & M03D26 & M03D27 & M03D28 & M03D29 & ... & M12D06 & M12D07 & M12D08 & M12D09 & M12D10 & M12D11 & M12D12 & M12D13 & M12D14 & M12D15\\\\\n",
       "\\hline\n",
       "\t Confirmed cases of COVID-19 (total)              & 1326                                             & 1395                                             & 1450                                             & 1577                                             & 1715                                             & 1851                                             & 2010                                             & 2201                                             & 2395                                             & ...                                              &   90603                                          &   92649                                          &   94799                                          &   97357                                          &  100489                                          &  103564                                          &  107116                                          &  109758                                          &  113095                                          &  116087                                         \\\\\n",
       "\t Recovered from COVID-19 infection (total         & ..                                               & ..                                               & ..                                               & ..                                               & ..                                               & ..                                               & ..                                               & ..                                               & ..                                               & ...                                              &   70876                                          &   71882                                          &   73052                                          &   74367                                          &   75664                                          &   76927                                          &   78236                                          &   79394                                          &   80564                                          &   82099                                         \\\\\n",
       "\t Number of persons tested for COVID-19 (total)    & 11657                                            & 12351                                            & 12843                                            & 13756                                            & 14870                                            & 15981                                            & 17275                                            & 18810                                            & 20198                                            & ...                                              & 3524861                                          & 3541148                                          & 3556264                                          & 3572954                                          & 3592677                                          & 3611456                                          & 3630815                                          & 3646152                                          & 3664247                                          & 3680607                                         \\\\\n",
       "\t Deaths with COVID-19 (total)                     & 22                                               & 25                                               & 31                                               & 37                                               & 43                                               & 55                                               & 67                                               & 76                                               & 84                                               & ...                                              &     899                                          &     905                                          &     912                                          &     922                                          &     928                                          &     935                                          &     943                                          &     954                                          &     961                                          &     961                                         \\\\\n",
       "\t Deaths with COVID-19 per day                     & 3                                                & 3                                                & 6                                                & 6                                                & 6                                                & 12                                               & 12                                               & 9                                                & 8                                                & ...                                              &       8                                          &       6                                          &       7                                          &      10                                          &       6                                          &       7                                          &       8                                          &      11                                          &       7                                          &       0                                         \\\\\n",
       "\t Persons hospitalised in connection with COVID-19 & 206                                              & 232                                              & 254                                              & 301                                              & 350                                              & 386                                              & 430                                              & 459                                              & 499                                              & ...                                              &     302                                          &     328                                          &     354                                          &     349                                          &     342                                          &     361                                          &     371                                          &     390                                          &     429                                          &     439                                         \\\\\n",
       "\\end{tabular}\n"
      ],
      "text/markdown": [
       "\n",
       "| X. | M03D21 | M03D22 | M03D23 | M03D24 | M03D25 | M03D26 | M03D27 | M03D28 | M03D29 | ... | M12D06 | M12D07 | M12D08 | M12D09 | M12D10 | M12D11 | M12D12 | M12D13 | M12D14 | M12D15 |\n",
       "|---|---|---|---|---|---|---|---|---|---|---|---|---|---|---|---|---|---|---|---|---|\n",
       "| Confirmed cases of COVID-19 (total)              | 1326                                             | 1395                                             | 1450                                             | 1577                                             | 1715                                             | 1851                                             | 2010                                             | 2201                                             | 2395                                             | ...                                              |   90603                                          |   92649                                          |   94799                                          |   97357                                          |  100489                                          |  103564                                          |  107116                                          |  109758                                          |  113095                                          |  116087                                          |\n",
       "| Recovered from COVID-19 infection (total         | ..                                               | ..                                               | ..                                               | ..                                               | ..                                               | ..                                               | ..                                               | ..                                               | ..                                               | ...                                              |   70876                                          |   71882                                          |   73052                                          |   74367                                          |   75664                                          |   76927                                          |   78236                                          |   79394                                          |   80564                                          |   82099                                          |\n",
       "| Number of persons tested for COVID-19 (total)    | 11657                                            | 12351                                            | 12843                                            | 13756                                            | 14870                                            | 15981                                            | 17275                                            | 18810                                            | 20198                                            | ...                                              | 3524861                                          | 3541148                                          | 3556264                                          | 3572954                                          | 3592677                                          | 3611456                                          | 3630815                                          | 3646152                                          | 3664247                                          | 3680607                                          |\n",
       "| Deaths with COVID-19 (total)                     | 22                                               | 25                                               | 31                                               | 37                                               | 43                                               | 55                                               | 67                                               | 76                                               | 84                                               | ...                                              |     899                                          |     905                                          |     912                                          |     922                                          |     928                                          |     935                                          |     943                                          |     954                                          |     961                                          |     961                                          |\n",
       "| Deaths with COVID-19 per day                     | 3                                                | 3                                                | 6                                                | 6                                                | 6                                                | 12                                               | 12                                               | 9                                                | 8                                                | ...                                              |       8                                          |       6                                          |       7                                          |      10                                          |       6                                          |       7                                          |       8                                          |      11                                          |       7                                          |       0                                          |\n",
       "| Persons hospitalised in connection with COVID-19 | 206                                              | 232                                              | 254                                              | 301                                              | 350                                              | 386                                              | 430                                              | 459                                              | 499                                              | ...                                              |     302                                          |     328                                          |     354                                          |     349                                          |     342                                          |     361                                          |     371                                          |     390                                          |     429                                          |     439                                          |\n",
       "\n"
      ],
      "text/plain": [
       "  X.                                               M03D21 M03D22 M03D23 M03D24\n",
       "1 Confirmed cases of COVID-19 (total)              1326   1395   1450   1577  \n",
       "2 Recovered from COVID-19 infection (total         ..     ..     ..     ..    \n",
       "3 Number of persons tested for COVID-19 (total)    11657  12351  12843  13756 \n",
       "4 Deaths with COVID-19 (total)                     22     25     31     37    \n",
       "5 Deaths with COVID-19 per day                     3      3      6      6     \n",
       "6 Persons hospitalised in connection with COVID-19 206    232    254    301   \n",
       "  M03D25 M03D26 M03D27 M03D28 M03D29 ... M12D06  M12D07  M12D08  M12D09 \n",
       "1 1715   1851   2010   2201   2395   ...   90603   92649   94799   97357\n",
       "2 ..     ..     ..     ..     ..     ...   70876   71882   73052   74367\n",
       "3 14870  15981  17275  18810  20198  ... 3524861 3541148 3556264 3572954\n",
       "4 43     55     67     76     84     ...     899     905     912     922\n",
       "5 6      12     12     9      8      ...       8       6       7      10\n",
       "6 350    386    430    459    499    ...     302     328     354     349\n",
       "  M12D10  M12D11  M12D12  M12D13  M12D14  M12D15 \n",
       "1  100489  103564  107116  109758  113095  116087\n",
       "2   75664   76927   78236   79394   80564   82099\n",
       "3 3592677 3611456 3630815 3646152 3664247 3680607\n",
       "4     928     935     943     954     961     961\n",
       "5       6       7       8      11       7       0\n",
       "6     342     361     371     390     429     439"
      ]
     },
     "metadata": {},
     "output_type": "display_data"
    }
   ],
   "source": [
    "head(raw_data)"
   ]
  },
  {
   "cell_type": "code",
   "execution_count": 150,
   "metadata": {},
   "outputs": [
    {
     "data": {
      "text/html": [
       "<table>\n",
       "<thead><tr><th></th><th scope=col>Confirmed cases of COVID-19 (total)</th><th scope=col>Recovered from COVID-19 infection (total</th><th scope=col>Number of persons tested for COVID-19 (total)</th><th scope=col>Deaths with COVID-19 (total)</th><th scope=col>Deaths with COVID-19 per day</th><th scope=col>Persons hospitalised in connection with COVID-19</th><th scope=col>Patients in intensive care units in connection with COVID-19</th><th scope=col>Patients on ventilators in connection with COVID-19</th></tr></thead>\n",
       "<tbody>\n",
       "\t<tr><th scope=row>M03D21</th><td>1326 </td><td>..   </td><td>11657</td><td>22   </td><td>3    </td><td>206  </td><td>42   </td><td>35   </td></tr>\n",
       "\t<tr><th scope=row>M03D22</th><td>1395 </td><td>..   </td><td>12351</td><td>25   </td><td>3    </td><td>232  </td><td>46   </td><td>40   </td></tr>\n",
       "\t<tr><th scope=row>M03D23</th><td>1450 </td><td>..   </td><td>12843</td><td>31   </td><td>6    </td><td>254  </td><td>55   </td><td>47   </td></tr>\n",
       "\t<tr><th scope=row>M03D24</th><td>1577 </td><td>..   </td><td>13756</td><td>37   </td><td>6    </td><td>301  </td><td>59   </td><td>58   </td></tr>\n",
       "\t<tr><th scope=row>M03D25</th><td>1715 </td><td>..   </td><td>14870</td><td>43   </td><td>6    </td><td>350  </td><td>87   </td><td>76   </td></tr>\n",
       "\t<tr><th scope=row>M03D26</th><td>1851 </td><td>..   </td><td>15981</td><td>55   </td><td>12   </td><td>386  </td><td>94   </td><td>78   </td></tr>\n",
       "</tbody>\n",
       "</table>\n"
      ],
      "text/latex": [
       "\\begin{tabular}{r|llllllll}\n",
       "  & Confirmed cases of COVID-19 (total) & Recovered from COVID-19 infection (total & Number of persons tested for COVID-19 (total) & Deaths with COVID-19 (total) & Deaths with COVID-19 per day & Persons hospitalised in connection with COVID-19 & Patients in intensive care units in connection with COVID-19 & Patients on ventilators in connection with COVID-19\\\\\n",
       "\\hline\n",
       "\tM03D21 & 1326  & ..    & 11657 & 22    & 3     & 206   & 42    & 35   \\\\\n",
       "\tM03D22 & 1395  & ..    & 12351 & 25    & 3     & 232   & 46    & 40   \\\\\n",
       "\tM03D23 & 1450  & ..    & 12843 & 31    & 6     & 254   & 55    & 47   \\\\\n",
       "\tM03D24 & 1577  & ..    & 13756 & 37    & 6     & 301   & 59    & 58   \\\\\n",
       "\tM03D25 & 1715  & ..    & 14870 & 43    & 6     & 350   & 87    & 76   \\\\\n",
       "\tM03D26 & 1851  & ..    & 15981 & 55    & 12    & 386   & 94    & 78   \\\\\n",
       "\\end{tabular}\n"
      ],
      "text/markdown": [
       "\n",
       "| <!--/--> | Confirmed cases of COVID-19 (total) | Recovered from COVID-19 infection (total | Number of persons tested for COVID-19 (total) | Deaths with COVID-19 (total) | Deaths with COVID-19 per day | Persons hospitalised in connection with COVID-19 | Patients in intensive care units in connection with COVID-19 | Patients on ventilators in connection with COVID-19 |\n",
       "|---|---|---|---|---|---|---|---|---|\n",
       "| M03D21 | 1326  | ..    | 11657 | 22    | 3     | 206   | 42    | 35    |\n",
       "| M03D22 | 1395  | ..    | 12351 | 25    | 3     | 232   | 46    | 40    |\n",
       "| M03D23 | 1450  | ..    | 12843 | 31    | 6     | 254   | 55    | 47    |\n",
       "| M03D24 | 1577  | ..    | 13756 | 37    | 6     | 301   | 59    | 58    |\n",
       "| M03D25 | 1715  | ..    | 14870 | 43    | 6     | 350   | 87    | 76    |\n",
       "| M03D26 | 1851  | ..    | 15981 | 55    | 12    | 386   | 94    | 78    |\n",
       "\n"
      ],
      "text/plain": [
       "       Confirmed cases of COVID-19 (total)\n",
       "M03D21 1326                               \n",
       "M03D22 1395                               \n",
       "M03D23 1450                               \n",
       "M03D24 1577                               \n",
       "M03D25 1715                               \n",
       "M03D26 1851                               \n",
       "       Recovered from COVID-19 infection (total\n",
       "M03D21 ..                                      \n",
       "M03D22 ..                                      \n",
       "M03D23 ..                                      \n",
       "M03D24 ..                                      \n",
       "M03D25 ..                                      \n",
       "M03D26 ..                                      \n",
       "       Number of persons tested for COVID-19 (total)\n",
       "M03D21 11657                                        \n",
       "M03D22 12351                                        \n",
       "M03D23 12843                                        \n",
       "M03D24 13756                                        \n",
       "M03D25 14870                                        \n",
       "M03D26 15981                                        \n",
       "       Deaths with COVID-19 (total) Deaths with COVID-19 per day\n",
       "M03D21 22                           3                           \n",
       "M03D22 25                           3                           \n",
       "M03D23 31                           6                           \n",
       "M03D24 37                           6                           \n",
       "M03D25 43                           6                           \n",
       "M03D26 55                           12                          \n",
       "       Persons hospitalised in connection with COVID-19\n",
       "M03D21 206                                             \n",
       "M03D22 232                                             \n",
       "M03D23 254                                             \n",
       "M03D24 301                                             \n",
       "M03D25 350                                             \n",
       "M03D26 386                                             \n",
       "       Patients in intensive care units in connection with COVID-19\n",
       "M03D21 42                                                          \n",
       "M03D22 46                                                          \n",
       "M03D23 55                                                          \n",
       "M03D24 59                                                          \n",
       "M03D25 87                                                          \n",
       "M03D26 94                                                          \n",
       "       Patients on ventilators in connection with COVID-19\n",
       "M03D21 35                                                 \n",
       "M03D22 40                                                 \n",
       "M03D23 47                                                 \n",
       "M03D24 58                                                 \n",
       "M03D25 76                                                 \n",
       "M03D26 78                                                 "
      ]
     },
     "metadata": {},
     "output_type": "display_data"
    }
   ],
   "source": [
    "# Transposing a dataframe: https://stackoverflow.com/a/6645587/9332260\n",
    "denmark_covid_data <- t(raw_data[,2:ncol(raw_data)])\n",
    "colnames(denmark_covid_data) <- raw_data[,1] \n",
    "head(denmark_covid_data)"
   ]
  },
  {
   "cell_type": "code",
   "execution_count": 151,
   "metadata": {},
   "outputs": [
    {
     "data": {
      "text/html": [
       "<ol class=list-inline>\n",
       "\t<li>'Confirmed cases of COVID-19 (total)'</li>\n",
       "\t<li>'Recovered from COVID-19 infection (total'</li>\n",
       "\t<li>'Number of persons tested for COVID-19 (total)'</li>\n",
       "\t<li>'Deaths with COVID-19 (total)'</li>\n",
       "\t<li>'Deaths with COVID-19 per day'</li>\n",
       "\t<li>'Persons hospitalised in connection with COVID-19'</li>\n",
       "\t<li>'Patients in intensive care units in connection with COVID-19'</li>\n",
       "\t<li>'Patients on ventilators in connection with COVID-19'</li>\n",
       "</ol>\n"
      ],
      "text/latex": [
       "\\begin{enumerate*}\n",
       "\\item 'Confirmed cases of COVID-19 (total)'\n",
       "\\item 'Recovered from COVID-19 infection (total'\n",
       "\\item 'Number of persons tested for COVID-19 (total)'\n",
       "\\item 'Deaths with COVID-19 (total)'\n",
       "\\item 'Deaths with COVID-19 per day'\n",
       "\\item 'Persons hospitalised in connection with COVID-19'\n",
       "\\item 'Patients in intensive care units in connection with COVID-19'\n",
       "\\item 'Patients on ventilators in connection with COVID-19'\n",
       "\\end{enumerate*}\n"
      ],
      "text/markdown": [
       "1. 'Confirmed cases of COVID-19 (total)'\n",
       "2. 'Recovered from COVID-19 infection (total'\n",
       "3. 'Number of persons tested for COVID-19 (total)'\n",
       "4. 'Deaths with COVID-19 (total)'\n",
       "5. 'Deaths with COVID-19 per day'\n",
       "6. 'Persons hospitalised in connection with COVID-19'\n",
       "7. 'Patients in intensive care units in connection with COVID-19'\n",
       "8. 'Patients on ventilators in connection with COVID-19'\n",
       "\n",
       "\n"
      ],
      "text/plain": [
       "[1] \"Confirmed cases of COVID-19 (total)\"                         \n",
       "[2] \"Recovered from COVID-19 infection (total\"                    \n",
       "[3] \"Number of persons tested for COVID-19 (total)\"               \n",
       "[4] \"Deaths with COVID-19 (total)\"                                \n",
       "[5] \"Deaths with COVID-19 per day\"                                \n",
       "[6] \"Persons hospitalised in connection with COVID-19\"            \n",
       "[7] \"Patients in intensive care units in connection with COVID-19\"\n",
       "[8] \"Patients on ventilators in connection with COVID-19\"         "
      ]
     },
     "metadata": {},
     "output_type": "display_data"
    }
   ],
   "source": [
    "# Printing column names\n",
    "colnames(denmark_covid_data)"
   ]
  },
  {
   "cell_type": "code",
   "execution_count": 152,
   "metadata": {},
   "outputs": [],
   "source": [
    "# Rename columns: https://stackoverflow.com/a/16031013/9332260\n",
    "denmark_covid_data <- cbind(rownames(denmark_covid_data), denmark_covid_data)\n",
    "rownames(denmark_covid_data) <- NULL\n",
    "colnames(denmark_covid_data) <- c(\"original_date\", \"total_cases\", \"total_recovered\", \"total_tested\", \"total_deaths\", \"daily_deaths\", \"daily_hospitalized\", \"daily_patients_icu\", \"daily_patients_ventilators\")"
   ]
  },
  {
   "cell_type": "code",
   "execution_count": 153,
   "metadata": {},
   "outputs": [],
   "source": [
    "denmark_covid_data <- as.data.frame(denmark_covid_data)"
   ]
  },
  {
   "cell_type": "code",
   "execution_count": 154,
   "metadata": {},
   "outputs": [
    {
     "data": {
      "text/html": [
       "<table>\n",
       "<thead><tr><th scope=col>original_date</th><th scope=col>total_cases</th><th scope=col>total_recovered</th><th scope=col>total_tested</th><th scope=col>total_deaths</th><th scope=col>daily_deaths</th><th scope=col>daily_hospitalized</th><th scope=col>daily_patients_icu</th><th scope=col>daily_patients_ventilators</th></tr></thead>\n",
       "<tbody>\n",
       "\t<tr><td>M03D21</td><td>1326  </td><td>..    </td><td>11657 </td><td>22    </td><td>3     </td><td>206   </td><td>42    </td><td>35    </td></tr>\n",
       "\t<tr><td>M03D22</td><td>1395  </td><td>..    </td><td>12351 </td><td>25    </td><td>3     </td><td>232   </td><td>46    </td><td>40    </td></tr>\n",
       "\t<tr><td>M03D23</td><td>1450  </td><td>..    </td><td>12843 </td><td>31    </td><td>6     </td><td>254   </td><td>55    </td><td>47    </td></tr>\n",
       "\t<tr><td>M03D24</td><td>1577  </td><td>..    </td><td>13756 </td><td>37    </td><td>6     </td><td>301   </td><td>59    </td><td>58    </td></tr>\n",
       "\t<tr><td>M03D25</td><td>1715  </td><td>..    </td><td>14870 </td><td>43    </td><td>6     </td><td>350   </td><td>87    </td><td>76    </td></tr>\n",
       "\t<tr><td>M03D26</td><td>1851  </td><td>..    </td><td>15981 </td><td>55    </td><td>12    </td><td>386   </td><td>94    </td><td>78    </td></tr>\n",
       "</tbody>\n",
       "</table>\n"
      ],
      "text/latex": [
       "\\begin{tabular}{r|lllllllll}\n",
       " original\\_date & total\\_cases & total\\_recovered & total\\_tested & total\\_deaths & daily\\_deaths & daily\\_hospitalized & daily\\_patients\\_icu & daily\\_patients\\_ventilators\\\\\n",
       "\\hline\n",
       "\t M03D21 & 1326   & ..     & 11657  & 22     & 3      & 206    & 42     & 35    \\\\\n",
       "\t M03D22 & 1395   & ..     & 12351  & 25     & 3      & 232    & 46     & 40    \\\\\n",
       "\t M03D23 & 1450   & ..     & 12843  & 31     & 6      & 254    & 55     & 47    \\\\\n",
       "\t M03D24 & 1577   & ..     & 13756  & 37     & 6      & 301    & 59     & 58    \\\\\n",
       "\t M03D25 & 1715   & ..     & 14870  & 43     & 6      & 350    & 87     & 76    \\\\\n",
       "\t M03D26 & 1851   & ..     & 15981  & 55     & 12     & 386    & 94     & 78    \\\\\n",
       "\\end{tabular}\n"
      ],
      "text/markdown": [
       "\n",
       "| original_date | total_cases | total_recovered | total_tested | total_deaths | daily_deaths | daily_hospitalized | daily_patients_icu | daily_patients_ventilators |\n",
       "|---|---|---|---|---|---|---|---|---|\n",
       "| M03D21 | 1326   | ..     | 11657  | 22     | 3      | 206    | 42     | 35     |\n",
       "| M03D22 | 1395   | ..     | 12351  | 25     | 3      | 232    | 46     | 40     |\n",
       "| M03D23 | 1450   | ..     | 12843  | 31     | 6      | 254    | 55     | 47     |\n",
       "| M03D24 | 1577   | ..     | 13756  | 37     | 6      | 301    | 59     | 58     |\n",
       "| M03D25 | 1715   | ..     | 14870  | 43     | 6      | 350    | 87     | 76     |\n",
       "| M03D26 | 1851   | ..     | 15981  | 55     | 12     | 386    | 94     | 78     |\n",
       "\n"
      ],
      "text/plain": [
       "  original_date total_cases total_recovered total_tested total_deaths\n",
       "1 M03D21        1326        ..              11657        22          \n",
       "2 M03D22        1395        ..              12351        25          \n",
       "3 M03D23        1450        ..              12843        31          \n",
       "4 M03D24        1577        ..              13756        37          \n",
       "5 M03D25        1715        ..              14870        43          \n",
       "6 M03D26        1851        ..              15981        55          \n",
       "  daily_deaths daily_hospitalized daily_patients_icu daily_patients_ventilators\n",
       "1 3            206                42                 35                        \n",
       "2 3            232                46                 40                        \n",
       "3 6            254                55                 47                        \n",
       "4 6            301                59                 58                        \n",
       "5 6            350                87                 76                        \n",
       "6 12           386                94                 78                        "
      ]
     },
     "metadata": {},
     "output_type": "display_data"
    }
   ],
   "source": [
    "head(denmark_covid_data)"
   ]
  },
  {
   "cell_type": "code",
   "execution_count": 155,
   "metadata": {},
   "outputs": [],
   "source": [
    "denmark_covid_data <- denmark_covid_data %>%\n",
    "  mutate(\n",
    "      date = as.Date(original_date, \"M%mD%d\"),\n",
    "      day = row_number(date) - 1,\n",
    "      total_recovered = na_if(total_recovered, \"..\"),\n",
    "      total_tested = na_if(total_tested, \"..\"),\n",
    "      daily_hospitalized = na_if(daily_hospitalized, \"..\"),\n",
    "      daily_patients_icu = na_if(daily_patients_icu, \"..\"),\n",
    "      daily_patients_ventilators = na_if(daily_patients_ventilators, \"..\"),\n",
    "  )"
   ]
  },
  {
   "cell_type": "code",
   "execution_count": 156,
   "metadata": {},
   "outputs": [
    {
     "data": {
      "text/html": [
       "<table>\n",
       "<thead><tr><th scope=col>original_date</th><th scope=col>total_cases</th><th scope=col>total_recovered</th><th scope=col>total_tested</th><th scope=col>total_deaths</th><th scope=col>daily_deaths</th><th scope=col>daily_hospitalized</th><th scope=col>daily_patients_icu</th><th scope=col>daily_patients_ventilators</th><th scope=col>date</th><th scope=col>day</th></tr></thead>\n",
       "<tbody>\n",
       "\t<tr><td>M03D21    </td><td>1326      </td><td>NA        </td><td>11657     </td><td>22        </td><td>3         </td><td>206       </td><td>42        </td><td>35        </td><td>2020-03-21</td><td>0         </td></tr>\n",
       "\t<tr><td>M03D22    </td><td>1395      </td><td>NA        </td><td>12351     </td><td>25        </td><td>3         </td><td>232       </td><td>46        </td><td>40        </td><td>2020-03-22</td><td>1         </td></tr>\n",
       "\t<tr><td>M03D23    </td><td>1450      </td><td>NA        </td><td>12843     </td><td>31        </td><td>6         </td><td>254       </td><td>55        </td><td>47        </td><td>2020-03-23</td><td>2         </td></tr>\n",
       "\t<tr><td>M03D24    </td><td>1577      </td><td>NA        </td><td>13756     </td><td>37        </td><td>6         </td><td>301       </td><td>59        </td><td>58        </td><td>2020-03-24</td><td>3         </td></tr>\n",
       "\t<tr><td>M03D25    </td><td>1715      </td><td>NA        </td><td>14870     </td><td>43        </td><td>6         </td><td>350       </td><td>87        </td><td>76        </td><td>2020-03-25</td><td>4         </td></tr>\n",
       "\t<tr><td>M03D26    </td><td>1851      </td><td>NA        </td><td>15981     </td><td>55        </td><td>12        </td><td>386       </td><td>94        </td><td>78        </td><td>2020-03-26</td><td>5         </td></tr>\n",
       "</tbody>\n",
       "</table>\n"
      ],
      "text/latex": [
       "\\begin{tabular}{r|lllllllllll}\n",
       " original\\_date & total\\_cases & total\\_recovered & total\\_tested & total\\_deaths & daily\\_deaths & daily\\_hospitalized & daily\\_patients\\_icu & daily\\_patients\\_ventilators & date & day\\\\\n",
       "\\hline\n",
       "\t M03D21     & 1326       & NA         & 11657      & 22         & 3          & 206        & 42         & 35         & 2020-03-21 & 0         \\\\\n",
       "\t M03D22     & 1395       & NA         & 12351      & 25         & 3          & 232        & 46         & 40         & 2020-03-22 & 1         \\\\\n",
       "\t M03D23     & 1450       & NA         & 12843      & 31         & 6          & 254        & 55         & 47         & 2020-03-23 & 2         \\\\\n",
       "\t M03D24     & 1577       & NA         & 13756      & 37         & 6          & 301        & 59         & 58         & 2020-03-24 & 3         \\\\\n",
       "\t M03D25     & 1715       & NA         & 14870      & 43         & 6          & 350        & 87         & 76         & 2020-03-25 & 4         \\\\\n",
       "\t M03D26     & 1851       & NA         & 15981      & 55         & 12         & 386        & 94         & 78         & 2020-03-26 & 5         \\\\\n",
       "\\end{tabular}\n"
      ],
      "text/markdown": [
       "\n",
       "| original_date | total_cases | total_recovered | total_tested | total_deaths | daily_deaths | daily_hospitalized | daily_patients_icu | daily_patients_ventilators | date | day |\n",
       "|---|---|---|---|---|---|---|---|---|---|---|\n",
       "| M03D21     | 1326       | NA         | 11657      | 22         | 3          | 206        | 42         | 35         | 2020-03-21 | 0          |\n",
       "| M03D22     | 1395       | NA         | 12351      | 25         | 3          | 232        | 46         | 40         | 2020-03-22 | 1          |\n",
       "| M03D23     | 1450       | NA         | 12843      | 31         | 6          | 254        | 55         | 47         | 2020-03-23 | 2          |\n",
       "| M03D24     | 1577       | NA         | 13756      | 37         | 6          | 301        | 59         | 58         | 2020-03-24 | 3          |\n",
       "| M03D25     | 1715       | NA         | 14870      | 43         | 6          | 350        | 87         | 76         | 2020-03-25 | 4          |\n",
       "| M03D26     | 1851       | NA         | 15981      | 55         | 12         | 386        | 94         | 78         | 2020-03-26 | 5          |\n",
       "\n"
      ],
      "text/plain": [
       "  original_date total_cases total_recovered total_tested total_deaths\n",
       "1 M03D21        1326        NA              11657        22          \n",
       "2 M03D22        1395        NA              12351        25          \n",
       "3 M03D23        1450        NA              12843        31          \n",
       "4 M03D24        1577        NA              13756        37          \n",
       "5 M03D25        1715        NA              14870        43          \n",
       "6 M03D26        1851        NA              15981        55          \n",
       "  daily_deaths daily_hospitalized daily_patients_icu daily_patients_ventilators\n",
       "1 3            206                42                 35                        \n",
       "2 3            232                46                 40                        \n",
       "3 6            254                55                 47                        \n",
       "4 6            301                59                 58                        \n",
       "5 6            350                87                 76                        \n",
       "6 12           386                94                 78                        \n",
       "  date       day\n",
       "1 2020-03-21 0  \n",
       "2 2020-03-22 1  \n",
       "3 2020-03-23 2  \n",
       "4 2020-03-24 3  \n",
       "5 2020-03-25 4  \n",
       "6 2020-03-26 5  "
      ]
     },
     "metadata": {},
     "output_type": "display_data"
    }
   ],
   "source": [
    "head(denmark_covid_data)"
   ]
  },
  {
   "cell_type": "code",
   "execution_count": 157,
   "metadata": {},
   "outputs": [
    {
     "name": "stdout",
     "output_type": "stream",
     "text": [
      "'data.frame':\t270 obs. of  11 variables:\n",
      " $ original_date             : Factor w/ 270 levels \"M03D21\",\"M03D22\",..: 1 2 3 4 5 6 7 8 9 10 ...\n",
      " $ total_cases               : Factor w/ 254 levels \"  13173\",\"  13262\",..: 243 244 245 246 247 248 249 250 251 252 ...\n",
      " $ total_recovered           : Factor w/ 242 levels \"  12209\",\"  12251\",..: NA NA NA NA NA NA NA NA NA NA ...\n",
      " $ total_tested              : Factor w/ 254 levels \"..\",\"1001512\",..: 15 21 24 31 39 46 54 64 71 77 ...\n",
      " $ total_deaths              : Factor w/ 201 levels \"    611\",\"    613\",..: 181 182 183 184 185 186 198 199 200 201 ...\n",
      " $ daily_deaths              : Factor w/ 48 levels \"      0\",\"      1\",..: 45 45 46 46 46 41 41 48 47 40 ...\n",
      " $ daily_hospitalized        : Factor w/ 197 levels \"     12\",\"     13\",..: 186 187 188 189 190 191 192 193 194 196 ...\n",
      " $ daily_patients_icu        : Factor w/ 109 levels \"      0\",\"      1\",..: 104 105 106 107 108 109 98 99 100 101 ...\n",
      " $ daily_patients_ventilators: Factor w/ 93 levels \"      0\",\"      1\",..: 87 88 89 90 91 92 93 82 83 84 ...\n",
      " $ date                      : Date, format: \"2020-03-21\" \"2020-03-22\" ...\n",
      " $ day                       : num  0 1 2 3 4 5 6 7 8 9 ...\n"
     ]
    }
   ],
   "source": [
    "str(denmark_covid_data)\n"
   ]
  },
  {
   "cell_type": "code",
   "execution_count": 162,
   "metadata": {},
   "outputs": [],
   "source": [
    "denmark_covid_data$total_cases <- as.numeric(as.character(denmark_covid_data$total_cases))\n",
    "denmark_covid_data$total_recovered <- as.numeric(denmark_covid_data$total_recovered)\n",
    "denmark_covid_data$total_tested <- as.numeric(denmark_covid_data$total_tested)\n",
    "denmark_covid_data$total_deaths <- as.numeric(denmark_covid_data$total_deaths)\n",
    "denmark_covid_data$daily_deaths <- as.numeric(denmark_covid_data$daily_deaths)\n",
    "denmark_covid_data$daily_hospitalized <- as.numeric(denmark_covid_data$daily_hospitalized)\n",
    "denmark_covid_data$daily_patients_icu <- as.numeric(denmark_covid_data$daily_patients_icu)\n",
    "denmark_covid_data$daily_patients_ventilators <- as.numeric(denmark_covid_data$daily_patients_ventilators)"
   ]
  },
  {
   "cell_type": "code",
   "execution_count": 166,
   "metadata": {},
   "outputs": [
    {
     "data": {
      "text/html": [
       "<table>\n",
       "<thead><tr><th scope=col>original_date</th><th scope=col>total_cases</th><th scope=col>total_recovered</th><th scope=col>total_tested</th><th scope=col>total_deaths</th><th scope=col>daily_deaths</th><th scope=col>daily_hospitalized</th><th scope=col>daily_patients_icu</th><th scope=col>daily_patients_ventilators</th><th scope=col>date</th><th scope=col>day</th></tr></thead>\n",
       "<tbody>\n",
       "\t<tr><td>M03D21    </td><td>1326      </td><td>NA        </td><td>15        </td><td>181       </td><td>45        </td><td>186       </td><td>104       </td><td>87        </td><td>2020-03-21</td><td>0         </td></tr>\n",
       "\t<tr><td>M03D22    </td><td>1395      </td><td>NA        </td><td>21        </td><td>182       </td><td>45        </td><td>187       </td><td>105       </td><td>88        </td><td>2020-03-22</td><td>1         </td></tr>\n",
       "\t<tr><td>M03D23    </td><td>1450      </td><td>NA        </td><td>24        </td><td>183       </td><td>46        </td><td>188       </td><td>106       </td><td>89        </td><td>2020-03-23</td><td>2         </td></tr>\n",
       "\t<tr><td>M03D24    </td><td>1577      </td><td>NA        </td><td>31        </td><td>184       </td><td>46        </td><td>189       </td><td>107       </td><td>90        </td><td>2020-03-24</td><td>3         </td></tr>\n",
       "\t<tr><td>M03D25    </td><td>1715      </td><td>NA        </td><td>39        </td><td>185       </td><td>46        </td><td>190       </td><td>108       </td><td>91        </td><td>2020-03-25</td><td>4         </td></tr>\n",
       "\t<tr><td>M03D26    </td><td>1851      </td><td>NA        </td><td>46        </td><td>186       </td><td>41        </td><td>191       </td><td>109       </td><td>92        </td><td>2020-03-26</td><td>5         </td></tr>\n",
       "</tbody>\n",
       "</table>\n"
      ],
      "text/latex": [
       "\\begin{tabular}{r|lllllllllll}\n",
       " original\\_date & total\\_cases & total\\_recovered & total\\_tested & total\\_deaths & daily\\_deaths & daily\\_hospitalized & daily\\_patients\\_icu & daily\\_patients\\_ventilators & date & day\\\\\n",
       "\\hline\n",
       "\t M03D21     & 1326       & NA         & 15         & 181        & 45         & 186        & 104        & 87         & 2020-03-21 & 0         \\\\\n",
       "\t M03D22     & 1395       & NA         & 21         & 182        & 45         & 187        & 105        & 88         & 2020-03-22 & 1         \\\\\n",
       "\t M03D23     & 1450       & NA         & 24         & 183        & 46         & 188        & 106        & 89         & 2020-03-23 & 2         \\\\\n",
       "\t M03D24     & 1577       & NA         & 31         & 184        & 46         & 189        & 107        & 90         & 2020-03-24 & 3         \\\\\n",
       "\t M03D25     & 1715       & NA         & 39         & 185        & 46         & 190        & 108        & 91         & 2020-03-25 & 4         \\\\\n",
       "\t M03D26     & 1851       & NA         & 46         & 186        & 41         & 191        & 109        & 92         & 2020-03-26 & 5         \\\\\n",
       "\\end{tabular}\n"
      ],
      "text/markdown": [
       "\n",
       "| original_date | total_cases | total_recovered | total_tested | total_deaths | daily_deaths | daily_hospitalized | daily_patients_icu | daily_patients_ventilators | date | day |\n",
       "|---|---|---|---|---|---|---|---|---|---|---|\n",
       "| M03D21     | 1326       | NA         | 15         | 181        | 45         | 186        | 104        | 87         | 2020-03-21 | 0          |\n",
       "| M03D22     | 1395       | NA         | 21         | 182        | 45         | 187        | 105        | 88         | 2020-03-22 | 1          |\n",
       "| M03D23     | 1450       | NA         | 24         | 183        | 46         | 188        | 106        | 89         | 2020-03-23 | 2          |\n",
       "| M03D24     | 1577       | NA         | 31         | 184        | 46         | 189        | 107        | 90         | 2020-03-24 | 3          |\n",
       "| M03D25     | 1715       | NA         | 39         | 185        | 46         | 190        | 108        | 91         | 2020-03-25 | 4          |\n",
       "| M03D26     | 1851       | NA         | 46         | 186        | 41         | 191        | 109        | 92         | 2020-03-26 | 5          |\n",
       "\n"
      ],
      "text/plain": [
       "  original_date total_cases total_recovered total_tested total_deaths\n",
       "1 M03D21        1326        NA              15           181         \n",
       "2 M03D22        1395        NA              21           182         \n",
       "3 M03D23        1450        NA              24           183         \n",
       "4 M03D24        1577        NA              31           184         \n",
       "5 M03D25        1715        NA              39           185         \n",
       "6 M03D26        1851        NA              46           186         \n",
       "  daily_deaths daily_hospitalized daily_patients_icu daily_patients_ventilators\n",
       "1 45           186                104                87                        \n",
       "2 45           187                105                88                        \n",
       "3 46           188                106                89                        \n",
       "4 46           189                107                90                        \n",
       "5 46           190                108                91                        \n",
       "6 41           191                109                92                        \n",
       "  date       day\n",
       "1 2020-03-21 0  \n",
       "2 2020-03-22 1  \n",
       "3 2020-03-23 2  \n",
       "4 2020-03-24 3  \n",
       "5 2020-03-25 4  \n",
       "6 2020-03-26 5  "
      ]
     },
     "metadata": {},
     "output_type": "display_data"
    }
   ],
   "source": [
    "head(denmark_covid_data)"
   ]
  },
  {
   "cell_type": "code",
   "execution_count": 168,
   "metadata": {},
   "outputs": [],
   "source": [
    "denmark_covid_data <- \n",
    "denmark_covid_data %>%\n",
    "  arrange(date) %>%\n",
    "   mutate(\n",
    "       new_cases = total_cases - lag(total_cases, 1, 0),\n",
    "   ) %>% arrange(date)"
   ]
  },
  {
   "cell_type": "code",
   "execution_count": 169,
   "metadata": {},
   "outputs": [
    {
     "data": {
      "text/html": [
       "<table>\n",
       "<thead><tr><th scope=col>original_date</th><th scope=col>total_cases</th><th scope=col>total_recovered</th><th scope=col>total_tested</th><th scope=col>total_deaths</th><th scope=col>daily_deaths</th><th scope=col>daily_hospitalized</th><th scope=col>daily_patients_icu</th><th scope=col>daily_patients_ventilators</th><th scope=col>date</th><th scope=col>day</th><th scope=col>new_cases</th></tr></thead>\n",
       "<tbody>\n",
       "\t<tr><td>M03D21    </td><td>1326      </td><td> NA       </td><td> 15       </td><td>181       </td><td>45        </td><td>186       </td><td>104       </td><td>87        </td><td>2020-03-21</td><td> 0        </td><td> 71       </td></tr>\n",
       "\t<tr><td>M03D22    </td><td>1395      </td><td> NA       </td><td> 21       </td><td>182       </td><td>45        </td><td>187       </td><td>105       </td><td>88        </td><td>2020-03-22</td><td> 1        </td><td> 69       </td></tr>\n",
       "\t<tr><td>M03D23    </td><td>1450      </td><td> NA       </td><td> 24       </td><td>183       </td><td>46        </td><td>188       </td><td>106       </td><td>89        </td><td>2020-03-23</td><td> 2        </td><td> 55       </td></tr>\n",
       "\t<tr><td>M03D24    </td><td>1577      </td><td> NA       </td><td> 31       </td><td>184       </td><td>46        </td><td>189       </td><td>107       </td><td>90        </td><td>2020-03-24</td><td> 3        </td><td>127       </td></tr>\n",
       "\t<tr><td>M03D25    </td><td>1715      </td><td> NA       </td><td> 39       </td><td>185       </td><td>46        </td><td>190       </td><td>108       </td><td>91        </td><td>2020-03-25</td><td> 4        </td><td>138       </td></tr>\n",
       "\t<tr><td>M03D26    </td><td>1851      </td><td> NA       </td><td> 46       </td><td>186       </td><td>41        </td><td>191       </td><td>109       </td><td>92        </td><td>2020-03-26</td><td> 5        </td><td>136       </td></tr>\n",
       "\t<tr><td>M03D27    </td><td>2010      </td><td> NA       </td><td> 54       </td><td>198       </td><td>41        </td><td>192       </td><td> 98       </td><td>93        </td><td>2020-03-27</td><td> 6        </td><td>159       </td></tr>\n",
       "\t<tr><td>M03D28    </td><td>2201      </td><td> NA       </td><td> 64       </td><td>199       </td><td>48        </td><td>193       </td><td> 99       </td><td>82        </td><td>2020-03-28</td><td> 7        </td><td>191       </td></tr>\n",
       "\t<tr><td>M03D29    </td><td>2395      </td><td> NA       </td><td> 71       </td><td>200       </td><td>47        </td><td>194       </td><td>100       </td><td>83        </td><td>2020-03-29</td><td> 8        </td><td>194       </td></tr>\n",
       "\t<tr><td>M03D30    </td><td>2555      </td><td> NA       </td><td> 77       </td><td>201       </td><td>40        </td><td>196       </td><td>101       </td><td>84        </td><td>2020-03-30</td><td> 9        </td><td>160       </td></tr>\n",
       "\t<tr><td>M03D31    </td><td>2815      </td><td> NA       </td><td> 91       </td><td>179       </td><td>42        </td><td>195       </td><td>102       </td><td>86        </td><td>2020-03-31</td><td>10        </td><td>260       </td></tr>\n",
       "\t<tr><td>M04D01    </td><td>3092      </td><td> NA       </td><td>114       </td><td>180       </td><td>44        </td><td>197       </td><td>103       </td><td>85        </td><td>2020-04-01</td><td>11        </td><td>277       </td></tr>\n",
       "\t<tr><td>M04D02    </td><td>3355      </td><td>194       </td><td>136       </td><td>160       </td><td>36        </td><td>184       </td><td> 96       </td><td>80        </td><td>2020-04-02</td><td>12        </td><td>263       </td></tr>\n",
       "\t<tr><td>M04D03    </td><td>3672      </td><td>215       </td><td>165       </td><td>161       </td><td>37        </td><td>183       </td><td> 94       </td><td>79        </td><td>2020-04-03</td><td>13        </td><td>317       </td></tr>\n",
       "\t<tr><td>M04D04    </td><td>4077      </td><td>225       </td><td>187       </td><td>162       </td><td>33        </td><td>182       </td><td> 93       </td><td>78        </td><td>2020-04-04</td><td>14        </td><td>405       </td></tr>\n",
       "\t<tr><td>M04D05    </td><td>4369      </td><td>226       </td><td>192       </td><td>163       </td><td>31        </td><td>181       </td><td> 95       </td><td>76        </td><td>2020-04-05</td><td>15        </td><td>292       </td></tr>\n",
       "\t<tr><td>M04D06    </td><td>4647      </td><td>227       </td><td>197       </td><td>164       </td><td>35        </td><td>180       </td><td> 92       </td><td>77        </td><td>2020-04-06</td><td>16        </td><td>278       </td></tr>\n",
       "\t<tr><td>M04D07    </td><td>4978      </td><td>228       </td><td>202       </td><td>165       </td><td>31        </td><td>179       </td><td> 91       </td><td>75        </td><td>2020-04-07</td><td>17        </td><td>331       </td></tr>\n",
       "\t<tr><td>M04D08    </td><td>5386      </td><td>229       </td><td>210       </td><td>166       </td><td>33        </td><td>178       </td><td> 91       </td><td>75        </td><td>2020-04-08</td><td>18        </td><td>408       </td></tr>\n",
       "\t<tr><td>M04D09    </td><td>5635      </td><td>230       </td><td>216       </td><td>167       </td><td>32        </td><td>177       </td><td> 90       </td><td>74        </td><td>2020-04-09</td><td>19        </td><td>249       </td></tr>\n",
       "\t<tr><td>M04D10    </td><td>5819      </td><td>231       </td><td>219       </td><td>168       </td><td>34        </td><td>175       </td><td> 89       </td><td>73        </td><td>2020-04-10</td><td>20        </td><td>184       </td></tr>\n",
       "\t<tr><td>M04D11    </td><td>5996      </td><td>232       </td><td>224       </td><td>169       </td><td>30        </td><td>176       </td><td> 88       </td><td>72        </td><td>2020-04-11</td><td>21        </td><td>177       </td></tr>\n",
       "\t<tr><td>M04D12    </td><td>6174      </td><td>233       </td><td>226       </td><td>170       </td><td>30        </td><td>174       </td><td> 87       </td><td>70        </td><td>2020-04-12</td><td>22        </td><td>178       </td></tr>\n",
       "\t<tr><td>M04D13    </td><td>6318      </td><td>234       </td><td>228       </td><td>171       </td><td>34        </td><td>173       </td><td> 86       </td><td>71        </td><td>2020-04-13</td><td>23        </td><td>144       </td></tr>\n",
       "\t<tr><td>M04D14    </td><td>6496      </td><td>235       </td><td>230       </td><td>172       </td><td>31        </td><td>172       </td><td> 85       </td><td>69        </td><td>2020-04-14</td><td>24        </td><td>178       </td></tr>\n",
       "\t<tr><td>M04D15    </td><td>6681      </td><td>236       </td><td>233       </td><td>173       </td><td>29        </td><td>171       </td><td> 83       </td><td>67        </td><td>2020-04-15</td><td>25        </td><td>185       </td></tr>\n",
       "\t<tr><td>M04D16    </td><td>6879      </td><td>237       </td><td>237       </td><td>174       </td><td>31        </td><td>170       </td><td> 84       </td><td>64        </td><td>2020-04-16</td><td>26        </td><td>198       </td></tr>\n",
       "\t<tr><td>M04D17    </td><td>7073      </td><td>238       </td><td>242       </td><td>175       </td><td>28        </td><td>169       </td><td> 85       </td><td>66        </td><td>2020-04-17</td><td>27        </td><td>194       </td></tr>\n",
       "\t<tr><td>M04D18    </td><td>7242      </td><td>239       </td><td>246       </td><td>176       </td><td>29        </td><td>166       </td><td> 82       </td><td>68        </td><td>2020-04-18</td><td>28        </td><td>169       </td></tr>\n",
       "\t<tr><td>M04D19    </td><td>7384      </td><td>240       </td><td>249       </td><td>177       </td><td>26        </td><td>167       </td><td> 81       </td><td>65        </td><td>2020-04-19</td><td>29        </td><td>142       </td></tr>\n",
       "\t<tr><td>...</td><td>...</td><td>...</td><td>...</td><td>...</td><td>...</td><td>...</td><td>...</td><td>...</td><td>...</td><td>...</td><td>...</td></tr>\n",
       "\t<tr><td>M11D16    </td><td> 63331    </td><td>115       </td><td>148       </td><td> 74       </td><td> 5        </td><td> 88       </td><td>32        </td><td>24        </td><td>2020-11-16</td><td>240       </td><td>1195      </td></tr>\n",
       "\t<tr><td>M11D17    </td><td> 64551    </td><td>116       </td><td>149       </td><td> 75       </td><td> 4        </td><td> 85       </td><td>29        </td><td>23        </td><td>2020-11-17</td><td>241       </td><td>1220      </td></tr>\n",
       "\t<tr><td>M11D18    </td><td> 65808    </td><td>118       </td><td>150       </td><td> 76       </td><td> 6        </td><td> 79       </td><td>31        </td><td>23        </td><td>2020-11-18</td><td>242       </td><td>1257      </td></tr>\n",
       "\t<tr><td>M11D19    </td><td> 67105    </td><td>119       </td><td>151       </td><td> 77       </td><td> 4        </td><td> 83       </td><td>29        </td><td>18        </td><td>2020-11-19</td><td>243       </td><td>1297      </td></tr>\n",
       "\t<tr><td>M11D20    </td><td> 68362    </td><td>120       </td><td>152       </td><td> 78       </td><td> 5        </td><td> 78       </td><td>26        </td><td>17        </td><td>2020-11-20</td><td>244       </td><td>1257      </td></tr>\n",
       "\t<tr><td>M11D21    </td><td> 69635    </td><td>122       </td><td>154       </td><td> 79       </td><td> 6        </td><td> 75       </td><td>28        </td><td>18        </td><td>2020-11-21</td><td>245       </td><td>1273      </td></tr>\n",
       "\t<tr><td>M11D22    </td><td> 70485    </td><td>124       </td><td>155       </td><td> 80       </td><td> 7        </td><td> 82       </td><td>26        </td><td>19        </td><td>2020-11-22</td><td>246       </td><td> 850      </td></tr>\n",
       "\t<tr><td>M11D23    </td><td> 71654    </td><td>125       </td><td>156       </td><td> 81       </td><td> 4        </td><td> 86       </td><td>29        </td><td>19        </td><td>2020-11-23</td><td>247       </td><td>1169      </td></tr>\n",
       "\t<tr><td>M11D24    </td><td> 73021    </td><td>127       </td><td>157       </td><td> 82       </td><td> 7        </td><td> 83       </td><td>28        </td><td>20        </td><td>2020-11-24</td><td>248       </td><td>1367      </td></tr>\n",
       "\t<tr><td>M11D25    </td><td> 74204    </td><td>129       </td><td>159       </td><td> 83       </td><td> 9        </td><td> 81       </td><td>30        </td><td>18        </td><td>2020-11-25</td><td>249       </td><td>1183      </td></tr>\n",
       "\t<tr><td>M11D26    </td><td> 75395    </td><td>130       </td><td>160       </td><td> 84       </td><td> 5        </td><td> 78       </td><td>30        </td><td>20        </td><td>2020-11-26</td><td>250       </td><td>1191      </td></tr>\n",
       "\t<tr><td>M11D27    </td><td> 76718    </td><td>132       </td><td>161       </td><td> 85       </td><td> 9        </td><td> 82       </td><td>34        </td><td>26        </td><td>2020-11-27</td><td>251       </td><td>1323      </td></tr>\n",
       "\t<tr><td>M11D28    </td><td> 78354    </td><td>134       </td><td>162       </td><td> 86       </td><td> 7        </td><td> 80       </td><td>30        </td><td>24        </td><td>2020-11-28</td><td>252       </td><td>1636      </td></tr>\n",
       "\t<tr><td>M11D29    </td><td> 79352    </td><td>135       </td><td>163       </td><td> 87       </td><td>13        </td><td> 84       </td><td>31        </td><td>25        </td><td>2020-11-29</td><td>253       </td><td> 998      </td></tr>\n",
       "\t<tr><td>M11D30    </td><td> 80481    </td><td>136       </td><td>164       </td><td> 88       </td><td> 8        </td><td> 85       </td><td>32        </td><td>25        </td><td>2020-11-30</td><td>254       </td><td>1129      </td></tr>\n",
       "\t<tr><td>M12D01    </td><td> 81494    </td><td>138       </td><td>166       </td><td> 89       </td><td>12        </td><td> 82       </td><td>25        </td><td>21        </td><td>2020-12-01</td><td>255       </td><td>1013      </td></tr>\n",
       "\t<tr><td>M12D02    </td><td> 83535    </td><td>140       </td><td>168       </td><td> 90       </td><td> 7        </td><td> 87       </td><td>24        </td><td>24        </td><td>2020-12-02</td><td>256       </td><td>2041      </td></tr>\n",
       "\t<tr><td>M12D03    </td><td> 85140    </td><td>142       </td><td>169       </td><td> 91       </td><td>12        </td><td> 88       </td><td>25        </td><td>25        </td><td>2020-12-03</td><td>257       </td><td>1605      </td></tr>\n",
       "\t<tr><td>M12D04    </td><td> 86743    </td><td>143       </td><td>170       </td><td> 92       </td><td> 8        </td><td> 92       </td><td>28        </td><td>24        </td><td>2020-12-04</td><td>258       </td><td>1603      </td></tr>\n",
       "\t<tr><td>M12D05    </td><td> 88858    </td><td>145       </td><td>171       </td><td> 93       </td><td>12        </td><td> 90       </td><td>26        </td><td>22        </td><td>2020-12-05</td><td>259       </td><td>2115      </td></tr>\n",
       "\t<tr><td>M12D06    </td><td> 90603    </td><td>147       </td><td>172       </td><td> 94       </td><td> 9        </td><td> 93       </td><td>30        </td><td>23        </td><td>2020-12-06</td><td>260       </td><td>1745      </td></tr>\n",
       "\t<tr><td>M12D07    </td><td> 92649    </td><td>149       </td><td>173       </td><td> 95       </td><td> 7        </td><td> 96       </td><td>31        </td><td>26        </td><td>2020-12-07</td><td>261       </td><td>2046      </td></tr>\n",
       "\t<tr><td>M12D08    </td><td> 94799    </td><td>151       </td><td>174       </td><td> 96       </td><td> 8        </td><td>101       </td><td>30        </td><td>23        </td><td>2020-12-08</td><td>262       </td><td>2150      </td></tr>\n",
       "\t<tr><td>M12D09    </td><td> 97357    </td><td>152       </td><td>175       </td><td> 97       </td><td>12        </td><td> 99       </td><td>26        </td><td>23        </td><td>2020-12-09</td><td>263       </td><td>2558      </td></tr>\n",
       "\t<tr><td>M12D10    </td><td>100489    </td><td>154       </td><td>177       </td><td> 98       </td><td> 7        </td><td> 98       </td><td>28        </td><td>25        </td><td>2020-12-10</td><td>264       </td><td>3132      </td></tr>\n",
       "\t<tr><td>M12D11    </td><td>103564    </td><td>155       </td><td>178       </td><td> 99       </td><td> 8        </td><td>103       </td><td>35        </td><td>24        </td><td>2020-12-11</td><td>265       </td><td>3075      </td></tr>\n",
       "\t<tr><td>M12D12    </td><td>107116    </td><td>157       </td><td>179       </td><td>100       </td><td> 9        </td><td>105       </td><td>37        </td><td>29        </td><td>2020-12-12</td><td>266       </td><td>3552      </td></tr>\n",
       "\t<tr><td>M12D13    </td><td>109758    </td><td>159       </td><td>180       </td><td>101       </td><td>13        </td><td>108       </td><td>38        </td><td>30        </td><td>2020-12-13</td><td>267       </td><td>2642      </td></tr>\n",
       "\t<tr><td>M12D14    </td><td>113095    </td><td>160       </td><td>181       </td><td>102       </td><td> 8        </td><td>109       </td><td>40        </td><td>31        </td><td>2020-12-14</td><td>268       </td><td>3337      </td></tr>\n",
       "\t<tr><td>M12D15    </td><td>116087    </td><td>162       </td><td>182       </td><td>102       </td><td> 1        </td><td>110       </td><td>41        </td><td>32        </td><td>2020-12-15</td><td>269       </td><td>2992      </td></tr>\n",
       "</tbody>\n",
       "</table>\n"
      ],
      "text/latex": [
       "\\begin{tabular}{r|llllllllllll}\n",
       " original\\_date & total\\_cases & total\\_recovered & total\\_tested & total\\_deaths & daily\\_deaths & daily\\_hospitalized & daily\\_patients\\_icu & daily\\_patients\\_ventilators & date & day & new\\_cases\\\\\n",
       "\\hline\n",
       "\t M03D21     & 1326       &  NA        &  15        & 181        & 45         & 186        & 104        & 87         & 2020-03-21 &  0         &  71       \\\\\n",
       "\t M03D22     & 1395       &  NA        &  21        & 182        & 45         & 187        & 105        & 88         & 2020-03-22 &  1         &  69       \\\\\n",
       "\t M03D23     & 1450       &  NA        &  24        & 183        & 46         & 188        & 106        & 89         & 2020-03-23 &  2         &  55       \\\\\n",
       "\t M03D24     & 1577       &  NA        &  31        & 184        & 46         & 189        & 107        & 90         & 2020-03-24 &  3         & 127       \\\\\n",
       "\t M03D25     & 1715       &  NA        &  39        & 185        & 46         & 190        & 108        & 91         & 2020-03-25 &  4         & 138       \\\\\n",
       "\t M03D26     & 1851       &  NA        &  46        & 186        & 41         & 191        & 109        & 92         & 2020-03-26 &  5         & 136       \\\\\n",
       "\t M03D27     & 2010       &  NA        &  54        & 198        & 41         & 192        &  98        & 93         & 2020-03-27 &  6         & 159       \\\\\n",
       "\t M03D28     & 2201       &  NA        &  64        & 199        & 48         & 193        &  99        & 82         & 2020-03-28 &  7         & 191       \\\\\n",
       "\t M03D29     & 2395       &  NA        &  71        & 200        & 47         & 194        & 100        & 83         & 2020-03-29 &  8         & 194       \\\\\n",
       "\t M03D30     & 2555       &  NA        &  77        & 201        & 40         & 196        & 101        & 84         & 2020-03-30 &  9         & 160       \\\\\n",
       "\t M03D31     & 2815       &  NA        &  91        & 179        & 42         & 195        & 102        & 86         & 2020-03-31 & 10         & 260       \\\\\n",
       "\t M04D01     & 3092       &  NA        & 114        & 180        & 44         & 197        & 103        & 85         & 2020-04-01 & 11         & 277       \\\\\n",
       "\t M04D02     & 3355       & 194        & 136        & 160        & 36         & 184        &  96        & 80         & 2020-04-02 & 12         & 263       \\\\\n",
       "\t M04D03     & 3672       & 215        & 165        & 161        & 37         & 183        &  94        & 79         & 2020-04-03 & 13         & 317       \\\\\n",
       "\t M04D04     & 4077       & 225        & 187        & 162        & 33         & 182        &  93        & 78         & 2020-04-04 & 14         & 405       \\\\\n",
       "\t M04D05     & 4369       & 226        & 192        & 163        & 31         & 181        &  95        & 76         & 2020-04-05 & 15         & 292       \\\\\n",
       "\t M04D06     & 4647       & 227        & 197        & 164        & 35         & 180        &  92        & 77         & 2020-04-06 & 16         & 278       \\\\\n",
       "\t M04D07     & 4978       & 228        & 202        & 165        & 31         & 179        &  91        & 75         & 2020-04-07 & 17         & 331       \\\\\n",
       "\t M04D08     & 5386       & 229        & 210        & 166        & 33         & 178        &  91        & 75         & 2020-04-08 & 18         & 408       \\\\\n",
       "\t M04D09     & 5635       & 230        & 216        & 167        & 32         & 177        &  90        & 74         & 2020-04-09 & 19         & 249       \\\\\n",
       "\t M04D10     & 5819       & 231        & 219        & 168        & 34         & 175        &  89        & 73         & 2020-04-10 & 20         & 184       \\\\\n",
       "\t M04D11     & 5996       & 232        & 224        & 169        & 30         & 176        &  88        & 72         & 2020-04-11 & 21         & 177       \\\\\n",
       "\t M04D12     & 6174       & 233        & 226        & 170        & 30         & 174        &  87        & 70         & 2020-04-12 & 22         & 178       \\\\\n",
       "\t M04D13     & 6318       & 234        & 228        & 171        & 34         & 173        &  86        & 71         & 2020-04-13 & 23         & 144       \\\\\n",
       "\t M04D14     & 6496       & 235        & 230        & 172        & 31         & 172        &  85        & 69         & 2020-04-14 & 24         & 178       \\\\\n",
       "\t M04D15     & 6681       & 236        & 233        & 173        & 29         & 171        &  83        & 67         & 2020-04-15 & 25         & 185       \\\\\n",
       "\t M04D16     & 6879       & 237        & 237        & 174        & 31         & 170        &  84        & 64         & 2020-04-16 & 26         & 198       \\\\\n",
       "\t M04D17     & 7073       & 238        & 242        & 175        & 28         & 169        &  85        & 66         & 2020-04-17 & 27         & 194       \\\\\n",
       "\t M04D18     & 7242       & 239        & 246        & 176        & 29         & 166        &  82        & 68         & 2020-04-18 & 28         & 169       \\\\\n",
       "\t M04D19     & 7384       & 240        & 249        & 177        & 26         & 167        &  81        & 65         & 2020-04-19 & 29         & 142       \\\\\n",
       "\t ... & ... & ... & ... & ... & ... & ... & ... & ... & ... & ... & ...\\\\\n",
       "\t M11D16     &  63331     & 115        & 148        &  74        &  5         &  88        & 32         & 24         & 2020-11-16 & 240        & 1195      \\\\\n",
       "\t M11D17     &  64551     & 116        & 149        &  75        &  4         &  85        & 29         & 23         & 2020-11-17 & 241        & 1220      \\\\\n",
       "\t M11D18     &  65808     & 118        & 150        &  76        &  6         &  79        & 31         & 23         & 2020-11-18 & 242        & 1257      \\\\\n",
       "\t M11D19     &  67105     & 119        & 151        &  77        &  4         &  83        & 29         & 18         & 2020-11-19 & 243        & 1297      \\\\\n",
       "\t M11D20     &  68362     & 120        & 152        &  78        &  5         &  78        & 26         & 17         & 2020-11-20 & 244        & 1257      \\\\\n",
       "\t M11D21     &  69635     & 122        & 154        &  79        &  6         &  75        & 28         & 18         & 2020-11-21 & 245        & 1273      \\\\\n",
       "\t M11D22     &  70485     & 124        & 155        &  80        &  7         &  82        & 26         & 19         & 2020-11-22 & 246        &  850      \\\\\n",
       "\t M11D23     &  71654     & 125        & 156        &  81        &  4         &  86        & 29         & 19         & 2020-11-23 & 247        & 1169      \\\\\n",
       "\t M11D24     &  73021     & 127        & 157        &  82        &  7         &  83        & 28         & 20         & 2020-11-24 & 248        & 1367      \\\\\n",
       "\t M11D25     &  74204     & 129        & 159        &  83        &  9         &  81        & 30         & 18         & 2020-11-25 & 249        & 1183      \\\\\n",
       "\t M11D26     &  75395     & 130        & 160        &  84        &  5         &  78        & 30         & 20         & 2020-11-26 & 250        & 1191      \\\\\n",
       "\t M11D27     &  76718     & 132        & 161        &  85        &  9         &  82        & 34         & 26         & 2020-11-27 & 251        & 1323      \\\\\n",
       "\t M11D28     &  78354     & 134        & 162        &  86        &  7         &  80        & 30         & 24         & 2020-11-28 & 252        & 1636      \\\\\n",
       "\t M11D29     &  79352     & 135        & 163        &  87        & 13         &  84        & 31         & 25         & 2020-11-29 & 253        &  998      \\\\\n",
       "\t M11D30     &  80481     & 136        & 164        &  88        &  8         &  85        & 32         & 25         & 2020-11-30 & 254        & 1129      \\\\\n",
       "\t M12D01     &  81494     & 138        & 166        &  89        & 12         &  82        & 25         & 21         & 2020-12-01 & 255        & 1013      \\\\\n",
       "\t M12D02     &  83535     & 140        & 168        &  90        &  7         &  87        & 24         & 24         & 2020-12-02 & 256        & 2041      \\\\\n",
       "\t M12D03     &  85140     & 142        & 169        &  91        & 12         &  88        & 25         & 25         & 2020-12-03 & 257        & 1605      \\\\\n",
       "\t M12D04     &  86743     & 143        & 170        &  92        &  8         &  92        & 28         & 24         & 2020-12-04 & 258        & 1603      \\\\\n",
       "\t M12D05     &  88858     & 145        & 171        &  93        & 12         &  90        & 26         & 22         & 2020-12-05 & 259        & 2115      \\\\\n",
       "\t M12D06     &  90603     & 147        & 172        &  94        &  9         &  93        & 30         & 23         & 2020-12-06 & 260        & 1745      \\\\\n",
       "\t M12D07     &  92649     & 149        & 173        &  95        &  7         &  96        & 31         & 26         & 2020-12-07 & 261        & 2046      \\\\\n",
       "\t M12D08     &  94799     & 151        & 174        &  96        &  8         & 101        & 30         & 23         & 2020-12-08 & 262        & 2150      \\\\\n",
       "\t M12D09     &  97357     & 152        & 175        &  97        & 12         &  99        & 26         & 23         & 2020-12-09 & 263        & 2558      \\\\\n",
       "\t M12D10     & 100489     & 154        & 177        &  98        &  7         &  98        & 28         & 25         & 2020-12-10 & 264        & 3132      \\\\\n",
       "\t M12D11     & 103564     & 155        & 178        &  99        &  8         & 103        & 35         & 24         & 2020-12-11 & 265        & 3075      \\\\\n",
       "\t M12D12     & 107116     & 157        & 179        & 100        &  9         & 105        & 37         & 29         & 2020-12-12 & 266        & 3552      \\\\\n",
       "\t M12D13     & 109758     & 159        & 180        & 101        & 13         & 108        & 38         & 30         & 2020-12-13 & 267        & 2642      \\\\\n",
       "\t M12D14     & 113095     & 160        & 181        & 102        &  8         & 109        & 40         & 31         & 2020-12-14 & 268        & 3337      \\\\\n",
       "\t M12D15     & 116087     & 162        & 182        & 102        &  1         & 110        & 41         & 32         & 2020-12-15 & 269        & 2992      \\\\\n",
       "\\end{tabular}\n"
      ],
      "text/markdown": [
       "\n",
       "| original_date | total_cases | total_recovered | total_tested | total_deaths | daily_deaths | daily_hospitalized | daily_patients_icu | daily_patients_ventilators | date | day | new_cases |\n",
       "|---|---|---|---|---|---|---|---|---|---|---|---|\n",
       "| M03D21     | 1326       |  NA        |  15        | 181        | 45         | 186        | 104        | 87         | 2020-03-21 |  0         |  71        |\n",
       "| M03D22     | 1395       |  NA        |  21        | 182        | 45         | 187        | 105        | 88         | 2020-03-22 |  1         |  69        |\n",
       "| M03D23     | 1450       |  NA        |  24        | 183        | 46         | 188        | 106        | 89         | 2020-03-23 |  2         |  55        |\n",
       "| M03D24     | 1577       |  NA        |  31        | 184        | 46         | 189        | 107        | 90         | 2020-03-24 |  3         | 127        |\n",
       "| M03D25     | 1715       |  NA        |  39        | 185        | 46         | 190        | 108        | 91         | 2020-03-25 |  4         | 138        |\n",
       "| M03D26     | 1851       |  NA        |  46        | 186        | 41         | 191        | 109        | 92         | 2020-03-26 |  5         | 136        |\n",
       "| M03D27     | 2010       |  NA        |  54        | 198        | 41         | 192        |  98        | 93         | 2020-03-27 |  6         | 159        |\n",
       "| M03D28     | 2201       |  NA        |  64        | 199        | 48         | 193        |  99        | 82         | 2020-03-28 |  7         | 191        |\n",
       "| M03D29     | 2395       |  NA        |  71        | 200        | 47         | 194        | 100        | 83         | 2020-03-29 |  8         | 194        |\n",
       "| M03D30     | 2555       |  NA        |  77        | 201        | 40         | 196        | 101        | 84         | 2020-03-30 |  9         | 160        |\n",
       "| M03D31     | 2815       |  NA        |  91        | 179        | 42         | 195        | 102        | 86         | 2020-03-31 | 10         | 260        |\n",
       "| M04D01     | 3092       |  NA        | 114        | 180        | 44         | 197        | 103        | 85         | 2020-04-01 | 11         | 277        |\n",
       "| M04D02     | 3355       | 194        | 136        | 160        | 36         | 184        |  96        | 80         | 2020-04-02 | 12         | 263        |\n",
       "| M04D03     | 3672       | 215        | 165        | 161        | 37         | 183        |  94        | 79         | 2020-04-03 | 13         | 317        |\n",
       "| M04D04     | 4077       | 225        | 187        | 162        | 33         | 182        |  93        | 78         | 2020-04-04 | 14         | 405        |\n",
       "| M04D05     | 4369       | 226        | 192        | 163        | 31         | 181        |  95        | 76         | 2020-04-05 | 15         | 292        |\n",
       "| M04D06     | 4647       | 227        | 197        | 164        | 35         | 180        |  92        | 77         | 2020-04-06 | 16         | 278        |\n",
       "| M04D07     | 4978       | 228        | 202        | 165        | 31         | 179        |  91        | 75         | 2020-04-07 | 17         | 331        |\n",
       "| M04D08     | 5386       | 229        | 210        | 166        | 33         | 178        |  91        | 75         | 2020-04-08 | 18         | 408        |\n",
       "| M04D09     | 5635       | 230        | 216        | 167        | 32         | 177        |  90        | 74         | 2020-04-09 | 19         | 249        |\n",
       "| M04D10     | 5819       | 231        | 219        | 168        | 34         | 175        |  89        | 73         | 2020-04-10 | 20         | 184        |\n",
       "| M04D11     | 5996       | 232        | 224        | 169        | 30         | 176        |  88        | 72         | 2020-04-11 | 21         | 177        |\n",
       "| M04D12     | 6174       | 233        | 226        | 170        | 30         | 174        |  87        | 70         | 2020-04-12 | 22         | 178        |\n",
       "| M04D13     | 6318       | 234        | 228        | 171        | 34         | 173        |  86        | 71         | 2020-04-13 | 23         | 144        |\n",
       "| M04D14     | 6496       | 235        | 230        | 172        | 31         | 172        |  85        | 69         | 2020-04-14 | 24         | 178        |\n",
       "| M04D15     | 6681       | 236        | 233        | 173        | 29         | 171        |  83        | 67         | 2020-04-15 | 25         | 185        |\n",
       "| M04D16     | 6879       | 237        | 237        | 174        | 31         | 170        |  84        | 64         | 2020-04-16 | 26         | 198        |\n",
       "| M04D17     | 7073       | 238        | 242        | 175        | 28         | 169        |  85        | 66         | 2020-04-17 | 27         | 194        |\n",
       "| M04D18     | 7242       | 239        | 246        | 176        | 29         | 166        |  82        | 68         | 2020-04-18 | 28         | 169        |\n",
       "| M04D19     | 7384       | 240        | 249        | 177        | 26         | 167        |  81        | 65         | 2020-04-19 | 29         | 142        |\n",
       "| ... | ... | ... | ... | ... | ... | ... | ... | ... | ... | ... | ... |\n",
       "| M11D16     |  63331     | 115        | 148        |  74        |  5         |  88        | 32         | 24         | 2020-11-16 | 240        | 1195       |\n",
       "| M11D17     |  64551     | 116        | 149        |  75        |  4         |  85        | 29         | 23         | 2020-11-17 | 241        | 1220       |\n",
       "| M11D18     |  65808     | 118        | 150        |  76        |  6         |  79        | 31         | 23         | 2020-11-18 | 242        | 1257       |\n",
       "| M11D19     |  67105     | 119        | 151        |  77        |  4         |  83        | 29         | 18         | 2020-11-19 | 243        | 1297       |\n",
       "| M11D20     |  68362     | 120        | 152        |  78        |  5         |  78        | 26         | 17         | 2020-11-20 | 244        | 1257       |\n",
       "| M11D21     |  69635     | 122        | 154        |  79        |  6         |  75        | 28         | 18         | 2020-11-21 | 245        | 1273       |\n",
       "| M11D22     |  70485     | 124        | 155        |  80        |  7         |  82        | 26         | 19         | 2020-11-22 | 246        |  850       |\n",
       "| M11D23     |  71654     | 125        | 156        |  81        |  4         |  86        | 29         | 19         | 2020-11-23 | 247        | 1169       |\n",
       "| M11D24     |  73021     | 127        | 157        |  82        |  7         |  83        | 28         | 20         | 2020-11-24 | 248        | 1367       |\n",
       "| M11D25     |  74204     | 129        | 159        |  83        |  9         |  81        | 30         | 18         | 2020-11-25 | 249        | 1183       |\n",
       "| M11D26     |  75395     | 130        | 160        |  84        |  5         |  78        | 30         | 20         | 2020-11-26 | 250        | 1191       |\n",
       "| M11D27     |  76718     | 132        | 161        |  85        |  9         |  82        | 34         | 26         | 2020-11-27 | 251        | 1323       |\n",
       "| M11D28     |  78354     | 134        | 162        |  86        |  7         |  80        | 30         | 24         | 2020-11-28 | 252        | 1636       |\n",
       "| M11D29     |  79352     | 135        | 163        |  87        | 13         |  84        | 31         | 25         | 2020-11-29 | 253        |  998       |\n",
       "| M11D30     |  80481     | 136        | 164        |  88        |  8         |  85        | 32         | 25         | 2020-11-30 | 254        | 1129       |\n",
       "| M12D01     |  81494     | 138        | 166        |  89        | 12         |  82        | 25         | 21         | 2020-12-01 | 255        | 1013       |\n",
       "| M12D02     |  83535     | 140        | 168        |  90        |  7         |  87        | 24         | 24         | 2020-12-02 | 256        | 2041       |\n",
       "| M12D03     |  85140     | 142        | 169        |  91        | 12         |  88        | 25         | 25         | 2020-12-03 | 257        | 1605       |\n",
       "| M12D04     |  86743     | 143        | 170        |  92        |  8         |  92        | 28         | 24         | 2020-12-04 | 258        | 1603       |\n",
       "| M12D05     |  88858     | 145        | 171        |  93        | 12         |  90        | 26         | 22         | 2020-12-05 | 259        | 2115       |\n",
       "| M12D06     |  90603     | 147        | 172        |  94        |  9         |  93        | 30         | 23         | 2020-12-06 | 260        | 1745       |\n",
       "| M12D07     |  92649     | 149        | 173        |  95        |  7         |  96        | 31         | 26         | 2020-12-07 | 261        | 2046       |\n",
       "| M12D08     |  94799     | 151        | 174        |  96        |  8         | 101        | 30         | 23         | 2020-12-08 | 262        | 2150       |\n",
       "| M12D09     |  97357     | 152        | 175        |  97        | 12         |  99        | 26         | 23         | 2020-12-09 | 263        | 2558       |\n",
       "| M12D10     | 100489     | 154        | 177        |  98        |  7         |  98        | 28         | 25         | 2020-12-10 | 264        | 3132       |\n",
       "| M12D11     | 103564     | 155        | 178        |  99        |  8         | 103        | 35         | 24         | 2020-12-11 | 265        | 3075       |\n",
       "| M12D12     | 107116     | 157        | 179        | 100        |  9         | 105        | 37         | 29         | 2020-12-12 | 266        | 3552       |\n",
       "| M12D13     | 109758     | 159        | 180        | 101        | 13         | 108        | 38         | 30         | 2020-12-13 | 267        | 2642       |\n",
       "| M12D14     | 113095     | 160        | 181        | 102        |  8         | 109        | 40         | 31         | 2020-12-14 | 268        | 3337       |\n",
       "| M12D15     | 116087     | 162        | 182        | 102        |  1         | 110        | 41         | 32         | 2020-12-15 | 269        | 2992       |\n",
       "\n"
      ],
      "text/plain": [
       "    original_date total_cases total_recovered total_tested total_deaths\n",
       "1   M03D21        1326         NA              15          181         \n",
       "2   M03D22        1395         NA              21          182         \n",
       "3   M03D23        1450         NA              24          183         \n",
       "4   M03D24        1577         NA              31          184         \n",
       "5   M03D25        1715         NA              39          185         \n",
       "6   M03D26        1851         NA              46          186         \n",
       "7   M03D27        2010         NA              54          198         \n",
       "8   M03D28        2201         NA              64          199         \n",
       "9   M03D29        2395         NA              71          200         \n",
       "10  M03D30        2555         NA              77          201         \n",
       "11  M03D31        2815         NA              91          179         \n",
       "12  M04D01        3092         NA             114          180         \n",
       "13  M04D02        3355        194             136          160         \n",
       "14  M04D03        3672        215             165          161         \n",
       "15  M04D04        4077        225             187          162         \n",
       "16  M04D05        4369        226             192          163         \n",
       "17  M04D06        4647        227             197          164         \n",
       "18  M04D07        4978        228             202          165         \n",
       "19  M04D08        5386        229             210          166         \n",
       "20  M04D09        5635        230             216          167         \n",
       "21  M04D10        5819        231             219          168         \n",
       "22  M04D11        5996        232             224          169         \n",
       "23  M04D12        6174        233             226          170         \n",
       "24  M04D13        6318        234             228          171         \n",
       "25  M04D14        6496        235             230          172         \n",
       "26  M04D15        6681        236             233          173         \n",
       "27  M04D16        6879        237             237          174         \n",
       "28  M04D17        7073        238             242          175         \n",
       "29  M04D18        7242        239             246          176         \n",
       "30  M04D19        7384        240             249          177         \n",
       "... ...           ...         ...             ...          ...         \n",
       "241 M11D16         63331      115             148           74         \n",
       "242 M11D17         64551      116             149           75         \n",
       "243 M11D18         65808      118             150           76         \n",
       "244 M11D19         67105      119             151           77         \n",
       "245 M11D20         68362      120             152           78         \n",
       "246 M11D21         69635      122             154           79         \n",
       "247 M11D22         70485      124             155           80         \n",
       "248 M11D23         71654      125             156           81         \n",
       "249 M11D24         73021      127             157           82         \n",
       "250 M11D25         74204      129             159           83         \n",
       "251 M11D26         75395      130             160           84         \n",
       "252 M11D27         76718      132             161           85         \n",
       "253 M11D28         78354      134             162           86         \n",
       "254 M11D29         79352      135             163           87         \n",
       "255 M11D30         80481      136             164           88         \n",
       "256 M12D01         81494      138             166           89         \n",
       "257 M12D02         83535      140             168           90         \n",
       "258 M12D03         85140      142             169           91         \n",
       "259 M12D04         86743      143             170           92         \n",
       "260 M12D05         88858      145             171           93         \n",
       "261 M12D06         90603      147             172           94         \n",
       "262 M12D07         92649      149             173           95         \n",
       "263 M12D08         94799      151             174           96         \n",
       "264 M12D09         97357      152             175           97         \n",
       "265 M12D10        100489      154             177           98         \n",
       "266 M12D11        103564      155             178           99         \n",
       "267 M12D12        107116      157             179          100         \n",
       "268 M12D13        109758      159             180          101         \n",
       "269 M12D14        113095      160             181          102         \n",
       "270 M12D15        116087      162             182          102         \n",
       "    daily_deaths daily_hospitalized daily_patients_icu\n",
       "1   45           186                104               \n",
       "2   45           187                105               \n",
       "3   46           188                106               \n",
       "4   46           189                107               \n",
       "5   46           190                108               \n",
       "6   41           191                109               \n",
       "7   41           192                 98               \n",
       "8   48           193                 99               \n",
       "9   47           194                100               \n",
       "10  40           196                101               \n",
       "11  42           195                102               \n",
       "12  44           197                103               \n",
       "13  36           184                 96               \n",
       "14  37           183                 94               \n",
       "15  33           182                 93               \n",
       "16  31           181                 95               \n",
       "17  35           180                 92               \n",
       "18  31           179                 91               \n",
       "19  33           178                 91               \n",
       "20  32           177                 90               \n",
       "21  34           175                 89               \n",
       "22  30           176                 88               \n",
       "23  30           174                 87               \n",
       "24  34           173                 86               \n",
       "25  31           172                 85               \n",
       "26  29           171                 83               \n",
       "27  31           170                 84               \n",
       "28  28           169                 85               \n",
       "29  29           166                 82               \n",
       "30  26           167                 81               \n",
       "... ...          ...                ...               \n",
       "241  5            88                32                \n",
       "242  4            85                29                \n",
       "243  6            79                31                \n",
       "244  4            83                29                \n",
       "245  5            78                26                \n",
       "246  6            75                28                \n",
       "247  7            82                26                \n",
       "248  4            86                29                \n",
       "249  7            83                28                \n",
       "250  9            81                30                \n",
       "251  5            78                30                \n",
       "252  9            82                34                \n",
       "253  7            80                30                \n",
       "254 13            84                31                \n",
       "255  8            85                32                \n",
       "256 12            82                25                \n",
       "257  7            87                24                \n",
       "258 12            88                25                \n",
       "259  8            92                28                \n",
       "260 12            90                26                \n",
       "261  9            93                30                \n",
       "262  7            96                31                \n",
       "263  8           101                30                \n",
       "264 12            99                26                \n",
       "265  7            98                28                \n",
       "266  8           103                35                \n",
       "267  9           105                37                \n",
       "268 13           108                38                \n",
       "269  8           109                40                \n",
       "270  1           110                41                \n",
       "    daily_patients_ventilators date       day new_cases\n",
       "1   87                         2020-03-21  0   71      \n",
       "2   88                         2020-03-22  1   69      \n",
       "3   89                         2020-03-23  2   55      \n",
       "4   90                         2020-03-24  3  127      \n",
       "5   91                         2020-03-25  4  138      \n",
       "6   92                         2020-03-26  5  136      \n",
       "7   93                         2020-03-27  6  159      \n",
       "8   82                         2020-03-28  7  191      \n",
       "9   83                         2020-03-29  8  194      \n",
       "10  84                         2020-03-30  9  160      \n",
       "11  86                         2020-03-31 10  260      \n",
       "12  85                         2020-04-01 11  277      \n",
       "13  80                         2020-04-02 12  263      \n",
       "14  79                         2020-04-03 13  317      \n",
       "15  78                         2020-04-04 14  405      \n",
       "16  76                         2020-04-05 15  292      \n",
       "17  77                         2020-04-06 16  278      \n",
       "18  75                         2020-04-07 17  331      \n",
       "19  75                         2020-04-08 18  408      \n",
       "20  74                         2020-04-09 19  249      \n",
       "21  73                         2020-04-10 20  184      \n",
       "22  72                         2020-04-11 21  177      \n",
       "23  70                         2020-04-12 22  178      \n",
       "24  71                         2020-04-13 23  144      \n",
       "25  69                         2020-04-14 24  178      \n",
       "26  67                         2020-04-15 25  185      \n",
       "27  64                         2020-04-16 26  198      \n",
       "28  66                         2020-04-17 27  194      \n",
       "29  68                         2020-04-18 28  169      \n",
       "30  65                         2020-04-19 29  142      \n",
       "... ...                        ...        ... ...      \n",
       "241 24                         2020-11-16 240 1195     \n",
       "242 23                         2020-11-17 241 1220     \n",
       "243 23                         2020-11-18 242 1257     \n",
       "244 18                         2020-11-19 243 1297     \n",
       "245 17                         2020-11-20 244 1257     \n",
       "246 18                         2020-11-21 245 1273     \n",
       "247 19                         2020-11-22 246  850     \n",
       "248 19                         2020-11-23 247 1169     \n",
       "249 20                         2020-11-24 248 1367     \n",
       "250 18                         2020-11-25 249 1183     \n",
       "251 20                         2020-11-26 250 1191     \n",
       "252 26                         2020-11-27 251 1323     \n",
       "253 24                         2020-11-28 252 1636     \n",
       "254 25                         2020-11-29 253  998     \n",
       "255 25                         2020-11-30 254 1129     \n",
       "256 21                         2020-12-01 255 1013     \n",
       "257 24                         2020-12-02 256 2041     \n",
       "258 25                         2020-12-03 257 1605     \n",
       "259 24                         2020-12-04 258 1603     \n",
       "260 22                         2020-12-05 259 2115     \n",
       "261 23                         2020-12-06 260 1745     \n",
       "262 26                         2020-12-07 261 2046     \n",
       "263 23                         2020-12-08 262 2150     \n",
       "264 23                         2020-12-09 263 2558     \n",
       "265 25                         2020-12-10 264 3132     \n",
       "266 24                         2020-12-11 265 3075     \n",
       "267 29                         2020-12-12 266 3552     \n",
       "268 30                         2020-12-13 267 2642     \n",
       "269 31                         2020-12-14 268 3337     \n",
       "270 32                         2020-12-15 269 2992     "
      ]
     },
     "metadata": {},
     "output_type": "display_data"
    }
   ],
   "source": [
    "denmark_covid_data$new_cases[1]=71\n",
    "denmark_covid_data"
   ]
  },
  {
   "cell_type": "markdown",
   "metadata": {},
   "source": [
    "# Here!!!!!!!!!!!!!"
   ]
  },
  {
   "cell_type": "markdown",
   "metadata": {},
   "source": [
    "In the initial inspection, the data looks to be well prepared and organized but still not ready to be used. Based on the requirements and researchers, the transformations required is subjective. For our use case, the required transformations are listed below:\n",
    "\n",
    "- The key indicators, i.e the names describing the values, are the first cell in every row. It needs to be transposed (rotated) such that the key indicators are the first cell of every columns. In simple terms, the x-axis and y-axis needs to be reversed. \n",
    "- The timeline is denoted by the format `MxxDxx`. For flexibility and general understanding, the date needs to be transformed into the international ISO format `yyyy-mm-dd`.\n",
    "- The missing values are represented by `..`. Those should updated to either empty values or `NA` so that R can interpret it as missing value.\n",
    "- Some interesting key indicators are missing, such as the daily confirmed cases. To rectify this situation, we can simply subtract the total number of cases of a certain day minus the day before, throughout the timeline.\n",
    "- Finally, to adhere to R's naming covention, we rename each of the key indicators to follow snake case using \"_\", for example `some_key_indicator`.\n",
    "\n",
    "All of the above steps to transform the data was done in Google Sheets (Microsoft Excel alternative) with the power of mathematical functions called formulas.\n",
    "\n",
    "## write some shit to explain we didn't have to collect data manually and thank statistikbanken."
   ]
  },
  {
   "cell_type": "code",
   "execution_count": null,
   "metadata": {},
   "outputs": [],
   "source": [
    "list.files('.')"
   ]
  },
  {
   "cell_type": "code",
   "execution_count": null,
   "metadata": {},
   "outputs": [],
   "source": [
    "denmark_covid_data <- read.csv(\"covid-data-modified.csv\", encoding=\"UTF-8\")"
   ]
  },
  {
   "cell_type": "code",
   "execution_count": null,
   "metadata": {},
   "outputs": [],
   "source": [
    "tail(denmark_covid_data)"
   ]
  },
  {
   "cell_type": "markdown",
   "metadata": {},
   "source": [
    "# Make note about the importance of verifying data"
   ]
  },
  {
   "cell_type": "markdown",
   "metadata": {},
   "source": [
    "# Refactor \n",
    "\n",
    "### 3.3 Verify and update data types\n",
    "\n",
    "The next step is to check the data types of the data loaded onto R. Since we read the data from a CSV file, R does not know what type of data certain inputs are. By default, it categorises unknown or mixed data types as `Factor` as they can store both strings and integers.\n",
    "\n",
    "For example, the column (or variable) `date` should be of type `Date` but R understands it as of data type `Factor`. While this is fine and we can absolutely work with it, changing it to type of `Date` allows us to be more flexible and only show the month with the month's name, rather then the original value, such as `2020-04-20`."
   ]
  },
  {
   "cell_type": "code",
   "execution_count": null,
   "metadata": {},
   "outputs": [],
   "source": [
    "str(denmark_covid_data)"
   ]
  },
  {
   "cell_type": "code",
   "execution_count": null,
   "metadata": {},
   "outputs": [],
   "source": [
    "denmark_covid_data$date <- ymd(denmark_covid_data$date)"
   ]
  },
  {
   "cell_type": "markdown",
   "metadata": {},
   "source": [
    "## 4. Analyze the data"
   ]
  },
  {
   "cell_type": "markdown",
   "metadata": {},
   "source": [
    "Now that we have changed the data types of the input data, we can start analyzing the data and gain understanding from it. To plot the data, we use the library `tidyverse` because of its flexibility and customization abilities."
   ]
  },
  {
   "cell_type": "code",
   "execution_count": null,
   "metadata": {},
   "outputs": [],
   "source": [
    "# # Define theme configs\n",
    "\n",
    "# single_plot_theme_config <- theme_light() +\n",
    "# theme(\n",
    "#     aspect.ratio=1,                                                        # Fixing aspect ratio\n",
    "#     plot.title = element_text(hjust = 0.5),                                # Center the title\n",
    "#     )\n",
    "\n",
    "\n",
    "# multiple_grid_plot_theme_config <- theme_light() +\n",
    "# theme(\n",
    "#     plot.title = element_text(hjust = 0.5, size = 10, face=\"bold\"),      # Center the title, adjust font size and font face\n",
    "#     aspect.ratio = 1,                                                    # Fix aspect ratio\n",
    "#     legend.position=c(0.35, 0.95),                                       # Append the legend inside the plot\n",
    "#     plot.margin=unit(c(0,0,0,0.5),\"cm\"),                                 # Increase left margin so there's space between A & B\n",
    "#     axis.title = element_text(size = rel(0.8), face=\"bold\")              # Adjust the size of x & y axis title\n",
    "# )\n"
   ]
  },
  {
   "cell_type": "code",
   "execution_count": 24,
   "metadata": {},
   "outputs": [
    {
     "data": {
      "image/png": "[encoded data removed]",
      "text/plain": [
       "plot without title"
      ]
     },
     "metadata": {},
     "output_type": "display_data"
    }
   ],
   "source": [
    "# Daily cases\n",
    "# options(repr.plot.width=7, repr.plot.height=5)\n",
    "\n",
    "ggplot(denmark_covid_data, aes(x = date)) +\n",
    "\n",
    "geom_rect(aes(                                                             # Rectangular shade for emphasizing on lockdown #1\n",
    "    xmin = as.Date(\"2020-03-15\"),\n",
    "    xmax = as.Date(\"2020-04-13\"),\n",
    "    ymin = -Inf, ymax = Inf, fill = \"Lockdown period\")) +\n",
    "geom_rect(aes(                                                             # Rectangular shade for emphasizing on lockdown #2\n",
    "    xmin = as.Date(\"2020-12-08\"),\n",
    "    xmax = as.Date(\"2020-12-18\"),\n",
    "    ymin = -Inf, ymax = Inf, fill = \"Lockdown period\")) +\n",
    "geom_vline(aes(                                                            # Vertical dashed line\n",
    "    xintercept = as.Date(\"2020-10-29\"),\n",
    "    linetype = \"Break\"),\n",
    "           color = \"black\",\n",
    "           lwd = 0.7\n",
    "          ) +\n",
    "\n",
    "\n",
    "geom_line(aes(y = new_cases, color = \"dodgerblue4\"), lwd=1) +\n",
    "scale_x_date(breaks = date_breaks(\"1 months\"), date_labels = \"%b\") +       # Improving the x-axis to show all months\n",
    "\n",
    "xlab(\"\\nMonths in 2020\") +                                                 # Label for x-axis\n",
    "scale_y_continuous(\"No. of people\\n\") +                                    # Label for y-axis\n",
    "\n",
    "ggtitle(\"COVID-19: Daily cases\") +                          # Title for the plot\n",
    "scale_fill_manual(name = \"\",                                               # Legend for the rectangular shade\n",
    "                  values=\"burlywood1\",\n",
    "                  labels=c(\"Lockdown periods\")) +\n",
    "scale_color_identity(name = \"\",                                            # Legend for the line plots\n",
    "                     breaks = c(\"dodgerblue4\"),\n",
    "                     labels = c(\"Daily cases\"),\n",
    "                     guide = \"legend\") +\n",
    "scale_linetype_manual(name = \"\",                                           # Legend for the vertical dotted line\n",
    "                      values = c(\"Break\" = \"dashed\"),\n",
    "                      labels = c(\"Mask requirement\"))"
   ]
  },
  {
   "cell_type": "markdown",
   "metadata": {},
   "source": [
    "### 4.1 Deaths, hospitalized and lockdowns\n",
    "\n",
    "Starting with one of the most impactful plotting, we analyze the data for the number of deaths and hospitalized. Along with that, we also emphasize on the 2 lockdowns enforced by the state officials, the first one from March 15, 2020 to April 13, 2020 and the recent one starting from December 9, 2020 onwards."
   ]
  },
  {
   "cell_type": "code",
   "execution_count": null,
   "metadata": {},
   "outputs": [],
   "source": [
    "# options(repr.plot.width=7, repr.plot.height=4.5)\n",
    "\n",
    "hospitalized_plot <- ggplot(denmark_covid_data, aes(x = date)) +                                # Specify the data frame and x-axis for the plot\n",
    "geom_rect(aes(                                                             # Rectangular shade for emphasizing on lockdown #1\n",
    "    xmin = as.Date(\"2020-03-15\"),\n",
    "    xmax = as.Date(\"2020-04-13\"),\n",
    "    ymin = -Inf, ymax = Inf, fill = \"Lockdown period\")) +\n",
    "geom_rect(aes(                                                             # Rectangular shade for emphasizing on lockdown #2\n",
    "    xmin = as.Date(\"2020-12-08\"),\n",
    "    xmax = as.Date(\"2020-12-15\"),\n",
    "    ymin = -Inf, ymax = Inf, fill = \"Lockdown period\")) +\n",
    "\n",
    "geom_vline(aes(                                                            # Vertical dashed line\n",
    "    xintercept = as.Date(\"2020-10-29\"),\n",
    "    linetype = \"Break\"),\n",
    "           color = \"black\",\n",
    "           lwd = 0.7\n",
    "          ) +\n",
    "\n",
    "geom_line(aes(y = daily_hospitalized, color = \"blue\"), lwd = 1) +               # line plot for hospitalized\n",
    "\n",
    "scale_x_date(breaks = date_breaks(\"1 months\"), date_labels = \"%b\") +       # Improving the x-axis to show all months\n",
    "\n",
    "xlab(\"\\nMonths in 2020\") +                                                 # Label for x-axis\n",
    "scale_y_continuous(\"No. of people\") +                                    # Label for y-axis\n",
    "\n",
    "ggtitle(\"COVID-19: Hospitalization\") +                          # Title for the plot\n",
    "scale_fill_manual(name = \"\",                                               # Legend for the rectangular shade\n",
    "                  values=\"burlywood1\",\n",
    "                  labels=c(\"Lockdown periods\")) +\n",
    "scale_color_identity(name = \"\",                                            # Legend for the line plots\n",
    "                     breaks = c(\"blue\", \"red\"),\n",
    "                     labels = c(\"Hospitalized\", \"Deaths\"),\n",
    "                     ) +\n",
    "scale_linetype_manual(name = \"\",                                           # Legend for the vertical dotted line\n",
    "                      values = c(\"Break\" = \"dashed\"),\n",
    "                      labels = c(\"Mask requirement\")) \n",
    "# multiple_grid_plot_theme_config\n",
    "# theme(legend.position = c(1, 1), legend.justification = c(1, 1))\n",
    "\n",
    "deaths_plot <- ggplot(denmark_covid_data, aes(x = date)) +                                # Specify the data frame and x-axis for the plot\n",
    "geom_rect(aes(                                                             # Rectangular shade for emphasizing on lockdown #1\n",
    "    xmin = as.Date(\"2020-03-15\"),\n",
    "    xmax = as.Date(\"2020-04-13\"),\n",
    "    ymin = -Inf, ymax = Inf, fill = \"Lockdown period\")) +\n",
    "geom_rect(aes(                                                             # Rectangular shade for emphasizing on lockdown #2\n",
    "    xmin = as.Date(\"2020-12-08\"),\n",
    "    xmax = as.Date(\"2020-12-15\"),\n",
    "    ymin = -Inf, ymax = Inf, fill = \"Lockdown period\")) +\n",
    "\n",
    "geom_vline(aes(                                                            # Vertical dashed line\n",
    "    xintercept = as.Date(\"2020-10-29\"),\n",
    "    linetype = \"Break\"),\n",
    "           color = \"black\",\n",
    "           lwd = 0.7\n",
    "          ) +\n",
    "\n",
    "geom_line(aes(y = daily_deaths, color = \"red\"), lwd = 1) +                 # Line plot for deaths\n",
    "# geom_line(aes(y = daily_hospitalized, color = \"blue\"), lwd = 1) +               # line plot for hospitalized\n",
    "\n",
    "scale_x_date(breaks = date_breaks(\"1 months\"), date_labels = \"%b\") +       # Improving the x-axis to show all months\n",
    "\n",
    "xlab(\"\\nMonths in 2020\") +                                                 # Label for x-axis\n",
    "scale_y_continuous(\"No. of people\") +                                    # Label for y-axis\n",
    "\n",
    "ggtitle(\"COVID-19: Deaths\") +                          # Title for the plot\n",
    "scale_fill_manual(name = \"\",                                               # Legend for the rectangular shade\n",
    "                  values=\"burlywood1\",\n",
    "                  labels=c(\"Lockdown periods\")) +\n",
    "scale_color_identity(name = \"\",                                            # Legend for the line plots\n",
    "                     breaks = c(\"red\"),\n",
    "                     labels = c(\"Deaths\")\n",
    "                     ) +\n",
    "scale_linetype_manual(name = \"\",                                           # Legend for the vertical dotted line\n",
    "                      values = c(\"Break\" = \"dashed\"),\n",
    "                      labels = c(\"Mask requirement\"))\n",
    "# multiple_grid_plot_theme_config\n",
    "\n",
    "ggarrange(hospitalized_plot, deaths_plot, ncol=2, common.legend = TRUE, legend=\"bottom\") \n"
   ]
  },
  {
   "cell_type": "markdown",
   "metadata": {},
   "source": [
    "After the initial plotting, it is clear that there was a strong impact of COVID-19 around late March--early April. The number of people who were dying due to COVID-19, as indicated by red line, and who were hospitalized, as indicated by the blue line, increased sharply. The first, month-long lockdown was imposed during this period, as indicated by the soft-orange shade. The result of the lockdown was effective as the number of reported hospitalization started to decline and kept declining over the next few months. The number of deaths was still rising at the end of the first lockdown, but started to stabilize soon after.\n",
    "\n",
    "This was a positive indication that the imposed lockdown was effective in controlling the spread of the virus.\n",
    "\n",
    "As the restictions started to loosen up, the public started to gather in larger numbers, which was an opportunity for the virus to spread again. This is indicated by the rise on both total deaths and hospitalized starting September. To control the rapid increase, the government mandated the use of mask on all public places starting October 29, represented by the black, dashed line.\n",
    "\n",
    "Ever since, the numbers started to grow. The plot above shows a sharp incline starting November. And with the holidays starting, the government imposed second lockdown starting December 09, 2020, which is the date of conducting this experiment. This was an attempt to reduce the number of gatherings and parties, and limit them to families to control the spread of the COVID-19."
   ]
  },
  {
   "cell_type": "markdown",
   "metadata": {},
   "source": [
    "### 4.2 Total confirmed cased and total tested\n",
    "\n",
    "While the first plot was impactful, a more meaningful one would be to analyze the data between total number of people tested (plot A) and total number of confirmed cases (plot B). When visualising them individually, both of the plots A and B shows almost linear growth as the months go by. Without much context, this is very worrying and can be taken out of proportion. By when combining them and visualizing them on the same plot (plot C), it becomes much clearer that the situation is not as bad. Yes, the number of cases are increasing, but when comparing them to the number of tests done, the result has a vastly different conclusion.\n",
    "\n",
    "This is an example for understanding the importance of scope and context while conducting an analysis."
   ]
  },
  {
   "cell_type": "code",
   "execution_count": null,
   "metadata": {},
   "outputs": [],
   "source": [
    "str(denmark_covid_data)"
   ]
  },
  {
   "cell_type": "code",
   "execution_count": null,
   "metadata": {},
   "outputs": [],
   "source": [
    "##########################################################################################################################\n",
    "############ Step 1: First we create a plot \"A\" for total number of people tested and assign it to a variable ############\n",
    "##########################################################################################################################\n",
    "\n",
    "total_tested_plot <- ggplot(denmark_covid_data, aes(x = date)) +        # Specify the data frame and x-axis for the plot\n",
    "geom_line(aes(y = total_tested, color = \"red\"), lwd = 1) +               # Line plot for total number of peple tested\n",
    "scale_x_date(breaks = date_breaks(\"1 months\"), date_labels = \"%b\") +    # Improving the x-axis to show all months\n",
    "xlab(\"Months in 2020\") +                                                # Label for x-axis\n",
    "scale_y_continuous(\"No. of people tested\",                              # Label for y-axis\n",
    "                   labels = function(x) format(x, scientific = FALSE)   # Change from exponentials to human readable numbers\n",
    "                   ) +\n",
    "ggtitle(\"COVID-19: Total tested\") +                                     # Title for the plot A\n",
    "scale_color_identity(name = \"\",                                         # Legend for the line plot\n",
    "                     breaks = \"red\",\n",
    "                     labels = \"Total tested\",\n",
    "                     guide = \"legend\"\n",
    "                     )\n",
    "# multiple_grid_plot_theme_config\n",
    "\n",
    "\n",
    "##########################################################################################################################\n",
    "############Step 2: Then we create a plot \"B\" for total number of confirmed cases and assign it to a variable ###########\n",
    "##########################################################################################################################\n",
    "\n",
    "total_confirmed_cases_plot <- ggplot(denmark_covid_data, aes(x = date)) +   # Specify the data frame and x-axis for the plot\n",
    "geom_line(aes(y = total_cases, color = \"blue\"), lwd = 1) +                  # Line plot for total confirmed cases\n",
    "scale_x_date(breaks = date_breaks(\"1 months\"), date_labels = \"%b\") +        # Improving the x-axis to show all months\n",
    "xlab(\"Months in 2020\") +                                                    # Label for x-axis\n",
    "scale_y_continuous(\"No. of confirmed cases\",                                # Label for y-axis\n",
    "                   labels = function(x) format(x, scientific = FALSE)\n",
    "                   ) +\n",
    "ggtitle(\"COVID-19: Total confimed cases\") +                                 # Title for the plot\n",
    "scale_color_identity(name = \"\",                                             # Legend for the line plot\n",
    "                     breaks = \"blue\",\n",
    "                     labels = \"Total confirmed cases\",\n",
    "                     guide = \"legend\"\n",
    "                     )\n",
    "# multiple_grid_plot_theme_config\n",
    "\n",
    "\n",
    "##########################################################################################################################\n",
    "##################### Step 3: Then we create a combined plot for \"A\" & \"B\" and assign it to a variable ###################\n",
    "##########################################################################################################################\n",
    "\n",
    "combined_plot <- ggplot(denmark_covid_data, aes(x = date)) +             # Specify the data frame and x-axis for the plot\n",
    "geom_line(aes(y = total_tested, color = \"red\"), lwd = 1) +                # Line plot for total number of peple tested\n",
    "geom_line(aes(y = total_cases, color = \"blue\"), lwd = 1) +               # Line plot for total confirmed cases\n",
    "scale_x_date(breaks = date_breaks(\"1 months\"), date_labels = \"%b\") +     # Improving the x-axis to show all months\n",
    "xlab(\"Months in 2020\") +                                                 # Label for x-axis\n",
    "scale_y_continuous(\"No. of people\",                                      # Label for y-axis\n",
    "                   labels = function(x) format(x, scientific = FALSE)\n",
    "                   ) +\n",
    "ggtitle(\"COVID-19: Total tesed and total cases (A & B)\") +               # Title for the plot\n",
    "scale_color_identity(name = \"\",                                          # Legend for the line plot\n",
    "                     breaks = c(\"red\", \"blue\"),\n",
    "                     labels = c(\"Total tested\", \"Total confirmed cases\"),\n",
    "                     guide = \"legend\")\n",
    "# multiple_grid_plot_theme_config\n",
    "\n",
    "\n",
    "\n",
    "##########################################################################################################################\n",
    "####################################### Step 4: Finally make a grid of all 3 plots ######################################\n",
    "##########################################################################################################################\n",
    "# options(repr.plot.width=7, repr.plot.height=7)\n",
    "\n",
    "ggarrange(total_tested_plot, total_confirmed_cases_plot, combined_plot)\n"
   ]
  },
  {
   "cell_type": "markdown",
   "metadata": {},
   "source": [
    "-----\n",
    "\n",
    "-----"
   ]
  },
  {
   "cell_type": "markdown",
   "metadata": {},
   "source": [
    "# Ploynomial regression\n",
    "\n",
    "[Source to this shit](https://www.kaggle.com/pedrohenriquecardoso/analyzing-and-predicting-covid-19-updated-05-20)"
   ]
  },
  {
   "cell_type": "markdown",
   "metadata": {},
   "source": [
    "## Training the model"
   ]
  },
  {
   "cell_type": "code",
   "execution_count": null,
   "metadata": {},
   "outputs": [],
   "source": [
    "set.seed(2020)\n",
    "# The set.seed() function sets the starting number used to generate a sequence of random numbers – it ensures that you get the same result if you start with that same seed each time you run the same process.\n",
    "\n",
    "\n",
    "split_training_testing_data <- initial_time_split(denmark_covid_data, prop = 0.8)\n",
    "training_set <- training(split_training_testing_data)\n",
    "testing_set <- testing(split_training_testing_data)\n",
    "trade_off <- tibble(degree = double(), train_rmse = double(), test_rmse = double())\n",
    "\n",
    "for(d in 1:10){\n",
    "    polynomial_model <- lm(total_cases ~ poly(date, degree = d, raw = TRUE), training_set)\n",
    "    training_set[\"fitted\"] <- predict(poly_model, training_set)\n",
    "    testing_set[\"predicted\"] <- predict(poly_model, covidtesting_set_test)\n",
    "    trade_off <- add_row(\n",
    "        trade_off,\n",
    "        degree = d, \n",
    "        train_rmse = rmse_vec(training_set$total_cases, training_set$fitted), \n",
    "        test_rmse = rmse_vec(testing_set$total_cases, testing_set$predicted)\n",
    "    )\n",
    "}\n",
    "\n",
    "best_degree <- arrange(trade_off,test_rmse,train_rmse)$degree[1]\n",
    "best_test_rmse <- round(arrange(trade_off,test_rmse,train_rmse)$test_rmse[1],2)\n",
    "best_train_rmse <- round(arrange(trade_off,test_rmse,train_rmse)$train_rmse[1],2)\n",
    "poly_model <- lm(total_cases ~ poly(date,best_degree,raw = TRUE),training_set)\n",
    "\n",
    "print(paste(\"The best degree is: \",best_degree))\n",
    "print(\"Ordered Trade off Degree Table - Train vs Test RMSE\")\n",
    "arrange(trade_off,test_rmse,train_rmse,degree)"
   ]
  },
  {
   "cell_type": "markdown",
   "metadata": {},
   "source": [
    "-----\n",
    "\n",
    "-----"
   ]
  },
  {
   "cell_type": "markdown",
   "metadata": {},
   "source": [
    "### 4.3 Correlation\n",
    "\n",
    "Pearson correlation coefficient analyzes the realtionship between two variables, draws a line through them and determines whether the relationship is strong or weak and positive or negative. When the data is passed through the formula, the returned value is between -1 an 1, where calue closer to -1 means strong negative relationship and vice-versa.\n",
    "\n",
    "Pearson correlation coefficient is defined in statistics as the measurement of the strength of the relationship between two variables and their association with each other (**cite**). The formula for Pearson correlation coefficient is:\n",
    "\\begin{equation}\n",
    "r = \\frac{{}\\sum_{i=1}^{n} (x_i - \\overline{x})(y_i - \\overline{y})}\n",
    "{\\sqrt{\\sum_{i=1}^{n} (x_i - \\overline{x})^2(y_i - \\overline{y})^2}}\n",
    "\\end{equation}\n",
    "\n",
    "\n",
    "One of the popular arguments for increase in number of confirmed COVID-19 cases is the increase in testing. More testing results in more cases. If the testing was stopped, the number of cases would not rise. Pearson correlation coefficient is the perfect use case to confirm the validity of this argument.\n",
    "\n",
    "To determine the relationship between increasing cases and the increase in testing, we can visualize the data using a scatter plot. The dependent variable, denoted by the Y-axis, in this case will be the total number of confirmed cases and the independent variable, denoted by X-axis, will be the total number of tests conducted."
   ]
  },
  {
   "cell_type": "code",
   "execution_count": null,
   "metadata": {},
   "outputs": [],
   "source": [
    "str(denmark_covid_data)"
   ]
  },
  {
   "cell_type": "code",
   "execution_count": null,
   "metadata": {},
   "outputs": [],
   "source": [
    "ggplot(denmark_covid_data, aes(x=date, y=daily_cases)) +\n",
    "geom_point(size=2, shape=4) +\n",
    "geom_smooth(method = \"lm\") +\n",
    "# scale_x_continuous(\"\\nNo. of people tested\",                            # Label for y-axis\n",
    "#                    labels = function(x) format(x, scientific = FALSE)   # Change from exponentials to human readable numbers\n",
    "#                    ) +\n",
    "scale_y_continuous(\"No. of confirmed cases\\n\") +\n",
    "ggtitle(\"Correlation between total cases and total tested\")                          # Title for the plot\n",
    "# single_plot_theme_config\n",
    "\n",
    "\n",
    "# Calculating the Correlation Coefficient\n",
    "cor.test(denmark_covid_data$daily_cases,\n",
    "         denmark_covid_data$date, \n",
    "                    method = \"pearson\")\n"
   ]
  },
  {
   "cell_type": "markdown",
   "metadata": {},
   "source": [
    "The scatter plot confirms that the relation between the 2 variables, confirmed cases and total people tested, has a positive, strong and non-linear relationship. The relationship is positive becuase of the nature of the linear line (blue in color) slanting upwards, from left to right. Since the plots do not follow the shape or form of the liner line, the relationship's form is non-linear. Finally, the variables have a strong relationship becuase they are follow a certain curve and are in compact alignment, meaning they are not scattered all over the chart.\n",
    "\n",
    "Also, the output of Pearson Correlation Coefficient is `0.96` which illustrates the same conclusion as the scatter plot, which is calculcated just above the plot. Since `0.96` is greater than 0, the realtionship is positive and closer to the maximum possible output of 1, concluding the strong relationship."
   ]
  },
  {
   "cell_type": "markdown",
   "metadata": {},
   "source": [
    "## 5. Prediction\n",
    "\n",
    "*This is a work in progress*"
   ]
  },
  {
   "cell_type": "markdown",
   "metadata": {},
   "source": [
    "## 6. Conclusion of EDA\n",
    "*This is a work in progress*"
   ]
  },
  {
   "cell_type": "code",
   "execution_count": null,
   "metadata": {},
   "outputs": [],
   "source": [
    "prettyNum(c(1000000, 20000),big.mark=\",\",scientific=FALSE)"
   ]
  }
 ],
 "metadata": {
  "kernelspec": {
   "display_name": "R",
   "language": "R",
   "name": "ir"
  },
  "language_info": {
   "codemirror_mode": "r",
   "file_extension": ".r",
   "mimetype": "text/x-r-source",
   "name": "R",
   "pygments_lexer": "r",
   "version": "3.6.1"
  }
 },
 "nbformat": 4,
 "nbformat_minor": 4
}
