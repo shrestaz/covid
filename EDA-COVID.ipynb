{
 "cells": [
  {
   "cell_type": "code",
   "execution_count": 12,
   "metadata": {},
   "outputs": [
    {
     "data": {
      "text/html": [
       "<ol class=list-inline>\n",
       "\t<li>'Covid-19 data.csv'</li>\n",
       "\t<li>'EDA-COVID.ipynb'</li>\n",
       "</ol>\n"
      ],
      "text/latex": [
       "\\begin{enumerate*}\n",
       "\\item 'Covid-19 data.csv'\n",
       "\\item 'EDA-COVID.ipynb'\n",
       "\\end{enumerate*}\n"
      ],
      "text/markdown": [
       "1. 'Covid-19 data.csv'\n",
       "2. 'EDA-COVID.ipynb'\n",
       "\n",
       "\n"
      ],
      "text/plain": [
       "[1] \"Covid-19 data.csv\" \"EDA-COVID.ipynb\"  "
      ]
     },
     "metadata": {},
     "output_type": "display_data"
    }
   ],
   "source": [
    "list.files(\".\")"
   ]
  },
  {
   "cell_type": "code",
   "execution_count": 13,
   "metadata": {},
   "outputs": [],
   "source": [
    "AllCovidData <- read.csv(\"Covid-19 data.csv\", encoding=\"UTF-8\")"
   ]
  },
  {
   "cell_type": "code",
   "execution_count": 15,
   "metadata": {},
   "outputs": [
    {
     "data": {
      "text/html": [
       "<table>\n",
       "<thead><tr><th></th><th scope=col>Date</th><th scope=col>ConfirmedTotalCases</th><th scope=col>TotalInfections</th><th scope=col>TotalNumberPeopleTested</th><th scope=col>TotalDeaths</th><th scope=col>DeathsPerDay</th><th scope=col>AdmittedToHospital</th><th scope=col>AdmittedToICU</th><th scope=col>PatientsInRespirator</th></tr></thead>\n",
       "<tbody>\n",
       "\t<tr><th scope=row>244</th><td>M11D19 </td><td>67105  </td><td>52445  </td><td>3239806</td><td>779    </td><td>3      </td><td>255    </td><td>41     </td><td>21     </td></tr>\n",
       "\t<tr><th scope=row>245</th><td>M11D20 </td><td>68362  </td><td>53470  </td><td>3258149</td><td>783    </td><td>4      </td><td>244    </td><td>39     </td><td>20     </td></tr>\n",
       "\t<tr><th scope=row>246</th><td>M11D21 </td><td>69635  </td><td>54436  </td><td>3275193</td><td>788    </td><td>5      </td><td>237    </td><td>40     </td><td>21     </td></tr>\n",
       "\t<tr><th scope=row>247</th><td>M11D22 </td><td>70485  </td><td>55274  </td><td>3289511</td><td>794    </td><td>6      </td><td>254    </td><td>39     </td><td>22     </td></tr>\n",
       "\t<tr><th scope=row>248</th><td>M11D23 </td><td>71654  </td><td>56032  </td><td>3308512</td><td>797    </td><td>3      </td><td>261    </td><td>41     </td><td>22     </td></tr>\n",
       "\t<tr><th scope=row>249</th><td>M11D24 </td><td>73021  </td><td>57075  </td><td>3329222</td><td>797    </td><td>0      </td><td>255    </td><td>40     </td><td>23     </td></tr>\n",
       "</tbody>\n",
       "</table>\n"
      ],
      "text/latex": [
       "\\begin{tabular}{r|lllllllll}\n",
       "  & Date & ConfirmedTotalCases & TotalInfections & TotalNumberPeopleTested & TotalDeaths & DeathsPerDay & AdmittedToHospital & AdmittedToICU & PatientsInRespirator\\\\\n",
       "\\hline\n",
       "\t244 & M11D19  & 67105   & 52445   & 3239806 & 779     & 3       & 255     & 41      & 21     \\\\\n",
       "\t245 & M11D20  & 68362   & 53470   & 3258149 & 783     & 4       & 244     & 39      & 20     \\\\\n",
       "\t246 & M11D21  & 69635   & 54436   & 3275193 & 788     & 5       & 237     & 40      & 21     \\\\\n",
       "\t247 & M11D22  & 70485   & 55274   & 3289511 & 794     & 6       & 254     & 39      & 22     \\\\\n",
       "\t248 & M11D23  & 71654   & 56032   & 3308512 & 797     & 3       & 261     & 41      & 22     \\\\\n",
       "\t249 & M11D24  & 73021   & 57075   & 3329222 & 797     & 0       & 255     & 40      & 23     \\\\\n",
       "\\end{tabular}\n"
      ],
      "text/markdown": [
       "\n",
       "| <!--/--> | Date | ConfirmedTotalCases | TotalInfections | TotalNumberPeopleTested | TotalDeaths | DeathsPerDay | AdmittedToHospital | AdmittedToICU | PatientsInRespirator |\n",
       "|---|---|---|---|---|---|---|---|---|---|\n",
       "| 244 | M11D19  | 67105   | 52445   | 3239806 | 779     | 3       | 255     | 41      | 21      |\n",
       "| 245 | M11D20  | 68362   | 53470   | 3258149 | 783     | 4       | 244     | 39      | 20      |\n",
       "| 246 | M11D21  | 69635   | 54436   | 3275193 | 788     | 5       | 237     | 40      | 21      |\n",
       "| 247 | M11D22  | 70485   | 55274   | 3289511 | 794     | 6       | 254     | 39      | 22      |\n",
       "| 248 | M11D23  | 71654   | 56032   | 3308512 | 797     | 3       | 261     | 41      | 22      |\n",
       "| 249 | M11D24  | 73021   | 57075   | 3329222 | 797     | 0       | 255     | 40      | 23      |\n",
       "\n"
      ],
      "text/plain": [
       "    Date   ConfirmedTotalCases TotalInfections TotalNumberPeopleTested\n",
       "244 M11D19 67105               52445           3239806                \n",
       "245 M11D20 68362               53470           3258149                \n",
       "246 M11D21 69635               54436           3275193                \n",
       "247 M11D22 70485               55274           3289511                \n",
       "248 M11D23 71654               56032           3308512                \n",
       "249 M11D24 73021               57075           3329222                \n",
       "    TotalDeaths DeathsPerDay AdmittedToHospital AdmittedToICU\n",
       "244 779         3            255                41           \n",
       "245 783         4            244                39           \n",
       "246 788         5            237                40           \n",
       "247 794         6            254                39           \n",
       "248 797         3            261                41           \n",
       "249 797         0            255                40           \n",
       "    PatientsInRespirator\n",
       "244 21                  \n",
       "245 20                  \n",
       "246 21                  \n",
       "247 22                  \n",
       "248 22                  \n",
       "249 23                  "
      ]
     },
     "metadata": {},
     "output_type": "display_data"
    }
   ],
   "source": [
    "tail(AllCovidData)"
   ]
  },
  {
   "cell_type": "markdown",
   "metadata": {},
   "source": [
    "#### Check the data types of the loaded data\n",
    "\n",
    "Here, we check the data types of the data loaded onto R. Since we load the data from a CSV file, R does not know what type of data certain inputs are. By default, it categorises unknown data types as Factor as they can store both strings and integers."
   ]
  },
  {
   "cell_type": "code",
   "execution_count": 16,
   "metadata": {},
   "outputs": [
    {
     "name": "stdout",
     "output_type": "stream",
     "text": [
      "'data.frame':\t249 obs. of  9 variables:\n",
      " $ Date                   : Factor w/ 249 levels \"M03D21\",\"M03D22\",..: 1 2 3 4 5 6 7 8 9 10 ...\n",
      " $ ConfirmedTotalCases    : Factor w/ 233 levels \"10083\",\"10218\",..: 65 76 82 91 107 115 121 126 131 134 ...\n",
      " $ TotalInfections        : Factor w/ 221 levels \"10044\",\"10106\",..: 221 221 221 221 221 221 221 221 221 221 ...\n",
      " $ TotalNumberPeopleTested: Factor w/ 233 levels \"1001512\",\"100543\",..: 14 20 23 30 38 45 53 63 70 76 ...\n",
      " $ TotalDeaths            : int  22 25 31 37 43 55 67 76 84 95 ...\n",
      " $ DeathsPerDay           : int  3 3 6 6 6 12 12 9 8 11 ...\n",
      " $ AdmittedToHospital     : Factor w/ 148 levels \"100\",\"101\",\"102\",..: 56 64 75 87 99 106 113 117 120 128 ...\n",
      " $ AdmittedToICU          : Factor w/ 81 levels \"0\",\"1\",\"10\",\"100\",..: 51 55 58 60 75 80 7 12 15 16 ...\n",
      " $ PatientsInRespirator   : Factor w/ 69 levels \"0\",\"1\",\"10\",\"100\",..: 38 41 46 51 59 60 65 6 11 13 ...\n"
     ]
    }
   ],
   "source": [
    "str(AllCovidData)"
   ]
  },
  {
   "cell_type": "code",
   "execution_count": 17,
   "metadata": {},
   "outputs": [],
   "source": [
    "AllCovidData$Date <- as.character(AllCovidData$Date)\n",
    "AllCovidData$ConfirmedTotalCases <- as.integer(AllCovidData$ConfirmedTotalCases)\n",
    "AllCovidData$TotalInfections <- as.integer(AllCovidData$TotalInfections)\n",
    "AllCovidData$TotalNumberPeopleTested <- as.integer(AllCovidData$TotalNumberPeopleTested)\n",
    "AllCovidData$AdmittedToHospital <- as.integer(AllCovidData$AdmittedToHospital)\n",
    "AllCovidData$AdmittedToICU <- as.integer(AllCovidData$AdmittedToICU)\n",
    "AllCovidData$PatientsInRespirator <- as.integer(AllCovidData$PatientsInRespirator)"
   ]
  },
  {
   "cell_type": "code",
   "execution_count": 18,
   "metadata": {},
   "outputs": [
    {
     "name": "stdout",
     "output_type": "stream",
     "text": [
      "'data.frame':\t249 obs. of  9 variables:\n",
      " $ Date                   : chr  \"M03D21\" \"M03D22\" \"M03D23\" \"M03D24\" ...\n",
      " $ ConfirmedTotalCases    : int  65 76 82 91 107 115 121 126 131 134 ...\n",
      " $ TotalInfections        : int  221 221 221 221 221 221 221 221 221 221 ...\n",
      " $ TotalNumberPeopleTested: int  14 20 23 30 38 45 53 63 70 76 ...\n",
      " $ TotalDeaths            : int  22 25 31 37 43 55 67 76 84 95 ...\n",
      " $ DeathsPerDay           : int  3 3 6 6 6 12 12 9 8 11 ...\n",
      " $ AdmittedToHospital     : int  56 64 75 87 99 106 113 117 120 128 ...\n",
      " $ AdmittedToICU          : int  51 55 58 60 75 80 7 12 15 16 ...\n",
      " $ PatientsInRespirator   : int  38 41 46 51 59 60 65 6 11 13 ...\n"
     ]
    }
   ],
   "source": [
    "str(AllCovidData)"
   ]
  }
 ],
 "metadata": {
  "kernelspec": {
   "display_name": "R",
   "language": "R",
   "name": "ir"
  },
  "language_info": {
   "codemirror_mode": "r",
   "file_extension": ".r",
   "mimetype": "text/x-r-source",
   "name": "R",
   "pygments_lexer": "r",
   "version": "3.6.1"
  }
 },
 "nbformat": 4,
 "nbformat_minor": 4
}
