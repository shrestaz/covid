{
 "cells": [
  {
   "cell_type": "markdown",
   "metadata": {},
   "source": [
    "# Exploratory Data Analysis: COVID-19\n",
    "\n",
    "In this notebook, we perform a self expertimentation of Exploratory Data Analysis(EDA) of Denmark's COVID-19 cases."
   ]
  },
  {
   "cell_type": "markdown",
   "metadata": {},
   "source": [
    "### 1. Identify business problem\n",
    "\n",
    "The first step to Exploratory Data Analysis (EDA) is to identify the business problem. The business case revolves around the understanding of the use of data to prevent spread of COVID-19 virus in Denmark. The aim is to analyze the data and compare against the decisions made and enforced by the officials and the health experts. This EDA is not a solution to the problem but the ambition is to understand if gathering factual data aided in effective decision making by the authorities. "
   ]
  },
  {
   "cell_type": "markdown",
   "metadata": {},
   "source": [
    "### 2. Data collection\n",
    "\n",
    "The data used in this analysis is collected from [Statistibanken](https://www.statistikbanken.dk/SMIT1), which is a public database maintained, and made available by [Danmarks Statistik](https://www.dst.dk/) --- the central statistics office in Denmark under the Ministry of Economy. The data consists of official records of total people tested, infections, deaths and admission to hospital to among other key figures. The data was collected starting from March 21, 2020, which gets updated daily."
   ]
  },
  {
   "cell_type": "markdown",
   "metadata": {},
   "source": [
    "### 3. Data preparation\n",
    "\n",
    "The data from Statistikbanken is made available in multiple formats so people can choose how they want the data, for example: an Excel sheet or a plain text file. For this analaysis, we chose to use the data as a CSV (comma-separated value) file for ease of use. In the following steps, we will go through the process of tidying data and preparing it for the analysis.\n",
    "\n",
    "// _As its default form, the data could not be used out of the box as it needed some tidying up as we needed. To list out the issues of the raw data:\n",
    "a._"
   ]
  },
  {
   "cell_type": "markdown",
   "metadata": {},
   "source": [
    "#### 3.1 Load the data into R and inspect\n",
    "\n",
    "The first step is to load the raw data into R and inspect if it is workable and understandable. If not, we must proceed to transform the data. Without a clear understanding of data, the anaylsis is pointless."
   ]
  },
  {
   "cell_type": "code",
   "execution_count": 1,
   "metadata": {},
   "outputs": [
    {
     "data": {
      "text/html": [
       "<ol class=list-inline>\n",
       "\t<li>'COVID-data-raw.csv'</li>\n",
       "\t<li>'COVID-data-transformed.csv'</li>\n",
       "\t<li>'EDA-COVID.ipynb'</li>\n",
       "</ol>\n"
      ],
      "text/latex": [
       "\\begin{enumerate*}\n",
       "\\item 'COVID-data-raw.csv'\n",
       "\\item 'COVID-data-transformed.csv'\n",
       "\\item 'EDA-COVID.ipynb'\n",
       "\\end{enumerate*}\n"
      ],
      "text/markdown": [
       "1. 'COVID-data-raw.csv'\n",
       "2. 'COVID-data-transformed.csv'\n",
       "3. 'EDA-COVID.ipynb'\n",
       "\n",
       "\n"
      ],
      "text/plain": [
       "[1] \"COVID-data-raw.csv\"         \"COVID-data-transformed.csv\"\n",
       "[3] \"EDA-COVID.ipynb\"           "
      ]
     },
     "metadata": {},
     "output_type": "display_data"
    }
   ],
   "source": [
    "list.files(\".\")"
   ]
  },
  {
   "cell_type": "code",
   "execution_count": 2,
   "metadata": {},
   "outputs": [],
   "source": [
    "RawCovidData <- read.csv(\"COVID-data-raw.csv\", encoding=\"UTF-8\")"
   ]
  },
  {
   "cell_type": "code",
   "execution_count": 3,
   "metadata": {},
   "outputs": [
    {
     "data": {
      "text/html": [
       "<table>\n",
       "<thead><tr><th scope=col>X.</th><th scope=col>M03D21</th><th scope=col>M03D22</th><th scope=col>M03D23</th><th scope=col>M03D24</th><th scope=col>M03D25</th><th scope=col>M03D26</th><th scope=col>M03D27</th><th scope=col>M03D28</th><th scope=col>M03D29</th><th scope=col>...</th><th scope=col>M11D22</th><th scope=col>M11D23</th><th scope=col>M11D24</th><th scope=col>M11D25</th><th scope=col>M11D26</th><th scope=col>M11D27</th><th scope=col>M11D28</th><th scope=col>M11D29</th><th scope=col>M11D30</th><th scope=col>M12D01</th></tr></thead>\n",
       "<tbody>\n",
       "\t<tr><td>Bekræftede COVID-19 tilfælde (Total)</td><td>1326                                </td><td>1395                                </td><td>1450                                </td><td>1577                                </td><td>1715                                </td><td>1851                                </td><td>2010                                </td><td>2201                                </td><td>2395                                </td><td>...                                 </td><td>  70485                             </td><td>  71654                             </td><td>  73021                             </td><td>  74204                             </td><td>  75395                             </td><td>  76718                             </td><td>  78354                             </td><td>  79352                             </td><td>  80481                             </td><td>  81949                             </td></tr>\n",
       "\t<tr><td>Overstået COVID-19 infektion (Total)</td><td>..                                  </td><td>..                                  </td><td>..                                  </td><td>..                                  </td><td>..                                  </td><td>..                                  </td><td>..                                  </td><td>..                                  </td><td>..                                  </td><td>...                                 </td><td>  55274                             </td><td>  56032                             </td><td>  57075                             </td><td>  58148                             </td><td>  59250                             </td><td>  60312                             </td><td>  61461                             </td><td>  62514                             </td><td>  63515                             </td><td>  64757                             </td></tr>\n",
       "\t<tr><td>Antal testede for COVID-19 (Total)  </td><td>11657                               </td><td>12351                               </td><td>12843                               </td><td>13756                               </td><td>14870                               </td><td>15981                               </td><td>17275                               </td><td>18810                               </td><td>20198                               </td><td>...                                 </td><td>3289511                             </td><td>3308512                             </td><td>3329222                             </td><td>3346932                             </td><td>3364827                             </td><td>3383120                             </td><td>3404692                             </td><td>3418006                             </td><td>3432519                             </td><td>3448151                             </td></tr>\n",
       "\t<tr><td>Dødsfald med COVID-19 (Total)       </td><td>22                                  </td><td>25                                  </td><td>31                                  </td><td>37                                  </td><td>43                                  </td><td>55                                  </td><td>67                                  </td><td>76                                  </td><td>84                                  </td><td>...                                 </td><td>    795                             </td><td>    798                             </td><td>    804                             </td><td>    812                             </td><td>    816                             </td><td>    824                             </td><td>    830                             </td><td>    841                             </td><td>    846                             </td><td>    846                             </td></tr>\n",
       "\t<tr><td>Dødsfald med COVID-19 pr. dag       </td><td>3                                   </td><td>3                                   </td><td>6                                   </td><td>6                                   </td><td>6                                   </td><td>12                                  </td><td>12                                  </td><td>9                                   </td><td>8                                   </td><td>...                                 </td><td>      6                             </td><td>      3                             </td><td>      6                             </td><td>      8                             </td><td>      4                             </td><td>      8                             </td><td>      6                             </td><td>     11                             </td><td>      5                             </td><td>      0                             </td></tr>\n",
       "\t<tr><td>Indlagte på sygehusene ifm. COVID-19</td><td>206                                 </td><td>232                                 </td><td>254                                 </td><td>301                                 </td><td>350                                 </td><td>386                                 </td><td>430                                 </td><td>459                                 </td><td>499                                 </td><td>...                                 </td><td>    254                             </td><td>    261                             </td><td>    255                             </td><td>    251                             </td><td>    244                             </td><td>    254                             </td><td>    249                             </td><td>    256                             </td><td>    259                             </td><td>    254                             </td></tr>\n",
       "</tbody>\n",
       "</table>\n"
      ],
      "text/latex": [
       "\\begin{tabular}{r|lllllllllllllllllllllllllllllllllllllllllllllllllllllllllllllllllllllllllllllllllllllllllllllllllllllllllllllllllllllllllllllllllllllllllllllllllllllllllllllllllllllllllllllllllllllllllllllllllllllllllllllllllllllllllllllllllllllllllllllllllllllllllllllllll}\n",
       " X. & M03D21 & M03D22 & M03D23 & M03D24 & M03D25 & M03D26 & M03D27 & M03D28 & M03D29 & ... & M11D22 & M11D23 & M11D24 & M11D25 & M11D26 & M11D27 & M11D28 & M11D29 & M11D30 & M12D01\\\\\n",
       "\\hline\n",
       "\t Bekræftede COVID-19 tilfælde (Total) & 1326                                 & 1395                                 & 1450                                 & 1577                                 & 1715                                 & 1851                                 & 2010                                 & 2201                                 & 2395                                 & ...                                  &   70485                              &   71654                              &   73021                              &   74204                              &   75395                              &   76718                              &   78354                              &   79352                              &   80481                              &   81949                             \\\\\n",
       "\t Overstået COVID-19 infektion (Total) & ..                                   & ..                                   & ..                                   & ..                                   & ..                                   & ..                                   & ..                                   & ..                                   & ..                                   & ...                                  &   55274                              &   56032                              &   57075                              &   58148                              &   59250                              &   60312                              &   61461                              &   62514                              &   63515                              &   64757                             \\\\\n",
       "\t Antal testede for COVID-19 (Total)   & 11657                                & 12351                                & 12843                                & 13756                                & 14870                                & 15981                                & 17275                                & 18810                                & 20198                                & ...                                  & 3289511                              & 3308512                              & 3329222                              & 3346932                              & 3364827                              & 3383120                              & 3404692                              & 3418006                              & 3432519                              & 3448151                             \\\\\n",
       "\t Dødsfald med COVID-19 (Total)        & 22                                   & 25                                   & 31                                   & 37                                   & 43                                   & 55                                   & 67                                   & 76                                   & 84                                   & ...                                  &     795                              &     798                              &     804                              &     812                              &     816                              &     824                              &     830                              &     841                              &     846                              &     846                             \\\\\n",
       "\t Dødsfald med COVID-19 pr. dag        & 3                                    & 3                                    & 6                                    & 6                                    & 6                                    & 12                                   & 12                                   & 9                                    & 8                                    & ...                                  &       6                              &       3                              &       6                              &       8                              &       4                              &       8                              &       6                              &      11                              &       5                              &       0                             \\\\\n",
       "\t Indlagte på sygehusene ifm. COVID-19 & 206                                  & 232                                  & 254                                  & 301                                  & 350                                  & 386                                  & 430                                  & 459                                  & 499                                  & ...                                  &     254                              &     261                              &     255                              &     251                              &     244                              &     254                              &     249                              &     256                              &     259                              &     254                             \\\\\n",
       "\\end{tabular}\n"
      ],
      "text/markdown": [
       "\n",
       "| X. | M03D21 | M03D22 | M03D23 | M03D24 | M03D25 | M03D26 | M03D27 | M03D28 | M03D29 | ... | M11D22 | M11D23 | M11D24 | M11D25 | M11D26 | M11D27 | M11D28 | M11D29 | M11D30 | M12D01 |\n",
       "|---|---|---|---|---|---|---|---|---|---|---|---|---|---|---|---|---|---|---|---|---|\n",
       "| Bekræftede COVID-19 tilfælde (Total) | 1326                                 | 1395                                 | 1450                                 | 1577                                 | 1715                                 | 1851                                 | 2010                                 | 2201                                 | 2395                                 | ...                                  |   70485                              |   71654                              |   73021                              |   74204                              |   75395                              |   76718                              |   78354                              |   79352                              |   80481                              |   81949                              |\n",
       "| Overstået COVID-19 infektion (Total) | ..                                   | ..                                   | ..                                   | ..                                   | ..                                   | ..                                   | ..                                   | ..                                   | ..                                   | ...                                  |   55274                              |   56032                              |   57075                              |   58148                              |   59250                              |   60312                              |   61461                              |   62514                              |   63515                              |   64757                              |\n",
       "| Antal testede for COVID-19 (Total)   | 11657                                | 12351                                | 12843                                | 13756                                | 14870                                | 15981                                | 17275                                | 18810                                | 20198                                | ...                                  | 3289511                              | 3308512                              | 3329222                              | 3346932                              | 3364827                              | 3383120                              | 3404692                              | 3418006                              | 3432519                              | 3448151                              |\n",
       "| Dødsfald med COVID-19 (Total)        | 22                                   | 25                                   | 31                                   | 37                                   | 43                                   | 55                                   | 67                                   | 76                                   | 84                                   | ...                                  |     795                              |     798                              |     804                              |     812                              |     816                              |     824                              |     830                              |     841                              |     846                              |     846                              |\n",
       "| Dødsfald med COVID-19 pr. dag        | 3                                    | 3                                    | 6                                    | 6                                    | 6                                    | 12                                   | 12                                   | 9                                    | 8                                    | ...                                  |       6                              |       3                              |       6                              |       8                              |       4                              |       8                              |       6                              |      11                              |       5                              |       0                              |\n",
       "| Indlagte på sygehusene ifm. COVID-19 | 206                                  | 232                                  | 254                                  | 301                                  | 350                                  | 386                                  | 430                                  | 459                                  | 499                                  | ...                                  |     254                              |     261                              |     255                              |     251                              |     244                              |     254                              |     249                              |     256                              |     259                              |     254                              |\n",
       "\n"
      ],
      "text/plain": [
       "  X.                                   M03D21 M03D22 M03D23 M03D24 M03D25\n",
       "1 Bekræftede COVID-19 tilfælde (Total) 1326   1395   1450   1577   1715  \n",
       "2 Overstået COVID-19 infektion (Total) ..     ..     ..     ..     ..    \n",
       "3 Antal testede for COVID-19 (Total)   11657  12351  12843  13756  14870 \n",
       "4 Dødsfald med COVID-19 (Total)        22     25     31     37     43    \n",
       "5 Dødsfald med COVID-19 pr. dag        3      3      6      6      6     \n",
       "6 Indlagte på sygehusene ifm. COVID-19 206    232    254    301    350   \n",
       "  M03D26 M03D27 M03D28 M03D29 ... M11D22  M11D23  M11D24  M11D25  M11D26 \n",
       "1 1851   2010   2201   2395   ...   70485   71654   73021   74204   75395\n",
       "2 ..     ..     ..     ..     ...   55274   56032   57075   58148   59250\n",
       "3 15981  17275  18810  20198  ... 3289511 3308512 3329222 3346932 3364827\n",
       "4 55     67     76     84     ...     795     798     804     812     816\n",
       "5 12     12     9      8      ...       6       3       6       8       4\n",
       "6 386    430    459    499    ...     254     261     255     251     244\n",
       "  M11D27  M11D28  M11D29  M11D30  M12D01 \n",
       "1   76718   78354   79352   80481   81949\n",
       "2   60312   61461   62514   63515   64757\n",
       "3 3383120 3404692 3418006 3432519 3448151\n",
       "4     824     830     841     846     846\n",
       "5       8       6      11       5       0\n",
       "6     254     249     256     259     254"
      ]
     },
     "metadata": {},
     "output_type": "display_data"
    }
   ],
   "source": [
    "head(RawCovidData)"
   ]
  },
  {
   "cell_type": "markdown",
   "metadata": {},
   "source": [
    "#### 3.2 Initial inspection feedback\n",
    "\n",
    "We loaded the data into R and print the first few rows of data for inspection. Immediately, we can come to a conclusion that data transformation is needed. The number of transformation required is subjective, which could be based on the requirements,  people responsible for data analysis and target audience, among many others. As for our need, we came up with a list of transformations required: \n",
    "1. The key indicators are in Danish, should be translated to English as the target audience is global.\n",
    "2. The timeline is horizontal, should be transposed such that the timeline is vertical and the key indicators are the first values of the columns.\n",
    "3. The date is recorded as `MxxDxx`, should be transformed to ISO 8601 date format `yyyy-mm-dd` as it is the international standard.\n",
    "4. The missing values are noted as `..`, should be replaced with `NA` as that is what R understands as missing values."
   ]
  },
  {
   "cell_type": "markdown",
   "metadata": {},
   "source": [
    "#### 3.3 Data transformation\n",
    "\n",
    "After realization of the need of data transformation, we continue to do so in this step. As the dataset is not very large, we used Google Sheets (an alternative to Microsoft Excel) to transfrom the data, as it provided all the necessary tools out of the box.\n",
    "\n",
    "We proceeded to tackle the issues in the same order as listed above.\n",
    "\n",
    "Firstly, the task to translate the key indicators for Danish to English was simple enough, with the help of technology and native Danish speakers to verify.\n",
    "\n",
    "The next step was to transpose, or rotate, the data from rows to columns. This helped to adjust the timeline from being horizontal to vertical. Additionally, this step moved the key indicators to be inital values of the columns, just as we needed it to be.\n",
    "\n",
    "The third step was tedious for manual transformation. The goal was to transform data from `M03D21` to `2020-03-21`. Since the original value was fairly organised, i.e. \"`M`(month index)`D`(date index)\", we could harness the power of formulas to transform the data. To do so was a 2-step process. Replacing `M` with `2020-` and replacing `D` with `-` in 2 separate columns with the `=REPLACE(text, position, length, new_text)` function.\n",
    "\n",
    "The final step was to `Find and Replace` the data `..` to `NA`.\n",
    "\n",
    "The file `COVID-data-transformed.csv` steps was the output of this data transformation."
   ]
  },
  {
   "cell_type": "code",
   "execution_count": 4,
   "metadata": {},
   "outputs": [
    {
     "data": {
      "text/html": [
       "<ol class=list-inline>\n",
       "\t<li>'COVID-data-raw.csv'</li>\n",
       "\t<li>'COVID-data-transformed.csv'</li>\n",
       "\t<li>'EDA-COVID.ipynb'</li>\n",
       "</ol>\n"
      ],
      "text/latex": [
       "\\begin{enumerate*}\n",
       "\\item 'COVID-data-raw.csv'\n",
       "\\item 'COVID-data-transformed.csv'\n",
       "\\item 'EDA-COVID.ipynb'\n",
       "\\end{enumerate*}\n"
      ],
      "text/markdown": [
       "1. 'COVID-data-raw.csv'\n",
       "2. 'COVID-data-transformed.csv'\n",
       "3. 'EDA-COVID.ipynb'\n",
       "\n",
       "\n"
      ],
      "text/plain": [
       "[1] \"COVID-data-raw.csv\"         \"COVID-data-transformed.csv\"\n",
       "[3] \"EDA-COVID.ipynb\"           "
      ]
     },
     "metadata": {},
     "output_type": "display_data"
    }
   ],
   "source": [
    "list.files(\".\")"
   ]
  },
  {
   "cell_type": "code",
   "execution_count": 5,
   "metadata": {},
   "outputs": [],
   "source": [
    "TransformedCovidData <- read.csv(\"COVID-data-transformed.csv\", encoding=\"UTF-8\")"
   ]
  },
  {
   "cell_type": "code",
   "execution_count": 6,
   "metadata": {},
   "outputs": [
    {
     "data": {
      "text/html": [
       "<table>\n",
       "<thead><tr><th scope=col>OriginalDate</th><th scope=col>ModDateAddYear</th><th scope=col>ISODate</th><th scope=col>ConfirmedTotalCases</th><th scope=col>TotalInfections</th><th scope=col>TotalNumberPeopleTested</th><th scope=col>TotalDeaths</th><th scope=col>DeathsPerDay</th><th scope=col>AdmittedToHospital</th><th scope=col>AdmittedToICU</th><th scope=col>PatientsInRespirator</th></tr></thead>\n",
       "<tbody>\n",
       "\t<tr><td>M03D21    </td><td>2020-03D21</td><td>2020-03-21</td><td>1326      </td><td>NA        </td><td>11657     </td><td>22        </td><td> 3        </td><td>206       </td><td>42        </td><td>35        </td></tr>\n",
       "\t<tr><td>M03D22    </td><td>2020-03D22</td><td>2020-03-22</td><td>1395      </td><td>NA        </td><td>12351     </td><td>25        </td><td> 3        </td><td>232       </td><td>46        </td><td>40        </td></tr>\n",
       "\t<tr><td>M03D23    </td><td>2020-03D23</td><td>2020-03-23</td><td>1450      </td><td>NA        </td><td>12843     </td><td>31        </td><td> 6        </td><td>254       </td><td>55        </td><td>47        </td></tr>\n",
       "\t<tr><td>M03D24    </td><td>2020-03D24</td><td>2020-03-24</td><td>1577      </td><td>NA        </td><td>13756     </td><td>37        </td><td> 6        </td><td>301       </td><td>59        </td><td>58        </td></tr>\n",
       "\t<tr><td>M03D25    </td><td>2020-03D25</td><td>2020-03-25</td><td>1715      </td><td>NA        </td><td>14870     </td><td>43        </td><td> 6        </td><td>350       </td><td>87        </td><td>76        </td></tr>\n",
       "\t<tr><td>M03D26    </td><td>2020-03D26</td><td>2020-03-26</td><td>1851      </td><td>NA        </td><td>15981     </td><td>55        </td><td>12        </td><td>386       </td><td>94        </td><td>78        </td></tr>\n",
       "</tbody>\n",
       "</table>\n"
      ],
      "text/latex": [
       "\\begin{tabular}{r|lllllllllll}\n",
       " OriginalDate & ModDateAddYear & ISODate & ConfirmedTotalCases & TotalInfections & TotalNumberPeopleTested & TotalDeaths & DeathsPerDay & AdmittedToHospital & AdmittedToICU & PatientsInRespirator\\\\\n",
       "\\hline\n",
       "\t M03D21     & 2020-03D21 & 2020-03-21 & 1326       & NA         & 11657      & 22         &  3         & 206        & 42         & 35        \\\\\n",
       "\t M03D22     & 2020-03D22 & 2020-03-22 & 1395       & NA         & 12351      & 25         &  3         & 232        & 46         & 40        \\\\\n",
       "\t M03D23     & 2020-03D23 & 2020-03-23 & 1450       & NA         & 12843      & 31         &  6         & 254        & 55         & 47        \\\\\n",
       "\t M03D24     & 2020-03D24 & 2020-03-24 & 1577       & NA         & 13756      & 37         &  6         & 301        & 59         & 58        \\\\\n",
       "\t M03D25     & 2020-03D25 & 2020-03-25 & 1715       & NA         & 14870      & 43         &  6         & 350        & 87         & 76        \\\\\n",
       "\t M03D26     & 2020-03D26 & 2020-03-26 & 1851       & NA         & 15981      & 55         & 12         & 386        & 94         & 78        \\\\\n",
       "\\end{tabular}\n"
      ],
      "text/markdown": [
       "\n",
       "| OriginalDate | ModDateAddYear | ISODate | ConfirmedTotalCases | TotalInfections | TotalNumberPeopleTested | TotalDeaths | DeathsPerDay | AdmittedToHospital | AdmittedToICU | PatientsInRespirator |\n",
       "|---|---|---|---|---|---|---|---|---|---|---|\n",
       "| M03D21     | 2020-03D21 | 2020-03-21 | 1326       | NA         | 11657      | 22         |  3         | 206        | 42         | 35         |\n",
       "| M03D22     | 2020-03D22 | 2020-03-22 | 1395       | NA         | 12351      | 25         |  3         | 232        | 46         | 40         |\n",
       "| M03D23     | 2020-03D23 | 2020-03-23 | 1450       | NA         | 12843      | 31         |  6         | 254        | 55         | 47         |\n",
       "| M03D24     | 2020-03D24 | 2020-03-24 | 1577       | NA         | 13756      | 37         |  6         | 301        | 59         | 58         |\n",
       "| M03D25     | 2020-03D25 | 2020-03-25 | 1715       | NA         | 14870      | 43         |  6         | 350        | 87         | 76         |\n",
       "| M03D26     | 2020-03D26 | 2020-03-26 | 1851       | NA         | 15981      | 55         | 12         | 386        | 94         | 78         |\n",
       "\n"
      ],
      "text/plain": [
       "  OriginalDate ModDateAddYear ISODate    ConfirmedTotalCases TotalInfections\n",
       "1 M03D21       2020-03D21     2020-03-21 1326                NA             \n",
       "2 M03D22       2020-03D22     2020-03-22 1395                NA             \n",
       "3 M03D23       2020-03D23     2020-03-23 1450                NA             \n",
       "4 M03D24       2020-03D24     2020-03-24 1577                NA             \n",
       "5 M03D25       2020-03D25     2020-03-25 1715                NA             \n",
       "6 M03D26       2020-03D26     2020-03-26 1851                NA             \n",
       "  TotalNumberPeopleTested TotalDeaths DeathsPerDay AdmittedToHospital\n",
       "1 11657                   22           3           206               \n",
       "2 12351                   25           3           232               \n",
       "3 12843                   31           6           254               \n",
       "4 13756                   37           6           301               \n",
       "5 14870                   43           6           350               \n",
       "6 15981                   55          12           386               \n",
       "  AdmittedToICU PatientsInRespirator\n",
       "1 42            35                  \n",
       "2 46            40                  \n",
       "3 55            47                  \n",
       "4 59            58                  \n",
       "5 87            76                  \n",
       "6 94            78                  "
      ]
     },
     "metadata": {},
     "output_type": "display_data"
    }
   ],
   "source": [
    "head(TransformedCovidData)"
   ]
  },
  {
   "cell_type": "markdown",
   "metadata": {},
   "source": [
    "#### 3.4 Verify and update data types\n",
    "\n",
    "Here, we check the data types of the data loaded onto R. Since we load the data from a CSV file, R does not know what type of data certain inputs are. By default, it categorises unknown data types as `Factor` as they can store both strings and integers.\n",
    "After inspecting the data types as understood by R, we need to update them, as necessary, to characters, date and integers."
   ]
  },
  {
   "cell_type": "code",
   "execution_count": 7,
   "metadata": {},
   "outputs": [
    {
     "name": "stdout",
     "output_type": "stream",
     "text": [
      "'data.frame':\t249 obs. of  11 variables:\n",
      " $ OriginalDate           : Factor w/ 249 levels \"M03D21\",\"M03D22\",..: 1 2 3 4 5 6 7 8 9 10 ...\n",
      " $ ModDateAddYear         : Factor w/ 249 levels \"2020-03D21\",\"2020-03D22\",..: 1 2 3 4 5 6 7 8 9 10 ...\n",
      " $ ISODate                : Factor w/ 249 levels \"2020-03-21\",\"2020-03-22\",..: 1 2 3 4 5 6 7 8 9 10 ...\n",
      " $ ConfirmedTotalCases    : int  1326 1395 1450 1577 1715 1851 2010 2201 2395 2555 ...\n",
      " $ TotalInfections        : int  NA NA NA NA NA NA NA NA NA NA ...\n",
      " $ TotalNumberPeopleTested: int  11657 12351 12843 13756 14870 15981 17275 18810 20198 21378 ...\n",
      " $ TotalDeaths            : int  22 25 31 37 43 55 67 76 84 95 ...\n",
      " $ DeathsPerDay           : int  3 3 6 6 6 12 12 9 8 11 ...\n",
      " $ AdmittedToHospital     : int  206 232 254 301 350 386 430 459 499 533 ...\n",
      " $ AdmittedToICU          : int  42 46 55 59 87 94 109 121 131 137 ...\n",
      " $ PatientsInRespirator   : int  35 40 47 58 76 78 89 104 113 119 ...\n"
     ]
    }
   ],
   "source": [
    "str(TransformedCovidData)"
   ]
  },
  {
   "cell_type": "code",
   "execution_count": 8,
   "metadata": {},
   "outputs": [
    {
     "name": "stderr",
     "output_type": "stream",
     "text": [
      "\n",
      "Attaching package: 'lubridate'\n",
      "\n",
      "The following object is masked from 'package:base':\n",
      "\n",
      "    date\n",
      "\n"
     ]
    }
   ],
   "source": [
    "library(lubridate) # library to help work with dates\n",
    "\n",
    "TransformedCovidData$OriginalDate <- as.character(TransformedCovidData$OriginalDate)\n",
    "TransformedCovidData$ModDateAddYear <- as.character(TransformedCovidData$ModDateAddYear)\n",
    "TransformedCovidData$ISODate <- ymd(TransformedCovidData$ISODate)"
   ]
  },
  {
   "cell_type": "code",
   "execution_count": 9,
   "metadata": {},
   "outputs": [
    {
     "name": "stdout",
     "output_type": "stream",
     "text": [
      "'data.frame':\t249 obs. of  11 variables:\n",
      " $ OriginalDate           : chr  \"M03D21\" \"M03D22\" \"M03D23\" \"M03D24\" ...\n",
      " $ ModDateAddYear         : chr  \"2020-03D21\" \"2020-03D22\" \"2020-03D23\" \"2020-03D24\" ...\n",
      " $ ISODate                : Date, format: \"2020-03-21\" \"2020-03-22\" ...\n",
      " $ ConfirmedTotalCases    : int  1326 1395 1450 1577 1715 1851 2010 2201 2395 2555 ...\n",
      " $ TotalInfections        : int  NA NA NA NA NA NA NA NA NA NA ...\n",
      " $ TotalNumberPeopleTested: int  11657 12351 12843 13756 14870 15981 17275 18810 20198 21378 ...\n",
      " $ TotalDeaths            : int  22 25 31 37 43 55 67 76 84 95 ...\n",
      " $ DeathsPerDay           : int  3 3 6 6 6 12 12 9 8 11 ...\n",
      " $ AdmittedToHospital     : int  206 232 254 301 350 386 430 459 499 533 ...\n",
      " $ AdmittedToICU          : int  42 46 55 59 87 94 109 121 131 137 ...\n",
      " $ PatientsInRespirator   : int  35 40 47 58 76 78 89 104 113 119 ...\n"
     ]
    }
   ],
   "source": [
    "str(TransformedCovidData)"
   ]
  },
  {
   "cell_type": "markdown",
   "metadata": {},
   "source": [
    "### 4. Map data on graph"
   ]
  },
  {
   "cell_type": "code",
   "execution_count": 15,
   "metadata": {},
   "outputs": [
    {
     "data": {
      "image/png": "[encoded data removed]",
      "text/plain": [
       "plot without title"
      ]
     },
     "metadata": {},
     "output_type": "display_data"
    }
   ],
   "source": [
    "plot(TransformedCovidData$ISODate, TransformedCovidData$ConfirmedTotalCases, type = \"l\", col=\"pink\", xlab = \"Timeline\", ylab = \"yolo\")                                 # Draw first line\n",
    "lines(TransformedCovidData$ISODate, TransformedCovidData$TotalNumberPeopleTested, type = \"l\", col = \"red\")                   # Add second line\n",
    "lines(TransformedCovidData$ISODate, TransformedCovidData$DeathsPerDay, type = \"l\", col = \"green\") "
   ]
  }
 ],
 "metadata": {
  "kernelspec": {
   "display_name": "R",
   "language": "R",
   "name": "ir"
  },
  "language_info": {
   "codemirror_mode": "r",
   "file_extension": ".r",
   "mimetype": "text/x-r-source",
   "name": "R",
   "pygments_lexer": "r",
   "version": "3.6.1"
  }
 },
 "nbformat": 4,
 "nbformat_minor": 4
}
