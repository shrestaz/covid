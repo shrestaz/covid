{
 "cells": [
  {
   "cell_type": "code",
   "execution_count": 45,
   "metadata": {
    "scrolled": true
   },
   "outputs": [
    {
     "name": "stderr",
     "output_type": "stream",
     "text": [
      "Warning message:\n",
      "\"package 'scales' is in use and will not be installed\"Warning message:\n",
      "\"package 'tidyverse' is in use and will not be installed\"Warning message:\n",
      "\"package 'cowplot' is in use and will not be installed\""
     ]
    }
   ],
   "source": [
    "# Installing and importing the required packages\n",
    "\n",
    "library(lubridate) # library to help work with dates\n",
    "install.packages(\"scales\") # Scale Functions for Visualization\n",
    "library(scales)\n",
    "\n",
    "install.packages(\"tidyverse\") # Collection of packages to model, transform, and visualize data\n",
    "library(tidyverse) # for declaratively creating graphics\n",
    "library(dplyr)\n",
    "\n",
    "install.packages(\"cowplot\")\n",
    "library(cowplot) # Arrange 2 plots side-by-side https://stackoverflow.com/a/31223588/9332260"
   ]
  },
  {
   "cell_type": "markdown",
   "metadata": {},
   "source": [
    "# Exploratory Data Analysis: COVID-19\n",
    "\n",
    "In this notebook, we perform a self expertimentation of Exploratory Data Analysis(EDA) of Denmark's COVID-19 cases."
   ]
  },
  {
   "cell_type": "markdown",
   "metadata": {},
   "source": [
    "## 1. Identify business problem\n",
    "\n",
    "The first step to Exploratory Data Analysis (EDA) is to identify the business problem. The business case revolves around the understanding of the situation and the use of data to prevent spread of COVID-19 virus in Denmark. The aim is to analyze the data and compare against the decisions made and enforced by the officials and the health experts, primarily the two lockdowns from March and Decemberof 2020. This EDA is not a solution to the problem but the ambition is to understand if gathering factual data aided in effective decision making by the authorities. "
   ]
  },
  {
   "cell_type": "markdown",
   "metadata": {},
   "source": [
    "## 2. Data collection\n",
    "\n",
    "The dataset used for this analysis can be found at [Our World in Data](https://ourworldindata.org/coronavirus/country/denmark?country=~DNK), which is a scientific online publication focusing on global problems. Its research team is based at the University of Oxford, whose work are based on global community of scholars (**cite: About us**). They claim to have the data for COVID-19 used in this analysis updated daily and have made it available to use freely. They also cite the source of raw data for COVID-19 Data Repository to be the Center for Systems Science and Engineering (CSSE) at Johns Hopkins University. (**cite**)."
   ]
  },
  {
   "cell_type": "markdown",
   "metadata": {},
   "source": [
    "# Refactor\n",
    "~## 3. Data preparation~\n",
    "\n",
    "~The data from Statistikbanken is made available in multiple formats so people can choose how they want the data, for example: an Excel sheet or a plain text file. For this analaysis, we chose to use the data as a CSV (comma-separated value) file for ease of use. In the following steps, we will go through the process of tidying data and preparing it for the analysis.~\n"
   ]
  },
  {
   "cell_type": "markdown",
   "metadata": {},
   "source": [
    "### 3.1 Load the data into R and inspect\n",
    "\n",
    "The first step is to load the raw data into R and inspect if it is workable and understandable. If not, we must proceed to transform the data. Without a clear understanding of data, the anaylsis is pointless."
   ]
  },
  {
   "cell_type": "code",
   "execution_count": 66,
   "metadata": {},
   "outputs": [
    {
     "data": {
      "text/html": [
       "<ol class=list-inline>\n",
       "\t<li>'EDA-COVID.ipynb'</li>\n",
       "\t<li>'world_covid_data.csv'</li>\n",
       "</ol>\n"
      ],
      "text/latex": [
       "\\begin{enumerate*}\n",
       "\\item 'EDA-COVID.ipynb'\n",
       "\\item 'world\\_covid\\_data.csv'\n",
       "\\end{enumerate*}\n"
      ],
      "text/markdown": [
       "1. 'EDA-COVID.ipynb'\n",
       "2. 'world_covid_data.csv'\n",
       "\n",
       "\n"
      ],
      "text/plain": [
       "[1] \"EDA-COVID.ipynb\"      \"world_covid_data.csv\""
      ]
     },
     "metadata": {},
     "output_type": "display_data"
    }
   ],
   "source": [
    "list.files(\".\")"
   ]
  },
  {
   "cell_type": "code",
   "execution_count": 67,
   "metadata": {},
   "outputs": [],
   "source": [
    "# Create a dataframe by reading the file containing the dataset\n",
    "\n",
    "world_covid_data <- read.csv(\"world_covid_data.csv\", encoding=\"UTF-8\")"
   ]
  },
  {
   "cell_type": "code",
   "execution_count": 68,
   "metadata": {},
   "outputs": [
    {
     "data": {
      "text/html": [
       "TRUE"
      ],
      "text/latex": [
       "TRUE"
      ],
      "text/markdown": [
       "TRUE"
      ],
      "text/plain": [
       "[1] TRUE"
      ]
     },
     "metadata": {},
     "output_type": "display_data"
    },
    {
     "data": {
      "text/html": [
       "FALSE"
      ],
      "text/latex": [
       "FALSE"
      ],
      "text/markdown": [
       "FALSE"
      ],
      "text/plain": [
       "[1] FALSE"
      ]
     },
     "metadata": {},
     "output_type": "display_data"
    }
   ],
   "source": [
    "# Check if the data for the country we're interested in (Denmark), exists\n",
    "\n",
    "\"Denmark\" %in% world_covid_data$location\n",
    "\"Wakanda\" %in% world_covid_data$location # Failing test for sanity check"
   ]
  },
  {
   "cell_type": "code",
   "execution_count": 69,
   "metadata": {},
   "outputs": [],
   "source": [
    "# use dplyr library to filter data where location is Denmark\n",
    "\n",
    "denmark_covid_data <- filter(world_covid_data, location == \"Denmark\")"
   ]
  },
  {
   "cell_type": "markdown",
   "metadata": {},
   "source": [
    "### 3.2 Initial inspection feedback\n",
    "\n",
    "We loaded the data into R and print the first few rows of data for inspection. Immediately, we can come to a conclusion that data transformation is needed. The number of transformation required is subjective, which could be based on the requirements,  people responsible for data analysis and target audience, among many others. As for our need, we came up with a list of transformations required: \n",
    "1. The key indicators are in Danish, should be translated to English as the target audience is global.\n",
    "2. The timeline is horizontal, should be transposed such that the timeline is vertical and the key indicators are the first values of the columns.\n",
    "3. The date is recorded as `MxxDxx`, should be transformed to ISO 8601 date format `yyyy-mm-dd` as it is the international standard.\n",
    "4. The missing values are noted as `..`, should be replaced with `NA` as that is what R understands as missing values."
   ]
  },
  {
   "cell_type": "markdown",
   "metadata": {},
   "source": [
    "### 3.3 Data transformation\n",
    "\n",
    "After realization of the need of data transformation, we continue to do so in this step. As the dataset is not very large, we used Google Sheets (an alternative to Microsoft Excel) to transfrom the data, as it provided all the necessary tools out of the box.\n",
    "\n",
    "We proceeded to tackle the issues in the same order as listed above.\n",
    "\n",
    "Firstly, the task to translate the key indicators for Danish to English was simple enough, with the help of technology and native Danish speakers to verify.\n",
    "\n",
    "The next step was to transpose, or rotate, the data from rows to columns. This helped to adjust the timeline from being horizontal to vertical. Additionally, this step moved the key indicators to be inital values of the columns, just as we needed it to be.\n",
    "\n",
    "The third step was tedious for manual transformation. The goal was to transform data from `M03D21` to `2020-03-21`. Since the original value was fairly organised, i.e. \"`M`(month index)`D`(date index)\", we could harness the power of formulas to transform the data. To do so was a 2-step process. Replacing `M` with `2020-` and replacing `D` with `-` in 2 separate columns with the `=REPLACE(text, position, length, new_text)` function.\n",
    "\n",
    "The final step was to `Find and Replace` the data `..` to `NA`.\n",
    "\n",
    "The file `COVID-data-transformed.csv` steps was the output of this data transformation."
   ]
  },
  {
   "cell_type": "code",
   "execution_count": 70,
   "metadata": {},
   "outputs": [
    {
     "data": {
      "text/html": [
       "<ol class=list-inline>\n",
       "\t<li>'EDA-COVID.ipynb'</li>\n",
       "\t<li>'world_covid_data.csv'</li>\n",
       "</ol>\n"
      ],
      "text/latex": [
       "\\begin{enumerate*}\n",
       "\\item 'EDA-COVID.ipynb'\n",
       "\\item 'world\\_covid\\_data.csv'\n",
       "\\end{enumerate*}\n"
      ],
      "text/markdown": [
       "1. 'EDA-COVID.ipynb'\n",
       "2. 'world_covid_data.csv'\n",
       "\n",
       "\n"
      ],
      "text/plain": [
       "[1] \"EDA-COVID.ipynb\"      \"world_covid_data.csv\""
      ]
     },
     "metadata": {},
     "output_type": "display_data"
    }
   ],
   "source": [
    "list.files(\".\")"
   ]
  },
  {
   "cell_type": "markdown",
   "metadata": {},
   "source": [
    "### 3.4 Verify and update data types\n",
    "\n",
    "Here, we check the data types of the data loaded onto R. Since we load the data from a CSV file, R does not know what type of data certain inputs are. By default, it categorises unknown data types as `Factor` as they can store both strings and integers.\n",
    "After inspecting the data types as understood by R, we need to update them, as necessary, to characters, date and integers."
   ]
  },
  {
   "cell_type": "code",
   "execution_count": 71,
   "metadata": {},
   "outputs": [
    {
     "name": "stdout",
     "output_type": "stream",
     "text": [
      "'data.frame':\t323 obs. of  50 variables:\n",
      " $ iso_code                          : Factor w/ 192 levels \"\",\"AFG\",\"AGO\",..: 49 49 49 49 49 49 49 49 49 49 ...\n",
      " $ continent                         : Factor w/ 7 levels \"\",\"Africa\",\"Asia\",..: 4 4 4 4 4 4 4 4 4 4 ...\n",
      " $ location                          : Factor w/ 192 levels \"Afghanistan\",..: 47 47 47 47 47 47 47 47 47 47 ...\n",
      " $ date                              : Factor w/ 345 levels \"2020-01-01\",\"2020-01-02\",..: 23 24 25 26 27 28 29 30 31 32 ...\n",
      " $ total_cases                       : num  NA NA NA NA NA NA NA NA NA NA ...\n",
      " $ new_cases                         : num  0 0 0 0 0 0 0 0 0 0 ...\n",
      " $ new_cases_smoothed                : num  NA NA NA NA NA 0 0 0 0 0 ...\n",
      " $ total_deaths                      : num  NA NA NA NA NA NA NA NA NA NA ...\n",
      " $ new_deaths                        : num  0 0 0 0 0 0 0 0 0 0 ...\n",
      " $ new_deaths_smoothed               : num  NA NA NA NA NA 0 0 0 0 0 ...\n",
      " $ total_cases_per_million           : num  NA NA NA NA NA NA NA NA NA NA ...\n",
      " $ new_cases_per_million             : num  0 0 0 0 0 0 0 0 0 0 ...\n",
      " $ new_cases_smoothed_per_million    : num  NA NA NA NA NA 0 0 0 0 0 ...\n",
      " $ total_deaths_per_million          : num  NA NA NA NA NA NA NA NA NA NA ...\n",
      " $ new_deaths_per_million            : num  0 0 0 0 0 0 0 0 0 0 ...\n",
      " $ new_deaths_smoothed_per_million   : num  NA NA NA NA NA 0 0 0 0 0 ...\n",
      " $ reproduction_rate                 : num  NA NA NA NA NA NA NA NA NA NA ...\n",
      " $ icu_patients                      : num  NA NA NA NA NA NA NA NA NA NA ...\n",
      " $ icu_patients_per_million          : num  NA NA NA NA NA NA NA NA NA NA ...\n",
      " $ hosp_patients                     : num  NA NA NA NA NA NA NA NA NA NA ...\n",
      " $ hosp_patients_per_million         : num  NA NA NA NA NA NA NA NA NA NA ...\n",
      " $ weekly_icu_admissions             : num  NA NA NA NA NA NA NA NA NA NA ...\n",
      " $ weekly_icu_admissions_per_million : num  NA NA NA NA NA NA NA NA NA NA ...\n",
      " $ weekly_hosp_admissions            : num  NA NA NA NA NA NA NA NA NA NA ...\n",
      " $ weekly_hosp_admissions_per_million: num  NA NA NA NA NA NA NA NA NA NA ...\n",
      " $ new_tests                         : num  NA NA NA NA 1 NA 1 NA NA NA ...\n",
      " $ total_tests                       : num  NA NA NA NA 1 NA 2 NA NA NA ...\n",
      " $ total_tests_per_thousand          : num  NA NA NA NA 0 NA 0 NA NA NA ...\n",
      " $ new_tests_per_thousand            : num  NA NA NA NA 0 NA 0 NA NA NA ...\n",
      " $ new_tests_smoothed                : num  NA NA NA NA NA NA NA NA NA NA ...\n",
      " $ new_tests_smoothed_per_thousand   : num  NA NA NA NA NA NA NA NA NA NA ...\n",
      " $ positive_rate                     : num  NA NA NA NA NA NA NA NA NA NA ...\n",
      " $ tests_per_case                    : num  NA NA NA NA NA NA NA NA NA NA ...\n",
      " $ tests_units                       : Factor w/ 5 levels \"\",\"people tested\",..: 1 1 1 1 4 4 4 4 4 4 ...\n",
      " $ stringency_index                  : num  0 0 0 0 0 0 0 0 0 0 ...\n",
      " $ population                        : num  5792203 5792203 5792203 5792203 5792203 ...\n",
      " $ population_density                : num  137 137 137 137 137 ...\n",
      " $ median_age                        : num  42.3 42.3 42.3 42.3 42.3 42.3 42.3 42.3 42.3 42.3 ...\n",
      " $ aged_65_older                     : num  19.7 19.7 19.7 19.7 19.7 ...\n",
      " $ aged_70_older                     : num  12.3 12.3 12.3 12.3 12.3 ...\n",
      " $ gdp_per_capita                    : num  46683 46683 46683 46683 46683 ...\n",
      " $ extreme_poverty                   : num  0.2 0.2 0.2 0.2 0.2 0.2 0.2 0.2 0.2 0.2 ...\n",
      " $ cardiovasc_death_rate             : num  115 115 115 115 115 ...\n",
      " $ diabetes_prevalence               : num  6.41 6.41 6.41 6.41 6.41 6.41 6.41 6.41 6.41 6.41 ...\n",
      " $ female_smokers                    : num  19.3 19.3 19.3 19.3 19.3 19.3 19.3 19.3 19.3 19.3 ...\n",
      " $ male_smokers                      : num  18.8 18.8 18.8 18.8 18.8 18.8 18.8 18.8 18.8 18.8 ...\n",
      " $ handwashing_facilities            : num  NA NA NA NA NA NA NA NA NA NA ...\n",
      " $ hospital_beds_per_thousand        : num  2.5 2.5 2.5 2.5 2.5 2.5 2.5 2.5 2.5 2.5 ...\n",
      " $ life_expectancy                   : num  80.9 80.9 80.9 80.9 80.9 80.9 80.9 80.9 80.9 80.9 ...\n",
      " $ human_development_index           : num  0.929 0.929 0.929 0.929 0.929 0.929 0.929 0.929 0.929 0.929 ...\n"
     ]
    }
   ],
   "source": [
    "str(denmark_covid_data)"
   ]
  },
  {
   "cell_type": "code",
   "execution_count": 73,
   "metadata": {},
   "outputs": [],
   "source": [
    "denmark_covid_data$iso_code <- as.character(denmark_covid_data$iso_code)\n",
    "denmark_covid_data$continent <- as.character(denmark_covid_data$continent)\n",
    "denmark_covid_data$location <- as.character(denmark_covid_data$location)\n",
    "denmark_covid_data$date <- ymd(denmark_covid_data$date)\n",
    "denmark_covid_data$tests_units <- as.character(denmark_covid_data$tests_units)\n",
    "denmark_covid_data$total_deaths <- as.integer(denmark_covid_data$total_deaths)"
   ]
  },
  {
   "cell_type": "markdown",
   "metadata": {},
   "source": [
    "## 4. Map data on graph"
   ]
  },
  {
   "cell_type": "markdown",
   "metadata": {},
   "source": [
    "Now that we have changed the data types of the input data, we can start analyzing the data and gain understanding from it. To plot the data, we use the library `tidyverse` because of its flexibility and customization properties."
   ]
  },
  {
   "cell_type": "code",
   "execution_count": 84,
   "metadata": {},
   "outputs": [
    {
     "data": {
      "image/png": "[encoded data removed]",
      "text/plain": [
       "plot without title"
      ]
     },
     "metadata": {},
     "output_type": "display_data"
    }
   ],
   "source": [
    "# Daily cases\n",
    "\n",
    "ggplot(denmark_covid_data, aes(x = date)) +\n",
    "\n",
    "geom_rect(aes(                                                             # Rectangular shade for emphasizing on lockdown #1\n",
    "    xmin = as.Date(\"2020-03-15\"),\n",
    "    xmax = as.Date(\"2020-04-13\"),\n",
    "    ymin = -Inf, ymax = Inf, fill = \"Lockdown period\")) +\n",
    "geom_rect(aes(                                                             # Rectangular shade for emphasizing on lockdown #2\n",
    "    xmin = as.Date(\"2020-12-08\"),\n",
    "    xmax = as.Date(\"2020-12-15\"),\n",
    "    ymin = -Inf, ymax = Inf, fill = \"Lockdown period\")) +\n",
    "geom_vline(aes(                                                            # Vertical dashed line\n",
    "    xintercept = as.Date(\"2020-10-29\"),\n",
    "    linetype = \"Break\"),\n",
    "           color = \"black\",\n",
    "           lwd = 0.7\n",
    "          ) +\n",
    "\n",
    "\n",
    "geom_line(aes(y = new_cases, color = \"dodgerblue4\"), lwd = 1) +\n",
    "scale_x_date(breaks = date_breaks(\"1 months\"), date_labels = \"%b\") +       # Improving the x-axis to show all months\n",
    "theme_light() +\n",
    "\n",
    "xlab(\"\\nMonths in 2020\") +                                                 # Label for x-axis\n",
    "scale_y_continuous(\"No. of people\\n\") +                                    # Label for y-axis\n",
    "\n",
    "ggtitle(\"COVID-19: Daily cases\") +                          # Title for the plot\n",
    "theme(plot.title = element_text(hjust = 0.5)) +                            # Center the title\n",
    "scale_fill_manual(name = \"\",                                               # Legend for the rectangular shade\n",
    "                  values=\"burlywood1\",\n",
    "                  labels=c(\"Lockdown periods\")) +\n",
    "scale_color_identity(name = \"\",                                            # Legend for the line plots\n",
    "                     breaks = c(\"dodgerblue4\"),\n",
    "                     labels = c(\"Daily cases\"),\n",
    "                     guide = \"legend\") +\n",
    "scale_linetype_manual(name = \"\",                                           # Legend for the vertical dotted line\n",
    "                      values = c(\"Break\" = \"dashed\"),\n",
    "                      labels = c(\"Mask requirement\")) + \n",
    "theme(aspect.ratio=1)                                                      # Fixing aspect ratio"
   ]
  },
  {
   "cell_type": "markdown",
   "metadata": {},
   "source": [
    "### 4.1 Deaths, hospitalized and lockdowns\n",
    "\n",
    "Starting with one of the most meaningful and significant plotting, we analyze the data for the number of deaths and hospitalized. Along with that, we also emphasize on the 2 lockdowns enforced by the state officials, the first one from March 15, 2020 to April 13, 2020 and the recent one starting from December 9, 2020 onwards."
   ]
  },
  {
   "cell_type": "code",
   "execution_count": 89,
   "metadata": {},
   "outputs": [
    {
     "name": "stderr",
     "output_type": "stream",
     "text": [
      "Warning message:\n",
      "\"Removed 51 row(s) containing missing values (geom_path).\"Warning message:\n",
      "\"Removed 57 row(s) containing missing values (geom_path).\""
     ]
    },
    {
     "data": {
      "image/png": "[encoded data removed]",
      "text/plain": [
       "plot without title"
      ]
     },
     "metadata": {},
     "output_type": "display_data"
    }
   ],
   "source": [
    "ggplot(denmark_covid_data, aes(x = date)) +                           # Specify the data frame and x-axis for the plot\n",
    "geom_rect(aes(                                                             # Rectangular shade for emphasizing on lockdown #1\n",
    "    xmin = as.Date(\"2020-03-15\"),\n",
    "    xmax = as.Date(\"2020-04-13\"),\n",
    "    ymin = -Inf, ymax = Inf, fill = \"Lockdown period\")) +\n",
    "geom_rect(aes(                                                             # Rectangular shade for emphasizing on lockdown #2\n",
    "    xmin = as.Date(\"2020-12-08\"),\n",
    "    xmax = as.Date(\"2020-12-15\"),\n",
    "    ymin = -Inf, ymax = Inf, fill = \"Lockdown period\")) +\n",
    "\n",
    "geom_vline(aes(                                                            # Vertical dashed line\n",
    "    xintercept = as.Date(\"2020-10-29\"),\n",
    "    linetype = \"Break\"),\n",
    "           color = \"black\",\n",
    "           lwd = 0.7\n",
    "          ) +\n",
    "\n",
    "geom_line(aes(y = total_deaths, color = \"red\"), lwd = 1) +                  # Line plot for deaths\n",
    "geom_line(aes(y = hosp_patients, color = \"blue\"), lwd = 1) +           # line plot for hospitalized\n",
    "\n",
    "scale_x_date(breaks = date_breaks(\"1 months\"), date_labels = \"%b\") +       # Improving the x-axis to show all months\n",
    "theme_light() +\n",
    "\n",
    "xlab(\"\\nMonths in 2020\") +                                                 # Label for x-axis\n",
    "scale_y_continuous(\"No. of people\\n\") +                                    # Label for y-axis\n",
    "\n",
    "ggtitle(\"COVID-19: Deaths and Hospitalization\") +                          # Title for the plot\n",
    "theme(plot.title = element_text(hjust = 0.5)) +                            # Center the title\n",
    "scale_fill_manual(name = \"\",                                               # Legend for the rectangular shade\n",
    "                  values=\"burlywood1\",\n",
    "                  labels=c(\"Lockdown periods\")) +\n",
    "scale_color_identity(name = \"\",                                            # Legend for the line plots\n",
    "                     breaks = c(\"red\", \"blue\"),\n",
    "                     labels = c(\"Deaths\", \"Hospitalized\"),\n",
    "                     guide = \"legend\") +\n",
    "scale_linetype_manual(name = \"\",                                           # Legend for the vertical dotted line\n",
    "                      values = c(\"Break\" = \"dashed\"),\n",
    "                      labels = c(\"Mask requirement\")) + \n",
    "theme(aspect.ratio=1)                                                      # Fixing aspect ratio"
   ]
  },
  {
   "cell_type": "markdown",
   "metadata": {},
   "source": [
    "After the initial plotting, it is clear that there was a strong impact of COVID-19 around late March--early April. The number of people who were dying due to COVID-19, as indicated by red line, and who were hospitalized, as indicated by the blue line, increased sharply. The first, month-long lockdown was imposed during this period, as indicated by the soft-orange shade. The result of the lockdown was effective as the number of reported hospitalization started to decline and kept declining over the next few months. The number of deaths was still rising at the end of the first lockdown, but started to stabilize soon after.\n",
    "\n",
    "This was a positive indication that the imposed lockdown was effective in controlling the spread of the virus.\n",
    "\n",
    "As the restictions started to loosen up, the public started to gather in larger numbers, which was an opportunity for the virus to spread again. This is indicated by the rise on both total deaths and hospitalized starting September. To control the rapid increase, the government mandated the use of mask on all public places starting October 29, represented by the black, dashed line.\n",
    "\n",
    "Ever since, the numbers started to grow. The plot above shows a sharp incline starting November. And with the holidays starting, the government imposed second lockdown starting December 09, 2020, which is the date of conducting this experiment. This was an attempt to reduce the number of gatherings and parties, and limit them to families to control the spread of the COVID-19."
   ]
  },
  {
   "cell_type": "markdown",
   "metadata": {},
   "source": [
    "### 4.2 Total confirmed cased and total tested"
   ]
  },
  {
   "cell_type": "code",
   "execution_count": 76,
   "metadata": {},
   "outputs": [
    {
     "name": "stderr",
     "output_type": "stream",
     "text": [
      "Warning message:\n",
      "\"Removed 5 row(s) containing missing values (geom_path).\"Warning message:\n",
      "\"Removed 35 row(s) containing missing values (geom_path).\"Warning message:\n",
      "\"Removed 5 row(s) containing missing values (geom_path).\"Warning message:\n",
      "\"Removed 35 row(s) containing missing values (geom_path).\""
     ]
    },
    {
     "data": {
      "image/png": "[encoded data removed]",
      "text/plain": [
       "plot without title"
      ]
     },
     "metadata": {},
     "output_type": "display_data"
    }
   ],
   "source": [
    "##########################################################################################################################\n",
    "############ Step 1: First we create a plot \"A\" for total number of people tested and assign it to a variable ############\n",
    "##########################################################################################################################\n",
    "\n",
    "TotalTestedPlot <- ggplot(denmark_covid_data, aes(x = date)) +            # Specify the data frame and x-axis for the plot\n",
    "\n",
    "geom_line(aes(y = total_tests, color = \"red\"), lwd = 1) +          # Line plot for total number of peple tested\n",
    "scale_x_date(breaks = date_breaks(\"1 months\"), date_labels = \"%b\") +           # Improving the x-axis to show all months\n",
    "theme_light() +\n",
    "\n",
    "xlab(\"Months in 2020\") +                                                       # Label for x-axis\n",
    "scale_y_continuous(\"No. of people tested\",                                     # Label for y-axis\n",
    "                   labels = function(x) format(x, scientific = FALSE)          # Change from exponentials to human readable numbers\n",
    "                   ) +\n",
    "\n",
    "ggtitle(\"COVID-19: Total tested\") +                                            # Title for the plot A\n",
    "theme(plot.title = element_text(hjust = 0.5, size = 10, face=\"bold\")) +        # Center the title\n",
    "\n",
    "scale_color_identity(name = \"\",                                                # Legend for the line plot\n",
    "                     breaks = \"red\",\n",
    "                     labels = \"Total tested\",\n",
    "                     guide = \"legend\"\n",
    "                     ) +\n",
    "\n",
    "theme(aspect.ratio=1) +                                                        # Fix aspect ratio\n",
    "theme(legend.position=c(0.35, 0.95)) +                                         # Append the legend inside the plot\n",
    "theme(plot.margin=unit(c(0,0.5,0,0),\"cm\")) +                                   # Increase right margin so there's space between A & B\n",
    "theme(axis.title = element_text(size = rel(0.8), face=\"bold\"))\n",
    "\n",
    "\n",
    "\n",
    "##########################################################################################################################\n",
    "############Step 2: Then we create a plot \"B\" for total number of confirmed cases and assign it to a variable ###########\n",
    "##########################################################################################################################\n",
    "\n",
    "TotalConfirmedCasesPlot <- ggplot(denmark_covid_data, aes(x = date)) +  # Specify the data frame and x-axis for the plot\n",
    "\n",
    "geom_line(aes(y = total_cases, color = \"blue\"), lwd = 1) +           # Line plot for total confirmed cases\n",
    "scale_x_date(breaks = date_breaks(\"1 months\"), date_labels = \"%b\") +         # Improving the x-axis to show all months\n",
    "theme_light() +\n",
    "\n",
    "xlab(\"Months in 2020\") +                                                   # Label for x-axis\n",
    "scale_y_continuous(\"No. of confirmed cases\",                                 # Label for y-axis\n",
    "                   labels = function(x) format(x, scientific = FALSE)\n",
    "                   ) +\n",
    "ggtitle(\"COVID-19: Total confimed cases\") +                                  # Title for the plot\n",
    "theme(plot.title = element_text(hjust = 0.5, size = 10, face=\"bold\")) +      # Center the title, adjust font size and font face\n",
    "\n",
    "scale_color_identity(name = \"\",                                              # Legend for the line plot\n",
    "                     breaks = \"blue\",\n",
    "                     labels = \"Total confirmed cases\",\n",
    "                     guide = \"legend\"\n",
    "                     ) +\n",
    "\n",
    "theme(aspect.ratio=1) +                                                      # Fix aspect ratio\n",
    "theme(legend.position=c(0.35, 0.95))+                                        # Append the legend inside the plot\n",
    "theme(plot.margin=unit(c(0,0,0,0.5),\"cm\")) +                                 # Increase left margin so there's space between A & B\n",
    "theme(axis.title = element_text(size = rel(0.8), face=\"bold\"))\n",
    "\n",
    "\n",
    "\n",
    "##########################################################################################################################\n",
    "##################### Step 3: Then we create a combined plot for \"A\" & \"B\" and assign it to a variable ###################\n",
    "##########################################################################################################################\n",
    "\n",
    "CombinedPlot <- ggplot(denmark_covid_data, aes(x = date)) +           # Specify the data frame and x-axis for the plot\n",
    "geom_line(aes(y = total_tests, color = \"red\"), lwd = 1) +    # Line plot for total number of peple tested\n",
    "geom_line(aes(y = total_cases, color = \"blue\"), lwd = 1) +         # Line plot for total confirmed cases\n",
    "\n",
    "scale_x_date(breaks = date_breaks(\"1 months\"), date_labels = \"%b\") +       # Improving the x-axis to show all months\n",
    "theme_light() +\n",
    "\n",
    "xlab(\"Months in 2020\") +                                                   # Label for x-axis\n",
    "scale_y_continuous(\"No. of people\",                                        # Label for y-axis\n",
    "                   labels = function(x) format(x, scientific = FALSE)\n",
    "                   ) +\n",
    "\n",
    "ggtitle(\"COVID-19: Total tesed and total cases (A & B)\") +                 # Title for the plot\n",
    "theme(plot.title = element_text(hjust = 0.5, size = 10, face=\"bold\")) +    # Center the title, adjust font size and font face\n",
    "\n",
    "scale_color_identity(name = \"\",                                            # Legend for the line plot\n",
    "                     breaks = c(\"red\", \"blue\"),\n",
    "                     labels = c(\"Deaths\", \"Hospitalized\"),\n",
    "                     guide = \"legend\") +\n",
    "\n",
    "theme(aspect.ratio=1) +                                                    # Fix aspect ratio\n",
    "theme(legend.position=c(0.35, 0.95))+                                      # Append the legend inside the plot\n",
    "theme(axis.title = element_text(size = rel(0.8), face=\"bold\"))\n",
    "\n",
    "\n",
    "\n",
    "##########################################################################################################################\n",
    "####################################### Step 4: Finally make a grid of all 3 plots ######################################\n",
    "##########################################################################################################################\n",
    "plot_grid(TotalTestedPlot, TotalConfirmedCasesPlot, CombinedPlot, labels = \"AUTO\")"
   ]
  },
  {
   "cell_type": "markdown",
   "metadata": {},
   "source": [
    "**TODO:** \n",
    "1. Face mask mandate when?\n",
    "    - On public transport: August 22, On public places/businesses: October 29\n",
    "2. Data for daily cases?\n",
    "    - https://ourworldindata.org/coronavirus/country/denmark?country=~DNK\n",
    "3. Redo with English data\n",
    "    - https://www.statistikbanken.dk/SMIT1\n",
    "4. Predictions\n",
    "5. Conclusions"
   ]
  },
  {
   "cell_type": "code",
   "execution_count": 13,
   "metadata": {},
   "outputs": [
    {
     "name": "stdout",
     "output_type": "stream",
     "text": [
      "'data.frame':\t263 obs. of  11 variables:\n",
      " $ OriginalDate             : chr  \"M03D21\" \"M03D22\" \"M03D23\" \"M03D24\" ...\n",
      " $ ModDateAddYear           : chr  \"2020-03D21\" \"2020-03D22\" \"2020-03D23\" \"2020-03D24\" ...\n",
      " $ ISODate                  : Date, format: \"2020-03-21\" \"2020-03-22\" ...\n",
      " $ TotalConfirmedCases      : int  1326 1395 1450 1577 1715 1851 2010 2201 2395 2555 ...\n",
      " $ TotalRecovered           : int  NA NA NA NA NA NA NA NA NA NA ...\n",
      " $ TotalNumberOfPeopleTested: int  11657 12351 12843 13756 14870 15981 17275 18810 20198 21378 ...\n",
      " $ TotalDeaths              : int  22 25 31 37 43 55 67 76 84 95 ...\n",
      " $ DailyDeaths              : int  3 3 6 6 6 12 12 9 8 11 ...\n",
      " $ TotalHospitalized        : int  206 232 254 301 350 386 430 459 499 533 ...\n",
      " $ PeopleInICU              : int  42 46 55 59 87 94 109 121 131 137 ...\n",
      " $ PeopleInVentilators      : int  35 40 47 58 76 78 89 104 113 119 ...\n"
     ]
    }
   ],
   "source": [
    "str(TransformedCovidData)"
   ]
  }
 ],
 "metadata": {
  "kernelspec": {
   "display_name": "R",
   "language": "R",
   "name": "ir"
  },
  "language_info": {
   "codemirror_mode": "r",
   "file_extension": ".r",
   "mimetype": "text/x-r-source",
   "name": "R",
   "pygments_lexer": "r",
   "version": "3.6.1"
  }
 },
 "nbformat": 4,
 "nbformat_minor": 4
}
