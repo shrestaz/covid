{
 "cells": [
  {
   "cell_type": "markdown",
   "metadata": {},
   "source": [
    "### Preparing the R environment\n",
    "\n",
    "Install the required packages to be used inside the project."
   ]
  },
  {
   "cell_type": "code",
   "execution_count": 16,
   "metadata": {
    "scrolled": true
   },
   "outputs": [],
   "source": [
    "########################################################\n",
    "###### Suppressing warnings for a cleaner output #######\n",
    "########################################################\n",
    "options(warn=-1)\n",
    "\n",
    "########################################################\n",
    "#### Installing and importing the required packages ####\n",
    "########################################################\n",
    "library(lubridate)                 # library to help work with dates\n",
    "install.packages(\"scales\")         # Scale Functions for Visualization\n",
    "library(scales)\n",
    "\n",
    "install.packages(\"tidyverse\")      # Collection of packages to model, transform, and visualize data\n",
    "library(tidyverse)                 # for declaratively creating graphics\n",
    "library(dplyr)\n",
    "\n",
    "install.packages(\"cowplot\")\n",
    "library(cowplot)                   # Arrange 2 plots side-by-side https://stackoverflow.com/a/31223588/9332260"
   ]
  },
  {
   "cell_type": "markdown",
   "metadata": {},
   "source": [
    "# Exploratory Data Analysis: COVID-19\n",
    "\n",
    "In this Jupyter notebook, we perform a self expertimentation of Exploratory Data Analysis (EDA) for Denmark's COVID-19 cases in R. R is a language and environment for statistical computing and graphics (**cite: https://www.r-project.org/about.html**) which is perfect in this project as the goal is to visualize data and tell a conclusion/story based on real decisions."
   ]
  },
  {
   "cell_type": "markdown",
   "metadata": {},
   "source": [
    "## 1. Identify business problem\n",
    "\n",
    "The first step to Exploratory Data Analysis (EDA) is to identify the business problem. The business case revolves around the understanding of the situation and the use of data to prevent spread of COVID-19 virus in Denmark. The aim is to analyze the data and compare against the decisions made and enforced by the officials and the health experts, primarily the two lockdowns from March and Decemberof 2020. This EDA is not a solution to the problem but the ambition is to understand if gathering factual data aided in effective decision making by the authorities. "
   ]
  },
  {
   "cell_type": "markdown",
   "metadata": {},
   "source": [
    "## 2. Data collection\n",
    "\n",
    "The dataset used for this analysis was taken from [Our World in Data](https://ourworldindata.org/coronavirus/country/denmark?country=~DNK), which is a scientific online publication focusing on global problems. Its research team is based at the University of Oxford, whose work are based on global community of scholars (**cite: About us**). They claim to have the data for COVID-19 used in this analysis updated daily and have made it available to use freely. They also cite the source of raw data for COVID-19 Data Repository to be the Center for Systems Science and Engineering (CSSE) at Johns Hopkins University. (**cite**)."
   ]
  },
  {
   "cell_type": "markdown",
   "metadata": {},
   "source": [
    "## 3. Data preparation\n",
    "\n",
    "The data from Our World in Data is open-source, formatted and made available in different formats so people can choose how they want the data, for example: an Excel spreadsheet or a plain text file. For this analaysis, we chose to use the data as a CSV (comma-separated value) file for ease of use. In the following steps, we will go through the process of loading the data, tidying it and preparing it for the analysis.\n"
   ]
  },
  {
   "cell_type": "markdown",
   "metadata": {},
   "source": [
    "### 3.1 Load the data into R and inspect\n",
    "\n",
    "In the following steps, we load the raw data into this R notebook and inspect if it is workable and understandable. If not, we must proceed to transform the data. Without a clear understanding of data, the anaylsis is pointless.\n",
    "\n",
    "After we load the data into the R notebook, we examine to ensure the target data exists. Hence, we test if data for Denmark exists in our dataframe. And for a sanity check, we also test for a fictional country Wakanda, expecting it to be falsy.\n",
    "\n",
    "The dataset from Our World in Data consists the data for COVID-19 from all countries in the world. Since our focus is only in Denmark, we filter out only Denmark's data and store it in a varaible for later access."
   ]
  },
  {
   "cell_type": "code",
   "execution_count": 17,
   "metadata": {},
   "outputs": [
    {
     "data": {
      "text/html": [
       "<ol class=list-inline>\n",
       "\t<li>'EDA-COVID.ipynb'</li>\n",
       "\t<li>'world_covid_data.csv'</li>\n",
       "</ol>\n"
      ],
      "text/latex": [
       "\\begin{enumerate*}\n",
       "\\item 'EDA-COVID.ipynb'\n",
       "\\item 'world\\_covid\\_data.csv'\n",
       "\\end{enumerate*}\n"
      ],
      "text/markdown": [
       "1. 'EDA-COVID.ipynb'\n",
       "2. 'world_covid_data.csv'\n",
       "\n",
       "\n"
      ],
      "text/plain": [
       "[1] \"EDA-COVID.ipynb\"      \"world_covid_data.csv\""
      ]
     },
     "metadata": {},
     "output_type": "display_data"
    }
   ],
   "source": [
    "list.files(\".\")"
   ]
  },
  {
   "cell_type": "code",
   "execution_count": 3,
   "metadata": {},
   "outputs": [],
   "source": [
    "# Create a dataframe by reading the file containing the dataset\n",
    "\n",
    "world_covid_data <- read.csv(\"world_covid_data.csv\", encoding=\"UTF-8\")"
   ]
  },
  {
   "cell_type": "code",
   "execution_count": 4,
   "metadata": {},
   "outputs": [
    {
     "data": {
      "text/html": [
       "TRUE"
      ],
      "text/latex": [
       "TRUE"
      ],
      "text/markdown": [
       "TRUE"
      ],
      "text/plain": [
       "[1] TRUE"
      ]
     },
     "metadata": {},
     "output_type": "display_data"
    },
    {
     "data": {
      "text/html": [
       "FALSE"
      ],
      "text/latex": [
       "FALSE"
      ],
      "text/markdown": [
       "FALSE"
      ],
      "text/plain": [
       "[1] FALSE"
      ]
     },
     "metadata": {},
     "output_type": "display_data"
    }
   ],
   "source": [
    "# Check if the data for the country we're interested in (Denmark), exists\n",
    "\n",
    "\"Denmark\" %in% world_covid_data$location\n",
    "\"Wakanda\" %in% world_covid_data$location # Failing test for sanity check"
   ]
  },
  {
   "cell_type": "code",
   "execution_count": 5,
   "metadata": {},
   "outputs": [],
   "source": [
    "# use dplyr library to filter data where location is Denmark\n",
    "\n",
    "denmark_covid_data <- filter(world_covid_data, location == \"Denmark\")"
   ]
  },
  {
   "cell_type": "markdown",
   "metadata": {},
   "source": [
    "### 3.2 Initial inspection and feedback\n",
    "\n",
    "Now that the target data is loaded and ready to be used, we inspect and conclude which transformations are needed. To do so, we print the inital few rows of the data."
   ]
  },
  {
   "cell_type": "code",
   "execution_count": 18,
   "metadata": {},
   "outputs": [
    {
     "data": {
      "text/html": [
       "<table>\n",
       "<thead><tr><th scope=col>iso_code</th><th scope=col>continent</th><th scope=col>location</th><th scope=col>date</th><th scope=col>total_cases</th><th scope=col>new_cases</th><th scope=col>new_cases_smoothed</th><th scope=col>total_deaths</th><th scope=col>new_deaths</th><th scope=col>new_deaths_smoothed</th><th scope=col>...</th><th scope=col>gdp_per_capita</th><th scope=col>extreme_poverty</th><th scope=col>cardiovasc_death_rate</th><th scope=col>diabetes_prevalence</th><th scope=col>female_smokers</th><th scope=col>male_smokers</th><th scope=col>handwashing_facilities</th><th scope=col>hospital_beds_per_thousand</th><th scope=col>life_expectancy</th><th scope=col>human_development_index</th></tr></thead>\n",
       "<tbody>\n",
       "\t<tr><td>DNK       </td><td>Europe    </td><td>Denmark   </td><td>2020-01-23</td><td>NA        </td><td>0         </td><td>NA        </td><td>NA        </td><td>0         </td><td>NA        </td><td>...       </td><td>46682.51  </td><td>0.2       </td><td>114.767   </td><td>6.41      </td><td>19.3      </td><td>18.8      </td><td>NA        </td><td>2.5       </td><td>80.9      </td><td>0.929     </td></tr>\n",
       "\t<tr><td>DNK       </td><td>Europe    </td><td>Denmark   </td><td>2020-01-24</td><td>NA        </td><td>0         </td><td>NA        </td><td>NA        </td><td>0         </td><td>NA        </td><td>...       </td><td>46682.51  </td><td>0.2       </td><td>114.767   </td><td>6.41      </td><td>19.3      </td><td>18.8      </td><td>NA        </td><td>2.5       </td><td>80.9      </td><td>0.929     </td></tr>\n",
       "\t<tr><td>DNK       </td><td>Europe    </td><td>Denmark   </td><td>2020-01-25</td><td>NA        </td><td>0         </td><td>NA        </td><td>NA        </td><td>0         </td><td>NA        </td><td>...       </td><td>46682.51  </td><td>0.2       </td><td>114.767   </td><td>6.41      </td><td>19.3      </td><td>18.8      </td><td>NA        </td><td>2.5       </td><td>80.9      </td><td>0.929     </td></tr>\n",
       "\t<tr><td>DNK       </td><td>Europe    </td><td>Denmark   </td><td>2020-01-26</td><td>NA        </td><td>0         </td><td>NA        </td><td>NA        </td><td>0         </td><td>NA        </td><td>...       </td><td>46682.51  </td><td>0.2       </td><td>114.767   </td><td>6.41      </td><td>19.3      </td><td>18.8      </td><td>NA        </td><td>2.5       </td><td>80.9      </td><td>0.929     </td></tr>\n",
       "\t<tr><td>DNK       </td><td>Europe    </td><td>Denmark   </td><td>2020-01-27</td><td>NA        </td><td>0         </td><td>NA        </td><td>NA        </td><td>0         </td><td>NA        </td><td>...       </td><td>46682.51  </td><td>0.2       </td><td>114.767   </td><td>6.41      </td><td>19.3      </td><td>18.8      </td><td>NA        </td><td>2.5       </td><td>80.9      </td><td>0.929     </td></tr>\n",
       "\t<tr><td>DNK       </td><td>Europe    </td><td>Denmark   </td><td>2020-01-28</td><td>NA        </td><td>0         </td><td> 0        </td><td>NA        </td><td>0         </td><td> 0        </td><td>...       </td><td>46682.51  </td><td>0.2       </td><td>114.767   </td><td>6.41      </td><td>19.3      </td><td>18.8      </td><td>NA        </td><td>2.5       </td><td>80.9      </td><td>0.929     </td></tr>\n",
       "</tbody>\n",
       "</table>\n"
      ],
      "text/latex": [
       "\\begin{tabular}{r|llllllllllllllllllllllllllllllllllllllllllllllllll}\n",
       " iso\\_code & continent & location & date & total\\_cases & new\\_cases & new\\_cases\\_smoothed & total\\_deaths & new\\_deaths & new\\_deaths\\_smoothed & ... & gdp\\_per\\_capita & extreme\\_poverty & cardiovasc\\_death\\_rate & diabetes\\_prevalence & female\\_smokers & male\\_smokers & handwashing\\_facilities & hospital\\_beds\\_per\\_thousand & life\\_expectancy & human\\_development\\_index\\\\\n",
       "\\hline\n",
       "\t DNK        & Europe     & Denmark    & 2020-01-23 & NA         & 0          & NA         & NA         & 0          & NA         & ...        & 46682.51   & 0.2        & 114.767    & 6.41       & 19.3       & 18.8       & NA         & 2.5        & 80.9       & 0.929     \\\\\n",
       "\t DNK        & Europe     & Denmark    & 2020-01-24 & NA         & 0          & NA         & NA         & 0          & NA         & ...        & 46682.51   & 0.2        & 114.767    & 6.41       & 19.3       & 18.8       & NA         & 2.5        & 80.9       & 0.929     \\\\\n",
       "\t DNK        & Europe     & Denmark    & 2020-01-25 & NA         & 0          & NA         & NA         & 0          & NA         & ...        & 46682.51   & 0.2        & 114.767    & 6.41       & 19.3       & 18.8       & NA         & 2.5        & 80.9       & 0.929     \\\\\n",
       "\t DNK        & Europe     & Denmark    & 2020-01-26 & NA         & 0          & NA         & NA         & 0          & NA         & ...        & 46682.51   & 0.2        & 114.767    & 6.41       & 19.3       & 18.8       & NA         & 2.5        & 80.9       & 0.929     \\\\\n",
       "\t DNK        & Europe     & Denmark    & 2020-01-27 & NA         & 0          & NA         & NA         & 0          & NA         & ...        & 46682.51   & 0.2        & 114.767    & 6.41       & 19.3       & 18.8       & NA         & 2.5        & 80.9       & 0.929     \\\\\n",
       "\t DNK        & Europe     & Denmark    & 2020-01-28 & NA         & 0          &  0         & NA         & 0          &  0         & ...        & 46682.51   & 0.2        & 114.767    & 6.41       & 19.3       & 18.8       & NA         & 2.5        & 80.9       & 0.929     \\\\\n",
       "\\end{tabular}\n"
      ],
      "text/markdown": [
       "\n",
       "| iso_code | continent | location | date | total_cases | new_cases | new_cases_smoothed | total_deaths | new_deaths | new_deaths_smoothed | ... | gdp_per_capita | extreme_poverty | cardiovasc_death_rate | diabetes_prevalence | female_smokers | male_smokers | handwashing_facilities | hospital_beds_per_thousand | life_expectancy | human_development_index |\n",
       "|---|---|---|---|---|---|---|---|---|---|---|---|---|---|---|---|---|---|---|---|---|\n",
       "| DNK        | Europe     | Denmark    | 2020-01-23 | NA         | 0          | NA         | NA         | 0          | NA         | ...        | 46682.51   | 0.2        | 114.767    | 6.41       | 19.3       | 18.8       | NA         | 2.5        | 80.9       | 0.929      |\n",
       "| DNK        | Europe     | Denmark    | 2020-01-24 | NA         | 0          | NA         | NA         | 0          | NA         | ...        | 46682.51   | 0.2        | 114.767    | 6.41       | 19.3       | 18.8       | NA         | 2.5        | 80.9       | 0.929      |\n",
       "| DNK        | Europe     | Denmark    | 2020-01-25 | NA         | 0          | NA         | NA         | 0          | NA         | ...        | 46682.51   | 0.2        | 114.767    | 6.41       | 19.3       | 18.8       | NA         | 2.5        | 80.9       | 0.929      |\n",
       "| DNK        | Europe     | Denmark    | 2020-01-26 | NA         | 0          | NA         | NA         | 0          | NA         | ...        | 46682.51   | 0.2        | 114.767    | 6.41       | 19.3       | 18.8       | NA         | 2.5        | 80.9       | 0.929      |\n",
       "| DNK        | Europe     | Denmark    | 2020-01-27 | NA         | 0          | NA         | NA         | 0          | NA         | ...        | 46682.51   | 0.2        | 114.767    | 6.41       | 19.3       | 18.8       | NA         | 2.5        | 80.9       | 0.929      |\n",
       "| DNK        | Europe     | Denmark    | 2020-01-28 | NA         | 0          |  0         | NA         | 0          |  0         | ...        | 46682.51   | 0.2        | 114.767    | 6.41       | 19.3       | 18.8       | NA         | 2.5        | 80.9       | 0.929      |\n",
       "\n"
      ],
      "text/plain": [
       "  iso_code continent location date       total_cases new_cases\n",
       "1 DNK      Europe    Denmark  2020-01-23 NA          0        \n",
       "2 DNK      Europe    Denmark  2020-01-24 NA          0        \n",
       "3 DNK      Europe    Denmark  2020-01-25 NA          0        \n",
       "4 DNK      Europe    Denmark  2020-01-26 NA          0        \n",
       "5 DNK      Europe    Denmark  2020-01-27 NA          0        \n",
       "6 DNK      Europe    Denmark  2020-01-28 NA          0        \n",
       "  new_cases_smoothed total_deaths new_deaths new_deaths_smoothed ...\n",
       "1 NA                 NA           0          NA                  ...\n",
       "2 NA                 NA           0          NA                  ...\n",
       "3 NA                 NA           0          NA                  ...\n",
       "4 NA                 NA           0          NA                  ...\n",
       "5 NA                 NA           0          NA                  ...\n",
       "6  0                 NA           0           0                  ...\n",
       "  gdp_per_capita extreme_poverty cardiovasc_death_rate diabetes_prevalence\n",
       "1 46682.51       0.2             114.767               6.41               \n",
       "2 46682.51       0.2             114.767               6.41               \n",
       "3 46682.51       0.2             114.767               6.41               \n",
       "4 46682.51       0.2             114.767               6.41               \n",
       "5 46682.51       0.2             114.767               6.41               \n",
       "6 46682.51       0.2             114.767               6.41               \n",
       "  female_smokers male_smokers handwashing_facilities hospital_beds_per_thousand\n",
       "1 19.3           18.8         NA                     2.5                       \n",
       "2 19.3           18.8         NA                     2.5                       \n",
       "3 19.3           18.8         NA                     2.5                       \n",
       "4 19.3           18.8         NA                     2.5                       \n",
       "5 19.3           18.8         NA                     2.5                       \n",
       "6 19.3           18.8         NA                     2.5                       \n",
       "  life_expectancy human_development_index\n",
       "1 80.9            0.929                  \n",
       "2 80.9            0.929                  \n",
       "3 80.9            0.929                  \n",
       "4 80.9            0.929                  \n",
       "5 80.9            0.929                  \n",
       "6 80.9            0.929                  "
      ]
     },
     "metadata": {},
     "output_type": "display_data"
    }
   ],
   "source": [
    "head(denmark_covid_data)"
   ]
  },
  {
   "cell_type": "markdown",
   "metadata": {},
   "source": [
    "In the initial inspection, the data looks to be well prepared and ready to be used, thanks to the team at Our World in Data and their contributors. By well prepared in this context, we mean that the table doesn't require to be transposed (rotated), the date is already in the international ISO standard and the missing data weren't represented by some unusual characters and left empty, which R intelligently replaces by `NA`.\n",
    "\n",
    "While there are much more columns than we need in this project, we will ignore them for now. While they do take additional resources, it is extra workload to remove them. And we have enough resorces to let them be and just ignore.\n",
    "\n",
    "Such explanations are made here because in the previous iterations of this experiment with dataset from different source (StatisktikBanken), all of these issues needed to be addressed to be made usable."
   ]
  },
  {
   "cell_type": "markdown",
   "metadata": {},
   "source": [
    "### 3.3 Verify and update data types\n",
    "\n",
    "The next step is to check the data types of the data loaded onto R. Since we read the data from a CSV file, R does not know what type of data certain inputs are. By default, it categorises unknown or mixed data types as `Factor` as they can store both strings and integers.\n",
    "\n",
    "For example, the column (or variable) `date` should be of type `Date` but R understands it as of data type `Factor`. While this is fine and we can absolutely work with it, changing it to type of `Date` allows us to be more flexible and only show the month with the month's name, rather then the original value, such as `2020-04-20`."
   ]
  },
  {
   "cell_type": "code",
   "execution_count": 20,
   "metadata": {},
   "outputs": [
    {
     "name": "stdout",
     "output_type": "stream",
     "text": [
      "'data.frame':\t323 obs. of  50 variables:\n",
      " $ iso_code                          : chr  \"DNK\" \"DNK\" \"DNK\" \"DNK\" ...\n",
      " $ continent                         : chr  \"Europe\" \"Europe\" \"Europe\" \"Europe\" ...\n",
      " $ location                          : chr  \"Denmark\" \"Denmark\" \"Denmark\" \"Denmark\" ...\n",
      " $ date                              : Date, format: \"2020-01-23\" \"2020-01-24\" ...\n",
      " $ total_cases                       : num  NA NA NA NA NA NA NA NA NA NA ...\n",
      " $ new_cases                         : num  0 0 0 0 0 0 0 0 0 0 ...\n",
      " $ new_cases_smoothed                : num  NA NA NA NA NA 0 0 0 0 0 ...\n",
      " $ total_deaths                      : int  NA NA NA NA NA NA NA NA NA NA ...\n",
      " $ new_deaths                        : num  0 0 0 0 0 0 0 0 0 0 ...\n",
      " $ new_deaths_smoothed               : num  NA NA NA NA NA 0 0 0 0 0 ...\n",
      " $ total_cases_per_million           : num  NA NA NA NA NA NA NA NA NA NA ...\n",
      " $ new_cases_per_million             : num  0 0 0 0 0 0 0 0 0 0 ...\n",
      " $ new_cases_smoothed_per_million    : num  NA NA NA NA NA 0 0 0 0 0 ...\n",
      " $ total_deaths_per_million          : num  NA NA NA NA NA NA NA NA NA NA ...\n",
      " $ new_deaths_per_million            : num  0 0 0 0 0 0 0 0 0 0 ...\n",
      " $ new_deaths_smoothed_per_million   : num  NA NA NA NA NA 0 0 0 0 0 ...\n",
      " $ reproduction_rate                 : num  NA NA NA NA NA NA NA NA NA NA ...\n",
      " $ icu_patients                      : num  NA NA NA NA NA NA NA NA NA NA ...\n",
      " $ icu_patients_per_million          : num  NA NA NA NA NA NA NA NA NA NA ...\n",
      " $ hosp_patients                     : num  NA NA NA NA NA NA NA NA NA NA ...\n",
      " $ hosp_patients_per_million         : num  NA NA NA NA NA NA NA NA NA NA ...\n",
      " $ weekly_icu_admissions             : num  NA NA NA NA NA NA NA NA NA NA ...\n",
      " $ weekly_icu_admissions_per_million : num  NA NA NA NA NA NA NA NA NA NA ...\n",
      " $ weekly_hosp_admissions            : num  NA NA NA NA NA NA NA NA NA NA ...\n",
      " $ weekly_hosp_admissions_per_million: num  NA NA NA NA NA NA NA NA NA NA ...\n",
      " $ new_tests                         : num  NA NA NA NA 1 NA 1 NA NA NA ...\n",
      " $ total_tests                       : num  NA NA NA NA 1 NA 2 NA NA NA ...\n",
      " $ total_tests_per_thousand          : num  NA NA NA NA 0 NA 0 NA NA NA ...\n",
      " $ new_tests_per_thousand            : num  NA NA NA NA 0 NA 0 NA NA NA ...\n",
      " $ new_tests_smoothed                : num  NA NA NA NA NA NA NA NA NA NA ...\n",
      " $ new_tests_smoothed_per_thousand   : num  NA NA NA NA NA NA NA NA NA NA ...\n",
      " $ positive_rate                     : num  NA NA NA NA NA NA NA NA NA NA ...\n",
      " $ tests_per_case                    : num  NA NA NA NA NA NA NA NA NA NA ...\n",
      " $ tests_units                       : chr  \"\" \"\" \"\" \"\" ...\n",
      " $ stringency_index                  : num  0 0 0 0 0 0 0 0 0 0 ...\n",
      " $ population                        : num  5792203 5792203 5792203 5792203 5792203 ...\n",
      " $ population_density                : num  137 137 137 137 137 ...\n",
      " $ median_age                        : num  42.3 42.3 42.3 42.3 42.3 42.3 42.3 42.3 42.3 42.3 ...\n",
      " $ aged_65_older                     : num  19.7 19.7 19.7 19.7 19.7 ...\n",
      " $ aged_70_older                     : num  12.3 12.3 12.3 12.3 12.3 ...\n",
      " $ gdp_per_capita                    : num  46683 46683 46683 46683 46683 ...\n",
      " $ extreme_poverty                   : num  0.2 0.2 0.2 0.2 0.2 0.2 0.2 0.2 0.2 0.2 ...\n",
      " $ cardiovasc_death_rate             : num  115 115 115 115 115 ...\n",
      " $ diabetes_prevalence               : num  6.41 6.41 6.41 6.41 6.41 6.41 6.41 6.41 6.41 6.41 ...\n",
      " $ female_smokers                    : num  19.3 19.3 19.3 19.3 19.3 19.3 19.3 19.3 19.3 19.3 ...\n",
      " $ male_smokers                      : num  18.8 18.8 18.8 18.8 18.8 18.8 18.8 18.8 18.8 18.8 ...\n",
      " $ handwashing_facilities            : num  NA NA NA NA NA NA NA NA NA NA ...\n",
      " $ hospital_beds_per_thousand        : num  2.5 2.5 2.5 2.5 2.5 2.5 2.5 2.5 2.5 2.5 ...\n",
      " $ life_expectancy                   : num  80.9 80.9 80.9 80.9 80.9 80.9 80.9 80.9 80.9 80.9 ...\n",
      " $ human_development_index           : num  0.929 0.929 0.929 0.929 0.929 0.929 0.929 0.929 0.929 0.929 ...\n"
     ]
    }
   ],
   "source": [
    "str(denmark_covid_data)"
   ]
  },
  {
   "cell_type": "code",
   "execution_count": 8,
   "metadata": {},
   "outputs": [],
   "source": [
    "denmark_covid_data$iso_code <- as.character(denmark_covid_data$iso_code)\n",
    "denmark_covid_data$continent <- as.character(denmark_covid_data$continent)\n",
    "denmark_covid_data$location <- as.character(denmark_covid_data$location)\n",
    "denmark_covid_data$date <- ymd(denmark_covid_data$date)\n",
    "denmark_covid_data$tests_units <- as.character(denmark_covid_data$tests_units)\n",
    "denmark_covid_data$total_deaths <- as.integer(denmark_covid_data$total_deaths)"
   ]
  },
  {
   "cell_type": "markdown",
   "metadata": {},
   "source": [
    "## 4. Map data on graph"
   ]
  },
  {
   "cell_type": "markdown",
   "metadata": {},
   "source": [
    "Now that we have changed the data types of the input data, we can start analyzing the data and gain understanding from it. To plot the data, we use the library `tidyverse` because of its flexibility and customization abilities."
   ]
  },
  {
   "cell_type": "code",
   "execution_count": 9,
   "metadata": {},
   "outputs": [],
   "source": [
    "# Define theme configs\n",
    "\n",
    "single_plot_theme_config <- theme_light() +\n",
    "theme(\n",
    "    aspect.ratio=1,                                                        # Fixing aspect ratio\n",
    "    plot.title = element_text(hjust = 0.5),                                # Center the title\n",
    "    )\n",
    "\n",
    "\n",
    "multiple_grid_plot_theme_config <- theme_light() +\n",
    "theme(\n",
    "    plot.title = element_text(hjust = 0.5, size = 10, face=\"bold\"),      # Center the title, adjust font size and font face\n",
    "    aspect.ratio = 1,                                                    # Fix aspect ratio\n",
    "    legend.position=c(0.35, 0.95),                                       # Append the legend inside the plot\n",
    "    plot.margin=unit(c(0,0,0,0.5),\"cm\"),                                 # Increase left margin so there's space between A & B\n",
    "    axis.title = element_text(size = rel(0.8), face=\"bold\")              # Adjust the size of x & y axis title\n",
    ")\n"
   ]
  },
  {
   "cell_type": "code",
   "execution_count": 10,
   "metadata": {},
   "outputs": [
    {
     "data": {
      "image/png": "[encoded data removed]",
      "text/plain": [
       "plot without title"
      ]
     },
     "metadata": {},
     "output_type": "display_data"
    }
   ],
   "source": [
    "# Daily cases\n",
    "\n",
    "ggplot(denmark_covid_data, aes(x = date)) +\n",
    "\n",
    "geom_rect(aes(                                                             # Rectangular shade for emphasizing on lockdown #1\n",
    "    xmin = as.Date(\"2020-03-15\"),\n",
    "    xmax = as.Date(\"2020-04-13\"),\n",
    "    ymin = -Inf, ymax = Inf, fill = \"Lockdown period\")) +\n",
    "geom_rect(aes(                                                             # Rectangular shade for emphasizing on lockdown #2\n",
    "    xmin = as.Date(\"2020-12-08\"),\n",
    "    xmax = as.Date(\"2020-12-15\"),\n",
    "    ymin = -Inf, ymax = Inf, fill = \"Lockdown period\")) +\n",
    "geom_vline(aes(                                                            # Vertical dashed line\n",
    "    xintercept = as.Date(\"2020-10-29\"),\n",
    "    linetype = \"Break\"),\n",
    "           color = \"black\",\n",
    "           lwd = 0.7\n",
    "          ) +\n",
    "\n",
    "\n",
    "geom_line(aes(y = new_cases, color = \"dodgerblue4\"), lwd = 1) +\n",
    "scale_x_date(breaks = date_breaks(\"1 months\"), date_labels = \"%b\") +       # Improving the x-axis to show all months\n",
    "\n",
    "xlab(\"\\nMonths in 2020\") +                                                 # Label for x-axis\n",
    "scale_y_continuous(\"No. of people\\n\") +                                    # Label for y-axis\n",
    "\n",
    "ggtitle(\"COVID-19: Daily cases\") +                          # Title for the plot\n",
    "scale_fill_manual(name = \"\",                                               # Legend for the rectangular shade\n",
    "                  values=\"burlywood1\",\n",
    "                  labels=c(\"Lockdown periods\")) +\n",
    "scale_color_identity(name = \"\",                                            # Legend for the line plots\n",
    "                     breaks = c(\"dodgerblue4\"),\n",
    "                     labels = c(\"Daily cases\"),\n",
    "                     guide = \"legend\") +\n",
    "scale_linetype_manual(name = \"\",                                           # Legend for the vertical dotted line\n",
    "                      values = c(\"Break\" = \"dashed\"),\n",
    "                      labels = c(\"Mask requirement\")) + \n",
    "single_plot_theme_config"
   ]
  },
  {
   "cell_type": "markdown",
   "metadata": {},
   "source": [
    "### 4.1 Deaths, hospitalized and lockdowns\n",
    "\n",
    "Starting with one of the most meaningful and significant plotting, we analyze the data for the number of deaths and hospitalized. Along with that, we also emphasize on the 2 lockdowns enforced by the state officials, the first one from March 15, 2020 to April 13, 2020 and the recent one starting from December 9, 2020 onwards."
   ]
  },
  {
   "cell_type": "code",
   "execution_count": 11,
   "metadata": {},
   "outputs": [
    {
     "data": {
      "image/png": "[encoded data removed]",
      "text/plain": [
       "plot without title"
      ]
     },
     "metadata": {},
     "output_type": "display_data"
    }
   ],
   "source": [
    "\n",
    "ggplot(denmark_covid_data, aes(x = date)) +                                # Specify the data frame and x-axis for the plot\n",
    "geom_rect(aes(                                                             # Rectangular shade for emphasizing on lockdown #1\n",
    "    xmin = as.Date(\"2020-03-15\"),\n",
    "    xmax = as.Date(\"2020-04-13\"),\n",
    "    ymin = -Inf, ymax = Inf, fill = \"Lockdown period\")) +\n",
    "geom_rect(aes(                                                             # Rectangular shade for emphasizing on lockdown #2\n",
    "    xmin = as.Date(\"2020-12-08\"),\n",
    "    xmax = as.Date(\"2020-12-15\"),\n",
    "    ymin = -Inf, ymax = Inf, fill = \"Lockdown period\")) +\n",
    "\n",
    "geom_vline(aes(                                                            # Vertical dashed line\n",
    "    xintercept = as.Date(\"2020-10-29\"),\n",
    "    linetype = \"Break\"),\n",
    "           color = \"black\",\n",
    "           lwd = 0.7\n",
    "          ) +\n",
    "\n",
    "geom_line(aes(y = total_deaths, color = \"red\"), lwd = 1) +                 # Line plot for deaths\n",
    "geom_line(aes(y = hosp_patients, color = \"blue\"), lwd = 1) +               # line plot for hospitalized\n",
    "\n",
    "scale_x_date(breaks = date_breaks(\"1 months\"), date_labels = \"%b\") +       # Improving the x-axis to show all months\n",
    "\n",
    "xlab(\"\\nMonths in 2020\") +                                                 # Label for x-axis\n",
    "scale_y_continuous(\"No. of people\\n\") +                                    # Label for y-axis\n",
    "\n",
    "ggtitle(\"COVID-19: Deaths and Hospitalization\") +                          # Title for the plot\n",
    "scale_fill_manual(name = \"\",                                               # Legend for the rectangular shade\n",
    "                  values=\"burlywood1\",\n",
    "                  labels=c(\"Lockdown periods\")) +\n",
    "scale_color_identity(name = \"\",                                            # Legend for the line plots\n",
    "                     breaks = c(\"red\", \"blue\"),\n",
    "                     labels = c(\"Deaths\", \"Hospitalized\"),\n",
    "                     guide = \"legend\") +\n",
    "scale_linetype_manual(name = \"\",                                           # Legend for the vertical dotted line\n",
    "                      values = c(\"Break\" = \"dashed\"),\n",
    "                      labels = c(\"Mask requirement\")) + \n",
    "single_plot_theme_config"
   ]
  },
  {
   "cell_type": "markdown",
   "metadata": {},
   "source": [
    "After the initial plotting, it is clear that there was a strong impact of COVID-19 around late March--early April. The number of people who were dying due to COVID-19, as indicated by red line, and who were hospitalized, as indicated by the blue line, increased sharply. The first, month-long lockdown was imposed during this period, as indicated by the soft-orange shade. The result of the lockdown was effective as the number of reported hospitalization started to decline and kept declining over the next few months. The number of deaths was still rising at the end of the first lockdown, but started to stabilize soon after.\n",
    "\n",
    "This was a positive indication that the imposed lockdown was effective in controlling the spread of the virus.\n",
    "\n",
    "As the restictions started to loosen up, the public started to gather in larger numbers, which was an opportunity for the virus to spread again. This is indicated by the rise on both total deaths and hospitalized starting September. To control the rapid increase, the government mandated the use of mask on all public places starting October 29, represented by the black, dashed line.\n",
    "\n",
    "Ever since, the numbers started to grow. The plot above shows a sharp incline starting November. And with the holidays starting, the government imposed second lockdown starting December 09, 2020, which is the date of conducting this experiment. This was an attempt to reduce the number of gatherings and parties, and limit them to families to control the spread of the COVID-19."
   ]
  },
  {
   "cell_type": "markdown",
   "metadata": {},
   "source": [
    "### 4.2 Total confirmed cased and total tested"
   ]
  },
  {
   "cell_type": "code",
   "execution_count": 12,
   "metadata": {},
   "outputs": [
    {
     "data": {
      "image/png": "[encoded data removed]",
      "text/plain": [
       "plot without title"
      ]
     },
     "metadata": {},
     "output_type": "display_data"
    }
   ],
   "source": [
    "##########################################################################################################################\n",
    "############ Step 1: First we create a plot \"A\" for total number of people tested and assign it to a variable ############\n",
    "##########################################################################################################################\n",
    "\n",
    "total_tested_plot <- ggplot(denmark_covid_data, aes(x = date)) +        # Specify the data frame and x-axis for the plot\n",
    "geom_line(aes(y = total_tests, color = \"red\"), lwd = 1) +               # Line plot for total number of peple tested\n",
    "scale_x_date(breaks = date_breaks(\"1 months\"), date_labels = \"%b\") +    # Improving the x-axis to show all months\n",
    "xlab(\"Months in 2020\") +                                                # Label for x-axis\n",
    "scale_y_continuous(\"No. of people tested\",                              # Label for y-axis\n",
    "                   labels = function(x) format(x, scientific = FALSE)   # Change from exponentials to human readable numbers\n",
    "                   ) +\n",
    "ggtitle(\"COVID-19: Total tested\") +                                     # Title for the plot A\n",
    "scale_color_identity(name = \"\",                                         # Legend for the line plot\n",
    "                     breaks = \"red\",\n",
    "                     labels = \"Total tested\",\n",
    "                     guide = \"legend\"\n",
    "                     ) +\n",
    "multiple_grid_plot_theme_config\n",
    "\n",
    "\n",
    "##########################################################################################################################\n",
    "############Step 2: Then we create a plot \"B\" for total number of confirmed cases and assign it to a variable ###########\n",
    "##########################################################################################################################\n",
    "\n",
    "total_confirmed_cases_plot <- ggplot(denmark_covid_data, aes(x = date)) +   # Specify the data frame and x-axis for the plot\n",
    "geom_line(aes(y = total_cases, color = \"blue\"), lwd = 1) +                  # Line plot for total confirmed cases\n",
    "scale_x_date(breaks = date_breaks(\"1 months\"), date_labels = \"%b\") +        # Improving the x-axis to show all months\n",
    "xlab(\"Months in 2020\") +                                                    # Label for x-axis\n",
    "scale_y_continuous(\"No. of confirmed cases\",                                # Label for y-axis\n",
    "                   labels = function(x) format(x, scientific = FALSE)\n",
    "                   ) +\n",
    "ggtitle(\"COVID-19: Total confimed cases\") +                                 # Title for the plot\n",
    "scale_color_identity(name = \"\",                                             # Legend for the line plot\n",
    "                     breaks = \"blue\",\n",
    "                     labels = \"Total confirmed cases\",\n",
    "                     guide = \"legend\"\n",
    "                     ) +\n",
    "multiple_grid_plot_theme_config\n",
    "\n",
    "\n",
    "##########################################################################################################################\n",
    "##################### Step 3: Then we create a combined plot for \"A\" & \"B\" and assign it to a variable ###################\n",
    "##########################################################################################################################\n",
    "\n",
    "combined_plot <- ggplot(denmark_covid_data, aes(x = date)) +             # Specify the data frame and x-axis for the plot\n",
    "geom_line(aes(y = total_tests, color = \"red\"), lwd = 1) +                # Line plot for total number of peple tested\n",
    "geom_line(aes(y = total_cases, color = \"blue\"), lwd = 1) +               # Line plot for total confirmed cases\n",
    "scale_x_date(breaks = date_breaks(\"1 months\"), date_labels = \"%b\") +     # Improving the x-axis to show all months\n",
    "xlab(\"Months in 2020\") +                                                 # Label for x-axis\n",
    "scale_y_continuous(\"No. of people\",                                      # Label for y-axis\n",
    "                   labels = function(x) format(x, scientific = FALSE)\n",
    "                   ) +\n",
    "ggtitle(\"COVID-19: Total tesed and total cases (A & B)\") +               # Title for the plot\n",
    "scale_color_identity(name = \"\",                                          # Legend for the line plot\n",
    "                     breaks = c(\"red\", \"blue\"),\n",
    "                     labels = c(\"Total tested\", \"Total confirmed cases\"),\n",
    "                     guide = \"legend\") +\n",
    "multiple_grid_plot_theme_config\n",
    "\n",
    "\n",
    "\n",
    "##########################################################################################################################\n",
    "####################################### Step 4: Finally make a grid of all 3 plots ######################################\n",
    "##########################################################################################################################\n",
    "plot_grid(total_tested_plot, total_confirmed_cases_plot, combined_plot, labels = \"AUTO\")\n"
   ]
  },
  {
   "cell_type": "markdown",
   "metadata": {},
   "source": [
    "Correlation and causation\n",
    "\n",
    "Dependent variable - Y axis\n",
    "Independent variable - X axis"
   ]
  },
  {
   "cell_type": "markdown",
   "metadata": {},
   "source": [
    "Scatter plot\n",
    "\n",
    "Plot to show the correlation between total tested and total cases"
   ]
  },
  {
   "cell_type": "code",
   "execution_count": 13,
   "metadata": {},
   "outputs": [
    {
     "name": "stderr",
     "output_type": "stream",
     "text": [
      "`geom_smooth()` using formula 'y ~ x'\n"
     ]
    },
    {
     "data": {
      "text/plain": [
       "\n",
       "Call:\n",
       "lm(formula = denmark_covid_data$total_cases ~ denmark_covid_data$total_tests)\n",
       "\n",
       "Residuals:\n",
       "    Min      1Q  Median      3Q     Max \n",
       "-9887.2 -4118.7   101.2  4273.5 22046.9 \n",
       "\n",
       "Coefficients:\n",
       "                                Estimate Std. Error t value Pr(>|t|)    \n",
       "(Intercept)                    1.604e+03  4.858e+02   3.302  0.00108 ** \n",
       "denmark_covid_data$total_tests 9.159e-03  1.515e-04  60.435  < 2e-16 ***\n",
       "---\n",
       "Signif. codes:  0 '***' 0.001 '**' 0.01 '*' 0.05 '.' 0.1 ' ' 1\n",
       "\n",
       "Residual standard error: 5884 on 285 degrees of freedom\n",
       "  (36 observations deleted due to missingness)\n",
       "Multiple R-squared:  0.9276,\tAdjusted R-squared:  0.9274 \n",
       "F-statistic:  3652 on 1 and 285 DF,  p-value: < 2.2e-16\n"
      ]
     },
     "metadata": {},
     "output_type": "display_data"
    },
    {
     "data": {
      "image/png": "[encoded data removed]",
      "text/plain": [
       "plot without title"
      ]
     },
     "metadata": {},
     "output_type": "display_data"
    }
   ],
   "source": [
    "ggplot(denmark_covid_data, aes(x=total_tests, y=total_cases)) +\n",
    "geom_point() +\n",
    "geom_smooth(method = \"lm\") +\n",
    "scale_x_continuous(\"No. of people tested\",                              # Label for y-axis\n",
    "                   labels = function(x) format(x, scientific = FALSE)   # Change from exponentials to human readable numbers\n",
    "                   ) +\n",
    "single_plot_theme_config\n",
    "\n",
    "modFit0 <- lm(denmark_covid_data$total_cases~denmark_covid_data$total_tests)\n",
    "summary(modFit0)\n"
   ]
  },
  {
   "cell_type": "markdown",
   "metadata": {},
   "source": [
    "**TODO:** \n",
    "1. Face mask mandate when?\n",
    "    - On public transport: August 22, On public places/businesses: October 29\n",
    "2. Data for daily cases?\n",
    "    - https://ourworldindata.org/coronavirus/country/denmark?country=~DNK\n",
    "3. Redo with English data\n",
    "    - https://www.statistikbanken.dk/SMIT1\n",
    "4. Predictions\n",
    "5. Conclusions"
   ]
  },
  {
   "cell_type": "code",
   "execution_count": 14,
   "metadata": {},
   "outputs": [
    {
     "name": "stdout",
     "output_type": "stream",
     "text": [
      "'data.frame':\t323 obs. of  50 variables:\n",
      " $ iso_code                          : chr  \"DNK\" \"DNK\" \"DNK\" \"DNK\" ...\n",
      " $ continent                         : chr  \"Europe\" \"Europe\" \"Europe\" \"Europe\" ...\n",
      " $ location                          : chr  \"Denmark\" \"Denmark\" \"Denmark\" \"Denmark\" ...\n",
      " $ date                              : Date, format: \"2020-01-23\" \"2020-01-24\" ...\n",
      " $ total_cases                       : num  NA NA NA NA NA NA NA NA NA NA ...\n",
      " $ new_cases                         : num  0 0 0 0 0 0 0 0 0 0 ...\n",
      " $ new_cases_smoothed                : num  NA NA NA NA NA 0 0 0 0 0 ...\n",
      " $ total_deaths                      : int  NA NA NA NA NA NA NA NA NA NA ...\n",
      " $ new_deaths                        : num  0 0 0 0 0 0 0 0 0 0 ...\n",
      " $ new_deaths_smoothed               : num  NA NA NA NA NA 0 0 0 0 0 ...\n",
      " $ total_cases_per_million           : num  NA NA NA NA NA NA NA NA NA NA ...\n",
      " $ new_cases_per_million             : num  0 0 0 0 0 0 0 0 0 0 ...\n",
      " $ new_cases_smoothed_per_million    : num  NA NA NA NA NA 0 0 0 0 0 ...\n",
      " $ total_deaths_per_million          : num  NA NA NA NA NA NA NA NA NA NA ...\n",
      " $ new_deaths_per_million            : num  0 0 0 0 0 0 0 0 0 0 ...\n",
      " $ new_deaths_smoothed_per_million   : num  NA NA NA NA NA 0 0 0 0 0 ...\n",
      " $ reproduction_rate                 : num  NA NA NA NA NA NA NA NA NA NA ...\n",
      " $ icu_patients                      : num  NA NA NA NA NA NA NA NA NA NA ...\n",
      " $ icu_patients_per_million          : num  NA NA NA NA NA NA NA NA NA NA ...\n",
      " $ hosp_patients                     : num  NA NA NA NA NA NA NA NA NA NA ...\n",
      " $ hosp_patients_per_million         : num  NA NA NA NA NA NA NA NA NA NA ...\n",
      " $ weekly_icu_admissions             : num  NA NA NA NA NA NA NA NA NA NA ...\n",
      " $ weekly_icu_admissions_per_million : num  NA NA NA NA NA NA NA NA NA NA ...\n",
      " $ weekly_hosp_admissions            : num  NA NA NA NA NA NA NA NA NA NA ...\n",
      " $ weekly_hosp_admissions_per_million: num  NA NA NA NA NA NA NA NA NA NA ...\n",
      " $ new_tests                         : num  NA NA NA NA 1 NA 1 NA NA NA ...\n",
      " $ total_tests                       : num  NA NA NA NA 1 NA 2 NA NA NA ...\n",
      " $ total_tests_per_thousand          : num  NA NA NA NA 0 NA 0 NA NA NA ...\n",
      " $ new_tests_per_thousand            : num  NA NA NA NA 0 NA 0 NA NA NA ...\n",
      " $ new_tests_smoothed                : num  NA NA NA NA NA NA NA NA NA NA ...\n",
      " $ new_tests_smoothed_per_thousand   : num  NA NA NA NA NA NA NA NA NA NA ...\n",
      " $ positive_rate                     : num  NA NA NA NA NA NA NA NA NA NA ...\n",
      " $ tests_per_case                    : num  NA NA NA NA NA NA NA NA NA NA ...\n",
      " $ tests_units                       : chr  \"\" \"\" \"\" \"\" ...\n",
      " $ stringency_index                  : num  0 0 0 0 0 0 0 0 0 0 ...\n",
      " $ population                        : num  5792203 5792203 5792203 5792203 5792203 ...\n",
      " $ population_density                : num  137 137 137 137 137 ...\n",
      " $ median_age                        : num  42.3 42.3 42.3 42.3 42.3 42.3 42.3 42.3 42.3 42.3 ...\n",
      " $ aged_65_older                     : num  19.7 19.7 19.7 19.7 19.7 ...\n",
      " $ aged_70_older                     : num  12.3 12.3 12.3 12.3 12.3 ...\n",
      " $ gdp_per_capita                    : num  46683 46683 46683 46683 46683 ...\n",
      " $ extreme_poverty                   : num  0.2 0.2 0.2 0.2 0.2 0.2 0.2 0.2 0.2 0.2 ...\n",
      " $ cardiovasc_death_rate             : num  115 115 115 115 115 ...\n",
      " $ diabetes_prevalence               : num  6.41 6.41 6.41 6.41 6.41 6.41 6.41 6.41 6.41 6.41 ...\n",
      " $ female_smokers                    : num  19.3 19.3 19.3 19.3 19.3 19.3 19.3 19.3 19.3 19.3 ...\n",
      " $ male_smokers                      : num  18.8 18.8 18.8 18.8 18.8 18.8 18.8 18.8 18.8 18.8 ...\n",
      " $ handwashing_facilities            : num  NA NA NA NA NA NA NA NA NA NA ...\n",
      " $ hospital_beds_per_thousand        : num  2.5 2.5 2.5 2.5 2.5 2.5 2.5 2.5 2.5 2.5 ...\n",
      " $ life_expectancy                   : num  80.9 80.9 80.9 80.9 80.9 80.9 80.9 80.9 80.9 80.9 ...\n",
      " $ human_development_index           : num  0.929 0.929 0.929 0.929 0.929 0.929 0.929 0.929 0.929 0.929 ...\n"
     ]
    }
   ],
   "source": [
    "str(denmark_covid_data)"
   ]
  }
 ],
 "metadata": {
  "kernelspec": {
   "display_name": "R",
   "language": "R",
   "name": "ir"
  },
  "language_info": {
   "codemirror_mode": "r",
   "file_extension": ".r",
   "mimetype": "text/x-r-source",
   "name": "R",
   "pygments_lexer": "r",
   "version": "3.6.1"
  }
 },
 "nbformat": 4,
 "nbformat_minor": 4
}
