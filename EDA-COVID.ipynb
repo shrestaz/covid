{
 "cells": [
  {
   "cell_type": "markdown",
   "metadata": {},
   "source": [
    "### Preparing the R environment\n",
    "\n",
    "Install the required packages to be used inside the project."
   ]
  },
  {
   "cell_type": "code",
   "execution_count": 1,
   "metadata": {
    "scrolled": true
   },
   "outputs": [
    {
     "name": "stderr",
     "output_type": "stream",
     "text": [
      "\n",
      "Attaching package: 'lubridate'\n",
      "\n",
      "The following object is masked from 'package:base':\n",
      "\n",
      "    date\n",
      "\n"
     ]
    },
    {
     "name": "stdout",
     "output_type": "stream",
     "text": [
      "package 'scales' successfully unpacked and MD5 sums checked\n",
      "\n",
      "The downloaded binary packages are in\n",
      "\tC:\\Users\\thatonedroid\\AppData\\Local\\Temp\\RtmpAP2wDD\\downloaded_packages\n",
      "package 'tidyverse' successfully unpacked and MD5 sums checked\n",
      "\n",
      "The downloaded binary packages are in\n",
      "\tC:\\Users\\thatonedroid\\AppData\\Local\\Temp\\RtmpAP2wDD\\downloaded_packages\n"
     ]
    },
    {
     "name": "stderr",
     "output_type": "stream",
     "text": [
      "-- Attaching packages --------------------------------------- tidyverse 1.3.0 --\n",
      "v ggplot2 3.3.2     v purrr   0.3.4\n",
      "v tibble  3.0.4     v dplyr   1.0.2\n",
      "v tidyr   1.1.2     v stringr 1.4.0\n",
      "v readr   1.3.1     v forcats 0.4.0\n",
      "-- Conflicts ------------------------------------------ tidyverse_conflicts() --\n",
      "x lubridate::as.difftime() masks base::as.difftime()\n",
      "x readr::col_factor()      masks scales::col_factor()\n",
      "x lubridate::date()        masks base::date()\n",
      "x purrr::discard()         masks scales::discard()\n",
      "x dplyr::filter()          masks stats::filter()\n",
      "x lubridate::intersect()   masks base::intersect()\n",
      "x dplyr::lag()             masks stats::lag()\n",
      "x lubridate::setdiff()     masks base::setdiff()\n",
      "x lubridate::union()       masks base::union()\n"
     ]
    }
   ],
   "source": [
    "########################################################\n",
    "###### Suppressing warnings for a cleaner output #######\n",
    "########################################################\n",
    "options(warn=-1)\n",
    "\n",
    "########################################################\n",
    "#### Installing and importing the required packages ####\n",
    "########################################################\n",
    "library(lubridate)                 # library to help work with dates\n",
    "install.packages(\"scales\")         # Scale Functions for Visualization\n",
    "library(scales)\n",
    "\n",
    "install.packages(\"tidyverse\")      # Collection of packages to model, transform, and visualize data\n",
    "library(tidyverse)                 # for declaratively creating graphics\n",
    "library(dplyr)\n",
    "\n",
    "library(ggpubr)\n",
    "\n",
    "# install.packages(\"cowplot\")\n",
    "# library(cowplot)                   # Arrange 2 plots side-by-side https://stackoverflow.com/a/31223588/9332260"
   ]
  },
  {
   "cell_type": "markdown",
   "metadata": {},
   "source": [
    "# Exploratory Data Analysis: COVID-19\n",
    "\n",
    "In this Jupyter notebook, we perform a self expertimentation of Exploratory Data Analysis (EDA) for Denmark's COVID-19 cases in R. R is a language and environment for statistical computing and graphics (**cite: https://www.r-project.org/about.html**) which is perfect in this project as the goal is to visualize data and tell a conclusion/story based on real decisions."
   ]
  },
  {
   "cell_type": "markdown",
   "metadata": {},
   "source": [
    "## 1. Identify business problem\n",
    "\n",
    "The first step to Exploratory Data Analysis (EDA) is to identify the business problem. The business case revolves around the understanding of the situation and the use of data to prevent spread of COVID-19 virus in Denmark. The aim is to analyze the data and compare against the decisions made and enforced by the officials and the health experts, primarily the two lockdowns from March and Decemberof 2020. This EDA is not a solution to the problem but the ambition is to understand if gathering factual data aided in effective decision making by the authorities. "
   ]
  },
  {
   "cell_type": "markdown",
   "metadata": {},
   "source": [
    "## 2. Data collection\n",
    "\n",
    "The data used in this analysis is collected from Statistibanken, which is a public database maintained and made available by Danmarks Statistik --- the central statistics office in Denmark under the Ministry of Economy. The data consists of official records of total people tested, infections, deaths and admission to hospital to among other key figures. The data was collected starting from March 21, 2020, which gets updated frequently. The latest data as of conducting the experiment is up until December 15, 2020."
   ]
  },
  {
   "cell_type": "markdown",
   "metadata": {},
   "source": [
    "## 3. Data preparation\n",
    "\n",
    "The data from Statistikbanken is made available in multiple formats so people can choose how they want the data, for example: an Excel sheet or a plain text file. For this analaysis, we chose to use the data as a CSV (comma-separated value) file for ease of use. In the following steps, we will go through the process of loading the data, tidying it and preparing it for the analysis."
   ]
  },
  {
   "cell_type": "markdown",
   "metadata": {},
   "source": [
    "### 3.1 Load the data into R and inspect\n",
    "\n",
    "In the following steps, we load the raw data into this R notebook and inspect if it is workable and understandable. If not, we must proceed to transform the data. Without a clear understanding of data, the anaylsis will be out of scope.\n",
    "\n",
    "After we load the data into the R notebook, we examine to ensure the target data and/or key figures exists. "
   ]
  },
  {
   "cell_type": "code",
   "execution_count": 4,
   "metadata": {},
   "outputs": [
    {
     "data": {
      "text/html": [
       "<ol class=list-inline>\n",
       "\t<li>'covid-data-modified.csv'</li>\n",
       "\t<li>'covid-data-statistikbanken.csv'</li>\n",
       "\t<li>'EDA-COVID-Copy1.ipynb'</li>\n",
       "\t<li>'EDA-COVID.ipynb'</li>\n",
       "\t<li>'README.md'</li>\n",
       "</ol>\n"
      ],
      "text/latex": [
       "\\begin{enumerate*}\n",
       "\\item 'covid-data-modified.csv'\n",
       "\\item 'covid-data-statistikbanken.csv'\n",
       "\\item 'EDA-COVID-Copy1.ipynb'\n",
       "\\item 'EDA-COVID.ipynb'\n",
       "\\item 'README.md'\n",
       "\\end{enumerate*}\n"
      ],
      "text/markdown": [
       "1. 'covid-data-modified.csv'\n",
       "2. 'covid-data-statistikbanken.csv'\n",
       "3. 'EDA-COVID-Copy1.ipynb'\n",
       "4. 'EDA-COVID.ipynb'\n",
       "5. 'README.md'\n",
       "\n",
       "\n"
      ],
      "text/plain": [
       "[1] \"covid-data-modified.csv\"        \"covid-data-statistikbanken.csv\"\n",
       "[3] \"EDA-COVID-Copy1.ipynb\"          \"EDA-COVID.ipynb\"               \n",
       "[5] \"README.md\"                     "
      ]
     },
     "metadata": {},
     "output_type": "display_data"
    }
   ],
   "source": [
    "list.files(\".\")"
   ]
  },
  {
   "cell_type": "code",
   "execution_count": 2,
   "metadata": {},
   "outputs": [],
   "source": [
    "# Create a dataframe by reading the file containing the dataset\n",
    "\n",
    "denmark_covid_data <- read.csv(\"covid-data-statistikbanken.csv\", encoding=\"UTF-8\")"
   ]
  },
  {
   "cell_type": "markdown",
   "metadata": {},
   "source": [
    "### 3.2 Initial inspection and feedback\n",
    "\n",
    "Now that the target data is loaded and ready to be used, we inspect and conclude which transformations are needed. To do so, we print the first few rows of the data."
   ]
  },
  {
   "cell_type": "code",
   "execution_count": 3,
   "metadata": {},
   "outputs": [
    {
     "data": {
      "text/html": [
       "<table>\n",
       "<thead><tr><th scope=col>X.</th><th scope=col>M03D21</th><th scope=col>M03D22</th><th scope=col>M03D23</th><th scope=col>M03D24</th><th scope=col>M03D25</th><th scope=col>M03D26</th><th scope=col>M03D27</th><th scope=col>M03D28</th><th scope=col>M03D29</th><th scope=col>...</th><th scope=col>M12D06</th><th scope=col>M12D07</th><th scope=col>M12D08</th><th scope=col>M12D09</th><th scope=col>M12D10</th><th scope=col>M12D11</th><th scope=col>M12D12</th><th scope=col>M12D13</th><th scope=col>M12D14</th><th scope=col>M12D15</th></tr></thead>\n",
       "<tbody>\n",
       "\t<tr><td>Confirmed cases of COVID-19 (total)             </td><td>1326                                            </td><td>1395                                            </td><td>1450                                            </td><td>1577                                            </td><td>1715                                            </td><td>1851                                            </td><td>2010                                            </td><td>2201                                            </td><td>2395                                            </td><td>...                                             </td><td>  90603                                         </td><td>  92649                                         </td><td>  94799                                         </td><td>  97357                                         </td><td> 100489                                         </td><td> 103564                                         </td><td> 107116                                         </td><td> 109758                                         </td><td> 113095                                         </td><td> 116087                                         </td></tr>\n",
       "\t<tr><td>Recovered from COVID-19 infection (total        </td><td>..                                              </td><td>..                                              </td><td>..                                              </td><td>..                                              </td><td>..                                              </td><td>..                                              </td><td>..                                              </td><td>..                                              </td><td>..                                              </td><td>...                                             </td><td>  70876                                         </td><td>  71882                                         </td><td>  73052                                         </td><td>  74367                                         </td><td>  75664                                         </td><td>  76927                                         </td><td>  78236                                         </td><td>  79394                                         </td><td>  80564                                         </td><td>  82099                                         </td></tr>\n",
       "\t<tr><td>Number of persons tested for COVID-19 (total)   </td><td>11657                                           </td><td>12351                                           </td><td>12843                                           </td><td>13756                                           </td><td>14870                                           </td><td>15981                                           </td><td>17275                                           </td><td>18810                                           </td><td>20198                                           </td><td>...                                             </td><td>3524861                                         </td><td>3541148                                         </td><td>3556264                                         </td><td>3572954                                         </td><td>3592677                                         </td><td>3611456                                         </td><td>3630815                                         </td><td>3646152                                         </td><td>3664247                                         </td><td>3680607                                         </td></tr>\n",
       "\t<tr><td>Deaths with COVID-19 (total)                    </td><td>22                                              </td><td>25                                              </td><td>31                                              </td><td>37                                              </td><td>43                                              </td><td>55                                              </td><td>67                                              </td><td>76                                              </td><td>84                                              </td><td>...                                             </td><td>    899                                         </td><td>    905                                         </td><td>    912                                         </td><td>    922                                         </td><td>    928                                         </td><td>    935                                         </td><td>    943                                         </td><td>    954                                         </td><td>    961                                         </td><td>    961                                         </td></tr>\n",
       "\t<tr><td>Deaths with COVID-19 per day                    </td><td>3                                               </td><td>3                                               </td><td>6                                               </td><td>6                                               </td><td>6                                               </td><td>12                                              </td><td>12                                              </td><td>9                                               </td><td>8                                               </td><td>...                                             </td><td>      8                                         </td><td>      6                                         </td><td>      7                                         </td><td>     10                                         </td><td>      6                                         </td><td>      7                                         </td><td>      8                                         </td><td>     11                                         </td><td>      7                                         </td><td>      0                                         </td></tr>\n",
       "\t<tr><td>Persons hospitalised in connection with COVID-19</td><td>206                                             </td><td>232                                             </td><td>254                                             </td><td>301                                             </td><td>350                                             </td><td>386                                             </td><td>430                                             </td><td>459                                             </td><td>499                                             </td><td>...                                             </td><td>    302                                         </td><td>    328                                         </td><td>    354                                         </td><td>    349                                         </td><td>    342                                         </td><td>    361                                         </td><td>    371                                         </td><td>    390                                         </td><td>    429                                         </td><td>    439                                         </td></tr>\n",
       "</tbody>\n",
       "</table>\n"
      ],
      "text/latex": [
       "\\begin{tabular}{r|lllllllllllllllllllllllllllllllllllllllllllllllllllllllllllllllllllllllllllllllllllllllllllllllllllllllllllllllllllllllllllllllllllllllllllllllllllllllllllllllllllllllllllllllllllllllllllllllllllllllllllllllllllllllllllllllllllllllllllllllllllllllllllllllllllllllllllllll}\n",
       " X. & M03D21 & M03D22 & M03D23 & M03D24 & M03D25 & M03D26 & M03D27 & M03D28 & M03D29 & ... & M12D06 & M12D07 & M12D08 & M12D09 & M12D10 & M12D11 & M12D12 & M12D13 & M12D14 & M12D15\\\\\n",
       "\\hline\n",
       "\t Confirmed cases of COVID-19 (total)              & 1326                                             & 1395                                             & 1450                                             & 1577                                             & 1715                                             & 1851                                             & 2010                                             & 2201                                             & 2395                                             & ...                                              &   90603                                          &   92649                                          &   94799                                          &   97357                                          &  100489                                          &  103564                                          &  107116                                          &  109758                                          &  113095                                          &  116087                                         \\\\\n",
       "\t Recovered from COVID-19 infection (total         & ..                                               & ..                                               & ..                                               & ..                                               & ..                                               & ..                                               & ..                                               & ..                                               & ..                                               & ...                                              &   70876                                          &   71882                                          &   73052                                          &   74367                                          &   75664                                          &   76927                                          &   78236                                          &   79394                                          &   80564                                          &   82099                                         \\\\\n",
       "\t Number of persons tested for COVID-19 (total)    & 11657                                            & 12351                                            & 12843                                            & 13756                                            & 14870                                            & 15981                                            & 17275                                            & 18810                                            & 20198                                            & ...                                              & 3524861                                          & 3541148                                          & 3556264                                          & 3572954                                          & 3592677                                          & 3611456                                          & 3630815                                          & 3646152                                          & 3664247                                          & 3680607                                         \\\\\n",
       "\t Deaths with COVID-19 (total)                     & 22                                               & 25                                               & 31                                               & 37                                               & 43                                               & 55                                               & 67                                               & 76                                               & 84                                               & ...                                              &     899                                          &     905                                          &     912                                          &     922                                          &     928                                          &     935                                          &     943                                          &     954                                          &     961                                          &     961                                         \\\\\n",
       "\t Deaths with COVID-19 per day                     & 3                                                & 3                                                & 6                                                & 6                                                & 6                                                & 12                                               & 12                                               & 9                                                & 8                                                & ...                                              &       8                                          &       6                                          &       7                                          &      10                                          &       6                                          &       7                                          &       8                                          &      11                                          &       7                                          &       0                                         \\\\\n",
       "\t Persons hospitalised in connection with COVID-19 & 206                                              & 232                                              & 254                                              & 301                                              & 350                                              & 386                                              & 430                                              & 459                                              & 499                                              & ...                                              &     302                                          &     328                                          &     354                                          &     349                                          &     342                                          &     361                                          &     371                                          &     390                                          &     429                                          &     439                                         \\\\\n",
       "\\end{tabular}\n"
      ],
      "text/markdown": [
       "\n",
       "| X. | M03D21 | M03D22 | M03D23 | M03D24 | M03D25 | M03D26 | M03D27 | M03D28 | M03D29 | ... | M12D06 | M12D07 | M12D08 | M12D09 | M12D10 | M12D11 | M12D12 | M12D13 | M12D14 | M12D15 |\n",
       "|---|---|---|---|---|---|---|---|---|---|---|---|---|---|---|---|---|---|---|---|---|\n",
       "| Confirmed cases of COVID-19 (total)              | 1326                                             | 1395                                             | 1450                                             | 1577                                             | 1715                                             | 1851                                             | 2010                                             | 2201                                             | 2395                                             | ...                                              |   90603                                          |   92649                                          |   94799                                          |   97357                                          |  100489                                          |  103564                                          |  107116                                          |  109758                                          |  113095                                          |  116087                                          |\n",
       "| Recovered from COVID-19 infection (total         | ..                                               | ..                                               | ..                                               | ..                                               | ..                                               | ..                                               | ..                                               | ..                                               | ..                                               | ...                                              |   70876                                          |   71882                                          |   73052                                          |   74367                                          |   75664                                          |   76927                                          |   78236                                          |   79394                                          |   80564                                          |   82099                                          |\n",
       "| Number of persons tested for COVID-19 (total)    | 11657                                            | 12351                                            | 12843                                            | 13756                                            | 14870                                            | 15981                                            | 17275                                            | 18810                                            | 20198                                            | ...                                              | 3524861                                          | 3541148                                          | 3556264                                          | 3572954                                          | 3592677                                          | 3611456                                          | 3630815                                          | 3646152                                          | 3664247                                          | 3680607                                          |\n",
       "| Deaths with COVID-19 (total)                     | 22                                               | 25                                               | 31                                               | 37                                               | 43                                               | 55                                               | 67                                               | 76                                               | 84                                               | ...                                              |     899                                          |     905                                          |     912                                          |     922                                          |     928                                          |     935                                          |     943                                          |     954                                          |     961                                          |     961                                          |\n",
       "| Deaths with COVID-19 per day                     | 3                                                | 3                                                | 6                                                | 6                                                | 6                                                | 12                                               | 12                                               | 9                                                | 8                                                | ...                                              |       8                                          |       6                                          |       7                                          |      10                                          |       6                                          |       7                                          |       8                                          |      11                                          |       7                                          |       0                                          |\n",
       "| Persons hospitalised in connection with COVID-19 | 206                                              | 232                                              | 254                                              | 301                                              | 350                                              | 386                                              | 430                                              | 459                                              | 499                                              | ...                                              |     302                                          |     328                                          |     354                                          |     349                                          |     342                                          |     361                                          |     371                                          |     390                                          |     429                                          |     439                                          |\n",
       "\n"
      ],
      "text/plain": [
       "  X.                                               M03D21 M03D22 M03D23 M03D24\n",
       "1 Confirmed cases of COVID-19 (total)              1326   1395   1450   1577  \n",
       "2 Recovered from COVID-19 infection (total         ..     ..     ..     ..    \n",
       "3 Number of persons tested for COVID-19 (total)    11657  12351  12843  13756 \n",
       "4 Deaths with COVID-19 (total)                     22     25     31     37    \n",
       "5 Deaths with COVID-19 per day                     3      3      6      6     \n",
       "6 Persons hospitalised in connection with COVID-19 206    232    254    301   \n",
       "  M03D25 M03D26 M03D27 M03D28 M03D29 ... M12D06  M12D07  M12D08  M12D09 \n",
       "1 1715   1851   2010   2201   2395   ...   90603   92649   94799   97357\n",
       "2 ..     ..     ..     ..     ..     ...   70876   71882   73052   74367\n",
       "3 14870  15981  17275  18810  20198  ... 3524861 3541148 3556264 3572954\n",
       "4 43     55     67     76     84     ...     899     905     912     922\n",
       "5 6      12     12     9      8      ...       8       6       7      10\n",
       "6 350    386    430    459    499    ...     302     328     354     349\n",
       "  M12D10  M12D11  M12D12  M12D13  M12D14  M12D15 \n",
       "1  100489  103564  107116  109758  113095  116087\n",
       "2   75664   76927   78236   79394   80564   82099\n",
       "3 3592677 3611456 3630815 3646152 3664247 3680607\n",
       "4     928     935     943     954     961     961\n",
       "5       6       7       8      11       7       0\n",
       "6     342     361     371     390     429     439"
      ]
     },
     "metadata": {},
     "output_type": "display_data"
    }
   ],
   "source": [
    "head(denmark_covid_data)"
   ]
  },
  {
   "cell_type": "markdown",
   "metadata": {},
   "source": [
    "In the initial inspection, the data looks to be well prepared and organized but still not ready to be used. Based on the requirements and researchers, the transformations required is subjective. For our use case, the required transformations are listed below:\n",
    "\n",
    "- The key indicators, i.e the names describing the values, are the first cell in every row. It needs to be transposed (rotated) such that the key indicators are the first cell of every columns. In simple terms, the x-axis and y-axis needs to be reversed. \n",
    "- The timeline is denoted by the format `MxxDxx`. For flexibility and general understanding, the date needs to be transformed into the international ISO format `yyyy-mm-dd`.\n",
    "- The missing values are represented by `..`. Those should updated to either empty values or `NA` so that R can interpret it as missing value.\n",
    "- Some interesting key indicators are missing, such as the daily confirmed cases. To rectify this situation, we can simply subtract the total number of cases of a certain day minus the day before, throughout the timeline.\n",
    "- Finally, to adhere to R's naming covention, we rename each of the key indicators to follow snake case using \"_\", for example `some_key_indicator`.\n",
    "\n",
    "All of the above steps to transform the data was done in Google Sheets (Microsoft Excel alternative) with the power of mathematical functions called formulas.\n",
    "\n",
    "## write some shit to explain we didn't have to collect data manually and thank statistikbanken."
   ]
  },
  {
   "cell_type": "code",
   "execution_count": 7,
   "metadata": {},
   "outputs": [
    {
     "data": {
      "text/html": [
       "<ol class=list-inline>\n",
       "\t<li>'covid-data-modified.csv'</li>\n",
       "\t<li>'covid-data-statistikbanken.csv'</li>\n",
       "\t<li>'EDA-COVID-Copy1.ipynb'</li>\n",
       "\t<li>'EDA-COVID.ipynb'</li>\n",
       "\t<li>'README.md'</li>\n",
       "</ol>\n"
      ],
      "text/latex": [
       "\\begin{enumerate*}\n",
       "\\item 'covid-data-modified.csv'\n",
       "\\item 'covid-data-statistikbanken.csv'\n",
       "\\item 'EDA-COVID-Copy1.ipynb'\n",
       "\\item 'EDA-COVID.ipynb'\n",
       "\\item 'README.md'\n",
       "\\end{enumerate*}\n"
      ],
      "text/markdown": [
       "1. 'covid-data-modified.csv'\n",
       "2. 'covid-data-statistikbanken.csv'\n",
       "3. 'EDA-COVID-Copy1.ipynb'\n",
       "4. 'EDA-COVID.ipynb'\n",
       "5. 'README.md'\n",
       "\n",
       "\n"
      ],
      "text/plain": [
       "[1] \"covid-data-modified.csv\"        \"covid-data-statistikbanken.csv\"\n",
       "[3] \"EDA-COVID-Copy1.ipynb\"          \"EDA-COVID.ipynb\"               \n",
       "[5] \"README.md\"                     "
      ]
     },
     "metadata": {},
     "output_type": "display_data"
    }
   ],
   "source": [
    "list.files('.')"
   ]
  },
  {
   "cell_type": "code",
   "execution_count": 8,
   "metadata": {},
   "outputs": [],
   "source": [
    "denmark_covid_data <- read.csv(\"covid-data-modified.csv\", encoding=\"UTF-8\")"
   ]
  },
  {
   "cell_type": "code",
   "execution_count": 9,
   "metadata": {},
   "outputs": [
    {
     "data": {
      "text/html": [
       "<table>\n",
       "<thead><tr><th></th><th scope=col>X</th><th scope=col>modified_date</th><th scope=col>date</th><th scope=col>total_cases</th><th scope=col>total_recovered</th><th scope=col>total_tested</th><th scope=col>total_deaths</th><th scope=col>daily_deaths</th><th scope=col>daily_hospitalized</th><th scope=col>daily_patients_icu</th><th scope=col>daily_patients_ventilators</th><th scope=col>daily_cases</th></tr></thead>\n",
       "<tbody>\n",
       "\t<tr><th scope=row>265</th><td>M12D10    </td><td>2020-12D10</td><td>2020-12-10</td><td>100489    </td><td>75664     </td><td>3592677   </td><td>928       </td><td> 6        </td><td>342       </td><td>40        </td><td>28        </td><td>3132      </td></tr>\n",
       "\t<tr><th scope=row>266</th><td>M12D11    </td><td>2020-12D11</td><td>2020-12-11</td><td>103564    </td><td>76927     </td><td>3611456   </td><td>935       </td><td> 7        </td><td>361       </td><td>48        </td><td>27        </td><td>3075      </td></tr>\n",
       "\t<tr><th scope=row>267</th><td>M12D12    </td><td>2020-12D12</td><td>2020-12-12</td><td>107116    </td><td>78236     </td><td>3630815   </td><td>943       </td><td> 8        </td><td>371       </td><td>54        </td><td>31        </td><td>3552      </td></tr>\n",
       "\t<tr><th scope=row>268</th><td>M12D13    </td><td>2020-12D13</td><td>2020-12-13</td><td>109758    </td><td>79394     </td><td>3646152   </td><td>954       </td><td>11        </td><td>390       </td><td>58        </td><td>33        </td><td>2642      </td></tr>\n",
       "\t<tr><th scope=row>269</th><td>M12D14    </td><td>2020-12D14</td><td>2020-12-14</td><td>113095    </td><td>80564     </td><td>3664247   </td><td>961       </td><td> 7        </td><td>429       </td><td>61        </td><td>34        </td><td>3337      </td></tr>\n",
       "\t<tr><th scope=row>270</th><td>M12D15    </td><td>2020-12D15</td><td>2020-12-15</td><td>116087    </td><td>82099     </td><td>3680607   </td><td>961       </td><td> 0        </td><td>439       </td><td>68        </td><td>39        </td><td>2992      </td></tr>\n",
       "</tbody>\n",
       "</table>\n"
      ],
      "text/latex": [
       "\\begin{tabular}{r|llllllllllll}\n",
       "  & X & modified\\_date & date & total\\_cases & total\\_recovered & total\\_tested & total\\_deaths & daily\\_deaths & daily\\_hospitalized & daily\\_patients\\_icu & daily\\_patients\\_ventilators & daily\\_cases\\\\\n",
       "\\hline\n",
       "\t265 & M12D10     & 2020-12D10 & 2020-12-10 & 100489     & 75664      & 3592677    & 928        &  6         & 342        & 40         & 28         & 3132      \\\\\n",
       "\t266 & M12D11     & 2020-12D11 & 2020-12-11 & 103564     & 76927      & 3611456    & 935        &  7         & 361        & 48         & 27         & 3075      \\\\\n",
       "\t267 & M12D12     & 2020-12D12 & 2020-12-12 & 107116     & 78236      & 3630815    & 943        &  8         & 371        & 54         & 31         & 3552      \\\\\n",
       "\t268 & M12D13     & 2020-12D13 & 2020-12-13 & 109758     & 79394      & 3646152    & 954        & 11         & 390        & 58         & 33         & 2642      \\\\\n",
       "\t269 & M12D14     & 2020-12D14 & 2020-12-14 & 113095     & 80564      & 3664247    & 961        &  7         & 429        & 61         & 34         & 3337      \\\\\n",
       "\t270 & M12D15     & 2020-12D15 & 2020-12-15 & 116087     & 82099      & 3680607    & 961        &  0         & 439        & 68         & 39         & 2992      \\\\\n",
       "\\end{tabular}\n"
      ],
      "text/markdown": [
       "\n",
       "| <!--/--> | X | modified_date | date | total_cases | total_recovered | total_tested | total_deaths | daily_deaths | daily_hospitalized | daily_patients_icu | daily_patients_ventilators | daily_cases |\n",
       "|---|---|---|---|---|---|---|---|---|---|---|---|---|\n",
       "| 265 | M12D10     | 2020-12D10 | 2020-12-10 | 100489     | 75664      | 3592677    | 928        |  6         | 342        | 40         | 28         | 3132       |\n",
       "| 266 | M12D11     | 2020-12D11 | 2020-12-11 | 103564     | 76927      | 3611456    | 935        |  7         | 361        | 48         | 27         | 3075       |\n",
       "| 267 | M12D12     | 2020-12D12 | 2020-12-12 | 107116     | 78236      | 3630815    | 943        |  8         | 371        | 54         | 31         | 3552       |\n",
       "| 268 | M12D13     | 2020-12D13 | 2020-12-13 | 109758     | 79394      | 3646152    | 954        | 11         | 390        | 58         | 33         | 2642       |\n",
       "| 269 | M12D14     | 2020-12D14 | 2020-12-14 | 113095     | 80564      | 3664247    | 961        |  7         | 429        | 61         | 34         | 3337       |\n",
       "| 270 | M12D15     | 2020-12D15 | 2020-12-15 | 116087     | 82099      | 3680607    | 961        |  0         | 439        | 68         | 39         | 2992       |\n",
       "\n"
      ],
      "text/plain": [
       "    X      modified_date date       total_cases total_recovered total_tested\n",
       "265 M12D10 2020-12D10    2020-12-10 100489      75664           3592677     \n",
       "266 M12D11 2020-12D11    2020-12-11 103564      76927           3611456     \n",
       "267 M12D12 2020-12D12    2020-12-12 107116      78236           3630815     \n",
       "268 M12D13 2020-12D13    2020-12-13 109758      79394           3646152     \n",
       "269 M12D14 2020-12D14    2020-12-14 113095      80564           3664247     \n",
       "270 M12D15 2020-12D15    2020-12-15 116087      82099           3680607     \n",
       "    total_deaths daily_deaths daily_hospitalized daily_patients_icu\n",
       "265 928           6           342                40                \n",
       "266 935           7           361                48                \n",
       "267 943           8           371                54                \n",
       "268 954          11           390                58                \n",
       "269 961           7           429                61                \n",
       "270 961           0           439                68                \n",
       "    daily_patients_ventilators daily_cases\n",
       "265 28                         3132       \n",
       "266 27                         3075       \n",
       "267 31                         3552       \n",
       "268 33                         2642       \n",
       "269 34                         3337       \n",
       "270 39                         2992       "
      ]
     },
     "metadata": {},
     "output_type": "display_data"
    }
   ],
   "source": [
    "tail(denmark_covid_data)"
   ]
  },
  {
   "cell_type": "markdown",
   "metadata": {},
   "source": [
    "# Make note about the importance of verifying data"
   ]
  },
  {
   "cell_type": "markdown",
   "metadata": {},
   "source": [
    "# Refactor \n",
    "\n",
    "### 3.3 Verify and update data types\n",
    "\n",
    "The next step is to check the data types of the data loaded onto R. Since we read the data from a CSV file, R does not know what type of data certain inputs are. By default, it categorises unknown or mixed data types as `Factor` as they can store both strings and integers.\n",
    "\n",
    "For example, the column (or variable) `date` should be of type `Date` but R understands it as of data type `Factor`. While this is fine and we can absolutely work with it, changing it to type of `Date` allows us to be more flexible and only show the month with the month's name, rather then the original value, such as `2020-04-20`."
   ]
  },
  {
   "cell_type": "code",
   "execution_count": 10,
   "metadata": {},
   "outputs": [
    {
     "name": "stdout",
     "output_type": "stream",
     "text": [
      "'data.frame':\t270 obs. of  12 variables:\n",
      " $ X                         : Factor w/ 270 levels \"M03D21\",\"M03D22\",..: 1 2 3 4 5 6 7 8 9 10 ...\n",
      " $ modified_date             : Factor w/ 270 levels \"2020-03D21\",\"2020-03D22\",..: 1 2 3 4 5 6 7 8 9 10 ...\n",
      " $ date                      : Factor w/ 270 levels \"2020-03-21\",\"2020-03-22\",..: 1 2 3 4 5 6 7 8 9 10 ...\n",
      " $ total_cases               : int  1326 1395 1450 1577 1715 1851 2010 2201 2395 2555 ...\n",
      " $ total_recovered           : int  NA NA NA NA NA NA NA NA NA NA ...\n",
      " $ total_tested              : int  11657 12351 12843 13756 14870 15981 17275 18810 20198 21378 ...\n",
      " $ total_deaths              : int  22 25 31 37 43 55 67 76 84 95 ...\n",
      " $ daily_deaths              : int  3 3 6 6 6 12 12 9 8 11 ...\n",
      " $ daily_hospitalized        : int  206 232 254 301 350 386 430 459 499 533 ...\n",
      " $ daily_patients_icu        : int  42 46 55 59 87 94 109 121 131 137 ...\n",
      " $ daily_patients_ventilators: int  35 40 47 58 76 78 89 104 113 119 ...\n",
      " $ daily_cases               : int  71 69 55 127 138 136 159 191 194 160 ...\n"
     ]
    }
   ],
   "source": [
    "str(denmark_covid_data)"
   ]
  },
  {
   "cell_type": "code",
   "execution_count": 11,
   "metadata": {},
   "outputs": [],
   "source": [
    "denmark_covid_data$date <- ymd(denmark_covid_data$date)"
   ]
  },
  {
   "cell_type": "markdown",
   "metadata": {},
   "source": [
    "## 4. Analyze the data"
   ]
  },
  {
   "cell_type": "markdown",
   "metadata": {},
   "source": [
    "Now that we have changed the data types of the input data, we can start analyzing the data and gain understanding from it. To plot the data, we use the library `tidyverse` because of its flexibility and customization abilities."
   ]
  },
  {
   "cell_type": "code",
   "execution_count": 12,
   "metadata": {},
   "outputs": [],
   "source": [
    "# Define theme configs\n",
    "\n",
    "single_plot_theme_config <- theme_light() +\n",
    "theme(\n",
    "    aspect.ratio=1,                                                        # Fixing aspect ratio\n",
    "    plot.title = element_text(hjust = 0.5),                                # Center the title\n",
    "    )\n",
    "\n",
    "\n",
    "multiple_grid_plot_theme_config <- theme_light() +\n",
    "theme(\n",
    "    plot.title = element_text(hjust = 0.5, size = 10, face=\"bold\"),      # Center the title, adjust font size and font face\n",
    "    aspect.ratio = 1,                                                    # Fix aspect ratio\n",
    "    legend.position=c(0.35, 0.95),                                       # Append the legend inside the plot\n",
    "    plot.margin=unit(c(0,0,0,0.5),\"cm\"),                                 # Increase left margin so there's space between A & B\n",
    "    axis.title = element_text(size = rel(0.8), face=\"bold\")              # Adjust the size of x & y axis title\n",
    ")\n"
   ]
  },
  {
   "cell_type": "code",
   "execution_count": 51,
   "metadata": {},
   "outputs": [
    {
     "data": {
      "image/png": "[encoded data removed]",
      "text/plain": [
       "plot without title"
      ]
     },
     "metadata": {},
     "output_type": "display_data"
    }
   ],
   "source": [
    "# Daily cases\n",
    "options(repr.plot.width=7, repr.plot.height=5)\n",
    "\n",
    "ggplot(denmark_covid_data, aes(x = date)) +\n",
    "\n",
    "geom_rect(aes(                                                             # Rectangular shade for emphasizing on lockdown #1\n",
    "    xmin = as.Date(\"2020-03-15\"),\n",
    "    xmax = as.Date(\"2020-04-13\"),\n",
    "    ymin = -Inf, ymax = Inf, fill = \"Lockdown period\")) +\n",
    "geom_rect(aes(                                                             # Rectangular shade for emphasizing on lockdown #2\n",
    "    xmin = as.Date(\"2020-12-08\"),\n",
    "    xmax = as.Date(\"2020-12-18\"),\n",
    "    ymin = -Inf, ymax = Inf, fill = \"Lockdown period\")) +\n",
    "geom_vline(aes(                                                            # Vertical dashed line\n",
    "    xintercept = as.Date(\"2020-10-29\"),\n",
    "    linetype = \"Break\"),\n",
    "           color = \"black\",\n",
    "           lwd = 0.7\n",
    "          ) +\n",
    "\n",
    "\n",
    "geom_line(aes(y = daily_cases, color = \"dodgerblue4\"), lwd = 1) +\n",
    "scale_x_date(breaks = date_breaks(\"1 months\"), date_labels = \"%b\") +       # Improving the x-axis to show all months\n",
    "\n",
    "xlab(\"\\nMonths in 2020\") +                                                 # Label for x-axis\n",
    "scale_y_continuous(\"No. of people\\n\") +                                    # Label for y-axis\n",
    "\n",
    "ggtitle(\"COVID-19: Daily cases\") +                          # Title for the plot\n",
    "scale_fill_manual(name = \"\",                                               # Legend for the rectangular shade\n",
    "                  values=\"burlywood1\",\n",
    "                  labels=c(\"Lockdown periods\")) +\n",
    "scale_color_identity(name = \"\",                                            # Legend for the line plots\n",
    "                     breaks = c(\"dodgerblue4\"),\n",
    "                     labels = c(\"Daily cases\"),\n",
    "                     guide = \"legend\") +\n",
    "scale_linetype_manual(name = \"\",                                           # Legend for the vertical dotted line\n",
    "                      values = c(\"Break\" = \"dashed\"),\n",
    "                      labels = c(\"Mask requirement\")) + \n",
    "single_plot_theme_config"
   ]
  },
  {
   "cell_type": "markdown",
   "metadata": {},
   "source": [
    "### 4.1 Deaths, hospitalized and lockdowns\n",
    "\n",
    "Starting with one of the most impactful plotting, we analyze the data for the number of deaths and hospitalized. Along with that, we also emphasize on the 2 lockdowns enforced by the state officials, the first one from March 15, 2020 to April 13, 2020 and the recent one starting from December 9, 2020 onwards."
   ]
  },
  {
   "cell_type": "code",
   "execution_count": 52,
   "metadata": {},
   "outputs": [
    {
     "data": {
      "image/png": "[encoded data removed]",
      "text/plain": [
       "plot without title"
      ]
     },
     "metadata": {},
     "output_type": "display_data"
    }
   ],
   "source": [
    "options(repr.plot.width=7, repr.plot.height=4.5)\n",
    "\n",
    "hospitalized_plot <- ggplot(denmark_covid_data, aes(x = date)) +                                # Specify the data frame and x-axis for the plot\n",
    "geom_rect(aes(                                                             # Rectangular shade for emphasizing on lockdown #1\n",
    "    xmin = as.Date(\"2020-03-15\"),\n",
    "    xmax = as.Date(\"2020-04-13\"),\n",
    "    ymin = -Inf, ymax = Inf, fill = \"Lockdown period\")) +\n",
    "geom_rect(aes(                                                             # Rectangular shade for emphasizing on lockdown #2\n",
    "    xmin = as.Date(\"2020-12-08\"),\n",
    "    xmax = as.Date(\"2020-12-15\"),\n",
    "    ymin = -Inf, ymax = Inf, fill = \"Lockdown period\")) +\n",
    "\n",
    "geom_vline(aes(                                                            # Vertical dashed line\n",
    "    xintercept = as.Date(\"2020-10-29\"),\n",
    "    linetype = \"Break\"),\n",
    "           color = \"black\",\n",
    "           lwd = 0.7\n",
    "          ) +\n",
    "\n",
    "geom_line(aes(y = daily_hospitalized, color = \"blue\"), lwd = 1) +               # line plot for hospitalized\n",
    "\n",
    "scale_x_date(breaks = date_breaks(\"1 months\"), date_labels = \"%b\") +       # Improving the x-axis to show all months\n",
    "\n",
    "xlab(\"\\nMonths in 2020\") +                                                 # Label for x-axis\n",
    "scale_y_continuous(\"No. of people\") +                                    # Label for y-axis\n",
    "\n",
    "ggtitle(\"COVID-19: Hospitalization\") +                          # Title for the plot\n",
    "scale_fill_manual(name = \"\",                                               # Legend for the rectangular shade\n",
    "                  values=\"burlywood1\",\n",
    "                  labels=c(\"Lockdown periods\")) +\n",
    "scale_color_identity(name = \"\",                                            # Legend for the line plots\n",
    "                     breaks = c(\"blue\", \"red\"),\n",
    "                     labels = c(\"Hospitalized\", \"Deaths\"),\n",
    "                     ) +\n",
    "scale_linetype_manual(name = \"\",                                           # Legend for the vertical dotted line\n",
    "                      values = c(\"Break\" = \"dashed\"),\n",
    "                      labels = c(\"Mask requirement\")) + \n",
    "multiple_grid_plot_theme_config\n",
    "# theme(legend.position = c(1, 1), legend.justification = c(1, 1))\n",
    "\n",
    "deaths_plot <- ggplot(denmark_covid_data, aes(x = date)) +                                # Specify the data frame and x-axis for the plot\n",
    "geom_rect(aes(                                                             # Rectangular shade for emphasizing on lockdown #1\n",
    "    xmin = as.Date(\"2020-03-15\"),\n",
    "    xmax = as.Date(\"2020-04-13\"),\n",
    "    ymin = -Inf, ymax = Inf, fill = \"Lockdown period\")) +\n",
    "geom_rect(aes(                                                             # Rectangular shade for emphasizing on lockdown #2\n",
    "    xmin = as.Date(\"2020-12-08\"),\n",
    "    xmax = as.Date(\"2020-12-15\"),\n",
    "    ymin = -Inf, ymax = Inf, fill = \"Lockdown period\")) +\n",
    "\n",
    "geom_vline(aes(                                                            # Vertical dashed line\n",
    "    xintercept = as.Date(\"2020-10-29\"),\n",
    "    linetype = \"Break\"),\n",
    "           color = \"black\",\n",
    "           lwd = 0.7\n",
    "          ) +\n",
    "\n",
    "geom_line(aes(y = daily_deaths, color = \"red\"), lwd = 1) +                 # Line plot for deaths\n",
    "# geom_line(aes(y = daily_hospitalized, color = \"blue\"), lwd = 1) +               # line plot for hospitalized\n",
    "\n",
    "scale_x_date(breaks = date_breaks(\"1 months\"), date_labels = \"%b\") +       # Improving the x-axis to show all months\n",
    "\n",
    "xlab(\"\\nMonths in 2020\") +                                                 # Label for x-axis\n",
    "scale_y_continuous(\"No. of people\") +                                    # Label for y-axis\n",
    "\n",
    "ggtitle(\"COVID-19: Deaths\") +                          # Title for the plot\n",
    "scale_fill_manual(name = \"\",                                               # Legend for the rectangular shade\n",
    "                  values=\"burlywood1\",\n",
    "                  labels=c(\"Lockdown periods\")) +\n",
    "scale_color_identity(name = \"\",                                            # Legend for the line plots\n",
    "                     breaks = c(\"red\"),\n",
    "                     labels = c(\"Deaths\")\n",
    "                     ) +\n",
    "scale_linetype_manual(name = \"\",                                           # Legend for the vertical dotted line\n",
    "                      values = c(\"Break\" = \"dashed\"),\n",
    "                      labels = c(\"Mask requirement\")) + \n",
    "multiple_grid_plot_theme_config\n",
    "\n",
    "ggarrange(hospitalized_plot, deaths_plot, ncol=2, common.legend = TRUE, legend=\"bottom\") \n"
   ]
  },
  {
   "cell_type": "markdown",
   "metadata": {},
   "source": [
    "After the initial plotting, it is clear that there was a strong impact of COVID-19 around late March--early April. The number of people who were dying due to COVID-19, as indicated by red line, and who were hospitalized, as indicated by the blue line, increased sharply. The first, month-long lockdown was imposed during this period, as indicated by the soft-orange shade. The result of the lockdown was effective as the number of reported hospitalization started to decline and kept declining over the next few months. The number of deaths was still rising at the end of the first lockdown, but started to stabilize soon after.\n",
    "\n",
    "This was a positive indication that the imposed lockdown was effective in controlling the spread of the virus.\n",
    "\n",
    "As the restictions started to loosen up, the public started to gather in larger numbers, which was an opportunity for the virus to spread again. This is indicated by the rise on both total deaths and hospitalized starting September. To control the rapid increase, the government mandated the use of mask on all public places starting October 29, represented by the black, dashed line.\n",
    "\n",
    "Ever since, the numbers started to grow. The plot above shows a sharp incline starting November. And with the holidays starting, the government imposed second lockdown starting December 09, 2020, which is the date of conducting this experiment. This was an attempt to reduce the number of gatherings and parties, and limit them to families to control the spread of the COVID-19."
   ]
  },
  {
   "cell_type": "markdown",
   "metadata": {},
   "source": [
    "### 4.2 Total confirmed cased and total tested\n",
    "\n",
    "While the first plot was impactful, a more meaningful one would be to analyze the data between total number of people tested (plot A) and total number of confirmed cases (plot B). When visualising them individually, both of the plots A and B shows almost linear growth as the months go by. Without much context, this is very worrying and can be taken out of proportion. By when combining them and visualizing them on the same plot (plot C), it becomes much clearer that the situation is not as bad. Yes, the number of cases are increasing, but when comparing them to the number of tests done, the result has a vastly different conclusion.\n",
    "\n",
    "This is an example for understanding the importance of scope and context while conducting an analysis."
   ]
  },
  {
   "cell_type": "code",
   "execution_count": 53,
   "metadata": {},
   "outputs": [
    {
     "name": "stdout",
     "output_type": "stream",
     "text": [
      "'data.frame':\t270 obs. of  12 variables:\n",
      " $ X                         : Factor w/ 270 levels \"M03D21\",\"M03D22\",..: 1 2 3 4 5 6 7 8 9 10 ...\n",
      " $ modified_date             : Factor w/ 270 levels \"2020-03D21\",\"2020-03D22\",..: 1 2 3 4 5 6 7 8 9 10 ...\n",
      " $ date                      : Date, format: \"2020-03-21\" \"2020-03-22\" ...\n",
      " $ total_cases               : int  1326 1395 1450 1577 1715 1851 2010 2201 2395 2555 ...\n",
      " $ total_recovered           : int  NA NA NA NA NA NA NA NA NA NA ...\n",
      " $ total_tested              : int  11657 12351 12843 13756 14870 15981 17275 18810 20198 21378 ...\n",
      " $ total_deaths              : int  22 25 31 37 43 55 67 76 84 95 ...\n",
      " $ daily_deaths              : int  3 3 6 6 6 12 12 9 8 11 ...\n",
      " $ daily_hospitalized        : int  206 232 254 301 350 386 430 459 499 533 ...\n",
      " $ daily_patients_icu        : int  42 46 55 59 87 94 109 121 131 137 ...\n",
      " $ daily_patients_ventilators: int  35 40 47 58 76 78 89 104 113 119 ...\n",
      " $ daily_cases               : int  71 69 55 127 138 136 159 191 194 160 ...\n"
     ]
    }
   ],
   "source": [
    "str(denmark_covid_data)"
   ]
  },
  {
   "cell_type": "code",
   "execution_count": 63,
   "metadata": {},
   "outputs": [
    {
     "data": {
      "image/png": "[encoded data removed]",
      "text/plain": [
       "plot without title"
      ]
     },
     "metadata": {},
     "output_type": "display_data"
    }
   ],
   "source": [
    "##########################################################################################################################\n",
    "############ Step 1: First we create a plot \"A\" for total number of people tested and assign it to a variable ############\n",
    "##########################################################################################################################\n",
    "\n",
    "total_tested_plot <- ggplot(denmark_covid_data, aes(x = date)) +        # Specify the data frame and x-axis for the plot\n",
    "geom_line(aes(y = total_tested, color = \"red\"), lwd = 1) +               # Line plot for total number of peple tested\n",
    "scale_x_date(breaks = date_breaks(\"1 months\"), date_labels = \"%b\") +    # Improving the x-axis to show all months\n",
    "xlab(\"Months in 2020\") +                                                # Label for x-axis\n",
    "scale_y_continuous(\"No. of people tested\",                              # Label for y-axis\n",
    "                   labels = function(x) format(x, scientific = FALSE)   # Change from exponentials to human readable numbers\n",
    "                   ) +\n",
    "ggtitle(\"COVID-19: Total tested\") +                                     # Title for the plot A\n",
    "scale_color_identity(name = \"\",                                         # Legend for the line plot\n",
    "                     breaks = \"red\",\n",
    "                     labels = \"Total tested\",\n",
    "                     guide = \"legend\"\n",
    "                     ) +\n",
    "multiple_grid_plot_theme_config\n",
    "\n",
    "\n",
    "##########################################################################################################################\n",
    "############Step 2: Then we create a plot \"B\" for total number of confirmed cases and assign it to a variable ###########\n",
    "##########################################################################################################################\n",
    "\n",
    "total_confirmed_cases_plot <- ggplot(denmark_covid_data, aes(x = date)) +   # Specify the data frame and x-axis for the plot\n",
    "geom_line(aes(y = total_cases, color = \"blue\"), lwd = 1) +                  # Line plot for total confirmed cases\n",
    "scale_x_date(breaks = date_breaks(\"1 months\"), date_labels = \"%b\") +        # Improving the x-axis to show all months\n",
    "xlab(\"Months in 2020\") +                                                    # Label for x-axis\n",
    "scale_y_continuous(\"No. of confirmed cases\",                                # Label for y-axis\n",
    "                   labels = function(x) format(x, scientific = FALSE)\n",
    "                   ) +\n",
    "ggtitle(\"COVID-19: Total confimed cases\") +                                 # Title for the plot\n",
    "scale_color_identity(name = \"\",                                             # Legend for the line plot\n",
    "                     breaks = \"blue\",\n",
    "                     labels = \"Total confirmed cases\",\n",
    "                     guide = \"legend\"\n",
    "                     ) +\n",
    "multiple_grid_plot_theme_config\n",
    "\n",
    "\n",
    "##########################################################################################################################\n",
    "##################### Step 3: Then we create a combined plot for \"A\" & \"B\" and assign it to a variable ###################\n",
    "##########################################################################################################################\n",
    "\n",
    "combined_plot <- ggplot(denmark_covid_data, aes(x = date)) +             # Specify the data frame and x-axis for the plot\n",
    "geom_line(aes(y = total_tested, color = \"red\"), lwd = 1) +                # Line plot for total number of peple tested\n",
    "geom_line(aes(y = total_cases, color = \"blue\"), lwd = 1) +               # Line plot for total confirmed cases\n",
    "scale_x_date(breaks = date_breaks(\"1 months\"), date_labels = \"%b\") +     # Improving the x-axis to show all months\n",
    "xlab(\"Months in 2020\") +                                                 # Label for x-axis\n",
    "scale_y_continuous(\"No. of people\",                                      # Label for y-axis\n",
    "                   labels = function(x) format(x, scientific = FALSE)\n",
    "                   ) +\n",
    "ggtitle(\"COVID-19: Total tesed and total cases (A & B)\") +               # Title for the plot\n",
    "scale_color_identity(name = \"\",                                          # Legend for the line plot\n",
    "                     breaks = c(\"red\", \"blue\"),\n",
    "                     labels = c(\"Total tested\", \"Total confirmed cases\"),\n",
    "                     guide = \"legend\") +\n",
    "multiple_grid_plot_theme_config\n",
    "\n",
    "\n",
    "\n",
    "##########################################################################################################################\n",
    "####################################### Step 4: Finally make a grid of all 3 plots ######################################\n",
    "##########################################################################################################################\n",
    "options(repr.plot.width=7, repr.plot.height=7)\n",
    "\n",
    "ggarrange(total_tested_plot, total_confirmed_cases_plot, combined_plot)\n"
   ]
  },
  {
   "cell_type": "markdown",
   "metadata": {},
   "source": [
    "### 4.3 Correlation\n",
    "\n",
    "Pearson correlation coefficient analyzes the realtionship between two variables, draws a line through them and determines whether the relationship is strong or weak and positive or negative. When the data is passed through the formula, the returned value is between -1 an 1, where calue closer to -1 means strong negative relationship and vice-versa.\n",
    "\n",
    "Pearson correlation coefficient is defined in statistics as the measurement of the strength of the relationship between two variables and their association with each other (**cite**). The formula for Pearson correlation coefficient is:\n",
    "\\begin{equation}\n",
    "r = \\frac{{}\\sum_{i=1}^{n} (x_i - \\overline{x})(y_i - \\overline{y})}\n",
    "{\\sqrt{\\sum_{i=1}^{n} (x_i - \\overline{x})^2(y_i - \\overline{y})^2}}\n",
    "\\end{equation}\n",
    "\n",
    "\n",
    "One of the popular arguments for increase in number of confirmed COVID-19 cases is the increase in testing. More testing results in more cases. If the testing was stopped, the number of cases would not rise. Pearson correlation coefficient is the perfect use case to confirm the validity of this argument.\n",
    "\n",
    "To determine the relationship between increasing cases and the increase in testing, we can visualize the data using a scatter plot. The dependent variable, denoted by the Y-axis, in this case will be the total number of confirmed cases and the independent variable, denoted by X-axis, will be the total number of tests conducted."
   ]
  },
  {
   "cell_type": "code",
   "execution_count": 60,
   "metadata": {},
   "outputs": [
    {
     "name": "stderr",
     "output_type": "stream",
     "text": [
      "`geom_smooth()` using formula 'y ~ x'\n"
     ]
    },
    {
     "data": {
      "text/plain": [
       "\n",
       "\tPearson's product-moment correlation\n",
       "\n",
       "data:  denmark_covid_data$total_cases and denmark_covid_data$total_tested\n",
       "t = 29.711, df = 251, p-value < 2.2e-16\n",
       "alternative hypothesis: true correlation is not equal to 0\n",
       "95 percent confidence interval:\n",
       " 0.8517549 0.9070151\n",
       "sample estimates:\n",
       "      cor \n",
       "0.8823918 \n"
      ]
     },
     "metadata": {},
     "output_type": "display_data"
    },
    {
     "data": {
      "image/png": "[encoded data removed]",
      "text/plain": [
       "plot without title"
      ]
     },
     "metadata": {},
     "output_type": "display_data"
    }
   ],
   "source": [
    "ggplot(denmark_covid_data, aes(x=total_tested, y=total_cases)) +\n",
    "geom_point(size=2, shape=4) +\n",
    "geom_smooth(method = \"lm\") +\n",
    "scale_x_continuous(\"\\nNo. of people tested\",                            # Label for y-axis\n",
    "                   labels = function(x) format(x, scientific = FALSE)   # Change from exponentials to human readable numbers\n",
    "                   ) +\n",
    "scale_y_continuous(\"No. of confirmed cases\\n\") +\n",
    "ggtitle(\"Correlation between total cases and total tested\") +                         # Title for the plot\n",
    "single_plot_theme_config\n",
    "\n",
    "\n",
    "# Calculating the Correlation Coefficient\n",
    "cor.test(denmark_covid_data$total_cases,\n",
    "         denmark_covid_data$total_tested, \n",
    "                    method = \"pearson\")\n"
   ]
  },
  {
   "cell_type": "markdown",
   "metadata": {},
   "source": [
    "The scatter plot confirms that the relation between the 2 variables, confirmed cases and total people tested, has a positive, strong and non-linear relationship. The relationship is positive becuase of the nature of the linear line (blue in color) slanting upwards, from left to right. Since the plots do not follow the shape or form of the liner line, the relationship's form is non-linear. Finally, the variables have a strong relationship becuase they are follow a certain curve and are in compact alignment, meaning they are not scattered all over the chart.\n",
    "\n",
    "Also, the output of Pearson Correlation Coefficient is `0.96` which illustrates the same conclusion as the scatter plot, which is calculcated just above the plot. Since `0.96` is greater than 0, the realtionship is positive and closer to the maximum possible output of 1, concluding the strong relationship."
   ]
  },
  {
   "cell_type": "markdown",
   "metadata": {},
   "source": [
    "## 5. Prediction\n",
    "\n",
    "*This is a work in progress*"
   ]
  },
  {
   "cell_type": "markdown",
   "metadata": {},
   "source": [
    "## 6. Conclusion of EDA\n",
    "*This is a work in progress*"
   ]
  },
  {
   "cell_type": "code",
   "execution_count": 10,
   "metadata": {},
   "outputs": [
    {
     "data": {
      "text/html": [
       "<ol class=list-inline>\n",
       "\t<li>'1,000,000'</li>\n",
       "\t<li>'20,000'</li>\n",
       "</ol>\n"
      ],
      "text/latex": [
       "\\begin{enumerate*}\n",
       "\\item '1,000,000'\n",
       "\\item '20,000'\n",
       "\\end{enumerate*}\n"
      ],
      "text/markdown": [
       "1. '1,000,000'\n",
       "2. '20,000'\n",
       "\n",
       "\n"
      ],
      "text/plain": [
       "[1] \"1,000,000\" \"20,000\"   "
      ]
     },
     "metadata": {},
     "output_type": "display_data"
    }
   ],
   "source": [
    "prettyNum(c(1000000, 20000),big.mark=\",\",scientific=FALSE)"
   ]
  }
 ],
 "metadata": {
  "kernelspec": {
   "display_name": "R",
   "language": "R",
   "name": "ir"
  },
  "language_info": {
   "codemirror_mode": "r",
   "file_extension": ".r",
   "mimetype": "text/x-r-source",
   "name": "R",
   "pygments_lexer": "r",
   "version": "3.6.1"
  }
 },
 "nbformat": 4,
 "nbformat_minor": 4
}
