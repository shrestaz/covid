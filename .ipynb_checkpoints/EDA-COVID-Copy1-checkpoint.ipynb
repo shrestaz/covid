{
 "cells": [
  {
   "cell_type": "markdown",
   "metadata": {},
   "source": [
    "# Exploratory Data Analysis: COVID-19\n",
    "\n",
    "In this Jupyter notebook, we perform a self expertimentation of Exploratory Data Analysis (EDA) for Denmark's COVID-19 cases in R. R is a language and environment for statistical computing and graphics (**cite: https://www.r-project.org/about.html**) which is perfect in this project as the goal is to visualize data and tell a conclusion/story based on real decisions."
   ]
  },
  {
   "cell_type": "markdown",
   "metadata": {},
   "source": [
    "## Identify business problem\n",
    "\n",
    "The first step to Exploratory Data Analysis (EDA) is to identify the business problem. The business case revolves around the understanding of the situation and the use of data to prevent spread of COVID-19 virus in Denmark. The aim is to analyze the data and compare against the decisions made and enforced by the officials and the health experts, primarily the two lockdowns from March and Decemberof 2020. This EDA is not a solution to the problem but the ambition is to understand if gathering factual data aided in effective decision making by the authorities. "
   ]
  },
  {
   "cell_type": "markdown",
   "metadata": {},
   "source": [
    "## Data collection\n",
    "\n",
    "The dataset used for this analysis was taken from [Our World in Data](https://ourworldindata.org/coronavirus/country/denmark?country=~DNK), which is a scientific online publication focusing on global problems. Its research team is based at the University of Oxford, whose work are based on global community of scholars (**cite: About us**). They claim to have the data for COVID-19 used in this analysis updated daily and have made it available to use freely. They also cite the source of raw data for COVID-19 Data Repository to be the Center for Systems Science and Engineering (CSSE) at Johns Hopkins University. (**cite**)."
   ]
  },
  {
   "cell_type": "markdown",
   "metadata": {},
   "source": [
    "## Data preparation\n",
    "\n",
    "The data from Our World in Data is open-source, formatted and made available in different formats so people can choose how they want the data, for example: an Excel spreadsheet or a plain text file. For this analaysis, we chose to use the data as a CSV (comma-separated value) file for ease of use. In the following steps, we will go through the process of loading the data, tidying it and preparing it for the analysis.\n"
   ]
  },
  {
   "cell_type": "markdown",
   "metadata": {},
   "source": [
    "### Load the data into R and inspect\n",
    "\n",
    "In the following steps, we load the raw data into this R notebook and inspect if it is workable and understandable. If not, we must proceed to transform the data. Without a clear understanding of data, the anaylsis is pointless.\n",
    "\n",
    "After we load the data into the R notebook, we examine to ensure the target data exists. Hence, we test if data for Denmark exists in our dataframe. And for a sanity check, we also test for a fictional country Wakanda, expecting it to be falsy.\n",
    "\n",
    "The dataset from Our World in Data consists the data for COVID-19 from all countries in the world. Since our focus is only in Denmark, we filter out only Denmark's data and store it in a varaible for later access."
   ]
  },
  {
   "cell_type": "code",
   "execution_count": 3,
   "metadata": {},
   "outputs": [],
   "source": [
    "# Create a dataframe by reading the file containing the dataset\n",
    "\n",
    "world_covid_data <- read.csv(\"world_covid_data.csv\", encoding=\"UTF-8\")"
   ]
  },
  {
   "cell_type": "code",
   "execution_count": 4,
   "metadata": {},
   "outputs": [
    {
     "data": {
      "text/html": [
       "TRUE"
      ],
      "text/latex": [
       "TRUE"
      ],
      "text/markdown": [
       "TRUE"
      ],
      "text/plain": [
       "[1] TRUE"
      ]
     },
     "metadata": {},
     "output_type": "display_data"
    },
    {
     "data": {
      "text/html": [
       "FALSE"
      ],
      "text/latex": [
       "FALSE"
      ],
      "text/markdown": [
       "FALSE"
      ],
      "text/plain": [
       "[1] FALSE"
      ]
     },
     "metadata": {},
     "output_type": "display_data"
    }
   ],
   "source": [
    "# Check if the data for the country we're interested in (Denmark), exists\n",
    "\"Denmark\" %in% world_covid_data$location\n",
    "\n",
    "# Failing test for sanity check\n",
    "\"Wakanda\" %in% world_covid_data$location "
   ]
  },
  {
   "cell_type": "code",
   "execution_count": 5,
   "metadata": {},
   "outputs": [],
   "source": [
    "# use dplyr library to filter data where location is Denmark\n",
    "\n",
    "denmark_covid_data <- filter(world_covid_data, location == \"Denmark\")"
   ]
  },
  {
   "cell_type": "markdown",
   "metadata": {},
   "source": [
    "### Initial inspection and feedback\n",
    "\n",
    "Now that the target data is loaded and ready to be used, we inspect and conclude which transformations are needed. To do so, we print the inital few rows of the data."
   ]
  },
  {
   "cell_type": "code",
   "execution_count": 6,
   "metadata": {},
   "outputs": [
    {
     "data": {
      "text/html": [
       "<table>\n",
       "<thead><tr><th scope=col>iso_code</th><th scope=col>continent</th><th scope=col>location</th><th scope=col>date</th><th scope=col>total_cases</th><th scope=col>new_cases</th><th scope=col>new_cases_smoothed</th><th scope=col>total_deaths</th><th scope=col>new_deaths</th><th scope=col>new_deaths_smoothed</th><th scope=col>...</th><th scope=col>gdp_per_capita</th><th scope=col>extreme_poverty</th><th scope=col>cardiovasc_death_rate</th><th scope=col>diabetes_prevalence</th><th scope=col>female_smokers</th><th scope=col>male_smokers</th><th scope=col>handwashing_facilities</th><th scope=col>hospital_beds_per_thousand</th><th scope=col>life_expectancy</th><th scope=col>human_development_index</th></tr></thead>\n",
       "<tbody>\n",
       "\t<tr><td>DNK       </td><td>Europe    </td><td>Denmark   </td><td>2020-01-23</td><td>NA        </td><td>0         </td><td>NA        </td><td>NA        </td><td>0         </td><td>NA        </td><td>...       </td><td>46682.51  </td><td>0.2       </td><td>114.767   </td><td>6.41      </td><td>19.3      </td><td>18.8      </td><td>NA        </td><td>2.5       </td><td>80.9      </td><td>0.929     </td></tr>\n",
       "\t<tr><td>DNK       </td><td>Europe    </td><td>Denmark   </td><td>2020-01-24</td><td>NA        </td><td>0         </td><td>NA        </td><td>NA        </td><td>0         </td><td>NA        </td><td>...       </td><td>46682.51  </td><td>0.2       </td><td>114.767   </td><td>6.41      </td><td>19.3      </td><td>18.8      </td><td>NA        </td><td>2.5       </td><td>80.9      </td><td>0.929     </td></tr>\n",
       "\t<tr><td>DNK       </td><td>Europe    </td><td>Denmark   </td><td>2020-01-25</td><td>NA        </td><td>0         </td><td>NA        </td><td>NA        </td><td>0         </td><td>NA        </td><td>...       </td><td>46682.51  </td><td>0.2       </td><td>114.767   </td><td>6.41      </td><td>19.3      </td><td>18.8      </td><td>NA        </td><td>2.5       </td><td>80.9      </td><td>0.929     </td></tr>\n",
       "\t<tr><td>DNK       </td><td>Europe    </td><td>Denmark   </td><td>2020-01-26</td><td>NA        </td><td>0         </td><td>NA        </td><td>NA        </td><td>0         </td><td>NA        </td><td>...       </td><td>46682.51  </td><td>0.2       </td><td>114.767   </td><td>6.41      </td><td>19.3      </td><td>18.8      </td><td>NA        </td><td>2.5       </td><td>80.9      </td><td>0.929     </td></tr>\n",
       "\t<tr><td>DNK       </td><td>Europe    </td><td>Denmark   </td><td>2020-01-27</td><td>NA        </td><td>0         </td><td>NA        </td><td>NA        </td><td>0         </td><td>NA        </td><td>...       </td><td>46682.51  </td><td>0.2       </td><td>114.767   </td><td>6.41      </td><td>19.3      </td><td>18.8      </td><td>NA        </td><td>2.5       </td><td>80.9      </td><td>0.929     </td></tr>\n",
       "\t<tr><td>DNK       </td><td>Europe    </td><td>Denmark   </td><td>2020-01-28</td><td>NA        </td><td>0         </td><td> 0        </td><td>NA        </td><td>0         </td><td> 0        </td><td>...       </td><td>46682.51  </td><td>0.2       </td><td>114.767   </td><td>6.41      </td><td>19.3      </td><td>18.8      </td><td>NA        </td><td>2.5       </td><td>80.9      </td><td>0.929     </td></tr>\n",
       "</tbody>\n",
       "</table>\n"
      ],
      "text/latex": [
       "\\begin{tabular}{r|llllllllllllllllllllllllllllllllllllllllllllllllll}\n",
       " iso\\_code & continent & location & date & total\\_cases & new\\_cases & new\\_cases\\_smoothed & total\\_deaths & new\\_deaths & new\\_deaths\\_smoothed & ... & gdp\\_per\\_capita & extreme\\_poverty & cardiovasc\\_death\\_rate & diabetes\\_prevalence & female\\_smokers & male\\_smokers & handwashing\\_facilities & hospital\\_beds\\_per\\_thousand & life\\_expectancy & human\\_development\\_index\\\\\n",
       "\\hline\n",
       "\t DNK        & Europe     & Denmark    & 2020-01-23 & NA         & 0          & NA         & NA         & 0          & NA         & ...        & 46682.51   & 0.2        & 114.767    & 6.41       & 19.3       & 18.8       & NA         & 2.5        & 80.9       & 0.929     \\\\\n",
       "\t DNK        & Europe     & Denmark    & 2020-01-24 & NA         & 0          & NA         & NA         & 0          & NA         & ...        & 46682.51   & 0.2        & 114.767    & 6.41       & 19.3       & 18.8       & NA         & 2.5        & 80.9       & 0.929     \\\\\n",
       "\t DNK        & Europe     & Denmark    & 2020-01-25 & NA         & 0          & NA         & NA         & 0          & NA         & ...        & 46682.51   & 0.2        & 114.767    & 6.41       & 19.3       & 18.8       & NA         & 2.5        & 80.9       & 0.929     \\\\\n",
       "\t DNK        & Europe     & Denmark    & 2020-01-26 & NA         & 0          & NA         & NA         & 0          & NA         & ...        & 46682.51   & 0.2        & 114.767    & 6.41       & 19.3       & 18.8       & NA         & 2.5        & 80.9       & 0.929     \\\\\n",
       "\t DNK        & Europe     & Denmark    & 2020-01-27 & NA         & 0          & NA         & NA         & 0          & NA         & ...        & 46682.51   & 0.2        & 114.767    & 6.41       & 19.3       & 18.8       & NA         & 2.5        & 80.9       & 0.929     \\\\\n",
       "\t DNK        & Europe     & Denmark    & 2020-01-28 & NA         & 0          &  0         & NA         & 0          &  0         & ...        & 46682.51   & 0.2        & 114.767    & 6.41       & 19.3       & 18.8       & NA         & 2.5        & 80.9       & 0.929     \\\\\n",
       "\\end{tabular}\n"
      ],
      "text/markdown": [
       "\n",
       "| iso_code | continent | location | date | total_cases | new_cases | new_cases_smoothed | total_deaths | new_deaths | new_deaths_smoothed | ... | gdp_per_capita | extreme_poverty | cardiovasc_death_rate | diabetes_prevalence | female_smokers | male_smokers | handwashing_facilities | hospital_beds_per_thousand | life_expectancy | human_development_index |\n",
       "|---|---|---|---|---|---|---|---|---|---|---|---|---|---|---|---|---|---|---|---|---|\n",
       "| DNK        | Europe     | Denmark    | 2020-01-23 | NA         | 0          | NA         | NA         | 0          | NA         | ...        | 46682.51   | 0.2        | 114.767    | 6.41       | 19.3       | 18.8       | NA         | 2.5        | 80.9       | 0.929      |\n",
       "| DNK        | Europe     | Denmark    | 2020-01-24 | NA         | 0          | NA         | NA         | 0          | NA         | ...        | 46682.51   | 0.2        | 114.767    | 6.41       | 19.3       | 18.8       | NA         | 2.5        | 80.9       | 0.929      |\n",
       "| DNK        | Europe     | Denmark    | 2020-01-25 | NA         | 0          | NA         | NA         | 0          | NA         | ...        | 46682.51   | 0.2        | 114.767    | 6.41       | 19.3       | 18.8       | NA         | 2.5        | 80.9       | 0.929      |\n",
       "| DNK        | Europe     | Denmark    | 2020-01-26 | NA         | 0          | NA         | NA         | 0          | NA         | ...        | 46682.51   | 0.2        | 114.767    | 6.41       | 19.3       | 18.8       | NA         | 2.5        | 80.9       | 0.929      |\n",
       "| DNK        | Europe     | Denmark    | 2020-01-27 | NA         | 0          | NA         | NA         | 0          | NA         | ...        | 46682.51   | 0.2        | 114.767    | 6.41       | 19.3       | 18.8       | NA         | 2.5        | 80.9       | 0.929      |\n",
       "| DNK        | Europe     | Denmark    | 2020-01-28 | NA         | 0          |  0         | NA         | 0          |  0         | ...        | 46682.51   | 0.2        | 114.767    | 6.41       | 19.3       | 18.8       | NA         | 2.5        | 80.9       | 0.929      |\n",
       "\n"
      ],
      "text/plain": [
       "  iso_code continent location date       total_cases new_cases\n",
       "1 DNK      Europe    Denmark  2020-01-23 NA          0        \n",
       "2 DNK      Europe    Denmark  2020-01-24 NA          0        \n",
       "3 DNK      Europe    Denmark  2020-01-25 NA          0        \n",
       "4 DNK      Europe    Denmark  2020-01-26 NA          0        \n",
       "5 DNK      Europe    Denmark  2020-01-27 NA          0        \n",
       "6 DNK      Europe    Denmark  2020-01-28 NA          0        \n",
       "  new_cases_smoothed total_deaths new_deaths new_deaths_smoothed ...\n",
       "1 NA                 NA           0          NA                  ...\n",
       "2 NA                 NA           0          NA                  ...\n",
       "3 NA                 NA           0          NA                  ...\n",
       "4 NA                 NA           0          NA                  ...\n",
       "5 NA                 NA           0          NA                  ...\n",
       "6  0                 NA           0           0                  ...\n",
       "  gdp_per_capita extreme_poverty cardiovasc_death_rate diabetes_prevalence\n",
       "1 46682.51       0.2             114.767               6.41               \n",
       "2 46682.51       0.2             114.767               6.41               \n",
       "3 46682.51       0.2             114.767               6.41               \n",
       "4 46682.51       0.2             114.767               6.41               \n",
       "5 46682.51       0.2             114.767               6.41               \n",
       "6 46682.51       0.2             114.767               6.41               \n",
       "  female_smokers male_smokers handwashing_facilities hospital_beds_per_thousand\n",
       "1 19.3           18.8         NA                     2.5                       \n",
       "2 19.3           18.8         NA                     2.5                       \n",
       "3 19.3           18.8         NA                     2.5                       \n",
       "4 19.3           18.8         NA                     2.5                       \n",
       "5 19.3           18.8         NA                     2.5                       \n",
       "6 19.3           18.8         NA                     2.5                       \n",
       "  life_expectancy human_development_index\n",
       "1 80.9            0.929                  \n",
       "2 80.9            0.929                  \n",
       "3 80.9            0.929                  \n",
       "4 80.9            0.929                  \n",
       "5 80.9            0.929                  \n",
       "6 80.9            0.929                  "
      ]
     },
     "metadata": {},
     "output_type": "display_data"
    }
   ],
   "source": [
    "head(denmark_covid_data)"
   ]
  },
  {
   "cell_type": "markdown",
   "metadata": {},
   "source": [
    "In the initial inspection, the data looks to be well prepared and ready to be used, thanks to the team at Our World in Data and their contributors. By well prepared in this context, we mean that the table doesn't require to be transposed (rotated), the date is already in the international ISO standard and the missing data weren't represented by some unusual characters and left empty, which R intelligently replaces by `NA`.\n",
    "\n",
    "While there are much more columns than we need in this project, we will ignore them for now. While they do take additional resources, it is extra workload to remove them. And we have enough resorces to let them be and just ignore.\n",
    "\n",
    "Such explanations are made here because in the previous iterations of this experiment with dataset from different source (StatisktikBanken), all of these issues needed to be addressed to be made usable."
   ]
  },
  {
   "cell_type": "markdown",
   "metadata": {},
   "source": [
    "### Verify and update data types\n",
    "\n",
    "The next step is to check the data types of the data loaded onto R. Since we read the data from a CSV file, R does not know what type of data certain inputs are. By default, it categorises unknown or mixed data types as `Factor` as they can store both strings and integers.\n",
    "\n",
    "For example, the column (or variable) `date` should be of type `Date` but R understands it as of data type `Factor`. While this is fine and we can absolutely work with it, changing it to type of `Date` allows us to be more flexible and only show the month with the month's name, rather then the original value, such as `2020-04-20`."
   ]
  },
  {
   "cell_type": "code",
   "execution_count": 8,
   "metadata": {},
   "outputs": [],
   "source": [
    "denmark_covid_data$iso_code <- as.character(denmark_covid_data$iso_code)\n",
    "denmark_covid_data$continent <- as.character(denmark_covid_data$continent)\n",
    "denmark_covid_data$location <- as.character(denmark_covid_data$location)\n",
    "denmark_covid_data$date <- ymd(denmark_covid_data$date)\n",
    "denmark_covid_data$tests_units <- as.character(denmark_covid_data$tests_units)\n",
    "denmark_covid_data$total_deaths <- as.integer(denmark_covid_data$total_deaths)"
   ]
  },
  {
   "cell_type": "markdown",
   "metadata": {},
   "source": [
    "## Analyze the data"
   ]
  },
  {
   "cell_type": "markdown",
   "metadata": {},
   "source": [
    "Now that we have changed the data types of the input data, we can start analyzing the data and gain understanding from it. To plot the data, we use the library `tidyverse` because of its flexibility and customization abilities."
   ]
  },
  {
   "cell_type": "code",
   "execution_count": 10,
   "metadata": {},
   "outputs": [
    {
     "data": {
      "image/png": "[encoded data removed]",
      "text/plain": [
       "plot without title"
      ]
     },
     "metadata": {},
     "output_type": "display_data"
    }
   ],
   "source": [
    "# Plot for daily cases\n",
    "\n",
    "ggplot(denmark_covid_data, aes(x = date)) +\n",
    "\n",
    "geom_line(aes(\n",
    "    y = new_cases,\n",
    "    color = \"dodgerblue4\"\n",
    "    ), lwd = 1) +\n",
    "scale_x_date(\n",
    "    breaks = date_breaks(\"1 months\"),\n",
    "    date_labels = \"%b\") +    \n",
    "xlab(\"\\nMonths in 2020\") +                                                \n",
    "scale_y_continuous(\"No. of people\\n\") +                                    \n",
    "\n",
    "ggtitle(\"COVID-19: Daily cases\") +                         "
   ]
  },
  {
   "cell_type": "markdown",
   "metadata": {},
   "source": [
    "### Deaths, hospitalized and lockdowns\n",
    "\n",
    "Starting with one of the most impactful plotting, we analyze the data for the number of deaths and hospitalized. Along with that, we also emphasize on the 2 lockdowns enforced by the state officials, the first one from March 15, 2020 to April 13, 2020 and the recent one starting from December 9, 2020 onwards."
   ]
  },
  {
   "cell_type": "code",
   "execution_count": 11,
   "metadata": {},
   "outputs": [
    {
     "data": {
      "image/png": "[encoded data removed]",
      "text/plain": [
       "plot without title"
      ]
     },
     "metadata": {},
     "output_type": "display_data"
    }
   ],
   "source": [
    "ggplot(denmark_covid_data, aes(x = date)) +                               \n",
    "\n",
    "geom_line(aes(\n",
    "    y = total_deaths,\n",
    "    color = \"red\"), \n",
    "          lwd = 1) +  # Line plot for deaths\n",
    "geom_line(aes(\n",
    "    y = hosp_patients,\n",
    "    color = \"blue\"),\n",
    "          lwd = 1) +  # line plot for hospitalized\n",
    "\n",
    "scale_x_date(breaks = date_breaks(\"1 months\"), date_labels = \"%b\") +      \n",
    "\n",
    "xlab(\"\\nMonths in 2020\") +                                                \n",
    "scale_y_continuous(\"No. of people\\n\") +                                  \n",
    "ggtitle(\"COVID-19: Deaths and Hospitalization\") +                       "
   ]
  },
  {
   "cell_type": "markdown",
   "metadata": {},
   "source": [
    "After the initial plotting, it is clear that there was a strong impact of COVID-19 around late March--early April. The number of people who were dying due to COVID-19, as indicated by red line, and who were hospitalized, as indicated by the blue line, increased sharply. The first, month-long lockdown was imposed during this period, as indicated by the soft-orange shade. The result of the lockdown was effective as the number of reported hospitalization started to decline and kept declining over the next few months. The number of deaths was still rising at the end of the first lockdown, but started to stabilize soon after.\n",
    "\n",
    "This was a positive indication that the imposed lockdown was effective in controlling the spread of the virus.\n",
    "\n",
    "As the restictions started to loosen up, the public started to gather in larger numbers, which was an opportunity for the virus to spread again. This is indicated by the rise on both total deaths and hospitalized starting September. To control the rapid increase, the government mandated the use of mask on all public places starting October 29, represented by the black, dashed line.\n",
    "\n",
    "Ever since, the numbers started to grow. The plot above shows a sharp incline starting November. And with the holidays starting, the government imposed second lockdown starting December 09, 2020, which is the date of conducting this experiment. This was an attempt to reduce the number of gatherings and parties, and limit them to families to control the spread of the COVID-19."
   ]
  },
  {
   "cell_type": "markdown",
   "metadata": {},
   "source": [
    "### Total confirmed cased and total tested\n",
    "\n",
    "While the first plot was impactful, a more meaningful one would be to analyze the data between total number of people tested (plot A) and total number of confirmed cases (plot B). When visualising them individually, both of the plots A and B shows almost linear growth as the months go by. Without much context, this is very worrying and can be taken out of proportion. By when combining them and visualizing them on the same plot (plot C), it becomes much clearer that the situation is not as bad. Yes, the number of cases are increasing, but when comparing them to the number of tests done, the result has a vastly different conclusion.\n",
    "\n",
    "This is an example for understanding the importance of scope and context while conducting an analysis."
   ]
  },
  {
   "cell_type": "code",
   "execution_count": 12,
   "metadata": {},
   "outputs": [
    {
     "data": {
      "image/png": "[encoded data removed]",
      "text/plain": [
       "plot without title"
      ]
     },
     "metadata": {},
     "output_type": "display_data"
    }
   ],
   "source": [
    "# create a plot \"A\" for total number of people tested\n",
    "\n",
    "total_tested_plot <- ggplot(denmark_covid_data, aes(x = date)) +\n",
    "geom_line(aes(y = total_tests, color = \"red\"), lwd = 1) +               \n",
    "scale_x_date(breaks = date_breaks(\"1 months\"), date_labels = \"%b\") +  \n",
    "xlab(\"Months in 2020\") +                                              \n",
    "scale_y_continuous(\"No. of people tested\",                             \n",
    "                   labels = function(x) format(x, scientific = FALSE)  \n",
    "                   ) +\n",
    "ggtitle(\"COVID-19: Total tested\") +                                   \n",
    "\n",
    "# create a plot \"B\" for total number of confirmed cases\n",
    "# create a plot \"C\" combining plot A and B\n",
    "\n",
    "# Finally make a grid of all 3 plots \n",
    "plot_grid(total_tested_plot, total_confirmed_cases_plot, combined_plot, labels = \"AUTO\")\n"
   ]
  },
  {
   "cell_type": "markdown",
   "metadata": {},
   "source": [
    "### Correlation\n",
    "\n",
    "Pearson correlation coefficient analyzes the realtionship between two variables, draws a line through them and determines whether the relationship is strong or weak and positive or negative. When the data is passed through the formula, the returned value is between -1 an 1, where calue closer to -1 means strong negative relationship and vice-versa.\n",
    "\n",
    "Pearson correlation coefficient is defined in statistics as the measurement of the strength of the relationship between two variables and their association with each other (**cite**). The formula for Pearson correlation coefficient is:\n",
    "\\begin{equation}\n",
    "r = \\frac{{}\\sum_{i=1}^{n} (x_i - \\overline{x})(y_i - \\overline{y})}\n",
    "{\\sqrt{\\sum_{i=1}^{n} (x_i - \\overline{x})^2(y_i - \\overline{y})^2}}\n",
    "\\end{equation}\n",
    "\n",
    "\n",
    "One of the popular arguments for increase in number of confirmed COVID-19 cases is the increase in testing. More testing results in more cases. If the testing was stopped, the number of cases would not rise. Pearson correlation coefficient is the perfect use case to confirm the validity of this argument.\n",
    "\n",
    "To determine the relationship between increasing cases and the increase in testing, we can visualize the data using a scatter plot. The dependent variable, denoted by the Y-axis, in this case will be the total number of confirmed cases and the independent variable, denoted by X-axis, will be the total number of tests conducted."
   ]
  },
  {
   "cell_type": "code",
   "execution_count": 13,
   "metadata": {},
   "outputs": [
    {
     "name": "stderr",
     "output_type": "stream",
     "text": [
      "`geom_smooth()` using formula 'y ~ x'\n"
     ]
    },
    {
     "data": {
      "text/plain": [
       "\n",
       "\tPearson's product-moment correlation\n",
       "\n",
       "data:  denmark_covid_data$total_cases and denmark_covid_data$total_tests\n",
       "t = 60.435, df = 285, p-value < 2.2e-16\n",
       "alternative hypothesis: true correlation is not equal to 0\n",
       "95 percent confidence interval:\n",
       " 0.9536959 0.9706683\n",
       "sample estimates:\n",
       "      cor \n",
       "0.9631284 \n"
      ]
     },
     "metadata": {},
     "output_type": "display_data"
    },
    {
     "data": {
      "image/png": "[encoded data removed]",
      "text/plain": [
       "plot without title"
      ]
     },
     "metadata": {},
     "output_type": "display_data"
    }
   ],
   "source": [
    "ggplot(denmark_covid_data,\n",
    "       aes(x=total_tests, y=total_cases)) +\n",
    "geom_point(size=2, shape=4) +\n",
    "geom_smooth(method = \"lm\") +\n",
    "scale_x_continuous(\"\\nNo. of people tested\") +\n",
    "scale_y_continuous(\"No. of confirmed cases\\n\") +\n",
    "ggtitle(\"Correlation between total cases and total tested\")\n",
    "\n",
    "\n",
    "# Calculating the Correlation Coefficient\n",
    "cor.test(denmark_covid_data$total_cases,\n",
    "         denmark_covid_data$total_tests, \n",
    "                    method = \"pearson\")\n"
   ]
  },
  {
   "cell_type": "markdown",
   "metadata": {},
   "source": [
    "The scatter plot confirms that the relation between the 2 variables, confirmed cases and total people tested, has a positive, strong and non-linear relationship. The relationship is positive becuase of the nature of the linear line (blue in color) slanting upwards, from left to right. Since the plots do not follow the shape or form of the liner line, the relationship's form is non-linear. Finally, the variables have a strong relationship becuase they are follow a certain curve and are in compact alignment, meaning they are not scattered all over the chart.\n",
    "\n",
    "Also, the output of Pearson Correlation Coefficient is `0.96` which illustrates the same conclusion as the scatter plot, which is calculcated just above the plot. Since `0.96` is greater than 0, the realtionship is positive and closer to the maximum possible output of 1, concluding the strong relationship."
   ]
  },
  {
   "cell_type": "markdown",
   "metadata": {},
   "source": [
    "## Prediction\n",
    "\n",
    "*This is a work in progress*"
   ]
  },
  {
   "cell_type": "markdown",
   "metadata": {},
   "source": [
    "## Conclusion of EDA\n",
    "*This is a work in progress*"
   ]
  }
 ],
 "metadata": {
  "kernelspec": {
   "display_name": "R",
   "language": "R",
   "name": "ir"
  },
  "language_info": {
   "codemirror_mode": "r",
   "file_extension": ".r",
   "mimetype": "text/x-r-source",
   "name": "R",
   "pygments_lexer": "r",
   "version": "3.6.1"
  }
 },
 "nbformat": 4,
 "nbformat_minor": 4
}
