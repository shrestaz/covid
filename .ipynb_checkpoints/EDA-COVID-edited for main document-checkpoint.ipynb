{
 "cells": [
  {
   "cell_type": "code",
   "execution_count": null,
   "metadata": {},
   "outputs": [],
   "source": [
    "# Suppressing warnings for a cleaner output\n",
    "options(warn=-1)\n",
    "\n",
    "# Installing required packages for plotting and training\n",
    "library(ggpubr)\n",
    "library(tidymodels)\n",
    "\n",
    "# Setting up the plot size and theme\n",
    "options(repr.plot.width = 10, repr.plot.height = 5)\n",
    "\n",
    "theme <-\n",
    "  theme_minimal() +\n",
    "  theme(\n",
    "      plot.title = element_text(size=13, face=\"bold\", color=\"gray30\"),\n",
    "      plot.subtitle = element_text(size=11, color=\"gray30\"),\n",
    "      axis.title = element_text(size=11, color=\"gray30\"),\n",
    "      plot.caption = element_text(size=11, color = \"gray60\"),\n",
    "      legend.text = element_text(size=9, color=\"gray30\"),\n",
    "      legend.title = element_text(size=11, color=\"gray30\"),\n",
    "      strip.text.x = element_text(size=11, face=\"bold\", color=\"gray30\"),\n",
    "  )\n",
    "\n",
    "theme_set(theme)\n",
    "\n",
    "markdown_theme <-\n",
    "  theme_minimal() +\n",
    "  theme(\n",
    "      plot.title = element_text(size=8, face=\"bold\", color=\"gray30\"),\n",
    "      plot.subtitle = element_text(size=8, color=\"gray30\"),\n",
    "      axis.title = element_text(size=6, color=\"gray30\"),\n",
    "      axis.text = element_text(size=6, color=\"gray30\"),\n",
    "      plot.caption = element_text(size=6, color = \"gray60\"),\n",
    "      legend.text = element_text(size=6, color=\"gray30\"),\n",
    "      legend.title = element_text(size=6, color=\"gray30\"),\n",
    "      strip.text.x = element_text(size=6, face=\"bold\", color=\"gray30\")\n",
    "  )\n"
   ]
  },
  {
   "cell_type": "markdown",
   "metadata": {},
   "source": [
    "### Load the dataset\n",
    "\n",
    "In the following steps, we load the dataset into this R notebook and inspect if it is workable and understandable. If not, we must proceed to transform the data as deemed necessary. Without appropraite and clear understanding of data, the anaylsis will be out of scope.\n",
    "\n",
    "After we load the data into the R notebook, we examine to ensure the target data and/or key figures exists."
   ]
  },
  {
   "cell_type": "code",
   "execution_count": 2,
   "metadata": {},
   "outputs": [
    {
     "data": {
      "text/html": [
       "<table>\n",
       "<thead><tr><th scope=col>X.</th><th scope=col>M03D21</th><th scope=col>M03D22</th><th scope=col>M03D23</th><th scope=col>M03D24</th><th scope=col>M03D25</th><th scope=col>M03D26</th><th scope=col>M03D27</th><th scope=col>M03D28</th><th scope=col>M03D29</th><th scope=col>...</th><th scope=col>M12D06</th><th scope=col>M12D07</th><th scope=col>M12D08</th><th scope=col>M12D09</th><th scope=col>M12D10</th><th scope=col>M12D11</th><th scope=col>M12D12</th><th scope=col>M12D13</th><th scope=col>M12D14</th><th scope=col>M12D15</th></tr></thead>\n",
       "<tbody>\n",
       "\t<tr><td>Confirmed cases of COVID-19 (total)             </td><td>1326                                            </td><td>1395                                            </td><td>1450                                            </td><td>1577                                            </td><td>1715                                            </td><td>1851                                            </td><td>2010                                            </td><td>2201                                            </td><td>2395                                            </td><td>...                                             </td><td>  90603                                         </td><td>  92649                                         </td><td>  94799                                         </td><td>  97357                                         </td><td> 100489                                         </td><td> 103564                                         </td><td> 107116                                         </td><td> 109758                                         </td><td> 113095                                         </td><td> 116087                                         </td></tr>\n",
       "\t<tr><td>Recovered from COVID-19 infection (total        </td><td>..                                              </td><td>..                                              </td><td>..                                              </td><td>..                                              </td><td>..                                              </td><td>..                                              </td><td>..                                              </td><td>..                                              </td><td>..                                              </td><td>...                                             </td><td>  70876                                         </td><td>  71882                                         </td><td>  73052                                         </td><td>  74367                                         </td><td>  75664                                         </td><td>  76927                                         </td><td>  78236                                         </td><td>  79394                                         </td><td>  80564                                         </td><td>  82099                                         </td></tr>\n",
       "\t<tr><td>Number of persons tested for COVID-19 (total)   </td><td>11657                                           </td><td>12351                                           </td><td>12843                                           </td><td>13756                                           </td><td>14870                                           </td><td>15981                                           </td><td>17275                                           </td><td>18810                                           </td><td>20198                                           </td><td>...                                             </td><td>3524861                                         </td><td>3541148                                         </td><td>3556264                                         </td><td>3572954                                         </td><td>3592677                                         </td><td>3611456                                         </td><td>3630815                                         </td><td>3646152                                         </td><td>3664247                                         </td><td>3680607                                         </td></tr>\n",
       "\t<tr><td>Deaths with COVID-19 (total)                    </td><td>22                                              </td><td>25                                              </td><td>31                                              </td><td>37                                              </td><td>43                                              </td><td>55                                              </td><td>67                                              </td><td>76                                              </td><td>84                                              </td><td>...                                             </td><td>    899                                         </td><td>    905                                         </td><td>    912                                         </td><td>    922                                         </td><td>    928                                         </td><td>    935                                         </td><td>    943                                         </td><td>    954                                         </td><td>    961                                         </td><td>    961                                         </td></tr>\n",
       "\t<tr><td>Deaths with COVID-19 per day                    </td><td>3                                               </td><td>3                                               </td><td>6                                               </td><td>6                                               </td><td>6                                               </td><td>12                                              </td><td>12                                              </td><td>9                                               </td><td>8                                               </td><td>...                                             </td><td>      8                                         </td><td>      6                                         </td><td>      7                                         </td><td>     10                                         </td><td>      6                                         </td><td>      7                                         </td><td>      8                                         </td><td>     11                                         </td><td>      7                                         </td><td>      0                                         </td></tr>\n",
       "\t<tr><td>Persons hospitalised in connection with COVID-19</td><td>206                                             </td><td>232                                             </td><td>254                                             </td><td>301                                             </td><td>350                                             </td><td>386                                             </td><td>430                                             </td><td>459                                             </td><td>499                                             </td><td>...                                             </td><td>    302                                         </td><td>    328                                         </td><td>    354                                         </td><td>    349                                         </td><td>    342                                         </td><td>    361                                         </td><td>    371                                         </td><td>    390                                         </td><td>    429                                         </td><td>    439                                         </td></tr>\n",
       "</tbody>\n",
       "</table>\n"
      ],
      "text/latex": [
       "\\begin{tabular}{r|lllllllllllllllllllllllllllllllllllllllllllllllllllllllllllllllllllllllllllllllllllllllllllllllllllllllllllllllllllllllllllllllllllllllllllllllllllllllllllllllllllllllllllllllllllllllllllllllllllllllllllllllllllllllllllllllllllllllllllllllllllllllllllllllllllllllllllllll}\n",
       " X. & M03D21 & M03D22 & M03D23 & M03D24 & M03D25 & M03D26 & M03D27 & M03D28 & M03D29 & ... & M12D06 & M12D07 & M12D08 & M12D09 & M12D10 & M12D11 & M12D12 & M12D13 & M12D14 & M12D15\\\\\n",
       "\\hline\n",
       "\t Confirmed cases of COVID-19 (total)              & 1326                                             & 1395                                             & 1450                                             & 1577                                             & 1715                                             & 1851                                             & 2010                                             & 2201                                             & 2395                                             & ...                                              &   90603                                          &   92649                                          &   94799                                          &   97357                                          &  100489                                          &  103564                                          &  107116                                          &  109758                                          &  113095                                          &  116087                                         \\\\\n",
       "\t Recovered from COVID-19 infection (total         & ..                                               & ..                                               & ..                                               & ..                                               & ..                                               & ..                                               & ..                                               & ..                                               & ..                                               & ...                                              &   70876                                          &   71882                                          &   73052                                          &   74367                                          &   75664                                          &   76927                                          &   78236                                          &   79394                                          &   80564                                          &   82099                                         \\\\\n",
       "\t Number of persons tested for COVID-19 (total)    & 11657                                            & 12351                                            & 12843                                            & 13756                                            & 14870                                            & 15981                                            & 17275                                            & 18810                                            & 20198                                            & ...                                              & 3524861                                          & 3541148                                          & 3556264                                          & 3572954                                          & 3592677                                          & 3611456                                          & 3630815                                          & 3646152                                          & 3664247                                          & 3680607                                         \\\\\n",
       "\t Deaths with COVID-19 (total)                     & 22                                               & 25                                               & 31                                               & 37                                               & 43                                               & 55                                               & 67                                               & 76                                               & 84                                               & ...                                              &     899                                          &     905                                          &     912                                          &     922                                          &     928                                          &     935                                          &     943                                          &     954                                          &     961                                          &     961                                         \\\\\n",
       "\t Deaths with COVID-19 per day                     & 3                                                & 3                                                & 6                                                & 6                                                & 6                                                & 12                                               & 12                                               & 9                                                & 8                                                & ...                                              &       8                                          &       6                                          &       7                                          &      10                                          &       6                                          &       7                                          &       8                                          &      11                                          &       7                                          &       0                                         \\\\\n",
       "\t Persons hospitalised in connection with COVID-19 & 206                                              & 232                                              & 254                                              & 301                                              & 350                                              & 386                                              & 430                                              & 459                                              & 499                                              & ...                                              &     302                                          &     328                                          &     354                                          &     349                                          &     342                                          &     361                                          &     371                                          &     390                                          &     429                                          &     439                                         \\\\\n",
       "\\end{tabular}\n"
      ],
      "text/markdown": [
       "\n",
       "| X. | M03D21 | M03D22 | M03D23 | M03D24 | M03D25 | M03D26 | M03D27 | M03D28 | M03D29 | ... | M12D06 | M12D07 | M12D08 | M12D09 | M12D10 | M12D11 | M12D12 | M12D13 | M12D14 | M12D15 |\n",
       "|---|---|---|---|---|---|---|---|---|---|---|---|---|---|---|---|---|---|---|---|---|\n",
       "| Confirmed cases of COVID-19 (total)              | 1326                                             | 1395                                             | 1450                                             | 1577                                             | 1715                                             | 1851                                             | 2010                                             | 2201                                             | 2395                                             | ...                                              |   90603                                          |   92649                                          |   94799                                          |   97357                                          |  100489                                          |  103564                                          |  107116                                          |  109758                                          |  113095                                          |  116087                                          |\n",
       "| Recovered from COVID-19 infection (total         | ..                                               | ..                                               | ..                                               | ..                                               | ..                                               | ..                                               | ..                                               | ..                                               | ..                                               | ...                                              |   70876                                          |   71882                                          |   73052                                          |   74367                                          |   75664                                          |   76927                                          |   78236                                          |   79394                                          |   80564                                          |   82099                                          |\n",
       "| Number of persons tested for COVID-19 (total)    | 11657                                            | 12351                                            | 12843                                            | 13756                                            | 14870                                            | 15981                                            | 17275                                            | 18810                                            | 20198                                            | ...                                              | 3524861                                          | 3541148                                          | 3556264                                          | 3572954                                          | 3592677                                          | 3611456                                          | 3630815                                          | 3646152                                          | 3664247                                          | 3680607                                          |\n",
       "| Deaths with COVID-19 (total)                     | 22                                               | 25                                               | 31                                               | 37                                               | 43                                               | 55                                               | 67                                               | 76                                               | 84                                               | ...                                              |     899                                          |     905                                          |     912                                          |     922                                          |     928                                          |     935                                          |     943                                          |     954                                          |     961                                          |     961                                          |\n",
       "| Deaths with COVID-19 per day                     | 3                                                | 3                                                | 6                                                | 6                                                | 6                                                | 12                                               | 12                                               | 9                                                | 8                                                | ...                                              |       8                                          |       6                                          |       7                                          |      10                                          |       6                                          |       7                                          |       8                                          |      11                                          |       7                                          |       0                                          |\n",
       "| Persons hospitalised in connection with COVID-19 | 206                                              | 232                                              | 254                                              | 301                                              | 350                                              | 386                                              | 430                                              | 459                                              | 499                                              | ...                                              |     302                                          |     328                                          |     354                                          |     349                                          |     342                                          |     361                                          |     371                                          |     390                                          |     429                                          |     439                                          |\n",
       "\n"
      ],
      "text/plain": [
       "  X.                                               M03D21 M03D22 M03D23 M03D24\n",
       "1 Confirmed cases of COVID-19 (total)              1326   1395   1450   1577  \n",
       "2 Recovered from COVID-19 infection (total         ..     ..     ..     ..    \n",
       "3 Number of persons tested for COVID-19 (total)    11657  12351  12843  13756 \n",
       "4 Deaths with COVID-19 (total)                     22     25     31     37    \n",
       "5 Deaths with COVID-19 per day                     3      3      6      6     \n",
       "6 Persons hospitalised in connection with COVID-19 206    232    254    301   \n",
       "  M03D25 M03D26 M03D27 M03D28 M03D29 ... M12D06  M12D07  M12D08  M12D09 \n",
       "1 1715   1851   2010   2201   2395   ...   90603   92649   94799   97357\n",
       "2 ..     ..     ..     ..     ..     ...   70876   71882   73052   74367\n",
       "3 14870  15981  17275  18810  20198  ... 3524861 3541148 3556264 3572954\n",
       "4 43     55     67     76     84     ...     899     905     912     922\n",
       "5 6      12     12     9      8      ...       8       6       7      10\n",
       "6 350    386    430    459    499    ...     302     328     354     349\n",
       "  M12D10  M12D11  M12D12  M12D13  M12D14  M12D15 \n",
       "1  100489  103564  107116  109758  113095  116087\n",
       "2   75664   76927   78236   79394   80564   82099\n",
       "3 3592677 3611456 3630815 3646152 3664247 3680607\n",
       "4     928     935     943     954     961     961\n",
       "5       6       7       8      11       7       0\n",
       "6     342     361     371     390     429     439"
      ]
     },
     "metadata": {},
     "output_type": "display_data"
    }
   ],
   "source": [
    "# Create a dataframe by reading the file containing the dataset\n",
    "\n",
    "covid_data_sb <- read.csv(\"covid-data-statistikbanken.csv\")\n",
    "head(covid_data_sb)"
   ]
  },
  {
   "cell_type": "markdown",
   "metadata": {},
   "source": [
    "### Data wrangling\n",
    "\n",
    "Now that the target data is loaded and ready to be used, we print a few columns of the data with `head` command and inspect if any transformations are required. In the initial inspection, the data looks to be well prepared and organized but still not ready to be used. Based on the requirements and researchers, the transformations required is subjective. For our use case, the required transformations are listed below:\n",
    "\n",
    "_**This process of transforming data into another format is called \"data wrangling\".**_\n",
    "\n",
    "1. The key indicators, i.e the names describing the values, are the first values of each rows. Ideally, they should be the first values in each of columns. In simple terms, the x-axis and y-axis needs to be reversed. This requires the dataframe to be transposed (or rotated).\n",
    "2. The key indicator names are very long. To adhere to R's naming covention, we rename each of the key indicators to short, meaningful names and follow snake case using \"_\", for example `some_key_indicator`.\n",
    "3. The format of the date is \"MxxDxx\". For maximum flexibility and understanding, we transform this to the international ISO date format of `yyyy-mm-dd`. This is done using R's built in functions in the following steps.\n",
    "4. This dataset is missing one of the key figures, which is the daily new cases. Since we have the total number of cases for everyday, we substract that value of a day with that value of the day before to calculate the daily new cases. \n",
    "    - For example: total case for March 22 = 1395, total case for March 21 = 1326. So daily new case of March 21 = 1395 - 1326 = 69.\n",
    "5. The missing values are represented by `..`. Those should updated to either empty values or `NA` so that R can interpret it as missing value.\n",
    "6. Change the data types of the attributes if needed. Since the data is read from a CSV file, R may not be able to correctly interpret the data type. For example, if `total_tested` is interpreted as `character` instead of `numeric`, it'll fail to plot the data or train a model based on that data."
   ]
  },
  {
   "cell_type": "code",
   "execution_count": 3,
   "metadata": {},
   "outputs": [
    {
     "data": {
      "text/html": [
       "<table>\n",
       "<thead><tr><th></th><th scope=col>Confirmed cases of COVID-19 (total)</th><th scope=col>Recovered from COVID-19 infection (total</th><th scope=col>Number of persons tested for COVID-19 (total)</th><th scope=col>Deaths with COVID-19 (total)</th><th scope=col>Deaths with COVID-19 per day</th><th scope=col>Persons hospitalised in connection with COVID-19</th><th scope=col>Patients in intensive care units in connection with COVID-19</th><th scope=col>Patients on ventilators in connection with COVID-19</th></tr></thead>\n",
       "<tbody>\n",
       "\t<tr><th scope=row>M03D21</th><td>1326 </td><td>..   </td><td>11657</td><td>22   </td><td>3    </td><td>206  </td><td>42   </td><td>35   </td></tr>\n",
       "\t<tr><th scope=row>M03D22</th><td>1395 </td><td>..   </td><td>12351</td><td>25   </td><td>3    </td><td>232  </td><td>46   </td><td>40   </td></tr>\n",
       "\t<tr><th scope=row>M03D23</th><td>1450 </td><td>..   </td><td>12843</td><td>31   </td><td>6    </td><td>254  </td><td>55   </td><td>47   </td></tr>\n",
       "\t<tr><th scope=row>M03D24</th><td>1577 </td><td>..   </td><td>13756</td><td>37   </td><td>6    </td><td>301  </td><td>59   </td><td>58   </td></tr>\n",
       "\t<tr><th scope=row>M03D25</th><td>1715 </td><td>..   </td><td>14870</td><td>43   </td><td>6    </td><td>350  </td><td>87   </td><td>76   </td></tr>\n",
       "\t<tr><th scope=row>M03D26</th><td>1851 </td><td>..   </td><td>15981</td><td>55   </td><td>12   </td><td>386  </td><td>94   </td><td>78   </td></tr>\n",
       "</tbody>\n",
       "</table>\n"
      ],
      "text/latex": [
       "\\begin{tabular}{r|llllllll}\n",
       "  & Confirmed cases of COVID-19 (total) & Recovered from COVID-19 infection (total & Number of persons tested for COVID-19 (total) & Deaths with COVID-19 (total) & Deaths with COVID-19 per day & Persons hospitalised in connection with COVID-19 & Patients in intensive care units in connection with COVID-19 & Patients on ventilators in connection with COVID-19\\\\\n",
       "\\hline\n",
       "\tM03D21 & 1326  & ..    & 11657 & 22    & 3     & 206   & 42    & 35   \\\\\n",
       "\tM03D22 & 1395  & ..    & 12351 & 25    & 3     & 232   & 46    & 40   \\\\\n",
       "\tM03D23 & 1450  & ..    & 12843 & 31    & 6     & 254   & 55    & 47   \\\\\n",
       "\tM03D24 & 1577  & ..    & 13756 & 37    & 6     & 301   & 59    & 58   \\\\\n",
       "\tM03D25 & 1715  & ..    & 14870 & 43    & 6     & 350   & 87    & 76   \\\\\n",
       "\tM03D26 & 1851  & ..    & 15981 & 55    & 12    & 386   & 94    & 78   \\\\\n",
       "\\end{tabular}\n"
      ],
      "text/markdown": [
       "\n",
       "| <!--/--> | Confirmed cases of COVID-19 (total) | Recovered from COVID-19 infection (total | Number of persons tested for COVID-19 (total) | Deaths with COVID-19 (total) | Deaths with COVID-19 per day | Persons hospitalised in connection with COVID-19 | Patients in intensive care units in connection with COVID-19 | Patients on ventilators in connection with COVID-19 |\n",
       "|---|---|---|---|---|---|---|---|---|\n",
       "| M03D21 | 1326  | ..    | 11657 | 22    | 3     | 206   | 42    | 35    |\n",
       "| M03D22 | 1395  | ..    | 12351 | 25    | 3     | 232   | 46    | 40    |\n",
       "| M03D23 | 1450  | ..    | 12843 | 31    | 6     | 254   | 55    | 47    |\n",
       "| M03D24 | 1577  | ..    | 13756 | 37    | 6     | 301   | 59    | 58    |\n",
       "| M03D25 | 1715  | ..    | 14870 | 43    | 6     | 350   | 87    | 76    |\n",
       "| M03D26 | 1851  | ..    | 15981 | 55    | 12    | 386   | 94    | 78    |\n",
       "\n"
      ],
      "text/plain": [
       "       Confirmed cases of COVID-19 (total)\n",
       "M03D21 1326                               \n",
       "M03D22 1395                               \n",
       "M03D23 1450                               \n",
       "M03D24 1577                               \n",
       "M03D25 1715                               \n",
       "M03D26 1851                               \n",
       "       Recovered from COVID-19 infection (total\n",
       "M03D21 ..                                      \n",
       "M03D22 ..                                      \n",
       "M03D23 ..                                      \n",
       "M03D24 ..                                      \n",
       "M03D25 ..                                      \n",
       "M03D26 ..                                      \n",
       "       Number of persons tested for COVID-19 (total)\n",
       "M03D21 11657                                        \n",
       "M03D22 12351                                        \n",
       "M03D23 12843                                        \n",
       "M03D24 13756                                        \n",
       "M03D25 14870                                        \n",
       "M03D26 15981                                        \n",
       "       Deaths with COVID-19 (total) Deaths with COVID-19 per day\n",
       "M03D21 22                           3                           \n",
       "M03D22 25                           3                           \n",
       "M03D23 31                           6                           \n",
       "M03D24 37                           6                           \n",
       "M03D25 43                           6                           \n",
       "M03D26 55                           12                          \n",
       "       Persons hospitalised in connection with COVID-19\n",
       "M03D21 206                                             \n",
       "M03D22 232                                             \n",
       "M03D23 254                                             \n",
       "M03D24 301                                             \n",
       "M03D25 350                                             \n",
       "M03D26 386                                             \n",
       "       Patients in intensive care units in connection with COVID-19\n",
       "M03D21 42                                                          \n",
       "M03D22 46                                                          \n",
       "M03D23 55                                                          \n",
       "M03D24 59                                                          \n",
       "M03D25 87                                                          \n",
       "M03D26 94                                                          \n",
       "       Patients on ventilators in connection with COVID-19\n",
       "M03D21 35                                                 \n",
       "M03D22 40                                                 \n",
       "M03D23 47                                                 \n",
       "M03D24 58                                                 \n",
       "M03D25 76                                                 \n",
       "M03D26 78                                                 "
      ]
     },
     "metadata": {},
     "output_type": "display_data"
    }
   ],
   "source": [
    "# 1. Transposing a dataframe: https://stackoverflow.com/a/6645587/9332260\n",
    "denmark_covid_data <- t(covid_data_sb[,2:ncol(covid_data_sb)])\n",
    "colnames(denmark_covid_data) <- covid_data_sb[,1] \n",
    "head(denmark_covid_data)"
   ]
  },
  {
   "cell_type": "code",
   "execution_count": 4,
   "metadata": {},
   "outputs": [],
   "source": [
    "# 2. Rename column names: https://stackoverflow.com/a/16031013/9332260\n",
    "denmark_covid_data <- cbind(rownames(denmark_covid_data), denmark_covid_data)\n",
    "rownames(denmark_covid_data) <- NULL\n",
    "colnames(denmark_covid_data) <- c(\"original_date\",\n",
    "                                  \"total_cases\",\n",
    "                                  \"total_recovered\",\n",
    "                                  \"total_tested\",\n",
    "                                  \"total_deaths\",\n",
    "                                  \"daily_deaths\",\n",
    "                                  \"daily_hospitalized\",\n",
    "                                  \"daily_patients_icu\",\n",
    "                                  \"daily_patients_ventilators\")\n",
    "denmark_covid_data <- as.data.frame(denmark_covid_data)"
   ]
  },
  {
   "cell_type": "code",
   "execution_count": 5,
   "metadata": {},
   "outputs": [
    {
     "data": {
      "text/html": [
       "<table>\n",
       "<thead><tr><th scope=col>original_date</th><th scope=col>total_cases</th><th scope=col>total_recovered</th><th scope=col>total_tested</th><th scope=col>total_deaths</th><th scope=col>daily_deaths</th><th scope=col>daily_hospitalized</th><th scope=col>daily_patients_icu</th><th scope=col>daily_patients_ventilators</th></tr></thead>\n",
       "<tbody>\n",
       "\t<tr><td>M03D21</td><td>1326  </td><td>..    </td><td>11657 </td><td>22    </td><td>3     </td><td>206   </td><td>42    </td><td>35    </td></tr>\n",
       "\t<tr><td>M03D22</td><td>1395  </td><td>..    </td><td>12351 </td><td>25    </td><td>3     </td><td>232   </td><td>46    </td><td>40    </td></tr>\n",
       "\t<tr><td>M03D23</td><td>1450  </td><td>..    </td><td>12843 </td><td>31    </td><td>6     </td><td>254   </td><td>55    </td><td>47    </td></tr>\n",
       "\t<tr><td>M03D24</td><td>1577  </td><td>..    </td><td>13756 </td><td>37    </td><td>6     </td><td>301   </td><td>59    </td><td>58    </td></tr>\n",
       "\t<tr><td>M03D25</td><td>1715  </td><td>..    </td><td>14870 </td><td>43    </td><td>6     </td><td>350   </td><td>87    </td><td>76    </td></tr>\n",
       "\t<tr><td>M03D26</td><td>1851  </td><td>..    </td><td>15981 </td><td>55    </td><td>12    </td><td>386   </td><td>94    </td><td>78    </td></tr>\n",
       "</tbody>\n",
       "</table>\n"
      ],
      "text/latex": [
       "\\begin{tabular}{r|lllllllll}\n",
       " original\\_date & total\\_cases & total\\_recovered & total\\_tested & total\\_deaths & daily\\_deaths & daily\\_hospitalized & daily\\_patients\\_icu & daily\\_patients\\_ventilators\\\\\n",
       "\\hline\n",
       "\t M03D21 & 1326   & ..     & 11657  & 22     & 3      & 206    & 42     & 35    \\\\\n",
       "\t M03D22 & 1395   & ..     & 12351  & 25     & 3      & 232    & 46     & 40    \\\\\n",
       "\t M03D23 & 1450   & ..     & 12843  & 31     & 6      & 254    & 55     & 47    \\\\\n",
       "\t M03D24 & 1577   & ..     & 13756  & 37     & 6      & 301    & 59     & 58    \\\\\n",
       "\t M03D25 & 1715   & ..     & 14870  & 43     & 6      & 350    & 87     & 76    \\\\\n",
       "\t M03D26 & 1851   & ..     & 15981  & 55     & 12     & 386    & 94     & 78    \\\\\n",
       "\\end{tabular}\n"
      ],
      "text/markdown": [
       "\n",
       "| original_date | total_cases | total_recovered | total_tested | total_deaths | daily_deaths | daily_hospitalized | daily_patients_icu | daily_patients_ventilators |\n",
       "|---|---|---|---|---|---|---|---|---|\n",
       "| M03D21 | 1326   | ..     | 11657  | 22     | 3      | 206    | 42     | 35     |\n",
       "| M03D22 | 1395   | ..     | 12351  | 25     | 3      | 232    | 46     | 40     |\n",
       "| M03D23 | 1450   | ..     | 12843  | 31     | 6      | 254    | 55     | 47     |\n",
       "| M03D24 | 1577   | ..     | 13756  | 37     | 6      | 301    | 59     | 58     |\n",
       "| M03D25 | 1715   | ..     | 14870  | 43     | 6      | 350    | 87     | 76     |\n",
       "| M03D26 | 1851   | ..     | 15981  | 55     | 12     | 386    | 94     | 78     |\n",
       "\n"
      ],
      "text/plain": [
       "  original_date total_cases total_recovered total_tested total_deaths\n",
       "1 M03D21        1326        ..              11657        22          \n",
       "2 M03D22        1395        ..              12351        25          \n",
       "3 M03D23        1450        ..              12843        31          \n",
       "4 M03D24        1577        ..              13756        37          \n",
       "5 M03D25        1715        ..              14870        43          \n",
       "6 M03D26        1851        ..              15981        55          \n",
       "  daily_deaths daily_hospitalized daily_patients_icu daily_patients_ventilators\n",
       "1 3            206                42                 35                        \n",
       "2 3            232                46                 40                        \n",
       "3 6            254                55                 47                        \n",
       "4 6            301                59                 58                        \n",
       "5 6            350                87                 76                        \n",
       "6 12           386                94                 78                        "
      ]
     },
     "metadata": {},
     "output_type": "display_data"
    }
   ],
   "source": [
    "# Verifying that the renaming of columns was successful\n",
    "head(denmark_covid_data)"
   ]
  },
  {
   "cell_type": "code",
   "execution_count": 6,
   "metadata": {},
   "outputs": [],
   "source": [
    "# 3. Change date format to ISO format\n",
    "# 5. Change missing data \"..\" to NA \n",
    "denmark_covid_data <- denmark_covid_data %>%\n",
    "  mutate(\n",
    "      date = as.Date(original_date, \"M%mD%d\"),\n",
    "      day = row_number(date) - 1,\n",
    "      total_recovered = na_if(total_recovered, \"..\"),\n",
    "      total_tested = na_if(total_tested, \"..\"),\n",
    "      daily_hospitalized = na_if(daily_hospitalized, \"..\"),\n",
    "      daily_patients_icu = na_if(daily_patients_icu, \"..\"),\n",
    "      daily_patients_ventilators = na_if(daily_patients_ventilators, \"..\"),\n",
    "  )"
   ]
  },
  {
   "cell_type": "code",
   "execution_count": 7,
   "metadata": {},
   "outputs": [],
   "source": [
    "# 6. Update the data types \n",
    "denmark_covid_data$total_cases <- as.numeric(\n",
    "    as.character(denmark_covid_data$total_cases))\n",
    "denmark_covid_data$total_tested <- as.numeric(\n",
    "    as.character(denmark_covid_data$total_tested))"
   ]
  },
  {
   "cell_type": "code",
   "execution_count": 8,
   "metadata": {},
   "outputs": [],
   "source": [
    "# 5. Add a new column for daily new cases\n",
    "denmark_covid_data <- \n",
    "denmark_covid_data %>%\n",
    "  arrange(date) %>%\n",
    "   mutate(\n",
    "       new_cases = total_cases - lag(total_cases, 1, 0),\n",
    "   ) %>% arrange(date)\n",
    "\n",
    "denmark_covid_data$new_cases[1]=71"
   ]
  },
  {
   "cell_type": "markdown",
   "metadata": {},
   "source": [
    "## Analyze the data"
   ]
  },
  {
   "cell_type": "markdown",
   "metadata": {},
   "source": [
    "Now that the data has been appropriately transformed, the next step is to analyze the data. To do so, we plot the data with different variables to get an understanding of the effect caused by COVID-19 and get answer to questions as well as back up our hypothesis related to the pandemic. These plots also help tell a story to the general public as it provides an meaningful overview at a glance, without going into details."
   ]
  },
  {
   "cell_type": "markdown",
   "metadata": {},
   "source": [
    "### Have the lockdowns and mask mandate had an effect?\n",
    "\n",
    "**Hypothesis 1:** With the enforcement of lockdowns and use of masks, we can control the spread of the virus and possibly decrease the number of active cases.\n",
    "\n",
    "The plot below focuses on the daily cases of COVID-19 virus from March to December 2020. The light-orange shades (actual color: `navajowhite1`) represents the lockdown periods and the dashed line represents the enforcement of mask mandate in Denmark.\n",
    "\n",
    "The plot shows that the initial lockdown from March 21, 2020 to April 13, 2020 certainly aided in reducing the number of daily cases. While the numbers stayed low for a few months, the number of new daily cases certainly started to gain inclination from September onwards. The mask mandate enforced from end of October barely helped in flattening the curve and the line started to peak during the end of the year.\n",
    "\n",
    "This helps in explaining that when the pandemic was new and under-studied, the public must have been extra careful. But as time went on, it seems like this was no longer the case. Even with the mask mandate and second lockdown in place, the plot resulted in steep incline in the slope with record-breaking daily cases in December. This shows that our hypothesis is wrong as it fails to take into account for the number of COVID tests, people's behaviour and intentions, especially during holiday seasons and other similar factors."
   ]
  },
  {
   "cell_type": "code",
   "execution_count": 9,
   "metadata": {},
   "outputs": [
    {
     "data": {
      "image/png": "[encoded data removed]",
      "text/plain": [
       "plot without title"
      ]
     },
     "metadata": {},
     "output_type": "display_data"
    }
   ],
   "source": [
    "ggplot(denmark_covid_data, aes(x = date)) +\n",
    "\n",
    "geom_rect(aes(\n",
    "    xmin = as.Date(\"2020-03-15\"),\n",
    "    xmax = as.Date(\"2020-04-13\"),\n",
    "    ymin = -Inf, ymax = Inf, fill = \"Lockdown period\")) +\n",
    "geom_rect(aes(\n",
    "    xmin = as.Date(\"2020-12-08\"),\n",
    "    xmax = as.Date(\"2020-12-18\"),\n",
    "    ymin = -Inf, ymax = Inf, fill = \"Lockdown period\")) +\n",
    "geom_vline(aes(\n",
    "    xintercept = as.Date(\"2020-10-29\"),\n",
    "    linetype = \"Break\"),\n",
    "           color = \"black\",\n",
    "           lwd = 0.7\n",
    "          ) +\n",
    "\n",
    "\n",
    "geom_line(aes(y = new_cases, color = \"cyan4\"), lwd=1) +\n",
    "scale_x_date(breaks = date_breaks(\"1 months\"),\n",
    "             date_labels = \"%b\") +\n",
    "\n",
    "xlab(\"\\nMonths in 2020\") +\n",
    "scale_y_continuous(\"No. of people\\n\") +\n",
    "\n",
    "ggtitle(\"Plot 1: Daily cases of COVID-19\") +\n",
    "scale_fill_manual(name = \"\",\n",
    "                  values=\"navajowhite1\",\n",
    "                  labels=c(\"Lockdown periods\")) +\n",
    "scale_color_identity(name = \"\",\n",
    "                     breaks = c(\"cyan4\"),\n",
    "                     labels = c(\"Daily cases\"),\n",
    "                     guide = \"legend\") +\n",
    "scale_linetype_manual(name = \"\",\n",
    "                      values = c(\"Break\" = \"dashed\"),\n",
    "                      labels = c(\"Mask requirement\")) +\n",
    "labs(\n",
    "    caption = paste(\"\\nDaily confirmed cases of COVID-19 from \",\n",
    "                    min(denmark_covid_data$date),\n",
    "                    \" to \", \n",
    "                    max(denmark_covid_data$date))\n",
    ")"
   ]
  },
  {
   "cell_type": "markdown",
   "metadata": {},
   "source": [
    "### Is there a correlation between number of tests and cases?\n",
    "\n",
    "**Hypothesis 2:** The number of tests conducted has an direct impact on the number of confirmed cases.\n",
    "\n",
    "The plot above, Plot 1, visualizes that the number of cases increased as the time passed by. But this plot is missing a key factor in understanding why there was an increase in cases. To get a better understanding, we must also take into account the increase in testing done to confirm COVID-19 cases. In the initial days, there were limited supply of testing resources so only the vulnerable ones were tested. But as the testing resources expanded over time, the non-vulnerable group of people also got the opportubity to be tested. This is one of the factors resulting in increase of cases as shown in plot 1.\n",
    "\n",
    "To visualize this hypothesis, we can plot them on a graph and analyse the behaviour over time. The idea is to get a glance at the relationship between the total tests conducted and total confirmed cases."
   ]
  },
  {
   "cell_type": "code",
   "execution_count": 19,
   "metadata": {},
   "outputs": [
    {
     "ename": "ERROR",
     "evalue": "Error in FUN(X[[i]], ...): object 'total_tested' not found\n",
     "output_type": "error",
     "traceback": [
      "Error in FUN(X[[i]], ...): object 'total_tested' not found\nTraceback:\n",
      "1. ggarrange(total_tested_plot, total_confirmed_cases_plot, ncol = 1)",
      "2. purrr::map(plots, .plot_grid, ncol = ncol, nrow = nrow, labels = labels, \n .     label_size = .lab$size, label_fontfamily = .lab$family, label_fontface = .lab$face, \n .     label_colour = .lab$color, label_x = .lab$label.x, label_y = .lab$label.y, \n .     hjust = .lab$hjust, vjust = .lab$vjust, align = align, rel_widths = widths, \n .     rel_heights = heights, legend = legend, common.legend.grob = legend.grob)",
      "3. .f(.x[[i]], ...)",
      "4. cowplot::plot_grid(plotlist = plotlist, ...)",
      "5. align_plots(plotlist = plots, align = align, axis = axis, greedy = greedy)",
      "6. lapply(plots, function(x) {\n .     if (!is.null(x)) \n .         as_gtable(x)\n .     else NULL\n . })",
      "7. FUN(X[[i]], ...)",
      "8. as_gtable(x)",
      "9. as_gtable.default(x)",
      "10. as_grob(plot)",
      "11. as_grob.ggplot(plot)",
      "12. ggplot2::ggplotGrob(plot)",
      "13. ggplot_gtable(ggplot_build(x))",
      "14. ggplot_build(x)",
      "15. ggplot_build.ggplot(x)",
      "16. by_layer(function(l, d) l$compute_aesthetics(d, plot))",
      "17. f(l = layers[[i]], d = data[[i]])",
      "18. l$compute_aesthetics(d, plot)",
      "19. f(..., self = self)",
      "20. lapply(aesthetics, eval_tidy, data = data, env = env)",
      "21. FUN(X[[i]], ...)"
     ]
    }
   ],
   "source": [
    "# Plot for total number of people tested\n",
    "\n",
    "total_tested_plot <- ggplot(denmark_covid_data, \n",
    "                            aes(x = date)) +\n",
    "geom_line(aes(y = total_tested), \n",
    "          color = \"tomato1\",\n",
    "          lwd = 1) +\n",
    "scale_x_date(breaks = date_breaks(\"1 months\"),\n",
    "             date_labels = \"%b\") +\n",
    "xlab(\"\\nMonths in 2020\") +\n",
    "scale_y_continuous(\"No. of people tested\\n\",\n",
    "                     labels = function(x) prettyNum(\n",
    "                         x,\n",
    "                         big.mark=\",\", \n",
    "                         scientific = FALSE)\n",
    "                   ) +\n",
    "ggtitle(\"Plot 2: Total tested for COVID-19\") +\n",
    "labs(\n",
    "    caption = paste(\"\\n\")\n",
    ")\n",
    "\n",
    "# Plot for total number of confirmed cases\n",
    "\n",
    "total_confirmed_cases_plot <- ggplot(denmark_covid_data, \n",
    "                                     aes(x = date)) + \n",
    "geom_line(aes(y = total_cases),\n",
    "          color = \"cyan4\",\n",
    "          lwd = 1) +\n",
    "scale_x_date(breaks = date_breaks(\"1 months\"),\n",
    "             date_labels = \"%b\") +\n",
    "xlab(\"\\nMonths in 2020\") +\n",
    "scale_y_continuous(\"No. of confirmed cases\\n\",\n",
    "                     labels = function(x) prettyNum(\n",
    "                         x,\n",
    "                         big.mark=\",\",\n",
    "                         scientific = FALSE)\n",
    "                   ) +\n",
    "ggtitle(\"Plot 3: Total confirmed cases for COVID-19\")\n",
    "\n",
    "# Finally make a grid of both plots\n",
    "\n",
    "options(repr.plot.height = 8)\n",
    "ggarrange(total_tested_plot, \n",
    "          total_confirmed_cases_plot, \n",
    "          ncol = 1)\n",
    "options(repr.plot.height = 6)\n"
   ]
  },
  {
   "cell_type": "markdown",
   "metadata": {},
   "source": [
    "Plot 2 and 3 represents the total number of people tested for COVID-19 and total confirmed cases respectively. As the hypothesis stated, there is definitely a correlation between the two variables. It might also seem like there is a causation between the two by just glancing at the two plots but that is not strictly true. Causation is generally understood using common sense rather than using mathematics.\n",
    "\n",
    "We state that there is no causation between the two variables because increase in number of cases does not cause in increase of total confirmed cases. Total tested and total confirmed cases may have a strong correaltion without having a cause/effect relationship.\n"
   ]
  },
  {
   "cell_type": "markdown",
   "metadata": {},
   "source": [
    "#### Pearson correlation coefficient\n",
    "\n",
    "To evaluate if there is a correaltion between the two variables---total tested and total confirmed cases---we will be using Pearson correlation coefficient formula. Pearson correlation coefficient analyzes the realtionship between two variables by draws a line through them and returns an output. The out of the formula has a value between -1 and 1, where value closer to -1 means strong negative relationship and vice-versa.\n",
    "\n",
    "Pearson correlation coefficient, also referred to as Pearson's product-moment correlation, is defined in statistics as the measurement of the strength of the relationship between two variables and their association with each other (todo: cite). The formula for Pearson correlation coefficient is:\n",
    "\n",
    "\\begin{equation}\n",
    "r = \\frac{{}\\sum_{i=1}^{n} (x_i - \\overline{x})(y_i - \\overline{y})}\n",
    "{\\sqrt{\\sum_{i=1}^{n} (x_i - \\overline{x})^2(y_i - \\overline{y})^2}}\n",
    "\\end{equation}\n",
    "\n",
    "To determine the relationship between increasing cases and the increase in testing, we can\n",
    "visualize the data using a scatter plot. The dependent variable, denoted by the Y-axis, in this case will\n",
    "be the total number of confirmed cases and the independent variable, denoted by X-axis, will be the total\n",
    "number of tests conducted.\n"
   ]
  },
  {
   "cell_type": "code",
   "execution_count": 11,
   "metadata": {},
   "outputs": [
    {
     "data": {
      "text/plain": [
       "\n",
       "\tPearson's product-moment correlation\n",
       "\n",
       "data:  denmark_covid_data$total_cases and denmark_covid_data$total_tested\n",
       "t = 29.711, df = 251, p-value < 2.2e-16\n",
       "alternative hypothesis: true correlation is not equal to 0\n",
       "95 percent confidence interval:\n",
       " 0.8517549 0.9070151\n",
       "sample estimates:\n",
       "      cor \n",
       "0.8823918 \n"
      ]
     },
     "metadata": {},
     "output_type": "display_data"
    },
    {
     "name": "stderr",
     "output_type": "stream",
     "text": [
      "`geom_smooth()` using formula 'y ~ x'\n"
     ]
    },
    {
     "data": {
      "image/png": "[encoded data removed]",
      "text/plain": [
       "plot without title"
      ]
     },
     "metadata": {},
     "output_type": "display_data"
    }
   ],
   "source": [
    "# Calculating the Correlation Coefficient\n",
    "pcc <- cor.test(denmark_covid_data$total_cases,\n",
    "                denmark_covid_data$total_tested,\n",
    "                method = \"pearson\")\n",
    "pcc\n",
    "\n",
    "# Plotting the variables\n",
    "ggplot(denmark_covid_data,\n",
    "       aes(x=total_tested, y=total_cases)) +\n",
    "geom_point(size=2, shape=4) +\n",
    "geom_smooth(method = \"lm\", color=\"turquoise4\") +\n",
    "scale_x_continuous(\"\\nNo. of people tested\",\n",
    "                   labels = function(x) prettyNum(x,\n",
    "                                                  big.mark=\",\",\n",
    "                                                  scientific = FALSE)) +\n",
    "scale_y_continuous(\"No. of confirmed cases\\n\") +\n",
    "ggtitle(\"Plot 4: Correlation between total cases and total tested\") + \n",
    "labs(\n",
    "    subtitle = paste(\"Pearson correlation coefficient is\", \n",
    "                     format(round(pcc$estimate, 2), nsmall = 2), \"\\n\")\n",
    ")"
   ]
  },
  {
   "cell_type": "markdown",
   "metadata": {},
   "source": [
    "The scatter plot confirms that the relation between the 2 variables, confirmed cases and total people tested, has a positive, strong and non-linear relationship. The relationship is positive because of the nature of the linear line (blue in color) slanting upwards, from left to right. Since the plots do not follow the shape or form of the liner line, the relationship’s form is non-linear. Finally, the variables have a strong relationship because they are follow a certain curve and are in compact alignment, meaning they are not scattered all over the chart.\n",
    "\n",
    "Also, the output of Pearson correlation coefficient is 0.88 which illustrates the same conclusion as the scatter plot, which is calculated just above the plot. Since 0.88 is greater than 0, the relationship is positive and closer to the maximum possible output of 1, concluding the strong relationship.\n",
    "\n",
    "\n",
    "Thus, we can conclude that the second hypothesis holds true. There is a direct relationship between the total number of test being conducted and total number of confirmed cases.\n"
   ]
  },
  {
   "cell_type": "markdown",
   "metadata": {},
   "source": [
    "## Modeling and Prediction with Polynomial Regression\n",
    "\n",
    "In this section, we aim to build a model and extend plot 3, total number of confirmed cases over time, with predictions for the next couple of weeks. Since the relationship of the variables are not linear, we decided to use polynomial regression as it can fit a non-linear relationship.\n",
    "\n",
    "**_In the polynomial model, the degree of the polynomial is hyperparameter._**"
   ]
  },
  {
   "cell_type": "code",
   "execution_count": 12,
   "metadata": {},
   "outputs": [
    {
     "data": {
      "image/png": "[encoded data removed]",
      "text/plain": [
       "plot without title"
      ]
     },
     "metadata": {},
     "output_type": "display_data"
    }
   ],
   "source": [
    "# Setting theme for smaller plot\n",
    "theme_set(markdown_theme)\n",
    "options(repr.plot.width = 4, repr.plot.height = 2)\n",
    "\n",
    "total_confirmed_cases_plot\n",
    "\n",
    "# Resetting theme for normal plots\n",
    "options(repr.plot.width = 10, repr.plot.height = 5)\n",
    "theme_set(theme)"
   ]
  },
  {
   "cell_type": "markdown",
   "metadata": {},
   "source": [
    "### Calculating the optimum polynomial degree\n",
    "To calculate the optimum polynomial degree for our model, we train and inspect models with varying degrees. The model with the least Root Mean Square Error (RMSE) will be the best model. This process consists of the following steps:\n",
    "\n",
    "1. Divide the dataset into training and testing data\n",
    "2. Train models with varying degrees\n",
    "3. Inspect the models' RMSE"
   ]
  },
  {
   "cell_type": "markdown",
   "metadata": {},
   "source": [
    "#### 1. Divide the dataset into training and testing data\n",
    "\n",
    "In the first step, we divide the prepared dataset randomly into training and testing subsets with a ratio of 80:20. The training dataset is used to fit the model and the test dataset is used to evalute the fit of the model.\n",
    "\n",
    "In the following code block, we start with the `set.seed()` function so that the results are reproducible when splitting the dataset randomly. Then, as aforementioned, we spilt the data into training and testing subsets. Finally, we create a data frame to store the outcomes of the model for comparision, aptly named `output`."
   ]
  },
  {
   "cell_type": "code",
   "execution_count": 13,
   "metadata": {},
   "outputs": [],
   "source": [
    "set.seed(2020)\n",
    "\n",
    "training_testing_data_split <- initial_time_split(denmark_covid_data,\n",
    "                                                  prop = 0.8)\n",
    "training_set <- training(training_testing_data_split)\n",
    "testing_set <- testing(training_testing_data_split)\n",
    "output <- data.frame(degree = double(),\n",
    "                     train_rmse = double(),\n",
    "                     test_rmse = double())"
   ]
  },
  {
   "cell_type": "markdown",
   "metadata": {},
   "source": [
    "#### 2. Train models with varying degrees\n",
    "\n",
    "After splitting the dataset, the next step is to create the models with varying degrees. For each of the degree values between 1 and 10, we train the models on previously split training set. We then fit the training set to each of the models and also calculate the prediction for the testing dataset. Finally, we store their calculated root mean squared error, using `rmse_vec` and the degree with which the model was created onto the dataframe we created earlier called `output`.\n"
   ]
  },
  {
   "cell_type": "code",
   "execution_count": 14,
   "metadata": {},
   "outputs": [],
   "source": [
    "for(degree in 1:10){\n",
    "    polynomial_model <- lm(total_cases ~ poly(day,\n",
    "                                              degree = degree,\n",
    "                                              raw = TRUE),\n",
    "                           training_set)\n",
    "    training_set[\"fitted\"] <- predict(polynomial_model,\n",
    "                                      training_set)\n",
    "    testing_set[\"predicted\"] <- predict(polynomial_model,\n",
    "                                        testing_set)\n",
    "    output <- add_row(\n",
    "        output,\n",
    "        degree = degree, \n",
    "        train_rmse = rmse_vec(training_set$total_cases,\n",
    "                              training_set$fitted,\n",
    "                              TRUE), \n",
    "        test_rmse = rmse_vec(testing_set$total_cases,\n",
    "                             testing_set$predicted,\n",
    "                             TRUE)\n",
    "    )\n",
    "}"
   ]
  },
  {
   "cell_type": "markdown",
   "metadata": {},
   "source": [
    "#### 3. Inspect the models' RMSE\n",
    "\n",
    "Now that we have created different models with various degrees, we can visualize and determine the model with the best degree. To quote a previous section, \"The best model is the one with the least test RMSE, train RMSE, and degree.\"\n",
    "\n",
    "To do so, we arrange the `output` table in ascending order such that the best model will be on the top. We also draw a line plot to visualize the RMSEs of models with different polynomial values."
   ]
  },
  {
   "cell_type": "code",
   "execution_count": 15,
   "metadata": {},
   "outputs": [
    {
     "name": "stdout",
     "output_type": "stream",
     "text": [
      "The best degree for the model is:  4"
     ]
    },
    {
     "data": {
      "text/html": [
       "<table>\n",
       "<thead><tr><th scope=col>degree</th><th scope=col>train_rmse</th><th scope=col>test_rmse</th></tr></thead>\n",
       "<tbody>\n",
       "\t<tr><td> 4        </td><td> 455.7251 </td><td>  6858.037</td></tr>\n",
       "\t<tr><td> 3        </td><td> 502.5180 </td><td> 11148.809</td></tr>\n",
       "\t<tr><td> 5        </td><td> 440.4562 </td><td> 12497.523</td></tr>\n",
       "\t<tr><td> 6        </td><td> 405.7335 </td><td> 32368.520</td></tr>\n",
       "\t<tr><td> 2        </td><td>2671.2283 </td><td> 34869.609</td></tr>\n",
       "\t<tr><td> 1        </td><td>3276.9911 </td><td> 42833.942</td></tr>\n",
       "\t<tr><td> 7        </td><td> 291.5103 </td><td>112136.587</td></tr>\n",
       "\t<tr><td> 9        </td><td> 287.7138 </td><td>121377.215</td></tr>\n",
       "\t<tr><td> 8        </td><td> 288.0104 </td><td>143586.396</td></tr>\n",
       "\t<tr><td>10        </td><td> 220.7665 </td><td>672487.288</td></tr>\n",
       "</tbody>\n",
       "</table>\n"
      ],
      "text/latex": [
       "\\begin{tabular}{r|lll}\n",
       " degree & train\\_rmse & test\\_rmse\\\\\n",
       "\\hline\n",
       "\t  4         &  455.7251  &   6858.037\\\\\n",
       "\t  3         &  502.5180  &  11148.809\\\\\n",
       "\t  5         &  440.4562  &  12497.523\\\\\n",
       "\t  6         &  405.7335  &  32368.520\\\\\n",
       "\t  2         & 2671.2283  &  34869.609\\\\\n",
       "\t  1         & 3276.9911  &  42833.942\\\\\n",
       "\t  7         &  291.5103  & 112136.587\\\\\n",
       "\t  9         &  287.7138  & 121377.215\\\\\n",
       "\t  8         &  288.0104  & 143586.396\\\\\n",
       "\t 10         &  220.7665  & 672487.288\\\\\n",
       "\\end{tabular}\n"
      ],
      "text/markdown": [
       "\n",
       "| degree | train_rmse | test_rmse |\n",
       "|---|---|---|\n",
       "|  4         |  455.7251  |   6858.037 |\n",
       "|  3         |  502.5180  |  11148.809 |\n",
       "|  5         |  440.4562  |  12497.523 |\n",
       "|  6         |  405.7335  |  32368.520 |\n",
       "|  2         | 2671.2283  |  34869.609 |\n",
       "|  1         | 3276.9911  |  42833.942 |\n",
       "|  7         |  291.5103  | 112136.587 |\n",
       "|  9         |  287.7138  | 121377.215 |\n",
       "|  8         |  288.0104  | 143586.396 |\n",
       "| 10         |  220.7665  | 672487.288 |\n",
       "\n"
      ],
      "text/plain": [
       "   degree train_rmse test_rmse \n",
       "1   4      455.7251    6858.037\n",
       "2   3      502.5180   11148.809\n",
       "3   5      440.4562   12497.523\n",
       "4   6      405.7335   32368.520\n",
       "5   2     2671.2283   34869.609\n",
       "6   1     3276.9911   42833.942\n",
       "7   7      291.5103  112136.587\n",
       "8   9      287.7138  121377.215\n",
       "9   8      288.0104  143586.396\n",
       "10 10      220.7665  672487.288"
      ]
     },
     "metadata": {},
     "output_type": "display_data"
    },
    {
     "data": {
      "image/png": "[encoded data removed]",
      "text/plain": [
       "plot without title"
      ]
     },
     "metadata": {},
     "output_type": "display_data"
    }
   ],
   "source": [
    "best_degree <- arrange(output,\n",
    "                       test_rmse,\n",
    "                       train_rmse)$degree[1]\n",
    "least_test_rmse <- round(arrange(output,\n",
    "                                 test_rmse,\n",
    "                                 train_rmse)$test_rmse[1],2)\n",
    "least_train_rmse <- round(arrange(output, \n",
    "                                  test_rmse,\n",
    "                                  train_rmse)$train_rmse[1],2)\n",
    "polynomial_model <- lm(total_cases ~ poly(day,\n",
    "                                          best_degree,\n",
    "                                          raw = TRUE),\n",
    "                       training_set)\n",
    "\n",
    "cat(paste(\"The best degree for the model is: \", best_degree))\n",
    "arrange(output, test_rmse, train_rmse, degree)\n",
    "\n",
    "ggplot(output, aes(x = degree)) +\n",
    "geom_vline(xintercept = best_degree,\n",
    "           linetype=\"dashed\",\n",
    "           color=\"gray60\") +\n",
    "  geom_point(aes(y = train_rmse),\n",
    "             color = \"tomato1\",\n",
    "             size = 4) +\n",
    "  geom_point(aes(y = test_rmse),\n",
    "             color = \"cyan4\",\n",
    "             size = 4) +\n",
    "  geom_line(aes(y = train_rmse,\n",
    "                color = \"tomato1\"),\n",
    "            size = 1.5,\n",
    "            alpha = .5) +\n",
    "  geom_line(aes(y = test_rmse,\n",
    "                color = \"cyan4\"),\n",
    "            size = 1.5,\n",
    "            alpha = .5) +\n",
    "  annotate(\n",
    "    \"text\",\n",
    "    x = best_degree - .5,\n",
    "    y = max(c(output$train_rmse, output$test_rmse)),\n",
    "    label = \"Best RMSE\",\n",
    "    size = 5,\n",
    "    color = \"gray40\"\n",
    "  ) +\n",
    "  scale_y_continuous(\"RMSE\",\n",
    "                     labels = function(x) prettyNum(x,\n",
    "                                                    big.mark=\",\", \n",
    "                                                    scientific = FALSE)) +\n",
    "  labs(\n",
    "    title = \"Plot 5: Train and Test RMSE by Polynomial Degree\",\n",
    "    x = \"Polynomial Degree\",\n",
    "    y = \"RMSE\",\n",
    "    subtitle = paste(\n",
    "        \"Best Degree: \",\n",
    "        best_degree,\n",
    "        \", Least train RMSE: \", \n",
    "        least_train_rmse,\n",
    "        \", Least test RMSE: \",\n",
    "        least_test_rmse,\n",
    "        \"\\n\"\n",
    "    )\n",
    "  ) +\n",
    "  scale_color_identity(\n",
    "    name = \"\",\n",
    "    breaks = c(\"cyan4\", \"tomato1\",\"gray60\"),\n",
    "    labels = c(\"Test\", \"Train\", \"Best\"),\n",
    "    guide = \"legend\"\n",
    "  )\n"
   ]
  },
  {
   "cell_type": "markdown",
   "metadata": {},
   "source": [
    "### Applying the model\n",
    "\n",
    "Now that we have decided the best model for our data, we can continue to apply the model onto our dataset. Here, we use the model to predict the next two weeks after the last date of the dataset, i.e December 15, 2020."
   ]
  },
  {
   "cell_type": "code",
   "execution_count": 16,
   "metadata": {},
   "outputs": [
    {
     "data": {
      "image/png": "[encoded data removed]",
      "text/plain": [
       "plot without title"
      ]
     },
     "metadata": {},
     "output_type": "display_data"
    }
   ],
   "source": [
    "polynomial_model <- lm(\n",
    "    total_cases ~ poly(day, \n",
    "                       best_degree,\n",
    "                       raw = TRUE),\n",
    "    denmark_covid_data)\n",
    "max_date <- max(denmark_covid_data$date)\n",
    "\n",
    "denmark_new_data <- data.frame(\n",
    "  date = seq(as.Date(max_date+1),\n",
    "             by=\"day\",\n",
    "             length = 14),\n",
    "  day = seq(max(denmark_covid_data$day) + 1,\n",
    "            max(denmark_covid_data$day) + 14,\n",
    "            by = 1),\n",
    "  total_cases = c(0)\n",
    ")\n",
    "\n",
    "denmark_covid_data <- select(denmark_covid_data, \n",
    "                             date,\n",
    "                             day,\n",
    "                             total_cases)\n",
    "denmark_covid_data[\"predicted\"] <- predict(polynomial_model,\n",
    "                                           denmark_covid_data)\n",
    "denmark_new_data[\"predicted\"] <- predict(polynomial_model, \n",
    "                                         denmark_new_data)\n",
    "\n",
    "rmse <- round(rmse_vec(denmark_covid_data$total_cases,\n",
    "                       denmark_covid_data$predicted), 3)\n",
    "\n",
    "ggplot() +\n",
    "  geom_point(data = denmark_covid_data, \n",
    "             aes(x = date,\n",
    "                 y = total_cases,\n",
    "                 color=\"cyan4\"),\n",
    "             size = 3) +\n",
    "  geom_point(data = denmark_new_data,\n",
    "             aes(x = date,\n",
    "                 y = predicted,\n",
    "                 color=\"tomato1\"),\n",
    "             size = 3) +\n",
    "  geom_line(data = denmark_covid_data,\n",
    "            aes(x = date,\n",
    "                y = predicted),\n",
    "            size = 1.5,\n",
    "            alpha = .5,\n",
    "            color=\"tomato1\") +\n",
    "  labs(\n",
    "    title = \n",
    "      \"Plot 6: Polynomial Model - Prediction for the next 2 weeks\",\n",
    "    subtitle = paste(\"RMSE: \", rmse),\n",
    "    x = \"Timeline\",\n",
    "    y = \"Cases\",\n",
    "    caption = paste(\"Real data until: \", max_date)\n",
    "  ) +\n",
    "  scale_color_identity(\n",
    "    name = \"Legend\",\n",
    "    breaks = c(\"cyan4\", \"tomato1\"),\n",
    "    labels = c(\"Real\", \"Predicted\"),\n",
    "    guide = \"legend\"\n",
    "  ) +\n",
    "  scale_y_continuous(\"Cases\\n\",\n",
    "                     labels = function(x) prettyNum(x,\n",
    "                                                    big.mark=\",\",\n",
    "                                                    scientific = FALSE))"
   ]
  },
  {
   "cell_type": "markdown",
   "metadata": {},
   "source": [
    "Finally, we print tables with real data fitted on to the model and data predicted for the next two weeks. The first table displays the model's predicted values versus the actual data, and their differences. This helps us understand the model's margin of error for predicted data."
   ]
  },
  {
   "cell_type": "code",
   "execution_count": 18,
   "metadata": {},
   "outputs": [
    {
     "name": "stdout",
     "output_type": "stream",
     "text": [
      "Fitted data onto model, last 5 days"
     ]
    },
    {
     "data": {
      "text/html": [
       "<table>\n",
       "<thead><tr><th></th><th scope=col>date</th><th scope=col>day</th><th scope=col>total_cases</th><th scope=col>predicted</th><th scope=col>difference</th></tr></thead>\n",
       "<tbody>\n",
       "\t<tr><th scope=row>266</th><td>2020-12-11</td><td>265       </td><td>103564    </td><td>101701.2  </td><td>1862.839  </td></tr>\n",
       "\t<tr><th scope=row>267</th><td>2020-12-12</td><td>266       </td><td>107116    </td><td>103580.0  </td><td>3535.974  </td></tr>\n",
       "\t<tr><th scope=row>268</th><td>2020-12-13</td><td>267       </td><td>109758    </td><td>105488.2  </td><td>4269.752  </td></tr>\n",
       "\t<tr><th scope=row>269</th><td>2020-12-14</td><td>268       </td><td>113095    </td><td>107426.1  </td><td>5668.881  </td></tr>\n",
       "\t<tr><th scope=row>270</th><td>2020-12-15</td><td>269       </td><td>116087    </td><td>109393.9  </td><td>6693.064  </td></tr>\n",
       "</tbody>\n",
       "</table>\n"
      ],
      "text/latex": [
       "\\begin{tabular}{r|lllll}\n",
       "  & date & day & total\\_cases & predicted & difference\\\\\n",
       "\\hline\n",
       "\t266 & 2020-12-11 & 265        & 103564     & 101701.2   & 1862.839  \\\\\n",
       "\t267 & 2020-12-12 & 266        & 107116     & 103580.0   & 3535.974  \\\\\n",
       "\t268 & 2020-12-13 & 267        & 109758     & 105488.2   & 4269.752  \\\\\n",
       "\t269 & 2020-12-14 & 268        & 113095     & 107426.1   & 5668.881  \\\\\n",
       "\t270 & 2020-12-15 & 269        & 116087     & 109393.9   & 6693.064  \\\\\n",
       "\\end{tabular}\n"
      ],
      "text/markdown": [
       "\n",
       "| <!--/--> | date | day | total_cases | predicted | difference |\n",
       "|---|---|---|---|---|---|\n",
       "| 266 | 2020-12-11 | 265        | 103564     | 101701.2   | 1862.839   |\n",
       "| 267 | 2020-12-12 | 266        | 107116     | 103580.0   | 3535.974   |\n",
       "| 268 | 2020-12-13 | 267        | 109758     | 105488.2   | 4269.752   |\n",
       "| 269 | 2020-12-14 | 268        | 113095     | 107426.1   | 5668.881   |\n",
       "| 270 | 2020-12-15 | 269        | 116087     | 109393.9   | 6693.064   |\n",
       "\n"
      ],
      "text/plain": [
       "    date       day total_cases predicted difference\n",
       "266 2020-12-11 265 103564      101701.2  1862.839  \n",
       "267 2020-12-12 266 107116      103580.0  3535.974  \n",
       "268 2020-12-13 267 109758      105488.2  4269.752  \n",
       "269 2020-12-14 268 113095      107426.1  5668.881  \n",
       "270 2020-12-15 269 116087      109393.9  6693.064  "
      ]
     },
     "metadata": {},
     "output_type": "display_data"
    },
    {
     "name": "stdout",
     "output_type": "stream",
     "text": [
      "Next 2 weeks prediction"
     ]
    },
    {
     "data": {
      "text/html": [
       "<table>\n",
       "<thead><tr><th scope=col>date</th><th scope=col>day</th><th scope=col>total_cases</th><th scope=col>predicted</th></tr></thead>\n",
       "<tbody>\n",
       "\t<tr><td>2020-12-16</td><td>270       </td><td>0         </td><td>111392.0  </td></tr>\n",
       "\t<tr><td>2020-12-17</td><td>271       </td><td>0         </td><td>113420.6  </td></tr>\n",
       "\t<tr><td>2020-12-18</td><td>272       </td><td>0         </td><td>115480.0  </td></tr>\n",
       "\t<tr><td>2020-12-19</td><td>273       </td><td>0         </td><td>117570.6  </td></tr>\n",
       "\t<tr><td>2020-12-20</td><td>274       </td><td>0         </td><td>119692.6  </td></tr>\n",
       "\t<tr><td>2020-12-21</td><td>275       </td><td>0         </td><td>121846.4  </td></tr>\n",
       "\t<tr><td>2020-12-22</td><td>276       </td><td>0         </td><td>124032.2  </td></tr>\n",
       "\t<tr><td>2020-12-23</td><td>277       </td><td>0         </td><td>126250.3  </td></tr>\n",
       "\t<tr><td>2020-12-24</td><td>278       </td><td>0         </td><td>128501.1  </td></tr>\n",
       "\t<tr><td>2020-12-25</td><td>279       </td><td>0         </td><td>130784.9  </td></tr>\n",
       "\t<tr><td>2020-12-26</td><td>280       </td><td>0         </td><td>133102.0  </td></tr>\n",
       "\t<tr><td>2020-12-27</td><td>281       </td><td>0         </td><td>135452.7  </td></tr>\n",
       "\t<tr><td>2020-12-28</td><td>282       </td><td>0         </td><td>137837.2  </td></tr>\n",
       "\t<tr><td>2020-12-29</td><td>283       </td><td>0         </td><td>140256.0  </td></tr>\n",
       "</tbody>\n",
       "</table>\n"
      ],
      "text/latex": [
       "\\begin{tabular}{r|llll}\n",
       " date & day & total\\_cases & predicted\\\\\n",
       "\\hline\n",
       "\t 2020-12-16 & 270        & 0          & 111392.0  \\\\\n",
       "\t 2020-12-17 & 271        & 0          & 113420.6  \\\\\n",
       "\t 2020-12-18 & 272        & 0          & 115480.0  \\\\\n",
       "\t 2020-12-19 & 273        & 0          & 117570.6  \\\\\n",
       "\t 2020-12-20 & 274        & 0          & 119692.6  \\\\\n",
       "\t 2020-12-21 & 275        & 0          & 121846.4  \\\\\n",
       "\t 2020-12-22 & 276        & 0          & 124032.2  \\\\\n",
       "\t 2020-12-23 & 277        & 0          & 126250.3  \\\\\n",
       "\t 2020-12-24 & 278        & 0          & 128501.1  \\\\\n",
       "\t 2020-12-25 & 279        & 0          & 130784.9  \\\\\n",
       "\t 2020-12-26 & 280        & 0          & 133102.0  \\\\\n",
       "\t 2020-12-27 & 281        & 0          & 135452.7  \\\\\n",
       "\t 2020-12-28 & 282        & 0          & 137837.2  \\\\\n",
       "\t 2020-12-29 & 283        & 0          & 140256.0  \\\\\n",
       "\\end{tabular}\n"
      ],
      "text/markdown": [
       "\n",
       "| date | day | total_cases | predicted |\n",
       "|---|---|---|---|\n",
       "| 2020-12-16 | 270        | 0          | 111392.0   |\n",
       "| 2020-12-17 | 271        | 0          | 113420.6   |\n",
       "| 2020-12-18 | 272        | 0          | 115480.0   |\n",
       "| 2020-12-19 | 273        | 0          | 117570.6   |\n",
       "| 2020-12-20 | 274        | 0          | 119692.6   |\n",
       "| 2020-12-21 | 275        | 0          | 121846.4   |\n",
       "| 2020-12-22 | 276        | 0          | 124032.2   |\n",
       "| 2020-12-23 | 277        | 0          | 126250.3   |\n",
       "| 2020-12-24 | 278        | 0          | 128501.1   |\n",
       "| 2020-12-25 | 279        | 0          | 130784.9   |\n",
       "| 2020-12-26 | 280        | 0          | 133102.0   |\n",
       "| 2020-12-27 | 281        | 0          | 135452.7   |\n",
       "| 2020-12-28 | 282        | 0          | 137837.2   |\n",
       "| 2020-12-29 | 283        | 0          | 140256.0   |\n",
       "\n"
      ],
      "text/plain": [
       "   date       day total_cases predicted\n",
       "1  2020-12-16 270 0           111392.0 \n",
       "2  2020-12-17 271 0           113420.6 \n",
       "3  2020-12-18 272 0           115480.0 \n",
       "4  2020-12-19 273 0           117570.6 \n",
       "5  2020-12-20 274 0           119692.6 \n",
       "6  2020-12-21 275 0           121846.4 \n",
       "7  2020-12-22 276 0           124032.2 \n",
       "8  2020-12-23 277 0           126250.3 \n",
       "9  2020-12-24 278 0           128501.1 \n",
       "10 2020-12-25 279 0           130784.9 \n",
       "11 2020-12-26 280 0           133102.0 \n",
       "12 2020-12-27 281 0           135452.7 \n",
       "13 2020-12-28 282 0           137837.2 \n",
       "14 2020-12-29 283 0           140256.0 "
      ]
     },
     "metadata": {},
     "output_type": "display_data"
    }
   ],
   "source": [
    "cat(\"Fitted data onto model, last 5 days\")\n",
    "select(denmark_covid_data,\n",
    "       date,\n",
    "       day,\n",
    "       total_cases,\n",
    "       predicted) %>%\n",
    "mutate(difference = total_cases - predicted) %>%\n",
    "tail(5)\n",
    "\n",
    "cat(\"Next 2 weeks prediction\")\n",
    "denmark_new_data"
   ]
  },
  {
   "cell_type": "markdown",
   "metadata": {},
   "source": [
    "## Conclusion of EDA\n",
    "\n",
    "In this experiment, we carried out our own Exploratory Data Analysis for Denmark's COVID-19 cases. We used data from Statistikbanken which consists of official data collected throughout the pandemic. The goal was to use historical data to analyze the effects of decisions enforced by the officials, and investigate if they had any effect in controlling the spread of the virus. Additionally, we used machine learning to build models and predict if the number of total cases would increase or not. \n",
    "\n",
    "And the verdict was that with the current trend, the predicted cases would increase over the next two weeks (from December 15, 2020). The important thing to keep in mind is that there are many non-measured variables which play an important role in controlling the spread of virus. While this experiment used the raw data exposing the number of cases, tests, etc., it doesn't take into account the introduction of vaccination, effect of holidays, people's behaviour towards gatherings and ignoring the use of mask in public, among many others. This is purely a statistical analysis to understand the numbers, effects of governmental decisions and predicting the future using machine learning."
   ]
  }
 ],
 "metadata": {
  "kernelspec": {
   "display_name": "R",
   "language": "R",
   "name": "ir"
  },
  "language_info": {
   "codemirror_mode": "r",
   "file_extension": ".r",
   "mimetype": "text/x-r-source",
   "name": "R",
   "pygments_lexer": "r",
   "version": "3.6.1"
  }
 },
 "nbformat": 4,
 "nbformat_minor": 4
}
