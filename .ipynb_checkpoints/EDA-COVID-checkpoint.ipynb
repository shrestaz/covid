{
 "cells": [
  {
   "cell_type": "code",
   "execution_count": 21,
   "metadata": {},
   "outputs": [
    {
     "data": {
      "text/html": [
       "<ol class=list-inline>\n",
       "\t<li>'Converted.csv'</li>\n",
       "\t<li>'EDA-COVID.ipynb'</li>\n",
       "\t<li>'Statistisbanken-COVID - Copy.csv'</li>\n",
       "\t<li>'Statistisbanken-COVID.csv'</li>\n",
       "</ol>\n"
      ],
      "text/latex": [
       "\\begin{enumerate*}\n",
       "\\item 'Converted.csv'\n",
       "\\item 'EDA-COVID.ipynb'\n",
       "\\item 'Statistisbanken-COVID - Copy.csv'\n",
       "\\item 'Statistisbanken-COVID.csv'\n",
       "\\end{enumerate*}\n"
      ],
      "text/markdown": [
       "1. 'Converted.csv'\n",
       "2. 'EDA-COVID.ipynb'\n",
       "3. 'Statistisbanken-COVID - Copy.csv'\n",
       "4. 'Statistisbanken-COVID.csv'\n",
       "\n",
       "\n"
      ],
      "text/plain": [
       "[1] \"Converted.csv\"                    \"EDA-COVID.ipynb\"                 \n",
       "[3] \"Statistisbanken-COVID - Copy.csv\" \"Statistisbanken-COVID.csv\"       "
      ]
     },
     "metadata": {},
     "output_type": "display_data"
    }
   ],
   "source": [
    "list.files(\".\")"
   ]
  },
  {
   "cell_type": "code",
   "execution_count": 22,
   "metadata": {},
   "outputs": [],
   "source": [
    "hans <- read.csv(\"Converted.csv\", encoding=\"UTF-8\")"
   ]
  },
  {
   "cell_type": "code",
   "execution_count": null,
   "metadata": {},
   "outputs": [],
   "source": []
  },
  {
   "cell_type": "code",
   "execution_count": null,
   "metadata": {},
   "outputs": [],
   "source": []
  },
  {
   "cell_type": "code",
   "execution_count": 14,
   "metadata": {},
   "outputs": [],
   "source": [
    "AllCovidData <- read.csv(\"Statistisbanken-COVID.csv\", encoding=\"UTF-8\")"
   ]
  },
  {
   "cell_type": "code",
   "execution_count": 15,
   "metadata": {},
   "outputs": [
    {
     "data": {
      "text/html": [
       "<table>\n",
       "<thead><tr><th scope=col>X.</th><th scope=col>M03D21</th><th scope=col>M03D22</th><th scope=col>M03D23</th><th scope=col>M03D24</th><th scope=col>M03D25</th><th scope=col>M03D26</th><th scope=col>M03D27</th><th scope=col>M03D28</th><th scope=col>M03D29</th><th scope=col>...</th><th scope=col>M11D15</th><th scope=col>M11D16</th><th scope=col>M11D17</th><th scope=col>M11D18</th><th scope=col>M11D19</th><th scope=col>M11D20</th><th scope=col>M11D21</th><th scope=col>M11D22</th><th scope=col>M11D23</th><th scope=col>M11D24</th></tr></thead>\n",
       "<tbody>\n",
       "\t<tr><td>Bekræftede COVID-19 tilfælde (Total)       </td><td>1326                                       </td><td>1395                                       </td><td>1450                                       </td><td>1577                                       </td><td>1715                                       </td><td>1851                                       </td><td>2010                                       </td><td>2201                                       </td><td>2395                                       </td><td>...                                        </td><td>  62136                                    </td><td>  63331                                    </td><td>  64551                                    </td><td>  65808                                    </td><td>  67105                                    </td><td>  68362                                    </td><td>  69635                                    </td><td>  70485                                    </td><td>  71654                                    </td><td>  73021                                    </td></tr>\n",
       "\t<tr><td>Overstået COVID-19 infektion (Total)       </td><td>..                                         </td><td>..                                         </td><td>..                                         </td><td>..                                         </td><td>..                                         </td><td>..                                         </td><td>..                                         </td><td>..                                         </td><td>..                                         </td><td>...                                        </td><td>  47747                                    </td><td>  48696                                    </td><td>  49961                                    </td><td>  51217                                    </td><td>  52445                                    </td><td>  53470                                    </td><td>  54436                                    </td><td>  55274                                    </td><td>  56032                                    </td><td>  57075                                    </td></tr>\n",
       "\t<tr><td>Antal testede for COVID-19 (Total)         </td><td>11657                                      </td><td>12351                                      </td><td>12843                                      </td><td>13756                                      </td><td>14870                                      </td><td>15981                                      </td><td>17275                                      </td><td>18810                                      </td><td>20198                                      </td><td>...                                        </td><td>3161349                                    </td><td>3181467                                    </td><td>3199098                                    </td><td>3220265                                    </td><td>3239806                                    </td><td>3258149                                    </td><td>3275193                                    </td><td>3289511                                    </td><td>3308512                                    </td><td>3329222                                    </td></tr>\n",
       "\t<tr><td>Dødsfald med COVID-19 (Total)              </td><td>22                                         </td><td>25                                         </td><td>31                                         </td><td>37                                         </td><td>43                                         </td><td>55                                         </td><td>67                                         </td><td>76                                         </td><td>84                                         </td><td>...                                        </td><td>    765                                    </td><td>    769                                    </td><td>    771                                    </td><td>    776                                    </td><td>    779                                    </td><td>    783                                    </td><td>    788                                    </td><td>    794                                    </td><td>    797                                    </td><td>    797                                    </td></tr>\n",
       "\t<tr><td>Dødsfald med COVID-19 pr. dag              </td><td>3                                          </td><td>3                                          </td><td>6                                          </td><td>6                                          </td><td>6                                          </td><td>12                                         </td><td>12                                         </td><td>9                                          </td><td>8                                          </td><td>...                                        </td><td>      3                                    </td><td>      4                                    </td><td>      2                                    </td><td>      5                                    </td><td>      3                                    </td><td>      4                                    </td><td>      5                                    </td><td>      6                                    </td><td>      3                                    </td><td>      0                                    </td></tr>\n",
       "\t<tr><td>Indlagte på sygehusene ifm. COVID-19       </td><td>206                                        </td><td>232                                        </td><td>254                                        </td><td>301                                        </td><td>350                                        </td><td>386                                        </td><td>430                                        </td><td>459                                        </td><td>499                                        </td><td>...                                        </td><td>    259                                    </td><td>    267                                    </td><td>    259                                    </td><td>    248                                    </td><td>    255                                    </td><td>    244                                    </td><td>    237                                    </td><td>    254                                    </td><td>    261                                    </td><td>    255                                    </td></tr>\n",
       "\t<tr><td>Indlagte på Intensiv afdeling ifm. COVID-19</td><td>42                                         </td><td>46                                         </td><td>55                                         </td><td>59                                         </td><td>87                                         </td><td>94                                         </td><td>109                                        </td><td>121                                        </td><td>131                                        </td><td>...                                        </td><td>     45                                    </td><td>     44                                    </td><td>     41                                    </td><td>     43                                    </td><td>     41                                    </td><td>     39                                    </td><td>     40                                    </td><td>     39                                    </td><td>     41                                    </td><td>     40                                    </td></tr>\n",
       "\t<tr><td>Indlagte i respirator ifm. COVID-19        </td><td>35                                         </td><td>40                                         </td><td>47                                         </td><td>58                                         </td><td>76                                         </td><td>78                                         </td><td>89                                         </td><td>104                                        </td><td>113                                        </td><td>...                                        </td><td>     29                                    </td><td>     27                                    </td><td>     26                                    </td><td>     26                                    </td><td>     21                                    </td><td>     20                                    </td><td>     21                                    </td><td>     22                                    </td><td>     22                                    </td><td>     23                                    </td></tr>\n",
       "</tbody>\n",
       "</table>\n"
      ],
      "text/latex": [
       "\\begin{tabular}{r|llllllllllllllllllllllllllllllllllllllllllllllllllllllllllllllllllllllllllllllllllllllllllllllllllllllllllllllllllllllllllllllllllllllllllllllllllllllllllllllllllllllllllllllllllllllllllllllllllllllllllllllllllllllllllllllllllllllllllllllllllllllllll}\n",
       " X. & M03D21 & M03D22 & M03D23 & M03D24 & M03D25 & M03D26 & M03D27 & M03D28 & M03D29 & ... & M11D15 & M11D16 & M11D17 & M11D18 & M11D19 & M11D20 & M11D21 & M11D22 & M11D23 & M11D24\\\\\n",
       "\\hline\n",
       "\t Bekræftede COVID-19 tilfælde (Total)        & 1326                                        & 1395                                        & 1450                                        & 1577                                        & 1715                                        & 1851                                        & 2010                                        & 2201                                        & 2395                                        & ...                                         &   62136                                     &   63331                                     &   64551                                     &   65808                                     &   67105                                     &   68362                                     &   69635                                     &   70485                                     &   71654                                     &   73021                                    \\\\\n",
       "\t Overstået COVID-19 infektion (Total)        & ..                                          & ..                                          & ..                                          & ..                                          & ..                                          & ..                                          & ..                                          & ..                                          & ..                                          & ...                                         &   47747                                     &   48696                                     &   49961                                     &   51217                                     &   52445                                     &   53470                                     &   54436                                     &   55274                                     &   56032                                     &   57075                                    \\\\\n",
       "\t Antal testede for COVID-19 (Total)          & 11657                                       & 12351                                       & 12843                                       & 13756                                       & 14870                                       & 15981                                       & 17275                                       & 18810                                       & 20198                                       & ...                                         & 3161349                                     & 3181467                                     & 3199098                                     & 3220265                                     & 3239806                                     & 3258149                                     & 3275193                                     & 3289511                                     & 3308512                                     & 3329222                                    \\\\\n",
       "\t Dødsfald med COVID-19 (Total)               & 22                                          & 25                                          & 31                                          & 37                                          & 43                                          & 55                                          & 67                                          & 76                                          & 84                                          & ...                                         &     765                                     &     769                                     &     771                                     &     776                                     &     779                                     &     783                                     &     788                                     &     794                                     &     797                                     &     797                                    \\\\\n",
       "\t Dødsfald med COVID-19 pr. dag               & 3                                           & 3                                           & 6                                           & 6                                           & 6                                           & 12                                          & 12                                          & 9                                           & 8                                           & ...                                         &       3                                     &       4                                     &       2                                     &       5                                     &       3                                     &       4                                     &       5                                     &       6                                     &       3                                     &       0                                    \\\\\n",
       "\t Indlagte på sygehusene ifm. COVID-19        & 206                                         & 232                                         & 254                                         & 301                                         & 350                                         & 386                                         & 430                                         & 459                                         & 499                                         & ...                                         &     259                                     &     267                                     &     259                                     &     248                                     &     255                                     &     244                                     &     237                                     &     254                                     &     261                                     &     255                                    \\\\\n",
       "\t Indlagte på Intensiv afdeling ifm. COVID-19 & 42                                          & 46                                          & 55                                          & 59                                          & 87                                          & 94                                          & 109                                         & 121                                         & 131                                         & ...                                         &      45                                     &      44                                     &      41                                     &      43                                     &      41                                     &      39                                     &      40                                     &      39                                     &      41                                     &      40                                    \\\\\n",
       "\t Indlagte i respirator ifm. COVID-19         & 35                                          & 40                                          & 47                                          & 58                                          & 76                                          & 78                                          & 89                                          & 104                                         & 113                                         & ...                                         &      29                                     &      27                                     &      26                                     &      26                                     &      21                                     &      20                                     &      21                                     &      22                                     &      22                                     &      23                                    \\\\\n",
       "\\end{tabular}\n"
      ],
      "text/markdown": [
       "\n",
       "| X. | M03D21 | M03D22 | M03D23 | M03D24 | M03D25 | M03D26 | M03D27 | M03D28 | M03D29 | ... | M11D15 | M11D16 | M11D17 | M11D18 | M11D19 | M11D20 | M11D21 | M11D22 | M11D23 | M11D24 |\n",
       "|---|---|---|---|---|---|---|---|---|---|---|---|---|---|---|---|---|---|---|---|---|\n",
       "| Bekræftede COVID-19 tilfælde (Total)        | 1326                                        | 1395                                        | 1450                                        | 1577                                        | 1715                                        | 1851                                        | 2010                                        | 2201                                        | 2395                                        | ...                                         |   62136                                     |   63331                                     |   64551                                     |   65808                                     |   67105                                     |   68362                                     |   69635                                     |   70485                                     |   71654                                     |   73021                                     |\n",
       "| Overstået COVID-19 infektion (Total)        | ..                                          | ..                                          | ..                                          | ..                                          | ..                                          | ..                                          | ..                                          | ..                                          | ..                                          | ...                                         |   47747                                     |   48696                                     |   49961                                     |   51217                                     |   52445                                     |   53470                                     |   54436                                     |   55274                                     |   56032                                     |   57075                                     |\n",
       "| Antal testede for COVID-19 (Total)          | 11657                                       | 12351                                       | 12843                                       | 13756                                       | 14870                                       | 15981                                       | 17275                                       | 18810                                       | 20198                                       | ...                                         | 3161349                                     | 3181467                                     | 3199098                                     | 3220265                                     | 3239806                                     | 3258149                                     | 3275193                                     | 3289511                                     | 3308512                                     | 3329222                                     |\n",
       "| Dødsfald med COVID-19 (Total)               | 22                                          | 25                                          | 31                                          | 37                                          | 43                                          | 55                                          | 67                                          | 76                                          | 84                                          | ...                                         |     765                                     |     769                                     |     771                                     |     776                                     |     779                                     |     783                                     |     788                                     |     794                                     |     797                                     |     797                                     |\n",
       "| Dødsfald med COVID-19 pr. dag               | 3                                           | 3                                           | 6                                           | 6                                           | 6                                           | 12                                          | 12                                          | 9                                           | 8                                           | ...                                         |       3                                     |       4                                     |       2                                     |       5                                     |       3                                     |       4                                     |       5                                     |       6                                     |       3                                     |       0                                     |\n",
       "| Indlagte på sygehusene ifm. COVID-19        | 206                                         | 232                                         | 254                                         | 301                                         | 350                                         | 386                                         | 430                                         | 459                                         | 499                                         | ...                                         |     259                                     |     267                                     |     259                                     |     248                                     |     255                                     |     244                                     |     237                                     |     254                                     |     261                                     |     255                                     |\n",
       "| Indlagte på Intensiv afdeling ifm. COVID-19 | 42                                          | 46                                          | 55                                          | 59                                          | 87                                          | 94                                          | 109                                         | 121                                         | 131                                         | ...                                         |      45                                     |      44                                     |      41                                     |      43                                     |      41                                     |      39                                     |      40                                     |      39                                     |      41                                     |      40                                     |\n",
       "| Indlagte i respirator ifm. COVID-19         | 35                                          | 40                                          | 47                                          | 58                                          | 76                                          | 78                                          | 89                                          | 104                                         | 113                                         | ...                                         |      29                                     |      27                                     |      26                                     |      26                                     |      21                                     |      20                                     |      21                                     |      22                                     |      22                                     |      23                                     |\n",
       "\n"
      ],
      "text/plain": [
       "  X.                                          M03D21 M03D22 M03D23 M03D24\n",
       "1 Bekræftede COVID-19 tilfælde (Total)        1326   1395   1450   1577  \n",
       "2 Overstået COVID-19 infektion (Total)        ..     ..     ..     ..    \n",
       "3 Antal testede for COVID-19 (Total)          11657  12351  12843  13756 \n",
       "4 Dødsfald med COVID-19 (Total)               22     25     31     37    \n",
       "5 Dødsfald med COVID-19 pr. dag               3      3      6      6     \n",
       "6 Indlagte på sygehusene ifm. COVID-19        206    232    254    301   \n",
       "7 Indlagte på Intensiv afdeling ifm. COVID-19 42     46     55     59    \n",
       "8 Indlagte i respirator ifm. COVID-19         35     40     47     58    \n",
       "  M03D25 M03D26 M03D27 M03D28 M03D29 ... M11D15  M11D16  M11D17  M11D18 \n",
       "1 1715   1851   2010   2201   2395   ...   62136   63331   64551   65808\n",
       "2 ..     ..     ..     ..     ..     ...   47747   48696   49961   51217\n",
       "3 14870  15981  17275  18810  20198  ... 3161349 3181467 3199098 3220265\n",
       "4 43     55     67     76     84     ...     765     769     771     776\n",
       "5 6      12     12     9      8      ...       3       4       2       5\n",
       "6 350    386    430    459    499    ...     259     267     259     248\n",
       "7 87     94     109    121    131    ...      45      44      41      43\n",
       "8 76     78     89     104    113    ...      29      27      26      26\n",
       "  M11D19  M11D20  M11D21  M11D22  M11D23  M11D24 \n",
       "1   67105   68362   69635   70485   71654   73021\n",
       "2   52445   53470   54436   55274   56032   57075\n",
       "3 3239806 3258149 3275193 3289511 3308512 3329222\n",
       "4     779     783     788     794     797     797\n",
       "5       3       4       5       6       3       0\n",
       "6     255     244     237     254     261     255\n",
       "7      41      39      40      39      41      40\n",
       "8      21      20      21      22      22      23"
      ]
     },
     "metadata": {},
     "output_type": "display_data"
    }
   ],
   "source": [
    "AllCovidData"
   ]
  },
  {
   "cell_type": "markdown",
   "metadata": {},
   "source": [
    "#### Check the data types of the loaded data\n",
    "\n",
    "Here, we check the data types of the data loaded onto R. Since we load the data from a CSV file, R does not know what type of data certain inputs are. By default, it categorises unknown data types as Factor as they can store both strings and integers."
   ]
  },
  {
   "cell_type": "code",
   "execution_count": 5,
   "metadata": {},
   "outputs": [
    {
     "name": "stdout",
     "output_type": "stream",
     "text": [
      "'data.frame':\t8 obs. of  243 variables:\n",
      " $ X.    : Factor w/ 8 levels \"Antal testede for COVID-19 (Total)\",..: 2 8 1 3 4 7 6 5\n",
      " $ M03D21: Factor w/ 8 levels \"..\",\"11657\",\"1326\",..: 3 1 2 5 6 4 8 7\n",
      " $ M03D22: Factor w/ 8 levels \"..\",\"12351\",\"1395\",..: 3 1 2 5 6 4 8 7\n",
      " $ M03D23: Factor w/ 8 levels \"..\",\"12843\",\"1450\",..: 3 1 2 5 8 4 7 6\n",
      " $ M03D24: Factor w/ 8 levels \"..\",\"13756\",\"1577\",..: 3 1 2 5 8 4 7 6\n",
      " $ M03D25: Factor w/ 8 levels \"..\",\"14870\",\"1715\",..: 3 1 2 5 6 4 8 7\n",
      " $ M03D26: Factor w/ 8 levels \"..\",\"12\",\"15981\",..: 4 1 3 6 2 5 8 7\n",
      " $ M03D27: Factor w/ 8 levels \"..\",\"109\",\"12\",..: 5 1 4 7 3 6 2 8\n",
      " $ M03D28: Factor w/ 8 levels \"..\",\"104\",\"121\",..: 5 1 4 7 8 6 3 2\n",
      " $ M03D29: Factor w/ 8 levels \"..\",\"113\",\"131\",..: 5 1 4 8 7 6 3 2\n",
      " $ M03D30: Factor w/ 8 levels \"..\",\"11\",\"119\",..: 6 1 5 8 2 7 4 3\n",
      " $ M03D31: Factor w/ 8 levels \"..\",\"110\",\"131\",..: 7 1 6 2 5 8 4 3\n",
      " $ M04D01: Factor w/ 8 levels \"..\",\"129\",\"132\",..: 7 1 6 3 5 8 4 2\n",
      " $ M04D02: int  3355 1089 29921 150 18 525 153 138\n",
      " $ M04D03: int  3672 1193 34388 170 20 517 143 116\n",
      " $ M04D04: int  4077 1283 39928 185 15 507 142 112\n",
      " $ M04D05: int  4369 1327 43734 197 12 504 144 107\n",
      " $ M04D06: int  4647 1378 46916 214 17 503 139 108\n",
      " $ M04D07: int  4978 1491 51544 226 12 472 127 103\n",
      " $ M04D08: int  5386 1621 57535 241 15 453 127 103\n",
      " $ M04D09: int  5635 1736 62210 254 13 433 120 100\n",
      " $ M04D10: int  5819 1773 64731 270 16 401 113 95\n",
      " $ M04D11: int  5996 1955 67771 281 11 408 106 90\n",
      " $ M04D12: int  6174 2123 70125 292 11 396 104 85\n",
      " $ M04D13: int  6318 2235 72099 308 16 388 100 87\n",
      " $ M04D14: int  6496 2515 73919 320 12 380 93 80\n",
      " $ M04D15: int  6681 2748 77712 330 10 362 89 75\n",
      " $ M04D16: int  6879 3023 82380 342 12 353 92 72\n",
      " $ M04D17: int  7073 3389 87024 351 9 350 93 74\n",
      " $ M04D18: int  7242 3847 91437 361 10 317 87 76\n",
      " $ M04D19: int  7384 4141 94277 367 6 319 84 73\n",
      " $ M04D20: int  7515 4312 96244 374 7 336 84 72\n",
      " $ M04D21: int  7695 4700 100543 386 12 335 81 72\n",
      " $ M04D22: int  7912 5087 108465 400 14 324 80 68\n",
      " $ M04D23: int  8073 5384 116621 410 10 319 74 61\n",
      " $ M04D24: int  8210 5526 125329 416 6 320 69 58\n",
      " $ M04D25: int  8445 5669 136738 421 5 290 70 56\n",
      " $ M04D26: int  8575 5805 146915 426 5 285 70 56\n",
      " $ M04D27: int  8698 5959 155810 435 9 310 72 55\n",
      " $ M04D28: int  8851 6121 166846 445 10 284 66 50\n",
      " $ M04D29: int  9008 6366 180062 454 9 267 66 50\n",
      " $ M04D30: int  9158 6564 193165 463 9 255 62 50\n",
      " $ M05D01: int  9311 6729 206576 474 11 249 61 44\n",
      " $ M05D02: int  9407 6889 221912 482 8 232 60 44\n",
      " $ M05D03: int  9523 6987 233799 491 9 243 62 46\n",
      " $ M05D04: int  9670 7088 244791 498 7 252 57 45\n",
      " $ M05D05: int  9821 7296 257738 501 3 228 49 39\n",
      " $ M05D06: int  9938 7493 270680 507 6 209 46 41\n",
      " $ M05D07: int  10083 7711 284480 513 6 199 43 39\n",
      " $ M05D08: int  10218 7927 298488 517 4 205 42 35\n",
      " $ M05D09: int  10319 8093 308984 520 3 194 39 32\n",
      " $ M05D10: int  10429 8217 317834 525 5 196 40 33\n",
      " $ M05D11: int  10513 8328 326560 529 4 198 43 33\n",
      " $ M05D12: int  10591 8580 334260 536 7 177 43 32\n",
      " $ M05D13: int  10667 8663 345712 541 5 164 37 32\n",
      " $ M05D14: int  10713 8805 357986 541 0 147 35 28\n",
      " $ M05D15: int  10791 8959 368889 547 6 137 32 26\n",
      " $ M05D16: int  10858 9107 379482 550 3 140 28 22\n",
      " $ M05D17: int  10927 9227 388703 553 3 133 27 21\n",
      " $ M05D18: int  10968 9301 394394 556 3 144 26 21\n",
      " $ M05D19: int  11044 9416 402194 558 2 141 25 18\n",
      " $ M05D20: int  11117 9536 412051 563 5 127 25 16\n",
      " $ M05D21: int  11182 9643 425101 563 0 122 23 18\n",
      " $ M05D22: int  11230 9764 433971 564 1 119 23 19\n",
      " $ M05D23: int  11289 9836 442650 565 1 118 19 16\n",
      " $ M05D24: int  11360 9900 451450 566 1 115 21 17\n",
      " $ M05D25: int  11387 9964 458305 566 0 116 20 16\n",
      " $ M05D26: int  11428 10044 467009 569 3 112 23 14\n",
      " $ M05D27: int  11480 10106 480239 570 1 107 22 11\n",
      " $ M05D28: int  11512 10180 484482 570 0 110 20 11\n",
      " $ M05D29: int  11593 10240 504543 571 1 106 18 10\n",
      " $ M05D30: int  11633 10327 514467 575 4 100 20 11\n",
      " $ M05D31: int  11669 10362 522594 577 2 98 20 10\n",
      " $ M06D01: int  11699 10412 528982 580 3 103 20 11\n",
      " $ M06D02: int  11734 10489 534782 581 1 99 21 11\n",
      " $ M06D03: int  11771 10552 542895 582 1 100 20 10\n",
      " $ M06D04: int  11811 10620 552888 586 4 97 17 8\n",
      " $ M06D05: int  11875 10653 562905 588 2 85 17 10\n",
      " $ M06D06: int  11924 10721 571832 591 3 81 15 9\n",
      " $ M06D07: int  11948 10755 579400 593 2 75 15 9\n",
      " $ M06D08: int  11962 10792 585024 593 0 79 16 7\n",
      " $ M06D09: int  12001 10849 594790 593 0 73 15 5\n",
      " $ M06D10: int  12016 10904 602118 593 0 71 17 7\n",
      " $ M06D11: int  12035 10955 609672 594 1 63 14 7\n",
      " $ M06D12: int  12099 10993 627155 597 3 63 14 7\n",
      " $ M06D13: int  12139 11035 637701 597 0 54 11 5\n",
      " $ M06D14: int  12193 11068 648326 598 1 55 11 5\n",
      " $ M06D15: int  12217 11090 656418 598 0 58 10 4\n",
      " $ M06D16: int  12250 11125 664603 599 1 60 9 4\n",
      " $ M06D17: int  12294 11185 677270 600 1 39 6 4\n",
      " $ M06D18: int  12344 11242 691419 601 1 38 6 3\n",
      " $ M06D19: int  12391 11282 704269 602 1 37 6 2\n",
      " $ M06D20: Factor w/ 3 levels \"..\",\"1\",\"603\": 1 1 1 3 2 1 1 1\n",
      " $ M06D21: Factor w/ 3 levels \"..\",\"0\",\"603\": 1 1 1 3 2 1 1 1\n",
      " $ M06D22: int  12527 11347 738916 603 0 37 7 4\n",
      " $ M06D23: int  12561 11393 749603 604 1 32 8 5\n",
      " $ M06D24: int  12615 11422 765002 604 0 33 8 4\n",
      " $ M06D25: int  12636 11460 780330 605 1 36 9 4\n",
      " $ M06D26: int  12675 11508 793499 605 0 31 11 4\n",
      "  [list output truncated]\n"
     ]
    }
   ],
   "source": [
    "str(AllCovidData)"
   ]
  }
 ],
 "metadata": {
  "kernelspec": {
   "display_name": "R",
   "language": "R",
   "name": "ir"
  },
  "language_info": {
   "codemirror_mode": "r",
   "file_extension": ".r",
   "mimetype": "text/x-r-source",
   "name": "R",
   "pygments_lexer": "r",
   "version": "3.6.1"
  }
 },
 "nbformat": 4,
 "nbformat_minor": 4
}
