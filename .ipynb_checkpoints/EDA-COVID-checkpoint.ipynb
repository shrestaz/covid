{
 "cells": [
  {
   "cell_type": "code",
   "execution_count": 1,
   "metadata": {},
   "outputs": [
    {
     "name": "stderr",
     "output_type": "stream",
     "text": [
      "\n",
      "Attaching package: 'lubridate'\n",
      "\n",
      "The following object is masked from 'package:base':\n",
      "\n",
      "    date\n",
      "\n"
     ]
    },
    {
     "name": "stdout",
     "output_type": "stream",
     "text": [
      "package 'scales' successfully unpacked and MD5 sums checked\n",
      "\n",
      "The downloaded binary packages are in\n",
      "\tC:\\Users\\thatonedroid\\AppData\\Local\\Temp\\RtmpCuv2Gi\\downloaded_packages\n",
      "package 'tidyverse' successfully unpacked and MD5 sums checked\n",
      "\n",
      "The downloaded binary packages are in\n",
      "\tC:\\Users\\thatonedroid\\AppData\\Local\\Temp\\RtmpCuv2Gi\\downloaded_packages\n"
     ]
    },
    {
     "name": "stderr",
     "output_type": "stream",
     "text": [
      "-- Attaching packages --------------------------------------- tidyverse 1.3.0 --\n",
      "v ggplot2 3.3.2     v purrr   0.3.4\n",
      "v tibble  3.0.4     v dplyr   1.0.2\n",
      "v tidyr   1.1.2     v stringr 1.4.0\n",
      "v readr   1.3.1     v forcats 0.4.0\n",
      "-- Conflicts ------------------------------------------ tidyverse_conflicts() --\n",
      "x lubridate::as.difftime() masks base::as.difftime()\n",
      "x readr::col_factor()      masks scales::col_factor()\n",
      "x lubridate::date()        masks base::date()\n",
      "x purrr::discard()         masks scales::discard()\n",
      "x dplyr::filter()          masks stats::filter()\n",
      "x lubridate::intersect()   masks base::intersect()\n",
      "x dplyr::lag()             masks stats::lag()\n",
      "x lubridate::setdiff()     masks base::setdiff()\n",
      "x lubridate::union()       masks base::union()\n"
     ]
    }
   ],
   "source": [
    "# Installing and importing the required packages\n",
    "\n",
    "options(warn=-1)\n",
    "\n",
    "library(lubridate) # library to help work with dates\n",
    "install.packages(\"scales\") # Scale Functions for Visualization\n",
    "library(scales)\n",
    "\n",
    "install.packages(\"tidyverse\") # Collection of packages to model, transform, and visualize data\n",
    "library(tidyverse) # for declaratively creating graphics"
   ]
  },
  {
   "cell_type": "markdown",
   "metadata": {},
   "source": [
    "# Exploratory Data Analysis: COVID-19\n",
    "\n",
    "In this notebook, we perform a self expertimentation of Exploratory Data Analysis(EDA) of Denmark's COVID-19 cases."
   ]
  },
  {
   "cell_type": "markdown",
   "metadata": {},
   "source": [
    "## 1. Identify business problem\n",
    "\n",
    "The first step to Exploratory Data Analysis (EDA) is to identify the business problem. The business case revolves around the understanding of the use of data to prevent spread of COVID-19 virus in Denmark. The aim is to analyze the data and compare against the decisions made and enforced by the officials and the health experts, primarily the two lockdowns from March and December 2020. This EDA is not a solution to the problem but the ambition is to understand if gathering factual data aided in effective decision making by the authorities. "
   ]
  },
  {
   "cell_type": "markdown",
   "metadata": {},
   "source": [
    "## 2. Data collection\n",
    "\n",
    "The data used in this analysis is collected from [Statistibanken](https://www.statistikbanken.dk/SMIT1), which is a public database maintained, and made available by [Danmarks Statistik](https://www.dst.dk/) --- the central statistics office in Denmark under the Ministry of Economy. The data consists of official records of total people tested, infections, deaths and admission to hospital to among other key figures. The data was collected starting from March 21, 2020, which gets updated frequently. The latest data as of conducting the experiment is up until December 08, 2020 --- the day before second lockdown was enforced."
   ]
  },
  {
   "cell_type": "markdown",
   "metadata": {},
   "source": [
    "## 3. Data preparation\n",
    "\n",
    "The data from Statistikbanken is made available in multiple formats so people can choose how they want the data, for example: an Excel sheet or a plain text file. For this analaysis, we chose to use the data as a CSV (comma-separated value) file for ease of use. In the following steps, we will go through the process of tidying data and preparing it for the analysis.\n"
   ]
  },
  {
   "cell_type": "markdown",
   "metadata": {},
   "source": [
    "### 3.1 Load the data into R and inspect\n",
    "\n",
    "The first step is to load the raw data into R and inspect if it is workable and understandable. If not, we must proceed to transform the data. Without a clear understanding of data, the anaylsis is pointless."
   ]
  },
  {
   "cell_type": "code",
   "execution_count": 2,
   "metadata": {},
   "outputs": [
    {
     "data": {
      "text/html": [
       "<ol class=list-inline>\n",
       "\t<li>'COVID-data-raw.csv'</li>\n",
       "\t<li>'COVID-data-transformed.csv'</li>\n",
       "\t<li>'EDA-COVID.ipynb'</li>\n",
       "</ol>\n"
      ],
      "text/latex": [
       "\\begin{enumerate*}\n",
       "\\item 'COVID-data-raw.csv'\n",
       "\\item 'COVID-data-transformed.csv'\n",
       "\\item 'EDA-COVID.ipynb'\n",
       "\\end{enumerate*}\n"
      ],
      "text/markdown": [
       "1. 'COVID-data-raw.csv'\n",
       "2. 'COVID-data-transformed.csv'\n",
       "3. 'EDA-COVID.ipynb'\n",
       "\n",
       "\n"
      ],
      "text/plain": [
       "[1] \"COVID-data-raw.csv\"         \"COVID-data-transformed.csv\"\n",
       "[3] \"EDA-COVID.ipynb\"           "
      ]
     },
     "metadata": {},
     "output_type": "display_data"
    }
   ],
   "source": [
    "list.files(\".\")"
   ]
  },
  {
   "cell_type": "code",
   "execution_count": 3,
   "metadata": {},
   "outputs": [],
   "source": [
    "RawCovidData <- read.csv(\"COVID-data-raw.csv\", encoding=\"UTF-8\")"
   ]
  },
  {
   "cell_type": "code",
   "execution_count": 4,
   "metadata": {},
   "outputs": [
    {
     "data": {
      "text/html": [
       "<table>\n",
       "<thead><tr><th scope=col>X.</th><th scope=col>M03D21</th><th scope=col>M03D22</th><th scope=col>M03D23</th><th scope=col>M03D24</th><th scope=col>M03D25</th><th scope=col>M03D26</th><th scope=col>M03D27</th><th scope=col>M03D28</th><th scope=col>M03D29</th><th scope=col>...</th><th scope=col>M11D29</th><th scope=col>M11D30</th><th scope=col>M12D01</th><th scope=col>M12D02</th><th scope=col>M12D03</th><th scope=col>M12D04</th><th scope=col>M12D05</th><th scope=col>M12D06</th><th scope=col>M12D07</th><th scope=col>M12D08</th></tr></thead>\n",
       "<tbody>\n",
       "\t<tr><td>Bekræftede COVID-19 tilfælde (Total)</td><td>1326                                </td><td>1395                                </td><td>1450                                </td><td>1577                                </td><td>1715                                </td><td>1851                                </td><td>2010                                </td><td>2201                                </td><td>2395                                </td><td>...                                 </td><td>  79352                             </td><td>  80481                             </td><td>  81494                             </td><td>  83535                             </td><td>  85140                             </td><td>  86743                             </td><td>  88858                             </td><td>  90603                             </td><td>  92649                             </td><td>  94799                             </td></tr>\n",
       "\t<tr><td>Overstået COVID-19 infektion (Total)</td><td>..                                  </td><td>..                                  </td><td>..                                  </td><td>..                                  </td><td>..                                  </td><td>..                                  </td><td>..                                  </td><td>..                                  </td><td>..                                  </td><td>...                                 </td><td>  62514                             </td><td>  63515                             </td><td>  64757                             </td><td>  66086                             </td><td>  67416                             </td><td>  68632                             </td><td>  69869                             </td><td>  70876                             </td><td>  71882                             </td><td>  73052                             </td></tr>\n",
       "\t<tr><td>Antal testede for COVID-19 (Total)  </td><td>11657                               </td><td>12351                               </td><td>12843                               </td><td>13756                               </td><td>14870                               </td><td>15981                               </td><td>17275                               </td><td>18810                               </td><td>20198                               </td><td>...                                 </td><td>3418006                             </td><td>3432519                             </td><td>3448151                             </td><td>3464269                             </td><td>3478986                             </td><td>3493655                             </td><td>3510327                             </td><td>3524861                             </td><td>3541148                             </td><td>3556264                             </td></tr>\n",
       "\t<tr><td>Dødsfald med COVID-19 (Total)       </td><td>22                                  </td><td>25                                  </td><td>31                                  </td><td>37                                  </td><td>43                                  </td><td>55                                  </td><td>67                                  </td><td>76                                  </td><td>84                                  </td><td>...                                 </td><td>    841                             </td><td>    848                             </td><td>    858                             </td><td>    864                             </td><td>    873                             </td><td>    879                             </td><td>    888                             </td><td>    896                             </td><td>    901                             </td><td>    901                             </td></tr>\n",
       "\t<tr><td>Dødsfald med COVID-19 pr. dag       </td><td>3                                   </td><td>3                                   </td><td>6                                   </td><td>6                                   </td><td>6                                   </td><td>12                                  </td><td>12                                  </td><td>9                                   </td><td>8                                   </td><td>...                                 </td><td>     11                             </td><td>      7                             </td><td>     10                             </td><td>      6                             </td><td>      9                             </td><td>      6                             </td><td>      9                             </td><td>      8                             </td><td>      5                             </td><td>      0                             </td></tr>\n",
       "\t<tr><td>Indlagte på sygehusene ifm. COVID-19</td><td>206                                 </td><td>232                                 </td><td>254                                 </td><td>301                                 </td><td>350                                 </td><td>386                                 </td><td>430                                 </td><td>459                                 </td><td>499                                 </td><td>...                                 </td><td>    256                             </td><td>    259                             </td><td>    254                             </td><td>    266                             </td><td>    267                             </td><td>    293                             </td><td>    279                             </td><td>    302                             </td><td>    328                             </td><td>    354                             </td></tr>\n",
       "</tbody>\n",
       "</table>\n"
      ],
      "text/latex": [
       "\\begin{tabular}{r|llllllllllllllllllllllllllllllllllllllllllllllllllllllllllllllllllllllllllllllllllllllllllllllllllllllllllllllllllllllllllllllllllllllllllllllllllllllllllllllllllllllllllllllllllllllllllllllllllllllllllllllllllllllllllllllllllllllllllllllllllllllllllllllllllllllll}\n",
       " X. & M03D21 & M03D22 & M03D23 & M03D24 & M03D25 & M03D26 & M03D27 & M03D28 & M03D29 & ... & M11D29 & M11D30 & M12D01 & M12D02 & M12D03 & M12D04 & M12D05 & M12D06 & M12D07 & M12D08\\\\\n",
       "\\hline\n",
       "\t Bekræftede COVID-19 tilfælde (Total) & 1326                                 & 1395                                 & 1450                                 & 1577                                 & 1715                                 & 1851                                 & 2010                                 & 2201                                 & 2395                                 & ...                                  &   79352                              &   80481                              &   81494                              &   83535                              &   85140                              &   86743                              &   88858                              &   90603                              &   92649                              &   94799                             \\\\\n",
       "\t Overstået COVID-19 infektion (Total) & ..                                   & ..                                   & ..                                   & ..                                   & ..                                   & ..                                   & ..                                   & ..                                   & ..                                   & ...                                  &   62514                              &   63515                              &   64757                              &   66086                              &   67416                              &   68632                              &   69869                              &   70876                              &   71882                              &   73052                             \\\\\n",
       "\t Antal testede for COVID-19 (Total)   & 11657                                & 12351                                & 12843                                & 13756                                & 14870                                & 15981                                & 17275                                & 18810                                & 20198                                & ...                                  & 3418006                              & 3432519                              & 3448151                              & 3464269                              & 3478986                              & 3493655                              & 3510327                              & 3524861                              & 3541148                              & 3556264                             \\\\\n",
       "\t Dødsfald med COVID-19 (Total)        & 22                                   & 25                                   & 31                                   & 37                                   & 43                                   & 55                                   & 67                                   & 76                                   & 84                                   & ...                                  &     841                              &     848                              &     858                              &     864                              &     873                              &     879                              &     888                              &     896                              &     901                              &     901                             \\\\\n",
       "\t Dødsfald med COVID-19 pr. dag        & 3                                    & 3                                    & 6                                    & 6                                    & 6                                    & 12                                   & 12                                   & 9                                    & 8                                    & ...                                  &      11                              &       7                              &      10                              &       6                              &       9                              &       6                              &       9                              &       8                              &       5                              &       0                             \\\\\n",
       "\t Indlagte på sygehusene ifm. COVID-19 & 206                                  & 232                                  & 254                                  & 301                                  & 350                                  & 386                                  & 430                                  & 459                                  & 499                                  & ...                                  &     256                              &     259                              &     254                              &     266                              &     267                              &     293                              &     279                              &     302                              &     328                              &     354                             \\\\\n",
       "\\end{tabular}\n"
      ],
      "text/markdown": [
       "\n",
       "| X. | M03D21 | M03D22 | M03D23 | M03D24 | M03D25 | M03D26 | M03D27 | M03D28 | M03D29 | ... | M11D29 | M11D30 | M12D01 | M12D02 | M12D03 | M12D04 | M12D05 | M12D06 | M12D07 | M12D08 |\n",
       "|---|---|---|---|---|---|---|---|---|---|---|---|---|---|---|---|---|---|---|---|---|\n",
       "| Bekræftede COVID-19 tilfælde (Total) | 1326                                 | 1395                                 | 1450                                 | 1577                                 | 1715                                 | 1851                                 | 2010                                 | 2201                                 | 2395                                 | ...                                  |   79352                              |   80481                              |   81494                              |   83535                              |   85140                              |   86743                              |   88858                              |   90603                              |   92649                              |   94799                              |\n",
       "| Overstået COVID-19 infektion (Total) | ..                                   | ..                                   | ..                                   | ..                                   | ..                                   | ..                                   | ..                                   | ..                                   | ..                                   | ...                                  |   62514                              |   63515                              |   64757                              |   66086                              |   67416                              |   68632                              |   69869                              |   70876                              |   71882                              |   73052                              |\n",
       "| Antal testede for COVID-19 (Total)   | 11657                                | 12351                                | 12843                                | 13756                                | 14870                                | 15981                                | 17275                                | 18810                                | 20198                                | ...                                  | 3418006                              | 3432519                              | 3448151                              | 3464269                              | 3478986                              | 3493655                              | 3510327                              | 3524861                              | 3541148                              | 3556264                              |\n",
       "| Dødsfald med COVID-19 (Total)        | 22                                   | 25                                   | 31                                   | 37                                   | 43                                   | 55                                   | 67                                   | 76                                   | 84                                   | ...                                  |     841                              |     848                              |     858                              |     864                              |     873                              |     879                              |     888                              |     896                              |     901                              |     901                              |\n",
       "| Dødsfald med COVID-19 pr. dag        | 3                                    | 3                                    | 6                                    | 6                                    | 6                                    | 12                                   | 12                                   | 9                                    | 8                                    | ...                                  |      11                              |       7                              |      10                              |       6                              |       9                              |       6                              |       9                              |       8                              |       5                              |       0                              |\n",
       "| Indlagte på sygehusene ifm. COVID-19 | 206                                  | 232                                  | 254                                  | 301                                  | 350                                  | 386                                  | 430                                  | 459                                  | 499                                  | ...                                  |     256                              |     259                              |     254                              |     266                              |     267                              |     293                              |     279                              |     302                              |     328                              |     354                              |\n",
       "\n"
      ],
      "text/plain": [
       "  X.                                   M03D21 M03D22 M03D23 M03D24 M03D25\n",
       "1 Bekræftede COVID-19 tilfælde (Total) 1326   1395   1450   1577   1715  \n",
       "2 Overstået COVID-19 infektion (Total) ..     ..     ..     ..     ..    \n",
       "3 Antal testede for COVID-19 (Total)   11657  12351  12843  13756  14870 \n",
       "4 Dødsfald med COVID-19 (Total)        22     25     31     37     43    \n",
       "5 Dødsfald med COVID-19 pr. dag        3      3      6      6      6     \n",
       "6 Indlagte på sygehusene ifm. COVID-19 206    232    254    301    350   \n",
       "  M03D26 M03D27 M03D28 M03D29 ... M11D29  M11D30  M12D01  M12D02  M12D03 \n",
       "1 1851   2010   2201   2395   ...   79352   80481   81494   83535   85140\n",
       "2 ..     ..     ..     ..     ...   62514   63515   64757   66086   67416\n",
       "3 15981  17275  18810  20198  ... 3418006 3432519 3448151 3464269 3478986\n",
       "4 55     67     76     84     ...     841     848     858     864     873\n",
       "5 12     12     9      8      ...      11       7      10       6       9\n",
       "6 386    430    459    499    ...     256     259     254     266     267\n",
       "  M12D04  M12D05  M12D06  M12D07  M12D08 \n",
       "1   86743   88858   90603   92649   94799\n",
       "2   68632   69869   70876   71882   73052\n",
       "3 3493655 3510327 3524861 3541148 3556264\n",
       "4     879     888     896     901     901\n",
       "5       6       9       8       5       0\n",
       "6     293     279     302     328     354"
      ]
     },
     "metadata": {},
     "output_type": "display_data"
    }
   ],
   "source": [
    "head(RawCovidData)"
   ]
  },
  {
   "cell_type": "markdown",
   "metadata": {},
   "source": [
    "### 3.2 Initial inspection feedback\n",
    "\n",
    "We loaded the data into R and print the first few rows of data for inspection. Immediately, we can come to a conclusion that data transformation is needed. The number of transformation required is subjective, which could be based on the requirements,  people responsible for data analysis and target audience, among many others. As for our need, we came up with a list of transformations required: \n",
    "1. The key indicators are in Danish, should be translated to English as the target audience is global.\n",
    "2. The timeline is horizontal, should be transposed such that the timeline is vertical and the key indicators are the first values of the columns.\n",
    "3. The date is recorded as `MxxDxx`, should be transformed to ISO 8601 date format `yyyy-mm-dd` as it is the international standard.\n",
    "4. The missing values are noted as `..`, should be replaced with `NA` as that is what R understands as missing values."
   ]
  },
  {
   "cell_type": "markdown",
   "metadata": {},
   "source": [
    "### 3.3 Data transformation\n",
    "\n",
    "After realization of the need of data transformation, we continue to do so in this step. As the dataset is not very large, we used Google Sheets (an alternative to Microsoft Excel) to transfrom the data, as it provided all the necessary tools out of the box.\n",
    "\n",
    "We proceeded to tackle the issues in the same order as listed above.\n",
    "\n",
    "Firstly, the task to translate the key indicators for Danish to English was simple enough, with the help of technology and native Danish speakers to verify.\n",
    "\n",
    "The next step was to transpose, or rotate, the data from rows to columns. This helped to adjust the timeline from being horizontal to vertical. Additionally, this step moved the key indicators to be inital values of the columns, just as we needed it to be.\n",
    "\n",
    "The third step was tedious for manual transformation. The goal was to transform data from `M03D21` to `2020-03-21`. Since the original value was fairly organised, i.e. \"`M`(month index)`D`(date index)\", we could harness the power of formulas to transform the data. To do so was a 2-step process. Replacing `M` with `2020-` and replacing `D` with `-` in 2 separate columns with the `=REPLACE(text, position, length, new_text)` function.\n",
    "\n",
    "The final step was to `Find and Replace` the data `..` to `NA`.\n",
    "\n",
    "The file `COVID-data-transformed.csv` steps was the output of this data transformation."
   ]
  },
  {
   "cell_type": "code",
   "execution_count": 5,
   "metadata": {},
   "outputs": [
    {
     "data": {
      "text/html": [
       "<ol class=list-inline>\n",
       "\t<li>'COVID-data-raw.csv'</li>\n",
       "\t<li>'COVID-data-transformed.csv'</li>\n",
       "\t<li>'EDA-COVID.ipynb'</li>\n",
       "</ol>\n"
      ],
      "text/latex": [
       "\\begin{enumerate*}\n",
       "\\item 'COVID-data-raw.csv'\n",
       "\\item 'COVID-data-transformed.csv'\n",
       "\\item 'EDA-COVID.ipynb'\n",
       "\\end{enumerate*}\n"
      ],
      "text/markdown": [
       "1. 'COVID-data-raw.csv'\n",
       "2. 'COVID-data-transformed.csv'\n",
       "3. 'EDA-COVID.ipynb'\n",
       "\n",
       "\n"
      ],
      "text/plain": [
       "[1] \"COVID-data-raw.csv\"         \"COVID-data-transformed.csv\"\n",
       "[3] \"EDA-COVID.ipynb\"           "
      ]
     },
     "metadata": {},
     "output_type": "display_data"
    }
   ],
   "source": [
    "list.files(\".\")"
   ]
  },
  {
   "cell_type": "code",
   "execution_count": 6,
   "metadata": {},
   "outputs": [],
   "source": [
    "TransformedCovidData <- read.csv(\"COVID-data-transformed.csv\", encoding=\"UTF-8\")"
   ]
  },
  {
   "cell_type": "code",
   "execution_count": 7,
   "metadata": {},
   "outputs": [
    {
     "data": {
      "text/html": [
       "<table>\n",
       "<thead><tr><th scope=col>OriginalDate</th><th scope=col>ModifiedDateWithYear</th><th scope=col>ISODate</th><th scope=col>ConfirmedTotalCases</th><th scope=col>TotalInfections</th><th scope=col>TotalNumberPeopleTested</th><th scope=col>TotalDeaths</th><th scope=col>DeathsPerDay</th><th scope=col>AdmittedToHospital</th><th scope=col>AdmittedToICU</th><th scope=col>PatientsInRespirator</th></tr></thead>\n",
       "<tbody>\n",
       "\t<tr><td>M03D21    </td><td>2020-03D21</td><td>2020-03-21</td><td>1326      </td><td>NA        </td><td>11657     </td><td>22        </td><td> 3        </td><td>206       </td><td>42        </td><td>35        </td></tr>\n",
       "\t<tr><td>M03D22    </td><td>2020-03D22</td><td>2020-03-22</td><td>1395      </td><td>NA        </td><td>12351     </td><td>25        </td><td> 3        </td><td>232       </td><td>46        </td><td>40        </td></tr>\n",
       "\t<tr><td>M03D23    </td><td>2020-03D23</td><td>2020-03-23</td><td>1450      </td><td>NA        </td><td>12843     </td><td>31        </td><td> 6        </td><td>254       </td><td>55        </td><td>47        </td></tr>\n",
       "\t<tr><td>M03D24    </td><td>2020-03D24</td><td>2020-03-24</td><td>1577      </td><td>NA        </td><td>13756     </td><td>37        </td><td> 6        </td><td>301       </td><td>59        </td><td>58        </td></tr>\n",
       "\t<tr><td>M03D25    </td><td>2020-03D25</td><td>2020-03-25</td><td>1715      </td><td>NA        </td><td>14870     </td><td>43        </td><td> 6        </td><td>350       </td><td>87        </td><td>76        </td></tr>\n",
       "\t<tr><td>M03D26    </td><td>2020-03D26</td><td>2020-03-26</td><td>1851      </td><td>NA        </td><td>15981     </td><td>55        </td><td>12        </td><td>386       </td><td>94        </td><td>78        </td></tr>\n",
       "</tbody>\n",
       "</table>\n"
      ],
      "text/latex": [
       "\\begin{tabular}{r|lllllllllll}\n",
       " OriginalDate & ModifiedDateWithYear & ISODate & ConfirmedTotalCases & TotalInfections & TotalNumberPeopleTested & TotalDeaths & DeathsPerDay & AdmittedToHospital & AdmittedToICU & PatientsInRespirator\\\\\n",
       "\\hline\n",
       "\t M03D21     & 2020-03D21 & 2020-03-21 & 1326       & NA         & 11657      & 22         &  3         & 206        & 42         & 35        \\\\\n",
       "\t M03D22     & 2020-03D22 & 2020-03-22 & 1395       & NA         & 12351      & 25         &  3         & 232        & 46         & 40        \\\\\n",
       "\t M03D23     & 2020-03D23 & 2020-03-23 & 1450       & NA         & 12843      & 31         &  6         & 254        & 55         & 47        \\\\\n",
       "\t M03D24     & 2020-03D24 & 2020-03-24 & 1577       & NA         & 13756      & 37         &  6         & 301        & 59         & 58        \\\\\n",
       "\t M03D25     & 2020-03D25 & 2020-03-25 & 1715       & NA         & 14870      & 43         &  6         & 350        & 87         & 76        \\\\\n",
       "\t M03D26     & 2020-03D26 & 2020-03-26 & 1851       & NA         & 15981      & 55         & 12         & 386        & 94         & 78        \\\\\n",
       "\\end{tabular}\n"
      ],
      "text/markdown": [
       "\n",
       "| OriginalDate | ModifiedDateWithYear | ISODate | ConfirmedTotalCases | TotalInfections | TotalNumberPeopleTested | TotalDeaths | DeathsPerDay | AdmittedToHospital | AdmittedToICU | PatientsInRespirator |\n",
       "|---|---|---|---|---|---|---|---|---|---|---|\n",
       "| M03D21     | 2020-03D21 | 2020-03-21 | 1326       | NA         | 11657      | 22         |  3         | 206        | 42         | 35         |\n",
       "| M03D22     | 2020-03D22 | 2020-03-22 | 1395       | NA         | 12351      | 25         |  3         | 232        | 46         | 40         |\n",
       "| M03D23     | 2020-03D23 | 2020-03-23 | 1450       | NA         | 12843      | 31         |  6         | 254        | 55         | 47         |\n",
       "| M03D24     | 2020-03D24 | 2020-03-24 | 1577       | NA         | 13756      | 37         |  6         | 301        | 59         | 58         |\n",
       "| M03D25     | 2020-03D25 | 2020-03-25 | 1715       | NA         | 14870      | 43         |  6         | 350        | 87         | 76         |\n",
       "| M03D26     | 2020-03D26 | 2020-03-26 | 1851       | NA         | 15981      | 55         | 12         | 386        | 94         | 78         |\n",
       "\n"
      ],
      "text/plain": [
       "  OriginalDate ModifiedDateWithYear ISODate    ConfirmedTotalCases\n",
       "1 M03D21       2020-03D21           2020-03-21 1326               \n",
       "2 M03D22       2020-03D22           2020-03-22 1395               \n",
       "3 M03D23       2020-03D23           2020-03-23 1450               \n",
       "4 M03D24       2020-03D24           2020-03-24 1577               \n",
       "5 M03D25       2020-03D25           2020-03-25 1715               \n",
       "6 M03D26       2020-03D26           2020-03-26 1851               \n",
       "  TotalInfections TotalNumberPeopleTested TotalDeaths DeathsPerDay\n",
       "1 NA              11657                   22           3          \n",
       "2 NA              12351                   25           3          \n",
       "3 NA              12843                   31           6          \n",
       "4 NA              13756                   37           6          \n",
       "5 NA              14870                   43           6          \n",
       "6 NA              15981                   55          12          \n",
       "  AdmittedToHospital AdmittedToICU PatientsInRespirator\n",
       "1 206                42            35                  \n",
       "2 232                46            40                  \n",
       "3 254                55            47                  \n",
       "4 301                59            58                  \n",
       "5 350                87            76                  \n",
       "6 386                94            78                  "
      ]
     },
     "metadata": {},
     "output_type": "display_data"
    }
   ],
   "source": [
    "head(TransformedCovidData)"
   ]
  },
  {
   "cell_type": "markdown",
   "metadata": {},
   "source": [
    "### 3.4 Verify and update data types\n",
    "\n",
    "Here, we check the data types of the data loaded onto R. Since we load the data from a CSV file, R does not know what type of data certain inputs are. By default, it categorises unknown data types as `Factor` as they can store both strings and integers.\n",
    "After inspecting the data types as understood by R, we need to update them, as necessary, to characters, date and integers."
   ]
  },
  {
   "cell_type": "code",
   "execution_count": 8,
   "metadata": {},
   "outputs": [
    {
     "name": "stdout",
     "output_type": "stream",
     "text": [
      "'data.frame':\t263 obs. of  11 variables:\n",
      " $ OriginalDate           : Factor w/ 263 levels \"M03D21\",\"M03D22\",..: 1 2 3 4 5 6 7 8 9 10 ...\n",
      " $ ModifiedDateWithYear   : Factor w/ 263 levels \"2020-03D21\",\"2020-03D22\",..: 1 2 3 4 5 6 7 8 9 10 ...\n",
      " $ ISODate                : Factor w/ 263 levels \"2020-03-21\",\"2020-03-22\",..: 1 2 3 4 5 6 7 8 9 10 ...\n",
      " $ ConfirmedTotalCases    : int  1326 1395 1450 1577 1715 1851 2010 2201 2395 2555 ...\n",
      " $ TotalInfections        : int  NA NA NA NA NA NA NA NA NA NA ...\n",
      " $ TotalNumberPeopleTested: int  11657 12351 12843 13756 14870 15981 17275 18810 20198 21378 ...\n",
      " $ TotalDeaths            : int  22 25 31 37 43 55 67 76 84 95 ...\n",
      " $ DeathsPerDay           : int  3 3 6 6 6 12 12 9 8 11 ...\n",
      " $ AdmittedToHospital     : int  206 232 254 301 350 386 430 459 499 533 ...\n",
      " $ AdmittedToICU          : int  42 46 55 59 87 94 109 121 131 137 ...\n",
      " $ PatientsInRespirator   : int  35 40 47 58 76 78 89 104 113 119 ...\n"
     ]
    }
   ],
   "source": [
    "str(TransformedCovidData)"
   ]
  },
  {
   "cell_type": "code",
   "execution_count": 9,
   "metadata": {},
   "outputs": [],
   "source": [
    "TransformedCovidData$OriginalDate <- as.character(TransformedCovidData$OriginalDate)\n",
    "TransformedCovidData$ModifiedDateWithYear <- as.character(TransformedCovidData$ModifiedDateWithYear)\n",
    "TransformedCovidData$ISODate <- ymd(TransformedCovidData$ISODate)"
   ]
  },
  {
   "cell_type": "code",
   "execution_count": 10,
   "metadata": {},
   "outputs": [
    {
     "name": "stdout",
     "output_type": "stream",
     "text": [
      "'data.frame':\t263 obs. of  11 variables:\n",
      " $ OriginalDate           : chr  \"M03D21\" \"M03D22\" \"M03D23\" \"M03D24\" ...\n",
      " $ ModifiedDateWithYear   : chr  \"2020-03D21\" \"2020-03D22\" \"2020-03D23\" \"2020-03D24\" ...\n",
      " $ ISODate                : Date, format: \"2020-03-21\" \"2020-03-22\" ...\n",
      " $ ConfirmedTotalCases    : int  1326 1395 1450 1577 1715 1851 2010 2201 2395 2555 ...\n",
      " $ TotalInfections        : int  NA NA NA NA NA NA NA NA NA NA ...\n",
      " $ TotalNumberPeopleTested: int  11657 12351 12843 13756 14870 15981 17275 18810 20198 21378 ...\n",
      " $ TotalDeaths            : int  22 25 31 37 43 55 67 76 84 95 ...\n",
      " $ DeathsPerDay           : int  3 3 6 6 6 12 12 9 8 11 ...\n",
      " $ AdmittedToHospital     : int  206 232 254 301 350 386 430 459 499 533 ...\n",
      " $ AdmittedToICU          : int  42 46 55 59 87 94 109 121 131 137 ...\n",
      " $ PatientsInRespirator   : int  35 40 47 58 76 78 89 104 113 119 ...\n"
     ]
    }
   ],
   "source": [
    "str(TransformedCovidData)"
   ]
  },
  {
   "cell_type": "markdown",
   "metadata": {},
   "source": [
    "## 4. Map data on graph"
   ]
  },
  {
   "cell_type": "markdown",
   "metadata": {},
   "source": [
    "Now that we have changed the data types of the input data, we can start analyzing the data and gain understanding from it. To plot the data, we use the library `tidyverse` because of its flexibility and customization properties."
   ]
  },
  {
   "cell_type": "markdown",
   "metadata": {},
   "source": [
    "### 4.1 Deaths, hospitalized and lockdowns\n",
    "\n",
    "Starting with one of the most meaningful and significant plotting, we analyze the data for the number of deaths and hospitalized. Along with that, we also emphasize on the 2 lockdowns enforced by the state officials, the first one from March 15, 2020 to April 13, 2020 and the recent one starting from December 9, 2020 onwards."
   ]
  },
  {
   "cell_type": "code",
   "execution_count": 114,
   "metadata": {},
   "outputs": [
    {
     "data": {
      "image/png": "[encoded data removed]",
      "text/plain": [
       "plot without title"
      ]
     },
     "metadata": {},
     "output_type": "display_data"
    }
   ],
   "source": [
    "ggplot(TransformedCovidData, aes(x = ISODate)) +                           # Specify the data frame and x-axis for the plot\n",
    "geom_rect(aes(                                                             # Rectangular shade for emphasizing on lockdown #1\n",
    "    xmin = as.Date(\"2020-03-15\"),\n",
    "    xmax = as.Date(\"2020-04-13\"),\n",
    "    ymin = -Inf, ymax = Inf, fill = \"Lockdown period\")) +\n",
    "geom_rect(aes(                                                             # Rectangular shade for emphasizing on lockdown #2\n",
    "    xmin = as.Date(\"2020-12-08\"),\n",
    "    xmax = as.Date(\"2020-12-17\"),\n",
    "    ymin = -Inf, ymax = Inf, fill = \"Lockdown period\")) +                  # Line plot for deaths\n",
    "\n",
    "geom_vline(aes(                                                            # Vertical dashed line\n",
    "    xintercept = as.Date(\"2020-10-29\"),\n",
    "    linetype = \"Break\"),\n",
    "           color = \"black\",\n",
    "           lwd = 0.7\n",
    "          ) +\n",
    "\n",
    "geom_line(aes(y = TotalDeaths, color = \"red\"), lwd = 1) +\n",
    "geom_line(aes(y = AdmittedToHospital, color = \"blue\"), lwd = 1) +          # line plot for hospitalized\n",
    "\n",
    "scale_x_date(breaks = date_breaks(\"1 months\"), date_labels = \"%b\") +       # Improving the x-axis to show all months\n",
    "theme_light() +\n",
    "\n",
    "xlab(\"\\nMonths in 2020\") +                                                 # Label for x-axis\n",
    "scale_y_continuous(\"No. of people\\n\") +                                    # Label for y-axis\n",
    "\n",
    "ggtitle(\"COVID-19: Deaths and Hospitalization\") +                          # Title for the plot\n",
    "theme(plot.title = element_text(hjust = 0.5)) +                            # Center the title\n",
    "scale_fill_manual(name = \"\",                                               # Legend for the rectangular shade\n",
    "                  values=\"burlywood1\",\n",
    "                  labels=c(\"Lockdown periods\")) +\n",
    "scale_color_identity(name = \"\",                                            # Legend for the line plots\n",
    "                     breaks = c(\"red\", \"blue\"),\n",
    "                     labels = c(\"Deaths\", \"Hospitalized\"),\n",
    "                     guide = \"legend\") +\n",
    "scale_linetype_manual(name = \"\",                                           # Legend for the vertical dotted line\n",
    "                      values = c(\"Break\" = \"dashed\"),\n",
    "                      labels = c(\"Mask requirement\")) + \n",
    "theme(aspect.ratio=1)                                                      # Fixing aspect ratio"
   ]
  },
  {
   "cell_type": "markdown",
   "metadata": {},
   "source": [
    "After the initial plotting, it is clear that there was a strong impact of COVID-19 around late March--early April. The number of people who were dying due to COVID-19, as indicated by red line, and who were hospitalized, as indicated by the blue line, increased sharply. The first, month-long lockdown was imposed during this period, as indicated by the soft-orange shade. The result of the lockdown was effective as the number of reported hospitalization started to decline and kept declining over the next few months. The number of deaths was still rising at the end of the first lockdown, but started to stabilize soon after.\n",
    "\n",
    "This was a positive indication that the imposed lockdown was effective in controlling the spread of the virus.\n",
    "\n",
    "As the restictions started to loosen up, the public started to gather in larger numbers, which was an opportunity for the virus to spread again. This is indicated by the rise on both total deaths and hospitalized starting September. To control the rapid increase, the government mandated the use of mask on all public places starting October 29, represented by the black, dashed line.\n",
    "\n",
    "Ever since, the numbers started to grow. The plot above shows a sharp incline starting November. And with the holidays starting, the government imposed second lockdown starting December 09, 2020, which is the date of conducting this experiment. This was an attempt to reduce the number of gatherings and parties, and limit them to families to control the spread of the COVID-19."
   ]
  },
  {
   "cell_type": "markdown",
   "metadata": {},
   "source": [
    "### 4.2 Total confirmed cased and total tested"
   ]
  },
  {
   "cell_type": "code",
   "execution_count": 121,
   "metadata": {},
   "outputs": [
    {
     "data": {
      "image/png": "[encoded data removed]",
      "text/plain": [
       "plot without title"
      ]
     },
     "metadata": {},
     "output_type": "display_data"
    }
   ],
   "source": [
    "ggplot(TransformedCovidData, aes(x = ISODate)) +                           # Specify the data frame and x-axis for the plot\n",
    "# geom_rect(aes(                                                             # Rectangular shade for emphasizing on lockdown #1\n",
    "#     xmin = as.Date(\"2020-03-15\"),\n",
    "#     xmax = as.Date(\"2020-04-13\"),\n",
    "#     ymin = -Inf, ymax = Inf, fill = \"Lockdown period\")) +\n",
    "# geom_rect(aes(                                                             # Rectangular shade for emphasizing on lockdown #2\n",
    "#     xmin = as.Date(\"2020-12-08\"),\n",
    "#     xmax = as.Date(\"2020-12-17\"),\n",
    "#     ymin = -Inf, ymax = Inf, fill = \"Lockdown period\")) +                  # Line plot for deaths\n",
    "\n",
    "# geom_vline(aes(                                                            # Vertical dashed line\n",
    "#     xintercept = as.Date(\"2020-10-29\"),\n",
    "#     linetype = \"Break\"),\n",
    "#            color = \"black\",\n",
    "#            lwd = 0.7\n",
    "#           ) +\n",
    "\n",
    "geom_line(aes(y = TotalNumberPeopleTested, color = \"red\"), lwd = 1) +\n",
    "geom_line(aes(y = ConfirmedTotalCases, color = \"blue\"), lwd = 1) +          # line plot for hospitalized\n",
    "\n",
    "scale_x_date(breaks = date_breaks(\"1 months\"), date_labels = \"%b\") +       # Improving the x-axis to show all months\n",
    "theme_light() +\n",
    "\n",
    "xlab(\"\\nMonths in 2020\") +                                                 # Label for x-axis\n",
    "scale_y_continuous(labels = function(x) format(x, scientific = FALSE)) +                                    # Label for y-axis\n",
    "\n",
    "ggtitle(\"COVID-19: Total tesed and total cases\") +                          # Title for the plot\n",
    "theme(plot.title = element_text(hjust = 0.5)) +                            # Center the title\n",
    "scale_fill_manual(name = \"\",                                               # Legend for the rectangular shade\n",
    "                  values=\"burlywood1\",\n",
    "                  labels=c(\"Lockdown periods\")) +\n",
    "scale_color_identity(name = \"\",                                            # Legend for the line plots\n",
    "                     breaks = c(\"red\", \"blue\"),\n",
    "                     labels = c(\"Deaths\", \"Hospitalized\"),\n",
    "                     guide = \"legend\") +\n",
    "scale_linetype_manual(name = \"\",                                           # Legend for the vertical dotted line\n",
    "                      values = c(\"Break\" = \"dashed\"),\n",
    "                      labels = c(\"Mask requirement\")) + \n",
    "theme(aspect.ratio=1) "
   ]
  },
  {
   "cell_type": "code",
   "execution_count": 118,
   "metadata": {},
   "outputs": [
    {
     "data": {
      "text/html": [
       "<table>\n",
       "<thead><tr><th></th><th scope=col>OriginalDate</th><th scope=col>ModifiedDateWithYear</th><th scope=col>ISODate</th><th scope=col>ConfirmedTotalCases</th><th scope=col>TotalInfections</th><th scope=col>TotalNumberPeopleTested</th><th scope=col>TotalDeaths</th><th scope=col>DeathsPerDay</th><th scope=col>AdmittedToHospital</th><th scope=col>AdmittedToICU</th><th scope=col>PatientsInRespirator</th></tr></thead>\n",
       "<tbody>\n",
       "\t<tr><th scope=row>258</th><td>M12D03    </td><td>2020-12D03</td><td>2020-12-03</td><td>85140     </td><td>67416     </td><td>3478986   </td><td>873       </td><td>9         </td><td>267       </td><td>38        </td><td>28        </td></tr>\n",
       "\t<tr><th scope=row>259</th><td>M12D04    </td><td>2020-12D04</td><td>2020-12-04</td><td>86743     </td><td>68632     </td><td>3493655   </td><td>879       </td><td>6         </td><td>293       </td><td>40        </td><td>27        </td></tr>\n",
       "\t<tr><th scope=row>260</th><td>M12D05    </td><td>2020-12D05</td><td>2020-12-05</td><td>88858     </td><td>69869     </td><td>3510327   </td><td>888       </td><td>9         </td><td>279       </td><td>39        </td><td>25        </td></tr>\n",
       "\t<tr><th scope=row>261</th><td>M12D06    </td><td>2020-12D06</td><td>2020-12-06</td><td>90603     </td><td>70876     </td><td>3524861   </td><td>896       </td><td>8         </td><td>302       </td><td>42        </td><td>26        </td></tr>\n",
       "\t<tr><th scope=row>262</th><td>M12D07    </td><td>2020-12D07</td><td>2020-12-07</td><td>92649     </td><td>71882     </td><td>3541148   </td><td>901       </td><td>5         </td><td>328       </td><td>43        </td><td>29        </td></tr>\n",
       "\t<tr><th scope=row>263</th><td>M12D08    </td><td>2020-12D08</td><td>2020-12-08</td><td>94799     </td><td>73052     </td><td>3556264   </td><td>901       </td><td>0         </td><td>354       </td><td>42        </td><td>26        </td></tr>\n",
       "</tbody>\n",
       "</table>\n"
      ],
      "text/latex": [
       "\\begin{tabular}{r|lllllllllll}\n",
       "  & OriginalDate & ModifiedDateWithYear & ISODate & ConfirmedTotalCases & TotalInfections & TotalNumberPeopleTested & TotalDeaths & DeathsPerDay & AdmittedToHospital & AdmittedToICU & PatientsInRespirator\\\\\n",
       "\\hline\n",
       "\t258 & M12D03     & 2020-12D03 & 2020-12-03 & 85140      & 67416      & 3478986    & 873        & 9          & 267        & 38         & 28        \\\\\n",
       "\t259 & M12D04     & 2020-12D04 & 2020-12-04 & 86743      & 68632      & 3493655    & 879        & 6          & 293        & 40         & 27        \\\\\n",
       "\t260 & M12D05     & 2020-12D05 & 2020-12-05 & 88858      & 69869      & 3510327    & 888        & 9          & 279        & 39         & 25        \\\\\n",
       "\t261 & M12D06     & 2020-12D06 & 2020-12-06 & 90603      & 70876      & 3524861    & 896        & 8          & 302        & 42         & 26        \\\\\n",
       "\t262 & M12D07     & 2020-12D07 & 2020-12-07 & 92649      & 71882      & 3541148    & 901        & 5          & 328        & 43         & 29        \\\\\n",
       "\t263 & M12D08     & 2020-12D08 & 2020-12-08 & 94799      & 73052      & 3556264    & 901        & 0          & 354        & 42         & 26        \\\\\n",
       "\\end{tabular}\n"
      ],
      "text/markdown": [
       "\n",
       "| <!--/--> | OriginalDate | ModifiedDateWithYear | ISODate | ConfirmedTotalCases | TotalInfections | TotalNumberPeopleTested | TotalDeaths | DeathsPerDay | AdmittedToHospital | AdmittedToICU | PatientsInRespirator |\n",
       "|---|---|---|---|---|---|---|---|---|---|---|---|\n",
       "| 258 | M12D03     | 2020-12D03 | 2020-12-03 | 85140      | 67416      | 3478986    | 873        | 9          | 267        | 38         | 28         |\n",
       "| 259 | M12D04     | 2020-12D04 | 2020-12-04 | 86743      | 68632      | 3493655    | 879        | 6          | 293        | 40         | 27         |\n",
       "| 260 | M12D05     | 2020-12D05 | 2020-12-05 | 88858      | 69869      | 3510327    | 888        | 9          | 279        | 39         | 25         |\n",
       "| 261 | M12D06     | 2020-12D06 | 2020-12-06 | 90603      | 70876      | 3524861    | 896        | 8          | 302        | 42         | 26         |\n",
       "| 262 | M12D07     | 2020-12D07 | 2020-12-07 | 92649      | 71882      | 3541148    | 901        | 5          | 328        | 43         | 29         |\n",
       "| 263 | M12D08     | 2020-12D08 | 2020-12-08 | 94799      | 73052      | 3556264    | 901        | 0          | 354        | 42         | 26         |\n",
       "\n"
      ],
      "text/plain": [
       "    OriginalDate ModifiedDateWithYear ISODate    ConfirmedTotalCases\n",
       "258 M12D03       2020-12D03           2020-12-03 85140              \n",
       "259 M12D04       2020-12D04           2020-12-04 86743              \n",
       "260 M12D05       2020-12D05           2020-12-05 88858              \n",
       "261 M12D06       2020-12D06           2020-12-06 90603              \n",
       "262 M12D07       2020-12D07           2020-12-07 92649              \n",
       "263 M12D08       2020-12D08           2020-12-08 94799              \n",
       "    TotalInfections TotalNumberPeopleTested TotalDeaths DeathsPerDay\n",
       "258 67416           3478986                 873         9           \n",
       "259 68632           3493655                 879         6           \n",
       "260 69869           3510327                 888         9           \n",
       "261 70876           3524861                 896         8           \n",
       "262 71882           3541148                 901         5           \n",
       "263 73052           3556264                 901         0           \n",
       "    AdmittedToHospital AdmittedToICU PatientsInRespirator\n",
       "258 267                38            28                  \n",
       "259 293                40            27                  \n",
       "260 279                39            25                  \n",
       "261 302                42            26                  \n",
       "262 328                43            29                  \n",
       "263 354                42            26                  "
      ]
     },
     "metadata": {},
     "output_type": "display_data"
    }
   ],
   "source": [
    "tail(TransformedCovidData)"
   ]
  }
 ],
 "metadata": {
  "kernelspec": {
   "display_name": "R",
   "language": "R",
   "name": "ir"
  },
  "language_info": {
   "codemirror_mode": "r",
   "file_extension": ".r",
   "mimetype": "text/x-r-source",
   "name": "R",
   "pygments_lexer": "r",
   "version": "3.6.1"
  }
 },
 "nbformat": 4,
 "nbformat_minor": 4
}
